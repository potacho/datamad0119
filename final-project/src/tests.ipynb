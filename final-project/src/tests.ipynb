{
 "cells": [
  {
   "cell_type": "markdown",
   "metadata": {},
   "source": [
    "### Testing"
   ]
  },
  {
   "cell_type": "code",
   "execution_count": 2,
   "metadata": {},
   "outputs": [],
   "source": [
    "import pandas as pd"
   ]
  },
  {
   "cell_type": "code",
   "execution_count": 67,
   "metadata": {},
   "outputs": [
    {
     "data": {
      "text/html": [
       "<div>\n",
       "<style scoped>\n",
       "    .dataframe tbody tr th:only-of-type {\n",
       "        vertical-align: middle;\n",
       "    }\n",
       "\n",
       "    .dataframe tbody tr th {\n",
       "        vertical-align: top;\n",
       "    }\n",
       "\n",
       "    .dataframe thead th {\n",
       "        text-align: right;\n",
       "    }\n",
       "</style>\n",
       "<table border=\"1\" class=\"dataframe\">\n",
       "  <thead>\n",
       "    <tr style=\"text-align: right;\">\n",
       "      <th></th>\n",
       "      <th>Date</th>\n",
       "      <th>Time</th>\n",
       "      <th>Sensor</th>\n",
       "      <th>Measurement</th>\n",
       "    </tr>\n",
       "  </thead>\n",
       "  <tbody>\n",
       "    <tr>\n",
       "      <th>0</th>\n",
       "      <td>2010-03-31</td>\n",
       "      <td>00:04:46.08</td>\n",
       "      <td>T001</td>\n",
       "      <td>15.5</td>\n",
       "    </tr>\n",
       "    <tr>\n",
       "      <th>1</th>\n",
       "      <td>2010-03-31</td>\n",
       "      <td>00:09:48.55</td>\n",
       "      <td>T001</td>\n",
       "      <td>15</td>\n",
       "    </tr>\n",
       "    <tr>\n",
       "      <th>2</th>\n",
       "      <td>2010-03-31</td>\n",
       "      <td>00:09:48.60</td>\n",
       "      <td>T003</td>\n",
       "      <td>14.5</td>\n",
       "    </tr>\n",
       "    <tr>\n",
       "      <th>3</th>\n",
       "      <td>2010-03-31</td>\n",
       "      <td>00:14:51.03</td>\n",
       "      <td>T001</td>\n",
       "      <td>14.5</td>\n",
       "    </tr>\n",
       "    <tr>\n",
       "      <th>4</th>\n",
       "      <td>2010-03-31</td>\n",
       "      <td>00:14:51.08</td>\n",
       "      <td>T003</td>\n",
       "      <td>14</td>\n",
       "    </tr>\n",
       "  </tbody>\n",
       "</table>\n",
       "</div>"
      ],
      "text/plain": [
       "         Date         Time Sensor Measurement\n",
       "0  2010-03-31  00:04:46.08   T001        15.5\n",
       "1  2010-03-31  00:09:48.55   T001          15\n",
       "2  2010-03-31  00:09:48.60   T003        14.5\n",
       "3  2010-03-31  00:14:51.03   T001        14.5\n",
       "4  2010-03-31  00:14:51.08   T003          14"
      ]
     },
     "metadata": {},
     "output_type": "display_data"
    },
    {
     "data": {
      "text/plain": [
       "(1269265, 4)"
      ]
     },
     "metadata": {},
     "output_type": "display_data"
    },
    {
     "data": {
      "text/plain": [
       "Date           object\n",
       "Time           object\n",
       "Sensor         object\n",
       "Measurement    object\n",
       "dtype: object"
      ]
     },
     "metadata": {},
     "output_type": "display_data"
    }
   ],
   "source": [
    "df_sensors = pd.read_csv('./input/data.csv', sep=' ',index_col=False,header=None,\n",
    "                      names=['Date','Time','Sensor','Measurement'])\n",
    "display(df_sensors.head(),df_sensors.shape,df_sensors.dtypes)"
   ]
  },
  {
   "cell_type": "code",
   "execution_count": 68,
   "metadata": {},
   "outputs": [
    {
     "data": {
      "text/html": [
       "<div>\n",
       "<style scoped>\n",
       "    .dataframe tbody tr th:only-of-type {\n",
       "        vertical-align: middle;\n",
       "    }\n",
       "\n",
       "    .dataframe tbody tr th {\n",
       "        vertical-align: top;\n",
       "    }\n",
       "\n",
       "    .dataframe thead th {\n",
       "        text-align: right;\n",
       "    }\n",
       "</style>\n",
       "<table border=\"1\" class=\"dataframe\">\n",
       "  <thead>\n",
       "    <tr style=\"text-align: right;\">\n",
       "      <th></th>\n",
       "      <th>Date</th>\n",
       "      <th>Time</th>\n",
       "      <th>Sensor</th>\n",
       "      <th>Measurement</th>\n",
       "      <th>Day</th>\n",
       "    </tr>\n",
       "  </thead>\n",
       "  <tbody>\n",
       "    <tr>\n",
       "      <th>0</th>\n",
       "      <td>2010-03-31</td>\n",
       "      <td>2019-03-18 00:04:46.080</td>\n",
       "      <td>T001</td>\n",
       "      <td>15.5</td>\n",
       "      <td>2</td>\n",
       "    </tr>\n",
       "    <tr>\n",
       "      <th>1</th>\n",
       "      <td>2010-03-31</td>\n",
       "      <td>2019-03-18 00:09:48.550</td>\n",
       "      <td>T001</td>\n",
       "      <td>15</td>\n",
       "      <td>2</td>\n",
       "    </tr>\n",
       "    <tr>\n",
       "      <th>2</th>\n",
       "      <td>2010-03-31</td>\n",
       "      <td>2019-03-18 00:09:48.600</td>\n",
       "      <td>T003</td>\n",
       "      <td>14.5</td>\n",
       "      <td>2</td>\n",
       "    </tr>\n",
       "    <tr>\n",
       "      <th>3</th>\n",
       "      <td>2010-03-31</td>\n",
       "      <td>2019-03-18 00:14:51.030</td>\n",
       "      <td>T001</td>\n",
       "      <td>14.5</td>\n",
       "      <td>2</td>\n",
       "    </tr>\n",
       "    <tr>\n",
       "      <th>4</th>\n",
       "      <td>2010-03-31</td>\n",
       "      <td>2019-03-18 00:14:51.080</td>\n",
       "      <td>T003</td>\n",
       "      <td>14</td>\n",
       "      <td>2</td>\n",
       "    </tr>\n",
       "  </tbody>\n",
       "</table>\n",
       "</div>"
      ],
      "text/plain": [
       "        Date                    Time Sensor Measurement  Day\n",
       "0 2010-03-31 2019-03-18 00:04:46.080   T001        15.5    2\n",
       "1 2010-03-31 2019-03-18 00:09:48.550   T001          15    2\n",
       "2 2010-03-31 2019-03-18 00:09:48.600   T003        14.5    2\n",
       "3 2010-03-31 2019-03-18 00:14:51.030   T001        14.5    2\n",
       "4 2010-03-31 2019-03-18 00:14:51.080   T003          14    2"
      ]
     },
     "metadata": {},
     "output_type": "display_data"
    },
    {
     "data": {
      "text/plain": [
       "(1269265, 5)"
      ]
     },
     "metadata": {},
     "output_type": "display_data"
    },
    {
     "data": {
      "text/plain": [
       "Date           datetime64[ns]\n",
       "Time           datetime64[ns]\n",
       "Sensor                 object\n",
       "Measurement            object\n",
       "Day                     int64\n",
       "dtype: object"
      ]
     },
     "metadata": {},
     "output_type": "display_data"
    }
   ],
   "source": [
    "df_sensors['Date'] =  pd.to_datetime(df_sensors['Date'])\n",
    "df_sensors['Time'] =  pd.to_datetime(df_sensors['Time'])#,format='%H:%M:%S.%f')\n",
    "df_sensors['Day'] = df_sensors['Date'].dt.dayofweek\n",
    "display(df_sensors.head(),df_sensors.shape,df_sensors.dtypes)"
   ]
  },
  {
   "cell_type": "code",
   "execution_count": 22,
   "metadata": {},
   "outputs": [],
   "source": [
    "s_motion = ['M001','M002','M003','M004','M005','M006','M007','M008','M009','M010','M011','M012','M013',\n",
    "            'M014','M015','M016','M017','M018','M019','M020','M021','M022','M023','M024','M025','M026',\n",
    "            'M027','M028','M029']\n",
    "\n",
    "s_temp = ['T001','T002','T003']\n",
    "\n",
    "s_doors = ['D001','D002','D003']\n",
    "\n",
    "s_medicine = ['I001']\n",
    "\n",
    "s_power = ['P001']\n"
   ]
  },
  {
   "cell_type": "code",
   "execution_count": 26,
   "metadata": {},
   "outputs": [
    {
     "data": {
      "text/plain": [
       "(866343, 4)"
      ]
     },
     "metadata": {},
     "output_type": "display_data"
    },
    {
     "data": {
      "text/html": [
       "<div>\n",
       "<style scoped>\n",
       "    .dataframe tbody tr th:only-of-type {\n",
       "        vertical-align: middle;\n",
       "    }\n",
       "\n",
       "    .dataframe tbody tr th {\n",
       "        vertical-align: top;\n",
       "    }\n",
       "\n",
       "    .dataframe thead th {\n",
       "        text-align: right;\n",
       "    }\n",
       "</style>\n",
       "<table border=\"1\" class=\"dataframe\">\n",
       "  <thead>\n",
       "    <tr style=\"text-align: right;\">\n",
       "      <th></th>\n",
       "      <th>Date</th>\n",
       "      <th>Time</th>\n",
       "      <th>Sensor</th>\n",
       "      <th>Measurement</th>\n",
       "    </tr>\n",
       "  </thead>\n",
       "  <tbody>\n",
       "    <tr>\n",
       "      <th>5</th>\n",
       "      <td>2010-03-31</td>\n",
       "      <td>00:16:57.49</td>\n",
       "      <td>M001</td>\n",
       "      <td>ON</td>\n",
       "    </tr>\n",
       "    <tr>\n",
       "      <th>6</th>\n",
       "      <td>2010-03-31</td>\n",
       "      <td>00:17:00.54</td>\n",
       "      <td>M001</td>\n",
       "      <td>OFF</td>\n",
       "    </tr>\n",
       "    <tr>\n",
       "      <th>30</th>\n",
       "      <td>2010-03-31</td>\n",
       "      <td>03:14:31.01</td>\n",
       "      <td>M001</td>\n",
       "      <td>ON</td>\n",
       "    </tr>\n",
       "    <tr>\n",
       "      <th>31</th>\n",
       "      <td>2010-03-31</td>\n",
       "      <td>03:14:33.34</td>\n",
       "      <td>M001</td>\n",
       "      <td>OFF</td>\n",
       "    </tr>\n",
       "    <tr>\n",
       "      <th>38</th>\n",
       "      <td>2010-03-31</td>\n",
       "      <td>03:27:31.79</td>\n",
       "      <td>M001</td>\n",
       "      <td>ON</td>\n",
       "    </tr>\n",
       "  </tbody>\n",
       "</table>\n",
       "</div>"
      ],
      "text/plain": [
       "          Date         Time Sensor Measurement\n",
       "5   2010-03-31  00:16:57.49   M001          ON\n",
       "6   2010-03-31  00:17:00.54   M001         OFF\n",
       "30  2010-03-31  03:14:31.01   M001          ON\n",
       "31  2010-03-31  03:14:33.34   M001         OFF\n",
       "38  2010-03-31  03:27:31.79   M001          ON"
      ]
     },
     "metadata": {},
     "output_type": "display_data"
    },
    {
     "data": {
      "text/plain": [
       "array(['ON', 'OFF'], dtype=object)"
      ]
     },
     "metadata": {},
     "output_type": "display_data"
    }
   ],
   "source": [
    "df_motion = df_sensors[df_sensors.Sensor.isin(s_motion)]\n",
    "display(df_motion.shape,df_motion.head(),df_motion.Measurement.unique())"
   ]
  },
  {
   "cell_type": "code",
   "execution_count": 27,
   "metadata": {},
   "outputs": [
    {
     "data": {
      "text/plain": [
       "(19547, 4)"
      ]
     },
     "metadata": {},
     "output_type": "display_data"
    },
    {
     "data": {
      "text/html": [
       "<div>\n",
       "<style scoped>\n",
       "    .dataframe tbody tr th:only-of-type {\n",
       "        vertical-align: middle;\n",
       "    }\n",
       "\n",
       "    .dataframe tbody tr th {\n",
       "        vertical-align: top;\n",
       "    }\n",
       "\n",
       "    .dataframe thead th {\n",
       "        text-align: right;\n",
       "    }\n",
       "</style>\n",
       "<table border=\"1\" class=\"dataframe\">\n",
       "  <thead>\n",
       "    <tr style=\"text-align: right;\">\n",
       "      <th></th>\n",
       "      <th>Date</th>\n",
       "      <th>Time</th>\n",
       "      <th>Sensor</th>\n",
       "      <th>Measurement</th>\n",
       "    </tr>\n",
       "  </thead>\n",
       "  <tbody>\n",
       "    <tr>\n",
       "      <th>0</th>\n",
       "      <td>2010-03-31</td>\n",
       "      <td>00:04:46.08</td>\n",
       "      <td>T001</td>\n",
       "      <td>15.5</td>\n",
       "    </tr>\n",
       "    <tr>\n",
       "      <th>1</th>\n",
       "      <td>2010-03-31</td>\n",
       "      <td>00:09:48.55</td>\n",
       "      <td>T001</td>\n",
       "      <td>15</td>\n",
       "    </tr>\n",
       "    <tr>\n",
       "      <th>2</th>\n",
       "      <td>2010-03-31</td>\n",
       "      <td>00:09:48.60</td>\n",
       "      <td>T003</td>\n",
       "      <td>14.5</td>\n",
       "    </tr>\n",
       "    <tr>\n",
       "      <th>3</th>\n",
       "      <td>2010-03-31</td>\n",
       "      <td>00:14:51.03</td>\n",
       "      <td>T001</td>\n",
       "      <td>14.5</td>\n",
       "    </tr>\n",
       "    <tr>\n",
       "      <th>4</th>\n",
       "      <td>2010-03-31</td>\n",
       "      <td>00:14:51.08</td>\n",
       "      <td>T003</td>\n",
       "      <td>14</td>\n",
       "    </tr>\n",
       "  </tbody>\n",
       "</table>\n",
       "</div>"
      ],
      "text/plain": [
       "         Date         Time Sensor Measurement\n",
       "0  2010-03-31  00:04:46.08   T001        15.5\n",
       "1  2010-03-31  00:09:48.55   T001          15\n",
       "2  2010-03-31  00:09:48.60   T003        14.5\n",
       "3  2010-03-31  00:14:51.03   T001        14.5\n",
       "4  2010-03-31  00:14:51.08   T003          14"
      ]
     },
     "metadata": {},
     "output_type": "display_data"
    },
    {
     "data": {
      "text/plain": [
       "array(['15.5', '15', '14.5', '14', '13.5', '13', '16.5', '16', '12.5',\n",
       "       '17', '17.5', '0', '18', '18.5', '19', '12', '19.5', '11.5', '11',\n",
       "       '10.5', '10', '9.5', '9', '20', '21', '22', '22.5', '21.5', '20.5',\n",
       "       '23', '24.5', '25.5', '26.5', '24', '27.5', '26', '25', '27', '28',\n",
       "       '28.5', '23.5', '85', '29', '29.5', '30.5', '30'], dtype=object)"
      ]
     },
     "metadata": {},
     "output_type": "display_data"
    }
   ],
   "source": [
    "df_temp = df_sensors[df_sensors.Sensor.isin(s_temp)]\n",
    "display(df_temp.shape,df_temp.head(),df_temp.Measurement.unique())"
   ]
  },
  {
   "cell_type": "code",
   "execution_count": 28,
   "metadata": {},
   "outputs": [
    {
     "data": {
      "text/plain": [
       "(5390, 4)"
      ]
     },
     "metadata": {},
     "output_type": "display_data"
    },
    {
     "data": {
      "text/html": [
       "<div>\n",
       "<style scoped>\n",
       "    .dataframe tbody tr th:only-of-type {\n",
       "        vertical-align: middle;\n",
       "    }\n",
       "\n",
       "    .dataframe tbody tr th {\n",
       "        vertical-align: top;\n",
       "    }\n",
       "\n",
       "    .dataframe thead th {\n",
       "        text-align: right;\n",
       "    }\n",
       "</style>\n",
       "<table border=\"1\" class=\"dataframe\">\n",
       "  <thead>\n",
       "    <tr style=\"text-align: right;\">\n",
       "      <th></th>\n",
       "      <th>Date</th>\n",
       "      <th>Time</th>\n",
       "      <th>Sensor</th>\n",
       "      <th>Measurement</th>\n",
       "    </tr>\n",
       "  </thead>\n",
       "  <tbody>\n",
       "    <tr>\n",
       "      <th>501</th>\n",
       "      <td>2010-03-31</td>\n",
       "      <td>17:30:51.20</td>\n",
       "      <td>D001</td>\n",
       "      <td>OPEN</td>\n",
       "    </tr>\n",
       "    <tr>\n",
       "      <th>503</th>\n",
       "      <td>2010-03-31</td>\n",
       "      <td>17:31:00.96</td>\n",
       "      <td>D001</td>\n",
       "      <td>CLOSE</td>\n",
       "    </tr>\n",
       "    <tr>\n",
       "      <th>662</th>\n",
       "      <td>2010-03-31</td>\n",
       "      <td>17:38:02.70</td>\n",
       "      <td>D001</td>\n",
       "      <td>OPEN</td>\n",
       "    </tr>\n",
       "    <tr>\n",
       "      <th>670</th>\n",
       "      <td>2010-03-31</td>\n",
       "      <td>17:38:08.84</td>\n",
       "      <td>D001</td>\n",
       "      <td>CLOSE</td>\n",
       "    </tr>\n",
       "    <tr>\n",
       "      <th>1152</th>\n",
       "      <td>2010-04-01</td>\n",
       "      <td>10:28:17.42</td>\n",
       "      <td>D001</td>\n",
       "      <td>OPEN</td>\n",
       "    </tr>\n",
       "  </tbody>\n",
       "</table>\n",
       "</div>"
      ],
      "text/plain": [
       "            Date         Time Sensor Measurement\n",
       "501   2010-03-31  17:30:51.20   D001        OPEN\n",
       "503   2010-03-31  17:31:00.96   D001       CLOSE\n",
       "662   2010-03-31  17:38:02.70   D001        OPEN\n",
       "670   2010-03-31  17:38:08.84   D001       CLOSE\n",
       "1152  2010-04-01  10:28:17.42   D001        OPEN"
      ]
     },
     "metadata": {},
     "output_type": "display_data"
    },
    {
     "data": {
      "text/plain": [
       "array(['OPEN', 'CLOSE'], dtype=object)"
      ]
     },
     "metadata": {},
     "output_type": "display_data"
    }
   ],
   "source": [
    "df_doors = df_sensors[df_sensors.Sensor.isin(s_doors)]\n",
    "display(df_doors.shape,df_doors.head(),df_doors.Measurement.unique())"
   ]
  },
  {
   "cell_type": "code",
   "execution_count": 31,
   "metadata": {
    "scrolled": true
   },
   "outputs": [
    {
     "data": {
      "text/plain": [
       "(443, 4)"
      ]
     },
     "metadata": {},
     "output_type": "display_data"
    },
    {
     "data": {
      "text/html": [
       "<div>\n",
       "<style scoped>\n",
       "    .dataframe tbody tr th:only-of-type {\n",
       "        vertical-align: middle;\n",
       "    }\n",
       "\n",
       "    .dataframe tbody tr th {\n",
       "        vertical-align: top;\n",
       "    }\n",
       "\n",
       "    .dataframe thead th {\n",
       "        text-align: right;\n",
       "    }\n",
       "</style>\n",
       "<table border=\"1\" class=\"dataframe\">\n",
       "  <thead>\n",
       "    <tr style=\"text-align: right;\">\n",
       "      <th></th>\n",
       "      <th>Date</th>\n",
       "      <th>Time</th>\n",
       "      <th>Sensor</th>\n",
       "      <th>Measurement</th>\n",
       "    </tr>\n",
       "  </thead>\n",
       "  <tbody>\n",
       "    <tr>\n",
       "      <th>406823</th>\n",
       "      <td>2010-06-21</td>\n",
       "      <td>11:01:21.76</td>\n",
       "      <td>I001</td>\n",
       "      <td>PRESENT</td>\n",
       "    </tr>\n",
       "    <tr>\n",
       "      <th>406826</th>\n",
       "      <td>2010-06-21</td>\n",
       "      <td>11:01:31.72</td>\n",
       "      <td>I001</td>\n",
       "      <td>PRESENT</td>\n",
       "    </tr>\n",
       "    <tr>\n",
       "      <th>406841</th>\n",
       "      <td>2010-06-21</td>\n",
       "      <td>11:09:10.85</td>\n",
       "      <td>I001</td>\n",
       "      <td>PRESENT</td>\n",
       "    </tr>\n",
       "    <tr>\n",
       "      <th>406853</th>\n",
       "      <td>2010-06-21</td>\n",
       "      <td>11:10:20.71</td>\n",
       "      <td>I001</td>\n",
       "      <td>PRESENT</td>\n",
       "    </tr>\n",
       "    <tr>\n",
       "      <th>407148</th>\n",
       "      <td>2010-06-21</td>\n",
       "      <td>11:34:00.98</td>\n",
       "      <td>I001</td>\n",
       "      <td>ABSENT</td>\n",
       "    </tr>\n",
       "  </tbody>\n",
       "</table>\n",
       "</div>"
      ],
      "text/plain": [
       "              Date         Time Sensor Measurement\n",
       "406823  2010-06-21  11:01:21.76   I001     PRESENT\n",
       "406826  2010-06-21  11:01:31.72   I001     PRESENT\n",
       "406841  2010-06-21  11:09:10.85   I001     PRESENT\n",
       "406853  2010-06-21  11:10:20.71   I001     PRESENT\n",
       "407148  2010-06-21  11:34:00.98   I001      ABSENT"
      ]
     },
     "metadata": {},
     "output_type": "display_data"
    },
    {
     "data": {
      "text/plain": [
       "array(['PRESENT', 'ABSENT'], dtype=object)"
      ]
     },
     "metadata": {},
     "output_type": "display_data"
    }
   ],
   "source": [
    "df_medicine = df_sensors[df_sensors.Sensor.isin(s_medicine)]\n",
    "display(df_medicine.shape,df_medicine.head(),df_medicine.Measurement.unique())"
   ]
  },
  {
   "cell_type": "code",
   "execution_count": 39,
   "metadata": {},
   "outputs": [
    {
     "data": {
      "text/plain": [
       "(377542, 4)"
      ]
     },
     "metadata": {},
     "output_type": "display_data"
    },
    {
     "data": {
      "text/html": [
       "<div>\n",
       "<style scoped>\n",
       "    .dataframe tbody tr th:only-of-type {\n",
       "        vertical-align: middle;\n",
       "    }\n",
       "\n",
       "    .dataframe tbody tr th {\n",
       "        vertical-align: top;\n",
       "    }\n",
       "\n",
       "    .dataframe thead th {\n",
       "        text-align: right;\n",
       "    }\n",
       "</style>\n",
       "<table border=\"1\" class=\"dataframe\">\n",
       "  <thead>\n",
       "    <tr style=\"text-align: right;\">\n",
       "      <th></th>\n",
       "      <th>Date</th>\n",
       "      <th>Time</th>\n",
       "      <th>Sensor</th>\n",
       "      <th>Measurement</th>\n",
       "    </tr>\n",
       "  </thead>\n",
       "  <tbody>\n",
       "    <tr>\n",
       "      <th>95385</th>\n",
       "      <td>2010-05-11</td>\n",
       "      <td>12:10:45.58</td>\n",
       "      <td>P001</td>\n",
       "      <td>0.26</td>\n",
       "    </tr>\n",
       "    <tr>\n",
       "      <th>95386</th>\n",
       "      <td>2010-05-11</td>\n",
       "      <td>12:10:46.59</td>\n",
       "      <td>P001</td>\n",
       "      <td>0.21</td>\n",
       "    </tr>\n",
       "    <tr>\n",
       "      <th>95390</th>\n",
       "      <td>2010-05-11</td>\n",
       "      <td>12:10:55.63</td>\n",
       "      <td>P001</td>\n",
       "      <td>0.24</td>\n",
       "    </tr>\n",
       "    <tr>\n",
       "      <th>95397</th>\n",
       "      <td>2010-05-11</td>\n",
       "      <td>12:11:11.73</td>\n",
       "      <td>P001</td>\n",
       "      <td>0.21</td>\n",
       "    </tr>\n",
       "    <tr>\n",
       "      <th>95401</th>\n",
       "      <td>2010-05-11</td>\n",
       "      <td>12:11:22.77</td>\n",
       "      <td>P001</td>\n",
       "      <td>0.24</td>\n",
       "    </tr>\n",
       "  </tbody>\n",
       "</table>\n",
       "</div>"
      ],
      "text/plain": [
       "             Date         Time Sensor Measurement\n",
       "95385  2010-05-11  12:10:45.58   P001        0.26\n",
       "95386  2010-05-11  12:10:46.59   P001        0.21\n",
       "95390  2010-05-11  12:10:55.63   P001        0.24\n",
       "95397  2010-05-11  12:11:11.73   P001        0.21\n",
       "95401  2010-05-11  12:11:22.77   P001        0.24"
      ]
     },
     "metadata": {},
     "output_type": "display_data"
    },
    {
     "data": {
      "text/plain": [
       "'0.03'"
      ]
     },
     "metadata": {},
     "output_type": "display_data"
    },
    {
     "data": {
      "text/plain": [
       "'9.99'"
      ]
     },
     "metadata": {},
     "output_type": "display_data"
    }
   ],
   "source": [
    "df_power = df_sensors[df_sensors.Sensor.isin(s_power)]\n",
    "display(df_power.shape,df_power.head(),df_power.Measurement.min(),df_power.Measurement.max())"
   ]
  },
  {
   "cell_type": "code",
   "execution_count": 20,
   "metadata": {},
   "outputs": [],
   "source": [
    "#sensors.Measurement.unique()"
   ]
  },
  {
   "cell_type": "code",
   "execution_count": 12,
   "metadata": {},
   "outputs": [
    {
     "data": {
      "text/plain": [
       "P001    377542\n",
       "M006     86428\n",
       "M005     84963\n",
       "M009     65503\n",
       "M008     62106\n",
       "M001     61328\n",
       "M007     48354\n",
       "M024     44796\n",
       "M011     38867\n",
       "M012     38671\n",
       "M010     33179\n",
       "M026     29947\n",
       "M003     29352\n",
       "M002     23394\n",
       "M004     21632\n",
       "M019     20946\n",
       "M027     20315\n",
       "M017     19647\n",
       "M025     19564\n",
       "M018     19476\n",
       "M029     17100\n",
       "M022     16205\n",
       "M020     15513\n",
       "M028     14838\n",
       "M021     10269\n",
       "M013      9647\n",
       "T003      8175\n",
       "T001      6809\n",
       "D001      4651\n",
       "T002      4563\n",
       "M014      4074\n",
       "M023      3799\n",
       "M016      3647\n",
       "M015      2783\n",
       "I001       443\n",
       "D003       434\n",
       "D002       305\n",
       "Name: Sensor, dtype: int64"
      ]
     },
     "execution_count": 12,
     "metadata": {},
     "output_type": "execute_result"
    }
   ],
   "source": [
    "sensors.Sensor.value_counts()"
   ]
  },
  {
   "cell_type": "code",
   "execution_count": 13,
   "metadata": {},
   "outputs": [
    {
     "data": {
      "text/plain": [
       "Date           object\n",
       "Time           object\n",
       "Sensor         object\n",
       "Measurement    object\n",
       "dtype: object"
      ]
     },
     "execution_count": 13,
     "metadata": {},
     "output_type": "execute_result"
    }
   ],
   "source": [
    "sensors.dtypes"
   ]
  },
  {
   "cell_type": "code",
   "execution_count": null,
   "metadata": {},
   "outputs": [],
   "source": []
  }
 ],
 "metadata": {
  "kernelspec": {
   "display_name": "Python 3",
   "language": "python",
   "name": "python3"
  },
  "language_info": {
   "codemirror_mode": {
    "name": "ipython",
    "version": 3
   },
   "file_extension": ".py",
   "mimetype": "text/x-python",
   "name": "python",
   "nbconvert_exporter": "python",
   "pygments_lexer": "ipython3",
   "version": "3.6.7"
  }
 },
 "nbformat": 4,
 "nbformat_minor": 2
}
