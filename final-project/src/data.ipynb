{
 "cells": [
  {
   "cell_type": "markdown",
   "metadata": {},
   "source": [
    "### Data"
   ]
  },
  {
   "cell_type": "code",
   "execution_count": 1,
   "metadata": {},
   "outputs": [],
   "source": [
    "import pandas as pd\n",
    "import numpy as np\n",
    "import re\n",
    "import statistics"
   ]
  },
  {
   "cell_type": "code",
   "execution_count": 2,
   "metadata": {},
   "outputs": [
    {
     "data": {
      "text/html": [
       "<div>\n",
       "<style scoped>\n",
       "    .dataframe tbody tr th:only-of-type {\n",
       "        vertical-align: middle;\n",
       "    }\n",
       "\n",
       "    .dataframe tbody tr th {\n",
       "        vertical-align: top;\n",
       "    }\n",
       "\n",
       "    .dataframe thead th {\n",
       "        text-align: right;\n",
       "    }\n",
       "</style>\n",
       "<table border=\"1\" class=\"dataframe\">\n",
       "  <thead>\n",
       "    <tr style=\"text-align: right;\">\n",
       "      <th></th>\n",
       "      <th>Date</th>\n",
       "      <th>Time</th>\n",
       "      <th>Sensor</th>\n",
       "      <th>Measurement</th>\n",
       "    </tr>\n",
       "  </thead>\n",
       "  <tbody>\n",
       "    <tr>\n",
       "      <th>0</th>\n",
       "      <td>2010-03-31</td>\n",
       "      <td>00:04:46.08</td>\n",
       "      <td>T001</td>\n",
       "      <td>15.5</td>\n",
       "    </tr>\n",
       "    <tr>\n",
       "      <th>1</th>\n",
       "      <td>2010-03-31</td>\n",
       "      <td>00:09:48.55</td>\n",
       "      <td>T001</td>\n",
       "      <td>15</td>\n",
       "    </tr>\n",
       "    <tr>\n",
       "      <th>2</th>\n",
       "      <td>2010-03-31</td>\n",
       "      <td>00:09:48.60</td>\n",
       "      <td>T003</td>\n",
       "      <td>14.5</td>\n",
       "    </tr>\n",
       "    <tr>\n",
       "      <th>3</th>\n",
       "      <td>2010-03-31</td>\n",
       "      <td>00:14:51.03</td>\n",
       "      <td>T001</td>\n",
       "      <td>14.5</td>\n",
       "    </tr>\n",
       "    <tr>\n",
       "      <th>4</th>\n",
       "      <td>2010-03-31</td>\n",
       "      <td>00:14:51.08</td>\n",
       "      <td>T003</td>\n",
       "      <td>14</td>\n",
       "    </tr>\n",
       "  </tbody>\n",
       "</table>\n",
       "</div>"
      ],
      "text/plain": [
       "         Date         Time Sensor Measurement\n",
       "0  2010-03-31  00:04:46.08   T001        15.5\n",
       "1  2010-03-31  00:09:48.55   T001          15\n",
       "2  2010-03-31  00:09:48.60   T003        14.5\n",
       "3  2010-03-31  00:14:51.03   T001        14.5\n",
       "4  2010-03-31  00:14:51.08   T003          14"
      ]
     },
     "metadata": {},
     "output_type": "display_data"
    },
    {
     "data": {
      "text/plain": [
       "(1269265, 4)"
      ]
     },
     "metadata": {},
     "output_type": "display_data"
    },
    {
     "data": {
      "text/plain": [
       "Date           object\n",
       "Time           object\n",
       "Sensor         object\n",
       "Measurement    object\n",
       "dtype: object"
      ]
     },
     "metadata": {},
     "output_type": "display_data"
    }
   ],
   "source": [
    "df_raw = pd.read_csv('./input/data.csv', sep=' ',index_col=False,header=None,\n",
    "                      names=['Date','Time','Sensor','Measurement'])\n",
    "display(df_raw.head(),df_raw.shape,df_raw.dtypes)"
   ]
  },
  {
   "cell_type": "code",
   "execution_count": 3,
   "metadata": {},
   "outputs": [],
   "source": [
    "df_sensors = df_raw.copy()"
   ]
  },
  {
   "cell_type": "code",
   "execution_count": 4,
   "metadata": {},
   "outputs": [],
   "source": [
    "def mili_to_seconds(miliseconds):\n",
    "    if len(miliseconds) >= 9:\n",
    "        miliseconds = re.sub(r':\\d\\d.\\d+$','',miliseconds)\n",
    "    elif len(miliseconds) == 8:\n",
    "        miliseconds = re.sub(r':\\d\\d+$','',miliseconds)    \n",
    "    elif len(miliseconds) == 2:\n",
    "        miliseconds = miliseconds+':00'    \n",
    "    return miliseconds"
   ]
  },
  {
   "cell_type": "code",
   "execution_count": 5,
   "metadata": {},
   "outputs": [],
   "source": [
    "df_sensors['Time'] = df_sensors['Time'].apply(mili_to_seconds)"
   ]
  },
  {
   "cell_type": "code",
   "execution_count": 6,
   "metadata": {},
   "outputs": [],
   "source": [
    "df_sensors['DateTime'] = df_sensors['Date'] + ' ' + df_sensors['Time']"
   ]
  },
  {
   "cell_type": "code",
   "execution_count": 7,
   "metadata": {
    "scrolled": true
   },
   "outputs": [],
   "source": [
    "df_sensors['DateTime'] = pd.to_datetime(df_sensors['DateTime'])\n",
    "#df_sensors['Time'] = pd.to_datetime(df_sensors['Time'],format='%H:%M:%S')\n",
    "#df_sensors['DayWeek'] = df_sensors['DateTime'].dt.dayofweek\n",
    "df_sensors = df_sensors.drop(['Date', 'Time'], axis=1)"
   ]
  },
  {
   "cell_type": "code",
   "execution_count": 8,
   "metadata": {},
   "outputs": [
    {
     "data": {
      "text/html": [
       "<div>\n",
       "<style scoped>\n",
       "    .dataframe tbody tr th:only-of-type {\n",
       "        vertical-align: middle;\n",
       "    }\n",
       "\n",
       "    .dataframe tbody tr th {\n",
       "        vertical-align: top;\n",
       "    }\n",
       "\n",
       "    .dataframe thead th {\n",
       "        text-align: right;\n",
       "    }\n",
       "</style>\n",
       "<table border=\"1\" class=\"dataframe\">\n",
       "  <thead>\n",
       "    <tr style=\"text-align: right;\">\n",
       "      <th></th>\n",
       "      <th>Sensor</th>\n",
       "      <th>Measurement</th>\n",
       "      <th>DateTime</th>\n",
       "    </tr>\n",
       "  </thead>\n",
       "  <tbody>\n",
       "    <tr>\n",
       "      <th>0</th>\n",
       "      <td>T001</td>\n",
       "      <td>15.5</td>\n",
       "      <td>2010-03-31 00:04:00</td>\n",
       "    </tr>\n",
       "    <tr>\n",
       "      <th>1</th>\n",
       "      <td>T001</td>\n",
       "      <td>15</td>\n",
       "      <td>2010-03-31 00:09:00</td>\n",
       "    </tr>\n",
       "    <tr>\n",
       "      <th>2</th>\n",
       "      <td>T003</td>\n",
       "      <td>14.5</td>\n",
       "      <td>2010-03-31 00:09:00</td>\n",
       "    </tr>\n",
       "    <tr>\n",
       "      <th>3</th>\n",
       "      <td>T001</td>\n",
       "      <td>14.5</td>\n",
       "      <td>2010-03-31 00:14:00</td>\n",
       "    </tr>\n",
       "    <tr>\n",
       "      <th>4</th>\n",
       "      <td>T003</td>\n",
       "      <td>14</td>\n",
       "      <td>2010-03-31 00:14:00</td>\n",
       "    </tr>\n",
       "    <tr>\n",
       "      <th>5</th>\n",
       "      <td>M001</td>\n",
       "      <td>ON</td>\n",
       "      <td>2010-03-31 00:16:00</td>\n",
       "    </tr>\n",
       "    <tr>\n",
       "      <th>6</th>\n",
       "      <td>M001</td>\n",
       "      <td>OFF</td>\n",
       "      <td>2010-03-31 00:17:00</td>\n",
       "    </tr>\n",
       "    <tr>\n",
       "      <th>7</th>\n",
       "      <td>T003</td>\n",
       "      <td>13.5</td>\n",
       "      <td>2010-03-31 00:24:00</td>\n",
       "    </tr>\n",
       "    <tr>\n",
       "      <th>8</th>\n",
       "      <td>T001</td>\n",
       "      <td>14</td>\n",
       "      <td>2010-03-31 00:40:00</td>\n",
       "    </tr>\n",
       "    <tr>\n",
       "      <th>9</th>\n",
       "      <td>T003</td>\n",
       "      <td>13</td>\n",
       "      <td>2010-03-31 00:55:00</td>\n",
       "    </tr>\n",
       "  </tbody>\n",
       "</table>\n",
       "</div>"
      ],
      "text/plain": [
       "  Sensor Measurement            DateTime\n",
       "0   T001        15.5 2010-03-31 00:04:00\n",
       "1   T001          15 2010-03-31 00:09:00\n",
       "2   T003        14.5 2010-03-31 00:09:00\n",
       "3   T001        14.5 2010-03-31 00:14:00\n",
       "4   T003          14 2010-03-31 00:14:00\n",
       "5   M001          ON 2010-03-31 00:16:00\n",
       "6   M001         OFF 2010-03-31 00:17:00\n",
       "7   T003        13.5 2010-03-31 00:24:00\n",
       "8   T001          14 2010-03-31 00:40:00\n",
       "9   T003          13 2010-03-31 00:55:00"
      ]
     },
     "metadata": {},
     "output_type": "display_data"
    },
    {
     "data": {
      "text/plain": [
       "(1269265, 3)"
      ]
     },
     "metadata": {},
     "output_type": "display_data"
    },
    {
     "data": {
      "text/plain": [
       "Sensor                 object\n",
       "Measurement            object\n",
       "DateTime       datetime64[ns]\n",
       "dtype: object"
      ]
     },
     "metadata": {},
     "output_type": "display_data"
    }
   ],
   "source": [
    "display(df_sensors.head(10),df_sensors.shape,df_sensors.dtypes)"
   ]
  },
  {
   "cell_type": "code",
   "execution_count": 9,
   "metadata": {},
   "outputs": [],
   "source": [
    "s_motion = ['M001','M002','M003','M004','M005','M006','M007','M008','M009','M010','M011','M012','M013',\n",
    "            'M014','M015','M016','M017','M018','M019','M020','M021','M022','M023','M024','M025','M026',\n",
    "            'M027','M028','M029']\n",
    "\n",
    "s_temp = ['T001','T002','T003']\n",
    "\n",
    "s_doors = ['D001','D002','D003']\n",
    "\n",
    "s_medicine = ['I001']\n",
    "\n",
    "s_power = ['P001']"
   ]
  },
  {
   "cell_type": "code",
   "execution_count": 10,
   "metadata": {},
   "outputs": [],
   "source": [
    "def data_sensors(df_input,sensor):\n",
    "    df_stype = df_input[df_input['Sensor'].isin(sensor)]\n",
    "    return df_stype"
   ]
  },
  {
   "cell_type": "code",
   "execution_count": 11,
   "metadata": {},
   "outputs": [],
   "source": [
    "df_M001 = data_sensors(df_sensors,['M001']).reset_index(drop=True)\n",
    "df_M002 = data_sensors(df_sensors,['M002']).reset_index(drop=True)\n",
    "df_M003 = data_sensors(df_sensors,['M003']).reset_index(drop=True)\n",
    "df_M004 = data_sensors(df_sensors,['M004']).reset_index(drop=True)\n",
    "df_M005 = data_sensors(df_sensors,['M005']).reset_index(drop=True)\n",
    "df_M006 = data_sensors(df_sensors,['M006']).reset_index(drop=True)\n",
    "df_M007 = data_sensors(df_sensors,['M007']).reset_index(drop=True)\n",
    "df_M008 = data_sensors(df_sensors,['M008']).reset_index(drop=True)\n",
    "df_M009 = data_sensors(df_sensors,['M009']).reset_index(drop=True)\n",
    "df_M010 = data_sensors(df_sensors,['M010']).reset_index(drop=True)\n",
    "df_M011 = data_sensors(df_sensors,['M011']).reset_index(drop=True)\n",
    "df_M012 = data_sensors(df_sensors,['M012']).reset_index(drop=True)\n",
    "df_M013 = data_sensors(df_sensors,['M013']).reset_index(drop=True)\n",
    "df_M014 = data_sensors(df_sensors,['M014']).reset_index(drop=True)\n",
    "df_M015 = data_sensors(df_sensors,['M015']).reset_index(drop=True)\n",
    "df_M016 = data_sensors(df_sensors,['M016']).reset_index(drop=True)\n",
    "df_M017 = data_sensors(df_sensors,['M017']).reset_index(drop=True)\n",
    "df_M018 = data_sensors(df_sensors,['M018']).reset_index(drop=True)\n",
    "df_M019 = data_sensors(df_sensors,['M019']).reset_index(drop=True)\n",
    "df_M020 = data_sensors(df_sensors,['M020']).reset_index(drop=True)\n",
    "df_M021 = data_sensors(df_sensors,['M021']).reset_index(drop=True)\n",
    "df_M022 = data_sensors(df_sensors,['M022']).reset_index(drop=True)\n",
    "df_M023 = data_sensors(df_sensors,['M023']).reset_index(drop=True)\n",
    "df_M024 = data_sensors(df_sensors,['M024']).reset_index(drop=True)\n",
    "df_M025 = data_sensors(df_sensors,['M025']).reset_index(drop=True)\n",
    "df_M026 = data_sensors(df_sensors,['M026']).reset_index(drop=True)\n",
    "df_M027 = data_sensors(df_sensors,['M027']).reset_index(drop=True)\n",
    "df_M028 = data_sensors(df_sensors,['M028']).reset_index(drop=True)\n",
    "df_M029 = data_sensors(df_sensors,['M029']).reset_index(drop=True)"
   ]
  },
  {
   "cell_type": "code",
   "execution_count": 12,
   "metadata": {},
   "outputs": [],
   "source": [
    "def cat_data(value):\n",
    "    if value == 'ON':\n",
    "        value = 1\n",
    "    elif value == 'OFF':\n",
    "        value = 0\n",
    "    return value"
   ]
  },
  {
   "cell_type": "code",
   "execution_count": 13,
   "metadata": {},
   "outputs": [],
   "source": [
    "df_M001['Measurement'] = df_M001['Measurement'].apply(cat_data)\n",
    "df_M002['Measurement'] = df_M002['Measurement'].apply(cat_data)\n",
    "df_M003['Measurement'] = df_M003['Measurement'].apply(cat_data)\n",
    "df_M004['Measurement'] = df_M004['Measurement'].apply(cat_data)\n",
    "df_M005['Measurement'] = df_M005['Measurement'].apply(cat_data)\n",
    "df_M006['Measurement'] = df_M006['Measurement'].apply(cat_data)\n",
    "df_M007['Measurement'] = df_M007['Measurement'].apply(cat_data)\n",
    "df_M008['Measurement'] = df_M008['Measurement'].apply(cat_data)\n",
    "df_M009['Measurement'] = df_M009['Measurement'].apply(cat_data)\n",
    "df_M010['Measurement'] = df_M010['Measurement'].apply(cat_data)\n",
    "df_M011['Measurement'] = df_M011['Measurement'].apply(cat_data)\n",
    "df_M012['Measurement'] = df_M012['Measurement'].apply(cat_data)\n",
    "df_M013['Measurement'] = df_M013['Measurement'].apply(cat_data)\n",
    "df_M014['Measurement'] = df_M014['Measurement'].apply(cat_data)\n",
    "df_M015['Measurement'] = df_M015['Measurement'].apply(cat_data)\n",
    "df_M016['Measurement'] = df_M001['Measurement'].apply(cat_data)\n",
    "df_M017['Measurement'] = df_M001['Measurement'].apply(cat_data)\n",
    "df_M018['Measurement'] = df_M001['Measurement'].apply(cat_data)\n",
    "df_M019['Measurement'] = df_M001['Measurement'].apply(cat_data)\n",
    "df_M020['Measurement'] = df_M001['Measurement'].apply(cat_data)\n",
    "df_M021['Measurement'] = df_M001['Measurement'].apply(cat_data)\n",
    "df_M022['Measurement'] = df_M001['Measurement'].apply(cat_data)\n",
    "df_M023['Measurement'] = df_M001['Measurement'].apply(cat_data)\n",
    "df_M024['Measurement'] = df_M001['Measurement'].apply(cat_data)\n",
    "df_M025['Measurement'] = df_M001['Measurement'].apply(cat_data)\n",
    "df_M026['Measurement'] = df_M001['Measurement'].apply(cat_data)\n",
    "df_M027['Measurement'] = df_M001['Measurement'].apply(cat_data)\n",
    "df_M028['Measurement'] = df_M001['Measurement'].apply(cat_data)\n",
    "df_M029['Measurement'] = df_M001['Measurement'].apply(cat_data)"
   ]
  },
  {
   "cell_type": "code",
   "execution_count": 14,
   "metadata": {},
   "outputs": [],
   "source": [
    "df_M001 = df_M001.groupby('DateTime',as_index=False).agg({\"Measurement\":\"mean\"})\n",
    "df_M002 = df_M002.groupby('DateTime',as_index=False).agg({\"Measurement\":\"mean\"})\n",
    "df_M003 = df_M003.groupby('DateTime',as_index=False).agg({\"Measurement\":\"mean\"})\n",
    "df_M004 = df_M004.groupby('DateTime',as_index=False).agg({\"Measurement\":\"mean\"})\n",
    "df_M005 = df_M005.groupby('DateTime',as_index=False).agg({\"Measurement\":\"mean\"})\n",
    "df_M006 = df_M006.groupby('DateTime',as_index=False).agg({\"Measurement\":\"mean\"})\n",
    "df_M007 = df_M007.groupby('DateTime',as_index=False).agg({\"Measurement\":\"mean\"})\n",
    "df_M008 = df_M008.groupby('DateTime',as_index=False).agg({\"Measurement\":\"mean\"})\n",
    "df_M009 = df_M009.groupby('DateTime',as_index=False).agg({\"Measurement\":\"mean\"})\n",
    "df_M010 = df_M010.groupby('DateTime',as_index=False).agg({\"Measurement\":\"mean\"})\n",
    "df_M011 = df_M011.groupby('DateTime',as_index=False).agg({\"Measurement\":\"mean\"})\n",
    "df_M012 = df_M012.groupby('DateTime',as_index=False).agg({\"Measurement\":\"mean\"})\n",
    "df_M013 = df_M013.groupby('DateTime',as_index=False).agg({\"Measurement\":\"mean\"})\n",
    "df_M014 = df_M014.groupby('DateTime',as_index=False).agg({\"Measurement\":\"mean\"})\n",
    "df_M015 = df_M015.groupby('DateTime',as_index=False).agg({\"Measurement\":\"mean\"})\n",
    "df_M016 = df_M016.groupby('DateTime',as_index=False).agg({\"Measurement\":\"mean\"})\n",
    "df_M017 = df_M017.groupby('DateTime',as_index=False).agg({\"Measurement\":\"mean\"})\n",
    "df_M018 = df_M018.groupby('DateTime',as_index=False).agg({\"Measurement\":\"mean\"})\n",
    "df_M019 = df_M019.groupby('DateTime',as_index=False).agg({\"Measurement\":\"mean\"})\n",
    "df_M020 = df_M020.groupby('DateTime',as_index=False).agg({\"Measurement\":\"mean\"})\n",
    "df_M021 = df_M021.groupby('DateTime',as_index=False).agg({\"Measurement\":\"mean\"})\n",
    "df_M022 = df_M022.groupby('DateTime',as_index=False).agg({\"Measurement\":\"mean\"})\n",
    "df_M023 = df_M023.groupby('DateTime',as_index=False).agg({\"Measurement\":\"mean\"})\n",
    "df_M024 = df_M024.groupby('DateTime',as_index=False).agg({\"Measurement\":\"mean\"})\n",
    "df_M025 = df_M025.groupby('DateTime',as_index=False).agg({\"Measurement\":\"mean\"})\n",
    "df_M026 = df_M026.groupby('DateTime',as_index=False).agg({\"Measurement\":\"mean\"})\n",
    "df_M027 = df_M027.groupby('DateTime',as_index=False).agg({\"Measurement\":\"mean\"})\n",
    "df_M028 = df_M028.groupby('DateTime',as_index=False).agg({\"Measurement\":\"mean\"})\n",
    "df_M029 = df_M029.groupby('DateTime',as_index=False).agg({\"Measurement\":\"mean\"})"
   ]
  },
  {
   "cell_type": "code",
   "execution_count": 15,
   "metadata": {},
   "outputs": [],
   "source": [
    "df_T001 = data_sensors(df_sensors,['T001']).reset_index(drop=True)\n",
    "df_T002 = data_sensors(df_sensors,['T002']).reset_index(drop=True)\n",
    "df_T003 = data_sensors(df_sensors,['T003']).reset_index(drop=True)\n",
    "df_P001 = data_sensors(df_sensors,['P001']).reset_index(drop=True)"
   ]
  },
  {
   "cell_type": "code",
   "execution_count": 16,
   "metadata": {},
   "outputs": [],
   "source": [
    "def num_data(value):\n",
    "    return float(value)"
   ]
  },
  {
   "cell_type": "code",
   "execution_count": 17,
   "metadata": {},
   "outputs": [],
   "source": [
    "df_T001['Measurement'] = df_T001['Measurement'].apply(num_data)\n",
    "df_T002['Measurement'] = df_T002['Measurement'].apply(num_data)\n",
    "df_T003['Measurement'] = df_T003['Measurement'].apply(num_data)\n",
    "df_P001['Measurement'] = df_P001['Measurement'].apply(num_data)"
   ]
  },
  {
   "cell_type": "code",
   "execution_count": 18,
   "metadata": {},
   "outputs": [],
   "source": [
    "df_T001 = df_T001.groupby('DateTime',as_index=False).agg({\"Measurement\":\"mean\"})\n",
    "df_T002 = df_T002.groupby('DateTime',as_index=False).agg({\"Measurement\":\"mean\"})\n",
    "df_T003 = df_T002.groupby('DateTime',as_index=False).agg({\"Measurement\":\"mean\"})\n",
    "df_P001 = df_P001.groupby('DateTime',as_index=False).agg({\"Measurement\":\"sum\"})"
   ]
  },
  {
   "cell_type": "code",
   "execution_count": 19,
   "metadata": {},
   "outputs": [],
   "source": [
    "df_D001 = data_sensors(df_sensors,['D001']).reset_index(drop=True)\n",
    "df_D002 = data_sensors(df_sensors,['D002']).reset_index(drop=True)\n",
    "df_D003 = data_sensors(df_sensors,['D003']).reset_index(drop=True)"
   ]
  },
  {
   "cell_type": "code",
   "execution_count": 20,
   "metadata": {},
   "outputs": [],
   "source": [
    "def door_data(value):\n",
    "    if value == 'OPEN':\n",
    "        value = 1\n",
    "    elif value == 'CLOSE':\n",
    "        value = 0\n",
    "    return value"
   ]
  },
  {
   "cell_type": "code",
   "execution_count": 21,
   "metadata": {},
   "outputs": [],
   "source": [
    "df_D001['Measurement'] = df_D001['Measurement'].apply(door_data)\n",
    "df_D002['Measurement'] = df_D002['Measurement'].apply(door_data)\n",
    "df_D003['Measurement'] = df_D003['Measurement'].apply(door_data)"
   ]
  },
  {
   "cell_type": "code",
   "execution_count": 22,
   "metadata": {},
   "outputs": [],
   "source": [
    "df_D001 = df_D001.groupby('DateTime',as_index=False).agg({\"Measurement\":\"mean\"})\n",
    "df_D002 = df_D002.groupby('DateTime',as_index=False).agg({\"Measurement\":\"mean\"})\n",
    "df_D003 = df_D003.groupby('DateTime',as_index=False).agg({\"Measurement\":\"mean\"})"
   ]
  },
  {
   "cell_type": "code",
   "execution_count": 26,
   "metadata": {},
   "outputs": [
    {
     "data": {
      "text/html": [
       "<div>\n",
       "<style scoped>\n",
       "    .dataframe tbody tr th:only-of-type {\n",
       "        vertical-align: middle;\n",
       "    }\n",
       "\n",
       "    .dataframe tbody tr th {\n",
       "        vertical-align: top;\n",
       "    }\n",
       "\n",
       "    .dataframe thead th {\n",
       "        text-align: right;\n",
       "    }\n",
       "</style>\n",
       "<table border=\"1\" class=\"dataframe\">\n",
       "  <thead>\n",
       "    <tr style=\"text-align: right;\">\n",
       "      <th></th>\n",
       "      <th>DateTime</th>\n",
       "      <th>DayWeek</th>\n",
       "    </tr>\n",
       "  </thead>\n",
       "  <tbody>\n",
       "    <tr>\n",
       "      <th>0</th>\n",
       "      <td>2010-03-31 00:04:00</td>\n",
       "      <td>2</td>\n",
       "    </tr>\n",
       "    <tr>\n",
       "      <th>1</th>\n",
       "      <td>2010-03-31 00:05:00</td>\n",
       "      <td>2</td>\n",
       "    </tr>\n",
       "    <tr>\n",
       "      <th>2</th>\n",
       "      <td>2010-03-31 00:06:00</td>\n",
       "      <td>2</td>\n",
       "    </tr>\n",
       "    <tr>\n",
       "      <th>3</th>\n",
       "      <td>2010-03-31 00:07:00</td>\n",
       "      <td>2</td>\n",
       "    </tr>\n",
       "    <tr>\n",
       "      <th>4</th>\n",
       "      <td>2010-03-31 00:08:00</td>\n",
       "      <td>2</td>\n",
       "    </tr>\n",
       "  </tbody>\n",
       "</table>\n",
       "</div>"
      ],
      "text/plain": [
       "             DateTime  DayWeek\n",
       "0 2010-03-31 00:04:00        2\n",
       "1 2010-03-31 00:05:00        2\n",
       "2 2010-03-31 00:06:00        2\n",
       "3 2010-03-31 00:07:00        2\n",
       "4 2010-03-31 00:08:00        2"
      ]
     },
     "execution_count": 26,
     "metadata": {},
     "output_type": "execute_result"
    }
   ],
   "source": [
    "time_ini = pd.date_range('2010-03-31 00:04:00', periods=230396, freq='1min')\n",
    "#time_fin = pd.date_range('2010-03-31 00:04:59', periods=230396, freq='1min')\n",
    "#df_time_ini = pd.DataFrame({'TimeIni':time_ini})\n",
    "#df_time_fin = pd.DataFrame({'TimeFin':time_fin})\n",
    "df_full = pd.DataFrame({'DateTime':time_ini})\n",
    "#df_full = pd.concat([df_time_ini, df_time_fin], axis=1, sort=False)\n",
    "#df_full = pd.DataFrame({'TimeGap': np.arange(1,230397)},index=time_gap)\n",
    "df_full['DayWeek'] = df_full['DateTime'].dt.dayofweek\n",
    "df_full.head()"
   ]
  },
  {
   "cell_type": "code",
   "execution_count": null,
   "metadata": {},
   "outputs": [],
   "source": []
  },
  {
   "cell_type": "code",
   "execution_count": null,
   "metadata": {},
   "outputs": [],
   "source": []
  },
  {
   "cell_type": "code",
   "execution_count": null,
   "metadata": {},
   "outputs": [],
   "source": []
  },
  {
   "cell_type": "code",
   "execution_count": null,
   "metadata": {},
   "outputs": [],
   "source": []
  },
  {
   "cell_type": "code",
   "execution_count": null,
   "metadata": {},
   "outputs": [],
   "source": []
  },
  {
   "cell_type": "code",
   "execution_count": null,
   "metadata": {},
   "outputs": [],
   "source": [
    "values = []\n",
    "for e in range(df_P001.shape[0]):\n",
    "    if df_full.TimeIni[0] <= df_P001.DateTime[e] <= df_full.TimeFin[0]:\n",
    "        values.append(df_P001.Measurement[e])\n",
    "    else:\n",
    "        values.append(0)\n",
    "value = sum(values)"
   ]
  },
  {
   "cell_type": "code",
   "execution_count": null,
   "metadata": {
    "scrolled": true
   },
   "outputs": [],
   "source": [
    "value"
   ]
  },
  {
   "cell_type": "code",
   "execution_count": null,
   "metadata": {},
   "outputs": [],
   "source": [
    "df_P001.shape[0]*df_full.shape[0]"
   ]
  },
  {
   "cell_type": "code",
   "execution_count": null,
   "metadata": {},
   "outputs": [],
   "source": [
    "%%time\n",
    "values = []\n",
    "new_serie = []\n",
    "for i in range(10):\n",
    "    for e in range(df_T001.shape[0]):\n",
    "        if df_full.TimeIni[i] <= df_T001.DateTime[e] <= df_full.TimeFin[i]:\n",
    "            values.append(df_T001.Measurement[e])\n",
    "    value = statistics.mean(values)\n",
    "    print(values)\n",
    "    new_serie.append(value)      "
   ]
  },
  {
   "cell_type": "code",
   "execution_count": null,
   "metadata": {},
   "outputs": [],
   "source": [
    "new_serie"
   ]
  },
  {
   "cell_type": "code",
   "execution_count": null,
   "metadata": {},
   "outputs": [],
   "source": [
    "def serie_sum(dataframe):\n",
    "    values = []\n",
    "    new_serie = []\n",
    "    for i in range(df_full.shape[0]):\n",
    "        for e in range(df_P001.shape[0]):\n",
    "            if df_full.TimeIni[i] <= df_P001.DateTime[e] <= df_full.TimeFin[i]:\n",
    "                values.append(df_P001.Measurement[e])\n",
    "            else:\n",
    "                values.append(0)\n",
    "    value = sum(values)\n",
    "    new_serie.append(value)      \n",
    "    return new_serie"
   ]
  },
  {
   "cell_type": "code",
   "execution_count": null,
   "metadata": {},
   "outputs": [],
   "source": [
    "def serie_mode(dataframe):\n",
    "    values = []\n",
    "    new_serie = []\n",
    "    for i in range(df_full.shape[0]):\n",
    "        for e in range(df_P001.shape[0]):\n",
    "            if df_full.TimeIni[i] <= df_P001.DateTime[e] <= df_full.TimeFin[i]:\n",
    "                values.append(df_P001.Measurement[e])\n",
    "            else:\n",
    "                values.append(0)\n",
    "    value = statistics.mode(values)\n",
    "    new_serie.append(value)      \n",
    "    return new_serie"
   ]
  },
  {
   "cell_type": "code",
   "execution_count": null,
   "metadata": {},
   "outputs": [],
   "source": []
  },
  {
   "cell_type": "code",
   "execution_count": null,
   "metadata": {},
   "outputs": [],
   "source": []
  },
  {
   "cell_type": "code",
   "execution_count": null,
   "metadata": {},
   "outputs": [],
   "source": []
  },
  {
   "cell_type": "code",
   "execution_count": null,
   "metadata": {},
   "outputs": [],
   "source": [
    "df_motion = df_sensors[df_sensors.Sensor.isin(s_motion)]\n",
    "display(df_motion.shape,df_motion.head(),df_motion.Measurement.unique())"
   ]
  },
  {
   "cell_type": "code",
   "execution_count": null,
   "metadata": {},
   "outputs": [],
   "source": [
    "df_temp = df_sensors[df_sensors.Sensor.isin(s_temp)]\n",
    "display(df_temp.shape,df_temp.head(),df_temp.Measurement.unique())"
   ]
  },
  {
   "cell_type": "code",
   "execution_count": null,
   "metadata": {},
   "outputs": [],
   "source": [
    "df_doors = df_sensors[df_sensors.Sensor.isin(s_doors)]\n",
    "display(df_doors.shape,df_doors.head(),df_doors.Measurement.unique())"
   ]
  },
  {
   "cell_type": "code",
   "execution_count": null,
   "metadata": {
    "scrolled": true
   },
   "outputs": [],
   "source": [
    "df_medicine = df_sensors[df_sensors.Sensor.isin(s_medicine)]\n",
    "display(df_medicine.shape,df_medicine.head(),df_medicine.Measurement.unique())"
   ]
  },
  {
   "cell_type": "code",
   "execution_count": null,
   "metadata": {},
   "outputs": [],
   "source": [
    "df_power = df_sensors[df_sensors.Sensor.isin(s_power)]\n",
    "display(df_power.shape,df_power.head(),df_power.Measurement.min(),df_power.Measurement.max())"
   ]
  },
  {
   "cell_type": "code",
   "execution_count": null,
   "metadata": {},
   "outputs": [],
   "source": [
    "#sensors.Measurement.unique()"
   ]
  },
  {
   "cell_type": "code",
   "execution_count": null,
   "metadata": {},
   "outputs": [],
   "source": [
    "sensors.Sensor.value_counts()"
   ]
  },
  {
   "cell_type": "code",
   "execution_count": null,
   "metadata": {},
   "outputs": [],
   "source": [
    "sensors.dtypes"
   ]
  },
  {
   "cell_type": "code",
   "execution_count": null,
   "metadata": {},
   "outputs": [],
   "source": []
  }
 ],
 "metadata": {
  "kernelspec": {
   "display_name": "Python 3",
   "language": "python",
   "name": "python3"
  },
  "language_info": {
   "codemirror_mode": {
    "name": "ipython",
    "version": 3
   },
   "file_extension": ".py",
   "mimetype": "text/x-python",
   "name": "python",
   "nbconvert_exporter": "python",
   "pygments_lexer": "ipython3",
   "version": "3.6.7"
  }
 },
 "nbformat": 4,
 "nbformat_minor": 2
}
