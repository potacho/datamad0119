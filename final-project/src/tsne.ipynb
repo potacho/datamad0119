{
 "cells": [
  {
   "cell_type": "markdown",
   "metadata": {},
   "source": [
    "# Clustering"
   ]
  },
  {
   "cell_type": "code",
   "execution_count": null,
   "metadata": {},
   "outputs": [],
   "source": [
    "import pandas as pd\n",
    "import numpy as np\n",
    "import matplotlib.pyplot as plt\n",
    "import seaborn as sns\n",
    "from sklearn.cluster import KMeans\n",
    "from sklearn.preprocessing import StandardScaler\n",
    "from sklearn.metrics import silhouette_score\n",
    "from sklearn.decomposition import PCA\n",
    "from sklearn.manifold import TSNE\n",
    "from sklearn.cluster import AgglomerativeClustering\n",
    "import warnings\n",
    "warnings.filterwarnings(\"ignore\")"
   ]
  },
  {
   "cell_type": "code",
   "execution_count": 2,
   "metadata": {},
   "outputs": [],
   "source": [
    "df_tsne = pd.read_csv('./output/df_mhc.csv',sep=',',index_col=0)"
   ]
  },
  {
   "cell_type": "code",
   "execution_count": 3,
   "metadata": {},
   "outputs": [],
   "source": [
    "cols = [col for col in df_tsne.columns.values if col != \"Periods\"]\n",
    "X = df_tsne[cols]\n",
    "y = df_tsne[\"Periods\"]"
   ]
  },
  {
   "cell_type": "code",
   "execution_count": 4,
   "metadata": {},
   "outputs": [],
   "source": [
    "X = StandardScaler().fit_transform(X)"
   ]
  },
  {
   "cell_type": "markdown",
   "metadata": {},
   "source": [
    "### KMeans"
   ]
  },
  {
   "cell_type": "code",
   "execution_count": 5,
   "metadata": {},
   "outputs": [
    {
     "name": "stdout",
     "output_type": "stream",
     "text": [
      "Silhouette Score for 4 clusters: 0.49663063468857294\n"
     ]
    }
   ],
   "source": [
    "kmeans = KMeans(n_clusters=4)\n",
    "kmeans.fit(X)\n",
    "print('Silhouette Score for 4 clusters:', (silhouette_score(X, kmeans.predict(X))))"
   ]
  },
  {
   "cell_type": "code",
   "execution_count": 6,
   "metadata": {},
   "outputs": [],
   "source": [
    "X = pd.DataFrame(X,columns=['DayWeek', 'M001', 'M002', 'M003', 'M004', 'M005', 'M006', 'M007', 'M009',\n",
    "                            'M010', 'M011', 'M012', 'M013', 'M014', 'M015', 'M016', 'M018', 'M020',\n",
    "                            'M021', 'M022', 'M023', 'M024', 'M025', 'M026', 'M027', 'M028', 'M029',\n",
    "                            'T002', 'P001', 'D001', 'D002', 'D003'])"
   ]
  },
  {
   "cell_type": "code",
   "execution_count": 7,
   "metadata": {},
   "outputs": [],
   "source": [
    "X['labels'] = kmeans.labels_"
   ]
  },
  {
   "cell_type": "code",
   "execution_count": null,
   "metadata": {},
   "outputs": [],
   "source": [
    "%%time\n",
    "fig, ax = plt.subplots(1, 4, figsize=(15, 7))\n",
    "for i, perp in enumerate([5, 30, 50, 100]):\n",
    "    tsne = TSNE(perplexity=perp)\n",
    "    x_embedded = tsne.fit_transform(X)\n",
    "    ax[i].scatter(x_embedded[:, 0], x_embedded[:, 1], c=X.labels, cmap='Paired')\n",
    "    ax[i].set_title(\"Perplexity = {}\".format(perp))\n",
    "plt.savefig('tsne.png')\n",
    "plt.show()"
   ]
  },
  {
   "cell_type": "code",
   "execution_count": null,
   "metadata": {},
   "outputs": [],
   "source": [
    "sns.set(style=\"ticks\")\n",
    "sns.pairplot(X,hue='labels')"
   ]
  },
  {
   "cell_type": "markdown",
   "metadata": {},
   "source": [
    "### Agglomerative Clustering "
   ]
  },
  {
   "cell_type": "code",
   "execution_count": null,
   "metadata": {},
   "outputs": [],
   "source": [
    "aggloclust = AgglomerativeClustering()\n",
    "aggloclust.fit(X)\n",
    "print('Silhouette Score for Agglomerative Clustering:', (silhouette_score(X, aggloclust.predict(X))))"
   ]
  },
  {
   "cell_type": "code",
   "execution_count": null,
   "metadata": {},
   "outputs": [],
   "source": [
    "X = pd.DataFrame(X,columns=['DayWeek', 'M001', 'M002', 'M003', 'M004', 'M005', 'M006', 'M007', 'M009',\n",
    "                            'M010', 'M011', 'M012', 'M013', 'M014', 'M015', 'M016', 'M018', 'M020',\n",
    "                            'M021', 'M022', 'M023', 'M024', 'M025', 'M026', 'M027', 'M028', 'M029',\n",
    "                            'T002', 'P001', 'D001', 'D002', 'D003'])"
   ]
  },
  {
   "cell_type": "code",
   "execution_count": null,
   "metadata": {},
   "outputs": [],
   "source": [
    "X['labels'] = aggloclust.labels_"
   ]
  },
  {
   "cell_type": "code",
   "execution_count": null,
   "metadata": {},
   "outputs": [],
   "source": [
    "%%time\n",
    "fig, ax = plt.subplots(1, 4, figsize=(15, 7))\n",
    "for i, perp in enumerate([5, 30, 50, 100]):\n",
    "    tsne = TSNE(perplexity=perp)\n",
    "    x_embedded = tsne.fit_transform(X)\n",
    "    ax[i].scatter(x_embedded[:, 0], x_embedded[:, 1], c=X.labels, cmap='Paired')\n",
    "    ax[i].set_title(\"Perplexity = {}\".format(perp))\n",
    "plt.savefig('tsne.png')\n",
    "plt.show()"
   ]
  },
  {
   "cell_type": "code",
   "execution_count": null,
   "metadata": {},
   "outputs": [],
   "source": [
    "sns.set(style=\"ticks\")\n",
    "sns.pairplot(X,hue='labels')"
   ]
  }
 ],
 "metadata": {
  "kernelspec": {
   "display_name": "Python 3",
   "language": "python",
   "name": "python3"
  },
  "language_info": {
   "codemirror_mode": {
    "name": "ipython",
    "version": 3
   },
   "file_extension": ".py",
   "mimetype": "text/x-python",
   "name": "python",
   "nbconvert_exporter": "python",
   "pygments_lexer": "ipython3",
   "version": "3.6.7"
  }
 },
 "nbformat": 4,
 "nbformat_minor": 2
}
