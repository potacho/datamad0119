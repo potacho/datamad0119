{
 "cells": [
  {
   "cell_type": "markdown",
   "metadata": {},
   "source": [
    "![IronHack Logo](https://s3-eu-west-1.amazonaws.com/ih-materials/uploads/upload_d5c5793015fec3be28a63c4fa3dd4d55.png)\n",
    "\n",
    "# Web Project\n",
    "\n",
    "### Comparativa de precios de criptoactivos entre datos obtenidos del exchange Bitstamp (API) y la plataforma de P2P LocalBitcoins (Scraping)\n",
    "\n",
    "#### by Octavio Garcia (Data Analytics Bootcamp 2019)"
   ]
  },
  {
   "cell_type": "markdown",
   "metadata": {},
   "source": [
    "## Alcance\n",
    "En el presente proyecto se realiza un ejercicio académico de extracción de datos utilizando 2 técnicas diferentes, con el objetivo de relacionar dichos datos enriqueciendo así el dataset.\n",
    "- **Obtención de datos mediante API REST**. Se han obtenido más de 5.000 registros correspondientes a las transacciones realizadas en 1 día del par BTC-EUR dentro del exchange Bitstamp (https://www.bitstamp.net/api/). Dichos datos han sido tratados con el objetivo de determinar la tendencia del precio del BTC en EUROS durante un periodo de 24 horas.\n",
    "- **Obtención de datos mediante WEB SCRAPING**. Se han obtenido 500 registros correspondientes a las ofertas publicadas en el portal de permutas P2P Local Bitcoins. En dicho portal los usuarios registrados ofrecen pequeñas cantidades de BTC a otros usuarios. Esta plataforma es ampliamente utilizada en regiones con problemas importantes de devaluación monetaria. No obstante, para efectos de este proyecto, se ha limitado la adquisición de datos a las ofertas realizadas en EUROS. Cabe indicar que la plataforma posee una API (https://localbitcoins.com//buy-bitcoins-online/EUR/.json), sin embargo esta solo permite una extracción limitada de las ofertas en EUROS (hasta 50 ofertas). \n",
    "\n",
    "**NOTA IMPORTANTE:** todos los datos extraidos corresponden a las transacciones de las últimas 24 y las ofertas publicadas en un día concreto respectivamente. Por tanto, se trata de una relación BTC-EURx24H. Sin embargo, esa relación temporal no puede establecerse de forma rigurosa dentro del periodo señalado ya que los registros de transacciones representan una serie de tiempo a lo largo de un período de 24 horas mientras que las ofertas, aunque están ordenadas de forma cronológica, van desapareciendo del listado según se van cerrando las operaciones. Por lo tanto se ha optación por realizar un análisis pseudo-estadístico con la intención de establecer con la comparativa un \"máximo\" razonable de aceptación de una oferta P2P en función de la evolución de precios en el exchange."
   ]
  },
  {
   "cell_type": "markdown",
   "metadata": {},
   "source": [
    "### Importación de módulos"
   ]
  },
  {
   "cell_type": "code",
   "execution_count": 1,
   "metadata": {},
   "outputs": [],
   "source": [
    "#Se importan los módulos necesarios para todas las operaciones realizadas en el proyecto.\n",
    "import json\n",
    "import requests\n",
    "import numpy as np\n",
    "import pandas as pd\n",
    "#Web scraping\n",
    "from bs4 import BeautifulSoup\n",
    "import re\n",
    "#Visualización\n",
    "import matplotlib.pyplot as plt\n",
    "import seaborn as sns"
   ]
  },
  {
   "cell_type": "markdown",
   "metadata": {},
   "source": [
    "### API Rest"
   ]
  },
  {
   "cell_type": "code",
   "execution_count": 2,
   "metadata": {},
   "outputs": [],
   "source": [
    "#Extracción de datos desde API Rest: transacciones de las últimas 24h (.json).\n",
    "source = \"https://www.bitstamp.net/api/v2/transactions/btceur/?time=day\"\n",
    "exchangeTrans = requests.get(source)\n",
    "json_exchangeTrans = exchangeTrans.json()"
   ]
  },
  {
   "cell_type": "code",
   "execution_count": 3,
   "metadata": {},
   "outputs": [
    {
     "data": {
      "text/plain": [
       "UnixTime    object\n",
       "Exchange    object\n",
       "dtype: object"
      ]
     },
     "metadata": {},
     "output_type": "display_data"
    },
    {
     "data": {
      "text/html": [
       "<div>\n",
       "<style scoped>\n",
       "    .dataframe tbody tr th:only-of-type {\n",
       "        vertical-align: middle;\n",
       "    }\n",
       "\n",
       "    .dataframe tbody tr th {\n",
       "        vertical-align: top;\n",
       "    }\n",
       "\n",
       "    .dataframe thead th {\n",
       "        text-align: right;\n",
       "    }\n",
       "</style>\n",
       "<table border=\"1\" class=\"dataframe\">\n",
       "  <thead>\n",
       "    <tr style=\"text-align: right;\">\n",
       "      <th></th>\n",
       "      <th>UnixTime</th>\n",
       "      <th>Exchange</th>\n",
       "    </tr>\n",
       "  </thead>\n",
       "  <tbody>\n",
       "    <tr>\n",
       "      <th>0</th>\n",
       "      <td>1549929391</td>\n",
       "      <td>3192.28</td>\n",
       "    </tr>\n",
       "    <tr>\n",
       "      <th>1</th>\n",
       "      <td>1549929383</td>\n",
       "      <td>3192.28</td>\n",
       "    </tr>\n",
       "    <tr>\n",
       "      <th>2</th>\n",
       "      <td>1549929382</td>\n",
       "      <td>3192.28</td>\n",
       "    </tr>\n",
       "    <tr>\n",
       "      <th>3</th>\n",
       "      <td>1549929354</td>\n",
       "      <td>3192.28</td>\n",
       "    </tr>\n",
       "    <tr>\n",
       "      <th>4</th>\n",
       "      <td>1549929340</td>\n",
       "      <td>3192.27</td>\n",
       "    </tr>\n",
       "  </tbody>\n",
       "</table>\n",
       "</div>"
      ],
      "text/plain": [
       "     UnixTime Exchange\n",
       "0  1549929391  3192.28\n",
       "1  1549929383  3192.28\n",
       "2  1549929382  3192.28\n",
       "3  1549929354  3192.28\n",
       "4  1549929340  3192.27"
      ]
     },
     "metadata": {},
     "output_type": "display_data"
    }
   ],
   "source": [
    "#Creación del DataFrame, definición de columnas y eliminación de columnas que no se utilizarán en el proyecto.\n",
    "col_clean = ['amount','tid','type']\n",
    "crypto_ex = pd.DataFrame(json_exchangeTrans).drop(col_clean, axis=1).rename(index=int, columns={\"date\":\"UnixTime\",\n",
    "                                                                                               \"price\":\"Exchange\"})\n",
    "display(crypto_ex.dtypes,crypto_ex.head())"
   ]
  },
  {
   "cell_type": "code",
   "execution_count": 4,
   "metadata": {},
   "outputs": [
    {
     "data": {
      "text/plain": [
       "UnixTime      int64\n",
       "Exchange    float64\n",
       "dtype: object"
      ]
     },
     "metadata": {},
     "output_type": "display_data"
    },
    {
     "data": {
      "text/html": [
       "<div>\n",
       "<style scoped>\n",
       "    .dataframe tbody tr th:only-of-type {\n",
       "        vertical-align: middle;\n",
       "    }\n",
       "\n",
       "    .dataframe tbody tr th {\n",
       "        vertical-align: top;\n",
       "    }\n",
       "\n",
       "    .dataframe thead th {\n",
       "        text-align: right;\n",
       "    }\n",
       "</style>\n",
       "<table border=\"1\" class=\"dataframe\">\n",
       "  <thead>\n",
       "    <tr style=\"text-align: right;\">\n",
       "      <th></th>\n",
       "      <th>UnixTime</th>\n",
       "      <th>Exchange</th>\n",
       "    </tr>\n",
       "  </thead>\n",
       "  <tbody>\n",
       "    <tr>\n",
       "      <th>0</th>\n",
       "      <td>1549929391</td>\n",
       "      <td>3192.28</td>\n",
       "    </tr>\n",
       "    <tr>\n",
       "      <th>1</th>\n",
       "      <td>1549929383</td>\n",
       "      <td>3192.28</td>\n",
       "    </tr>\n",
       "    <tr>\n",
       "      <th>2</th>\n",
       "      <td>1549929382</td>\n",
       "      <td>3192.28</td>\n",
       "    </tr>\n",
       "    <tr>\n",
       "      <th>3</th>\n",
       "      <td>1549929354</td>\n",
       "      <td>3192.28</td>\n",
       "    </tr>\n",
       "    <tr>\n",
       "      <th>4</th>\n",
       "      <td>1549929340</td>\n",
       "      <td>3192.27</td>\n",
       "    </tr>\n",
       "  </tbody>\n",
       "</table>\n",
       "</div>"
      ],
      "text/plain": [
       "     UnixTime  Exchange\n",
       "0  1549929391   3192.28\n",
       "1  1549929383   3192.28\n",
       "2  1549929382   3192.28\n",
       "3  1549929354   3192.28\n",
       "4  1549929340   3192.27"
      ]
     },
     "metadata": {},
     "output_type": "display_data"
    },
    {
     "data": {
      "text/plain": [
       "5294"
      ]
     },
     "metadata": {},
     "output_type": "display_data"
    }
   ],
   "source": [
    "#Transformación de los tipos de datos a valores numéricos.\n",
    "col_type = ['UnixTime','Exchange']\n",
    "crypto_ex[col_type] = crypto_ex[col_type].apply(pd.to_numeric, errors='coerce')\n",
    "display(crypto_ex.dtypes,crypto_ex.head(),len(crypto_ex))"
   ]
  },
  {
   "cell_type": "code",
   "execution_count": 5,
   "metadata": {},
   "outputs": [],
   "source": [
    "#Se guarda fichero .csv en output con los datos \"en bruto\".\n",
    "crypto_ex.to_csv('./output/crypto_ex.csv', index=False, encoding = 'utf-8')"
   ]
  },
  {
   "cell_type": "code",
   "execution_count": 6,
   "metadata": {},
   "outputs": [
    {
     "data": {
      "text/html": [
       "<div>\n",
       "<style scoped>\n",
       "    .dataframe tbody tr th:only-of-type {\n",
       "        vertical-align: middle;\n",
       "    }\n",
       "\n",
       "    .dataframe tbody tr th {\n",
       "        vertical-align: top;\n",
       "    }\n",
       "\n",
       "    .dataframe thead th {\n",
       "        text-align: right;\n",
       "    }\n",
       "</style>\n",
       "<table border=\"1\" class=\"dataframe\">\n",
       "  <thead>\n",
       "    <tr style=\"text-align: right;\">\n",
       "      <th></th>\n",
       "      <th>Exchange</th>\n",
       "    </tr>\n",
       "  </thead>\n",
       "  <tbody>\n",
       "    <tr>\n",
       "      <th>0</th>\n",
       "      <td>3192.25</td>\n",
       "    </tr>\n",
       "    <tr>\n",
       "      <th>1</th>\n",
       "      <td>3192.28</td>\n",
       "    </tr>\n",
       "    <tr>\n",
       "      <th>2</th>\n",
       "      <td>3192.39</td>\n",
       "    </tr>\n",
       "    <tr>\n",
       "      <th>3</th>\n",
       "      <td>3192.31</td>\n",
       "    </tr>\n",
       "    <tr>\n",
       "      <th>4</th>\n",
       "      <td>3192.37</td>\n",
       "    </tr>\n",
       "  </tbody>\n",
       "</table>\n",
       "</div>"
      ],
      "text/plain": [
       "   Exchange\n",
       "0   3192.25\n",
       "1   3192.28\n",
       "2   3192.39\n",
       "3   3192.31\n",
       "4   3192.37"
      ]
     },
     "metadata": {},
     "output_type": "display_data"
    },
    {
     "data": {
      "text/plain": [
       "1523"
      ]
     },
     "metadata": {},
     "output_type": "display_data"
    }
   ],
   "source": [
    "#Se eliminan valores repetidos tanto de precio ('Exchange') como de tiempo ('UnixTime').\n",
    "crypto_ex1 = crypto_ex.drop_duplicates(subset='Exchange', keep=\"last\").sort_index()\n",
    "crypto_ex2 = crypto_ex1.drop_duplicates(subset='UnixTime', keep=\"last\").sort_index().reset_index().drop(['index','UnixTime'],axis=1)\n",
    "#Se elimina columna 'UnixTime' para efectos de visualización.\n",
    "display(crypto_ex2.head(),len(crypto_ex2))\n",
    "#NOTA: el valor en el index=0 es el valor más reciente en el tiempo."
   ]
  },
  {
   "cell_type": "code",
   "execution_count": 7,
   "metadata": {},
   "outputs": [
    {
     "data": {
      "text/html": [
       "<div>\n",
       "<style scoped>\n",
       "    .dataframe tbody tr th:only-of-type {\n",
       "        vertical-align: middle;\n",
       "    }\n",
       "\n",
       "    .dataframe tbody tr th {\n",
       "        vertical-align: top;\n",
       "    }\n",
       "\n",
       "    .dataframe thead th {\n",
       "        text-align: right;\n",
       "    }\n",
       "</style>\n",
       "<table border=\"1\" class=\"dataframe\">\n",
       "  <thead>\n",
       "    <tr style=\"text-align: right;\">\n",
       "      <th></th>\n",
       "      <th>count</th>\n",
       "      <th>mean</th>\n",
       "      <th>std</th>\n",
       "      <th>min</th>\n",
       "      <th>25%</th>\n",
       "      <th>50%</th>\n",
       "      <th>75%</th>\n",
       "      <th>max</th>\n",
       "      <th>IQR</th>\n",
       "    </tr>\n",
       "  </thead>\n",
       "  <tbody>\n",
       "    <tr>\n",
       "      <th>Exchange</th>\n",
       "      <td>1523.0</td>\n",
       "      <td>3189.1265</td>\n",
       "      <td>9.551814</td>\n",
       "      <td>3168.58</td>\n",
       "      <td>3180.785</td>\n",
       "      <td>3190.47</td>\n",
       "      <td>3196.315</td>\n",
       "      <td>3228.12</td>\n",
       "      <td>15.53</td>\n",
       "    </tr>\n",
       "  </tbody>\n",
       "</table>\n",
       "</div>"
      ],
      "text/plain": [
       "           count       mean       std      min       25%      50%       75%  \\\n",
       "Exchange  1523.0  3189.1265  9.551814  3168.58  3180.785  3190.47  3196.315   \n",
       "\n",
       "              max    IQR  \n",
       "Exchange  3228.12  15.53  "
      ]
     },
     "metadata": {},
     "output_type": "display_data"
    }
   ],
   "source": [
    "#Se generan valores estadisticos del nuevo DataFrame.\n",
    "stats_ex = crypto_ex2.describe().transpose()\n",
    "stats_ex['IQR'] = stats_ex['75%'] - stats_ex['25%']\n",
    "display(stats_ex)"
   ]
  },
  {
   "cell_type": "code",
   "execution_count": 8,
   "metadata": {},
   "outputs": [
    {
     "name": "stdout",
     "output_type": "stream",
     "text": [
      "El porcentaje de outliers es de: 0.53 %\n"
     ]
    }
   ],
   "source": [
    "#Se calcula el porcentaje de outliers\n",
    "out_ex = pd.DataFrame(columns=crypto_ex2.columns)\n",
    "for col in stats_ex.index:\n",
    "    iqr = stats_ex.at[col,'IQR']\n",
    "    cutoff = iqr * 1.5\n",
    "    lower = stats_ex.at[col,'25%'] - cutoff\n",
    "    upper = stats_ex.at[col,'75%'] + cutoff\n",
    "    results = crypto_ex2[(crypto_ex2[col] < lower) | \n",
    "                   (crypto_ex2[col] > upper)].copy()\n",
    "    out_ex = out_ex.append(results)\n",
    "print('El porcentaje de outliers es de:',\"{0:.2f}\".format(len(out_ex)/len(crypto_ex2)*100),'%')"
   ]
  },
  {
   "cell_type": "code",
   "execution_count": 9,
   "metadata": {},
   "outputs": [
    {
     "name": "stdout",
     "output_type": "stream",
     "text": [
      "y=-0.000224x+(3198.790697) \n",
      "\n"
     ]
    },
    {
     "data": {
      "text/plain": [
       "<matplotlib.axes._subplots.AxesSubplot at 0x7fe685d17320>"
      ]
     },
     "execution_count": 9,
     "metadata": {},
     "output_type": "execute_result"
    },
    {
     "data": {
      "image/png": "[encoded data removed]",
      "text/plain": [
       "<Figure size 432x288 with 1 Axes>"
      ]
     },
     "metadata": {
      "needs_background": "light"
     },
     "output_type": "display_data"
    }
   ],
   "source": [
    "#Se calcula y grafica linea de tendencia. Se establece una escala \"visual\" de 24h en segundos.\n",
    "time_exchange = np.arange(0,86400,(86400/len(crypto_ex2)))\n",
    "time_ex_pandas = pd.DataFrame(time_exchange)\n",
    "crypto_reg_ex = time_ex_pandas.join(crypto_ex2).rename(index=int, columns={0:\"Time\"})\n",
    "#Cálculo de la línea de tendencia\n",
    "z = np.polyfit(time_exchange, crypto_ex2['Exchange'], 1)\n",
    "p = np.poly1d(z)\n",
    "print(\"y=%.6fx+(%.6f)\"%(z[0],z[1]),'\\n')\n",
    "#Gráfico\n",
    "sns.regplot(x=\"Time\", y=\"Exchange\", data=crypto_reg_ex)"
   ]
  },
  {
   "cell_type": "markdown",
   "metadata": {},
   "source": [
    "### Web Scraping"
   ]
  },
  {
   "cell_type": "code",
   "execution_count": 20,
   "metadata": {},
   "outputs": [
    {
     "data": {
      "text/plain": [
       "Permutas    float64\n",
       "dtype: object"
      ]
     },
     "metadata": {},
     "output_type": "display_data"
    },
    {
     "data": {
      "text/html": [
       "<div>\n",
       "<style scoped>\n",
       "    .dataframe tbody tr th:only-of-type {\n",
       "        vertical-align: middle;\n",
       "    }\n",
       "\n",
       "    .dataframe tbody tr th {\n",
       "        vertical-align: top;\n",
       "    }\n",
       "\n",
       "    .dataframe thead th {\n",
       "        text-align: right;\n",
       "    }\n",
       "</style>\n",
       "<table border=\"1\" class=\"dataframe\">\n",
       "  <thead>\n",
       "    <tr style=\"text-align: right;\">\n",
       "      <th></th>\n",
       "      <th>Permutas</th>\n",
       "    </tr>\n",
       "  </thead>\n",
       "  <tbody>\n",
       "    <tr>\n",
       "      <th>0</th>\n",
       "      <td>3218.12</td>\n",
       "    </tr>\n",
       "    <tr>\n",
       "      <th>1</th>\n",
       "      <td>3223.88</td>\n",
       "    </tr>\n",
       "    <tr>\n",
       "      <th>2</th>\n",
       "      <td>3236.54</td>\n",
       "    </tr>\n",
       "    <tr>\n",
       "      <th>3</th>\n",
       "      <td>3248.68</td>\n",
       "    </tr>\n",
       "    <tr>\n",
       "      <th>4</th>\n",
       "      <td>3248.99</td>\n",
       "    </tr>\n",
       "  </tbody>\n",
       "</table>\n",
       "</div>"
      ],
      "text/plain": [
       "   Permutas\n",
       "0   3218.12\n",
       "1   3223.88\n",
       "2   3236.54\n",
       "3   3248.68\n",
       "4   3248.99"
      ]
     },
     "metadata": {},
     "output_type": "display_data"
    },
    {
     "data": {
      "text/plain": [
       "250"
      ]
     },
     "metadata": {},
     "output_type": "display_data"
    }
   ],
   "source": [
    "#Extracción de datos del HTML DOM. Se hace un loop por cada página del url.\n",
    "url_pattern = 'https://localbitcoins.com/es/buy-bitcoins-online/eur/?page=%s'\n",
    "n = 10\n",
    "scrap = []\n",
    "for p in range(1,n+1):\n",
    "    scrap_localInfo = []\n",
    "    localInfo = requests.get(url_pattern%p)\n",
    "#Uso del módulo BeautifulSoup.\n",
    "    soup = BeautifulSoup(localInfo.text, 'html.parser')\n",
    "    for a in soup.find_all('td', class_=\"column-price\"):\n",
    "        scrap_localInfo.append(a.get_text('column-price'))\n",
    "#Loop para eliminar caracteres indeseados.\n",
    "    for i in range(len(scrap_localInfo)):\n",
    "        scrap_localInfo[i] = re.sub('\\s','',scrap_localInfo[i]).replace('EUR', '').replace(',','')\n",
    "#Loop para transformar los valores a tipo float.\n",
    "    for e in range(len(scrap_localInfo)):\n",
    "        scrap_localInfo[e] = float(scrap_localInfo[e])\n",
    "    scrap.append(scrap_localInfo)\n",
    "#Se incluyen todos los valores en una única lista.\n",
    "local = [e for x in scrap for e in x]\n",
    "#Se transforma la lista en DataFrame (equivalente a 'crypto_ex2')\n",
    "crypto_local = pd.DataFrame(local).rename(index=int, columns={0:\"Permutas\"})\n",
    "display(crypto_local.dtypes,crypto_local.head(),len(crypto_local))\n",
    "#NOTA: el valor en el index=0 es el valor más reciente en el tiempo."
   ]
  },
  {
   "cell_type": "code",
   "execution_count": 21,
   "metadata": {},
   "outputs": [],
   "source": [
    "#Se guarda fichero .csv en output con los datos \"en bruto\".\n",
    "crypto_local.to_csv('./output/crypto_local.csv', index=False, encoding = 'utf-8')"
   ]
  },
  {
   "cell_type": "code",
   "execution_count": 22,
   "metadata": {},
   "outputs": [
    {
     "data": {
      "text/html": [
       "<div>\n",
       "<style scoped>\n",
       "    .dataframe tbody tr th:only-of-type {\n",
       "        vertical-align: middle;\n",
       "    }\n",
       "\n",
       "    .dataframe tbody tr th {\n",
       "        vertical-align: top;\n",
       "    }\n",
       "\n",
       "    .dataframe thead th {\n",
       "        text-align: right;\n",
       "    }\n",
       "</style>\n",
       "<table border=\"1\" class=\"dataframe\">\n",
       "  <thead>\n",
       "    <tr style=\"text-align: right;\">\n",
       "      <th></th>\n",
       "      <th>count</th>\n",
       "      <th>mean</th>\n",
       "      <th>std</th>\n",
       "      <th>min</th>\n",
       "      <th>25%</th>\n",
       "      <th>50%</th>\n",
       "      <th>75%</th>\n",
       "      <th>max</th>\n",
       "      <th>IQR</th>\n",
       "    </tr>\n",
       "  </thead>\n",
       "  <tbody>\n",
       "    <tr>\n",
       "      <th>Permutas</th>\n",
       "      <td>250.0</td>\n",
       "      <td>3579.32744</td>\n",
       "      <td>212.526946</td>\n",
       "      <td>3218.12</td>\n",
       "      <td>3405.96</td>\n",
       "      <td>3522.995</td>\n",
       "      <td>3761.69</td>\n",
       "      <td>3986.75</td>\n",
       "      <td>355.73</td>\n",
       "    </tr>\n",
       "  </tbody>\n",
       "</table>\n",
       "</div>"
      ],
      "text/plain": [
       "          count        mean         std      min      25%       50%      75%  \\\n",
       "Permutas  250.0  3579.32744  212.526946  3218.12  3405.96  3522.995  3761.69   \n",
       "\n",
       "              max     IQR  \n",
       "Permutas  3986.75  355.73  "
      ]
     },
     "metadata": {},
     "output_type": "display_data"
    }
   ],
   "source": [
    "#Se generan valores estadisticos del nuevo DataFrame.\n",
    "stats_loc = crypto_local.describe().transpose()\n",
    "stats_loc['IQR'] = stats_loc['75%'] - stats_loc['25%']\n",
    "display(stats_loc)"
   ]
  },
  {
   "cell_type": "code",
   "execution_count": 23,
   "metadata": {},
   "outputs": [
    {
     "name": "stdout",
     "output_type": "stream",
     "text": [
      "El porcentaje de outliers es de: 0.00 %\n"
     ]
    }
   ],
   "source": [
    "#Se calcula el porcentaje de outliers.\n",
    "out_loc = pd.DataFrame(columns=crypto_local.columns)\n",
    "for col in stats_loc.index:\n",
    "    iqr = stats_loc.at[col,'IQR']\n",
    "    cutoff = iqr * 1.5\n",
    "    lower = stats_loc.at[col,'25%'] - cutoff\n",
    "    upper = stats_loc.at[col,'75%'] + cutoff\n",
    "    results = crypto_local[(crypto_local[col] < lower) | \n",
    "                   (crypto_local[col] > upper)].copy()\n",
    "    out_loc = out_loc.append(results)\n",
    "print('El porcentaje de outliers es de:',\"{0:.2f}\".format(len(out_loc)/len(crypto_ex2)*100),'%')"
   ]
  },
  {
   "cell_type": "code",
   "execution_count": 24,
   "metadata": {},
   "outputs": [
    {
     "name": "stdout",
     "output_type": "stream",
     "text": [
      "y=0.008445x+(3215.972549) \n",
      "\n"
     ]
    },
    {
     "data": {
      "text/plain": [
       "<matplotlib.axes._subplots.AxesSubplot at 0x7fe6833abcc0>"
      ]
     },
     "execution_count": 24,
     "metadata": {},
     "output_type": "execute_result"
    },
    {
     "data": {
      "image/png": "[encoded data removed]",
      "text/plain": [
       "<Figure size 432x288 with 1 Axes>"
      ]
     },
     "metadata": {
      "needs_background": "light"
     },
     "output_type": "display_data"
    }
   ],
   "source": [
    "#Se calcula y grafica linea de tendencia. Se establece una escala \"visual\" de 24h en segundos.\n",
    "time_local = np.arange(0,86400,(86400/len(crypto_local)))\n",
    "time_loc_pandas = pd.DataFrame(time_local)\n",
    "crypto_reg_loc = time_loc_pandas.join(crypto_local).rename(index=int, columns={0:\"Time\"})\n",
    "#Cálculo de la línea de tendencia\n",
    "z = np.polyfit(time_local, crypto_local['Permutas'], 1)\n",
    "p = np.poly1d(z)\n",
    "print(\"y=%.6fx+(%.6f)\"%(z[0],z[1]),'\\n')\n",
    "#Gráfico\n",
    "sns.regplot(x=\"Time\", y=\"Permutas\", data=crypto_reg_loc)"
   ]
  },
  {
   "cell_type": "markdown",
   "metadata": {},
   "source": [
    "### CONCLUSIONES DEL USO DE LAS HERRAMIENTAS API REST Y WEB SCRAPING\n",
    "La API REST seleccionada ha sido bastante cómoda aunque no fue la primera opción. La primera opción fue la API de Binance que si que era más compleja ya que este Exchange es de los más grandes del mundo y maneja cientos de AltCoins, mientras que Bitstamp solo maneja 5. No obstante, se optó por usar Bitstamp tanto por su mayor facilidad de uso y simpleza en los parámetros como por aportar los datos en EUR directamente lo que ahorra el paso de trasladar los valores de USD a EUR.\n",
    "En cuanto al WEB SCRAPING, fue necesario realizar varios loops hasta obtener datos con los que se pudiese trabajar. Asimismo, se detectó que se extraían valores \"fantasmas\" tras superar el número de páginas listadas. No obstante, se ha optado por no corregir este error ya que se ha observado que las ofertas hacia las páginas finales suelen ser ofertas \"marginales\" (el problema se podría resolver estableciendo una condición de 'break' justo después del loop donde se aplica la función de Beautiful Soup, poniendo una condición de parar si no se obtienen menos de 50 registros).\n",
    "La relación entre los datos de las dos fuentes se ha realizado tanto haciendo ciertas consideraciones (un tanto alegres) en el eje temporal como con análisis estadísticos."
   ]
  },
  {
   "cell_type": "markdown",
   "metadata": {},
   "source": [
    "### CONCLUSIONES DEL ANÁLISIS DE LOS DATOS\n",
    "Se ha detectado una desviación importante entre la tendencia de los datos de trading y las permutas P2P (e.g.: la pendiente de la línea de tendencia de los valores de trading es ligeramente negativa mientras que en el caso de los valores P2P es ligeramente positiva). Las posibles causas de dicha desviación son:\n",
    "- Excesivas simplificaciones en el análisis estadístico (en particular en el eje de las abscisas, i.e.: tiempo).\n",
    "- Fuerte lateralización del mercado de las criptomonedas.\n",
    "- Aunmento de la crisis financiera en los países de mayor uso de la plataforma P2P lo que lleva a mayor epeculación.\n",
    "Sin embargo, una posible aplicación del lógica planteada en este proyecto sería el establecimiento de recomendadores de transacciones en base tanto a precio como posición en el listado de ofertas en las permutas (i.e.: el programa podría arrojar el número límite de ofertas -precio- a tener en consideración a la hora de hacer transacciones P2P, ya que se puede detectar como el IQR aumenta según se aumenta el número de páginas \"scrapeadas\"). Asimismo, también sería posible detectar manipulaciones en el mercado de trading en épocas de alta volatilidad."
   ]
  }
 ],
 "metadata": {
  "kernelspec": {
   "display_name": "Python 3",
   "language": "python",
   "name": "python3"
  },
  "language_info": {
   "codemirror_mode": {
    "name": "ipython",
    "version": 3
   },
   "file_extension": ".py",
   "mimetype": "text/x-python",
   "name": "python",
   "nbconvert_exporter": "python",
   "pygments_lexer": "ipython3",
   "version": "3.6.7"
  }
 },
 "nbformat": 4,
 "nbformat_minor": 2
}
