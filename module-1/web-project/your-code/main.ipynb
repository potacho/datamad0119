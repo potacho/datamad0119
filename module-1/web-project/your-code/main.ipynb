{
 "cells": [
  {
   "cell_type": "markdown",
   "metadata": {},
   "source": [
    "## Web Project"
   ]
  },
  {
   "cell_type": "code",
   "execution_count": 21,
   "metadata": {},
   "outputs": [],
   "source": [
    "from dotenv import load_dotenv\n",
    "import os\n",
    "import json\n",
    "import requests\n",
    "import pandas as pd"
   ]
  },
  {
   "cell_type": "code",
   "execution_count": 37,
   "metadata": {},
   "outputs": [
    {
     "name": "stdout",
     "output_type": "stream",
     "text": [
      "             price      symbol\n",
      "0       0.03256200      ETHBTC\n",
      "1       0.01219400      LTCBTC\n",
      "2       0.00240550      BNBBTC\n",
      "3       0.00208700      NEOBTC\n",
      "4       0.01634200     QTUMETH\n",
      "5       0.02320000      EOSETH\n",
      "6       0.00015881      SNTETH\n",
      "7       0.00434000      BNTETH\n",
      "8       0.07908100      BCCBTC\n",
      "9       0.00056300      GASBTC\n",
      "10      0.07387500      BNBETH\n",
      "11   3663.97000000     BTCUSDT\n",
      "12    119.31000000     ETHUSDT\n",
      "13      0.00041400      HSRBTC\n",
      "14      0.00106740      OAXETH\n",
      "15      0.00009451      DNTETH\n",
      "16      0.01780100      MCOETH\n",
      "17      0.00166300      ICNETH\n",
      "18      0.00058300      MCOBTC\n",
      "19      0.00027760      WTCBTC\n",
      "20      0.00848500      WTCETH\n",
      "21      0.00001485      LRCBTC\n",
      "22      0.00045622      LRCETH\n",
      "23      0.00053400     QTUMBTC\n",
      "24      0.00000391     YOYOBTC\n",
      "25      0.00031400      OMGBTC\n",
      "26      0.00963900      OMGETH\n",
      "27      0.00006757      ZRXBTC\n",
      "28      0.00207200      ZRXETH\n",
      "29      0.00022010    STRATBTC\n",
      "..             ...         ...\n",
      "428     7.55300000     NEOTUSD\n",
      "429     0.08424000      TRXXRP\n",
      "430    15.82600000      XZCXRP\n",
      "431     0.99920000     PAXTUSD\n",
      "432     0.99850000    USDCTUSD\n",
      "433     1.00000000     USDCPAX\n",
      "434     0.46210000    LINKUSDT\n",
      "435     0.45620000    LINKTUSD\n",
      "436     0.46190000     LINKPAX\n",
      "437     0.45700000    LINKUSDC\n",
      "438     2.60480000   WAVESUSDT\n",
      "439     2.55950000   WAVESTUSD\n",
      "440     2.52430000    WAVESPAX\n",
      "441     2.55080000   WAVESUSDC\n",
      "442   126.08000000  BCHABCTUSD\n",
      "443   126.23000000   BCHABCPAX\n",
      "444   126.09000000  BCHABCUSDC\n",
      "445    65.16000000   BCHSVTUSD\n",
      "446    65.21000000    BCHSVPAX\n",
      "447    65.44000000   BCHSVUSDC\n",
      "448    44.21000000     LTCTUSD\n",
      "449    43.61000000      LTCPAX\n",
      "450    44.17000000     LTCUSDC\n",
      "451     0.02601000      TRXPAX\n",
      "452     0.02615000     TRXUSDC\n",
      "453     0.00000023      BTTBTC\n",
      "454     0.00009354      BTTBNB\n",
      "455     0.00082480     BTTUSDT\n",
      "456     8.63000000     BNBUSDS\n",
      "457  3618.42000000     BTCUSDS\n",
      "\n",
      "[458 rows x 2 columns]\n"
     ]
    }
   ],
   "source": [
    "#Primera prueba API (allPrices)\n",
    "source = \"https://api.binance.com/api/v1/ticker/allPrices\"\n",
    "exchangeInfo = requests.get(source)\n",
    "json_exchangeInfo = exchangeInfo.json()\n",
    "sym = list(map(lambda x: {\"symbol\":x[\"symbol\"],\"price\":x[\"price\"]}, json_exchangeInfo))\n",
    "crypto = list({v[\"symbol\"]:v for v in sym}.values())\n",
    "#print(sym)\n",
    "crypto_all = pd.DataFrame(sym)\n",
    "print(crypto_all)"
   ]
  },
  {
   "cell_type": "code",
   "execution_count": 40,
   "metadata": {},
   "outputs": [],
   "source": [
    "source = \"https://api.binance.com/api/v1/ticker/bookTicker\"\n",
    "exchangeInfo = requests.get(source)\n",
    "json_exchangeInfo = exchangeInfo.json()\n",
    "#print(json_exchangeInfo)"
   ]
  },
  {
   "cell_type": "code",
   "execution_count": 41,
   "metadata": {},
   "outputs": [
    {
     "name": "stdout",
     "output_type": "stream",
     "text": [
      "          askPrice      symbol\n",
      "0       0.03256500      ETHBTC\n",
      "1       0.01220300      LTCBTC\n",
      "2       0.00240550      BNBBTC\n",
      "3       0.00208800      NEOBTC\n",
      "4       0.01635200     QTUMETH\n",
      "5       0.02323500      EOSETH\n",
      "6       0.00015881      SNTETH\n",
      "7       0.00433900      BNTETH\n",
      "8       0.00000000      BCCBTC\n",
      "9       0.00056600      GASBTC\n",
      "10      0.07387500      BNBETH\n",
      "11   3664.00000000     BTCUSDT\n",
      "12    119.35000000     ETHUSDT\n",
      "13      0.00000000      HSRBTC\n",
      "14      0.00106700      OAXETH\n",
      "15      0.00009459      DNTETH\n",
      "16      0.01788200      MCOETH\n",
      "17      0.00000000      ICNETH\n",
      "18      0.00058400      MCOBTC\n",
      "19      0.00027730      WTCBTC\n",
      "20      0.00851200      WTCETH\n",
      "21      0.00001486      LRCBTC\n",
      "22      0.00045622      LRCETH\n",
      "23      0.00053300     QTUMBTC\n",
      "24      0.00000391     YOYOBTC\n",
      "25      0.00031400      OMGBTC\n",
      "26      0.00966400      OMGETH\n",
      "27      0.00006762      ZRXBTC\n",
      "28      0.00207799      ZRXETH\n",
      "29      0.00022020    STRATBTC\n",
      "..             ...         ...\n",
      "428     7.56900000     NEOTUSD\n",
      "429     0.08450000      TRXXRP\n",
      "430    15.88900000      XZCXRP\n",
      "431     0.99920000     PAXTUSD\n",
      "432     1.00000000    USDCTUSD\n",
      "433     1.00090000     USDCPAX\n",
      "434     0.46410000    LINKUSDT\n",
      "435     0.45850000    LINKTUSD\n",
      "436     0.46200000     LINKPAX\n",
      "437     0.45970000    LINKUSDC\n",
      "438     2.60800000   WAVESUSDT\n",
      "439     2.58130000   WAVESTUSD\n",
      "440     2.59210000    WAVESPAX\n",
      "441     2.59020000   WAVESUSDC\n",
      "442   126.58000000  BCHABCTUSD\n",
      "443   126.88000000   BCHABCPAX\n",
      "444   126.89000000  BCHABCUSDC\n",
      "445    65.26000000   BCHSVTUSD\n",
      "446    65.31000000    BCHSVPAX\n",
      "447    65.31000000   BCHSVUSDC\n",
      "448    44.27000000     LTCTUSD\n",
      "449    44.30000000      LTCPAX\n",
      "450    44.17000000     LTCUSDC\n",
      "451     0.02614000      TRXPAX\n",
      "452     0.02615000     TRXUSDC\n",
      "453     0.00000023      BTTBTC\n",
      "454     0.00009391      BTTBNB\n",
      "455     0.00082500     BTTUSDT\n",
      "456     8.69900000     BNBUSDS\n",
      "457  3618.42000000     BTCUSDS\n",
      "\n",
      "[458 rows x 2 columns]\n"
     ]
    }
   ],
   "source": [
    "sym = list(map(lambda x: {\"symbol\":x[\"symbol\"],\"askPrice\":x[\"askPrice\"]}, json_exchangeInfo))\n",
    "#print(sym)\n",
    "crypto_book = pd.DataFrame(sym)\n",
    "print(crypto_book)"
   ]
  },
  {
   "cell_type": "code",
   "execution_count": null,
   "metadata": {},
   "outputs": [],
   "source": []
  }
 ],
 "metadata": {
  "kernelspec": {
   "display_name": "Python 3",
   "language": "python",
   "name": "python3"
  },
  "language_info": {
   "codemirror_mode": {
    "name": "ipython",
    "version": 3
   },
   "file_extension": ".py",
   "mimetype": "text/x-python",
   "name": "python",
   "nbconvert_exporter": "python",
   "pygments_lexer": "ipython3",
   "version": "3.6.7"
  }
 },
 "nbformat": 4,
 "nbformat_minor": 2
}
