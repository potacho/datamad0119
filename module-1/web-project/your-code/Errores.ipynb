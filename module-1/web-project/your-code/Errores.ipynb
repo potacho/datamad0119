{
 "cells": [
  {
   "cell_type": "code",
   "execution_count": null,
   "metadata": {},
   "outputs": [],
   "source": [
    "class CryptoSpider:\n",
    "   \n",
    "    def __init__(self, url_pattern, pages_to_scrape=10, sleep_interval=-1, content_parser=None):\n",
    "        self.url_pattern = url_pattern\n",
    "        self.pages_to_scrape = pages_to_scrape\n",
    "        self.sleep_interval = sleep_interval\n",
    "        self.content_parser = content_parser\n",
    "\n",
    "\n",
    "    def scrape_url(self, url):\n",
    "        try:\n",
    "            response = requests.get(url, timeout=10)\n",
    "            if response.status_code < 300:\n",
    "                print('request was successful')\n",
    "            elif response.status_code >= 400 and response.status_code < 500:\n",
    "                print('request failed because the resource either does not exist or is forbidden')\n",
    "            else:\n",
    "                print('request failed because the response server encountered an error')\n",
    "            \n",
    "            result = self.content_parser(response.content)\n",
    "            self.output_results(result)\n",
    "        \n",
    "        except requests.exceptions.Timeout as e:\n",
    "            print(e)\n",
    "        except requests.exceptions.TooManyRedirects as e:\n",
    "            print(e)\n",
    "        except requests.exceptions.SSLError as e:\n",
    "            print(e)\n",
    "        except requests.exceptions.RequestException as e:\n",
    "            print(e)\n",
    "\n",
    "    #def output_results(self, result):\n",
    "    #    local_bitcoin = []\n",
    "    #    local_bitcoin.append(pd.Series(result))\n",
    "    #    return local_bitcoin\n",
    "\n",
    "    def kickstart(self):\n",
    "        for i in range(1, self.pages_to_scrape+1):\n",
    "            self.scrape_url(self.url_pattern % i)\n",
    "            if self.sleep_interval > 0:\n",
    "                time.sleep(self.sleep_interval)\n",
    "            \n",
    "            #finish = self.scrape_url(self.url_pattern % i)\n",
    "            #if finish == 0:\n",
    "            #    print(\"No more pages to scrape\")\n",
    "            #    break\n",
    "            #print(pages)\n",
    "    \n",
    "                \n",
    "URL_PATTERN = 'https://localbitcoins.com/es/buy-bitcoins-online/eur/?page=%s'\n",
    "PAGES_TO_SCRAPE = 2 \n",
    "SLEEP_INTERVAL = 0\n",
    "\n",
    "def quotes_parser(content):\n",
    "    soup = BeautifulSoup(content, \"lxml\")\n",
    "    prices = []\n",
    "    for a in soup.find_all('td', class_=\"column-price\"):\n",
    "        prices.append(a.get_text('column-price'))\n",
    "    for i in range(len(prices)):\n",
    "        prices[i] = re.sub('\\s','',prices[i]).replace('EUR', '').replace(',','')\n",
    "    for e in range(len(prices)):\n",
    "        prices[e] = float(prices[e])\n",
    "    return prices\n",
    "\n",
    "crypto_local = CryptoSpider(URL_PATTERN, PAGES_TO_SCRAPE, SLEEP_INTERVAL, content_parser=quotes_parser)\n",
    "local_crypto = crypto_local.kickstart()\n",
    "#local_bitcoin\n",
    "\n",
    "#local_bitcoins = pd.Series(result)\n"
   ]
  },
  {
   "cell_type": "code",
   "execution_count": null,
   "metadata": {},
   "outputs": [],
   "source": [
    "content = 'https://localbitcoins.com/es/buy-bitcoins-online/eur/?page=1'\n",
    "\n",
    "def quotes_parser(content):\n",
    "    soup = BeautifulSoup(content, \"lxml\")\n",
    "    prices = []\n",
    "    for a in soup.find_all('td', class_=\"column-price\"):\n",
    "        prices.append(a.get_text('column-price'))\n",
    "    for i in range(len(prices)):\n",
    "        prices[i] = re.sub('\\s','',prices[i]).replace('EUR', '').replace(',','')\n",
    "    for e in range(len(prices)):\n",
    "        prices[e] = float(prices[e])\n",
    "    return prices\n",
    "\n",
    "local = quotes_parser(content)\n",
    "print(local)"
   ]
  },
  {
   "cell_type": "code",
   "execution_count": null,
   "metadata": {},
   "outputs": [],
   "source": [
    "print(crypto_local)\n",
    "print(local_crypto)\n",
    "print(local_bitcoin)"
   ]
  },
  {
   "cell_type": "code",
   "execution_count": null,
   "metadata": {},
   "outputs": [],
   "source": [
    "url = 'https://api.microlink.io/?url=https%3A%2F%2Fwww.cheapfurniturenearme.com%2Fstore%2Flatest&video&palette&audio'\n",
    "response = requests.request(\"GET\", url)\n",
    "print(response.text)"
   ]
  }
 ],
 "metadata": {
  "kernelspec": {
   "display_name": "Python 3",
   "language": "python",
   "name": "python3"
  },
  "language_info": {
   "codemirror_mode": {
    "name": "ipython",
    "version": 3
   },
   "file_extension": ".py",
   "mimetype": "text/x-python",
   "name": "python",
   "nbconvert_exporter": "python",
   "pygments_lexer": "ipython3",
   "version": "3.6.7"
  }
 },
 "nbformat": 4,
 "nbformat_minor": 2
}
