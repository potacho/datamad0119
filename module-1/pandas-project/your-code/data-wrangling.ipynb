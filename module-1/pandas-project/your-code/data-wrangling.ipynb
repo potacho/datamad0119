{
 "cells": [
  {
   "cell_type": "markdown",
   "metadata": {},
   "source": [
    "# ![IronHack Logo](https://s3-eu-west-1.amazonaws.com/ih-materials/uploads/upload_d5c5793015fec3be28a63c4fa3dd4d55.png)\n",
    "\n",
    "# [pandas-project]\n",
    "\n",
    "## Octavio Garcia Moreno\n",
    "\n",
    "###### 30/01/2019\n",
    "\n",
    "\n"
   ]
  },
  {
   "cell_type": "markdown",
   "metadata": {},
   "source": [
    "## Análisis Inicial de los Datos\n",
    "Se realiza una codificación del archivo al formato utf-8 previo a su importación. El archivo GSAF5.csv es un fichero que contiene Global Shark Attack Incidents (5992 rows × 24 columns). Dicha información contiene los siguientes atributos (columnas):\n",
    "- Número de caso (**Case Number**): Identificador tipo object sin ningún valor a efectos de anáisis. BORRAR\n",
    "- Fecha (**Date**): Descripción del momento que ha ocurrido el evento. Es un tipo object muy variado que va desde la fecha exacta (i.e.: 23-Jul-16) hasta un momento indeterminado (i.e. World War II) o incluso 'No date'. PUEDE SERVIR PARA VER RECURRENCIAS.\n",
    "- Año (**Year**): Dato tipo entero que indica el año de ocurrencia del ataque. Se identifican valores que no se corresponden a años. SE PODRÍA ELIMINAR LOS VALORES SIN AÑO CORRECTO SEGUN CUANTOS SEAN.\n",
    "- Circunstancia (**Type**): Dato tipo object que describe las circunstancias en las que ha ocurrido el ataque. DETERMNAR CUANTOS SON LOS UNNPROVOKED Y HACER DOS GRUPOS DE ANÁLISIS.\n",
    "- Pais (**Country**): Dato tipo object que indica el país de ocurrencia. SOLO DEJARÍA ESTE DATO?\n",
    "- Area (**Área**): Dato tipo object que indica la región del pais. NO APORTA MUCHO (VER NULLS).\n",
    "- Localización (**Location**): Dato tipo object que indica el lugar exacto del evento. NO APORTA MUCHO (VER NULLS).\n",
    "- Actividad durante el ataque (**Activity**): Dato tipo object que indica la actividad que se estaba realizando durante el ataque. SE PODRIA CORRELACIONAR CON CIRCUNSTANCIA.\n",
    "- Nombre/Identificación (**Name**): Dato tipo object que identifica a la persona(s) atacadas. NO APORTA MUCHO PARA ANÁLISIS (¿BORRAR?). SE PODRÍA HACER UN ANÁLISIS DE CASOS MULTIPLES VS INDIVIDUOS.\n",
    "- Género (**Sex**): Dato tipo object que identifica el sexo de la victima. VER NULLS (CASI NINGUNA MUJER?)\n",
    "- Edad (**Age**): Dato tipo object que indica la edad de la víctima. Hay valores no precisos como '60s' y muchos nulos.\n",
    "- Tipo de Lesión (**Injury**): Dato tipo object donde se describe el tipo de lesión provocada. Se correlaciona con 'Circunstancia' y 'Fatalidad'. \n",
    "- Fatalidad (**Fatal (Y/N**): Dato tipo object que indica 'Y/N'. CONVERTIRLO EN BOOLEANO O LIMPIARLO PARA DIVIDIR.\n",
    "- Hora (**Time**): Dato tipo object que indica el momento del día en que ocurrió el ataque. Va desde una hora concreta (i.e.: 13h00) hasta un momento del día (i.e.: Afternoon).\n",
    "- Tipo de Tiburón (**Species**): Dato tipo object que indica el tipo de tiburón y la cantidad de los mismos. MUY VARIADO...NO APORTA MUCHO PARA ANÁLISIS.\n",
    "- Fuente (**Investigator or Source**): Dato tipo object que describe la fuente de la información (persona o medio informativo). NO APORTA MUCHO - BORRAR \n",
    "- Documento asociado (**pdf**): Dato tipo object con el nombre del fichero .pdf con la información sobre el ataque. Se correlaciona con 'href formula', 'href', 'Case Number.1', 'Case Number.2'. NO APORTA MUCHO - BORRAR \n",
    "- Enlace Informativo (**href formula**): Dato tipo object con el enlace al fichero .pdf con la información sobre el ataque. Se correlaciona con 'pdf', 'href', 'Case Number.1', 'Case Number.2'. NO APORTA MUCHO - BORRAR \n",
    "- Enlace Informativo (**href**): Repite la información de 'href formula'. Probablemente se trate de un Excel que haya generado dos valores al terner hipervinculos a los enlaces. BORRAR\n",
    "- Identificador de Caso (**Case Number.1**): Dato tipo object con el nombre del fichero .pdf con la información sobre el ataque. Se correlaciona con 'pdf', 'href formula', 'href', 'Case Number.2'. SIN RELEVANCIA - BORRAR. \n",
    "- Identificador de Caso (**Case Number.2**): Columna que repite la información de 'Case Number.2'. BORRAR\n",
    "- Orden de Ocurrencia ¿Cronológico? (**original order**): Dato tipo entero que indica una especie de orden \"cronológico\" inverso en el que ocurrieron los eventos. Ojo que el orden no tiene sentido en los casos donde las fechas no están correctamente determinadas. SIN MUCHA RELEVANCIA - BORRAR.\n",
    "- Atributo sin datos (**Unnamed: 22**). BORRAR.\n",
    "- Atributo sin datos (**Unnamed: 22**). BORRAR.\n"
   ]
  },
  {
   "cell_type": "code",
   "execution_count": 36,
   "metadata": {},
   "outputs": [
    {
     "data": {
      "text/plain": [
       "Case Number               object\n",
       "Date                      object\n",
       "Year                       int64\n",
       "Type                      object\n",
       "Country                   object\n",
       "Area                      object\n",
       "Location                  object\n",
       "Activity                  object\n",
       "Name                      object\n",
       "Sex                       object\n",
       "Age                       object\n",
       "Injury                    object\n",
       "Fatal (Y/N)               object\n",
       "Time                      object\n",
       "Species                   object\n",
       "Investigator or Source    object\n",
       "pdf                       object\n",
       "href formula              object\n",
       "href                      object\n",
       "Case Number.1             object\n",
       "Case Number.2             object\n",
       "original order             int64\n",
       "Unnamed: 22               object\n",
       "Unnamed: 23               object\n",
       "dtype: object"
      ]
     },
     "metadata": {},
     "output_type": "display_data"
    }
   ],
   "source": [
    "import pandas as pd\n",
    "import numpy as np\n",
    "fileName = \"./GSAF5.csv\" \n",
    "df1 = pd.read_csv(fileName)\n",
    "#display(df1.head(1000000))\n",
    "display(df1.dtypes)\n",
    "df2 = df1.copy()"
   ]
  },
  {
   "cell_type": "code",
   "execution_count": 32,
   "metadata": {},
   "outputs": [],
   "source": [
    "#display(df2[['Case Number','Date','Year','Type','Country','Area','Location']])"
   ]
  },
  {
   "cell_type": "code",
   "execution_count": 33,
   "metadata": {},
   "outputs": [],
   "source": [
    "#display(df2[['Activity','Name','Sex ','Age','Injury','Fatal (Y/N)','Time']])"
   ]
  },
  {
   "cell_type": "code",
   "execution_count": 34,
   "metadata": {},
   "outputs": [],
   "source": [
    "#display(df2[['Species ','Investigator or Source','pdf','href formula']])"
   ]
  },
  {
   "cell_type": "code",
   "execution_count": 38,
   "metadata": {},
   "outputs": [],
   "source": [
    "#display(df2[['href','Case Number.1','Case Number.2','original order','Unnamed: 22','Unnamed: 23']])"
   ]
  },
  {
   "cell_type": "markdown",
   "metadata": {},
   "source": [
    "### Data Cleaning\n",
    "Se realizan varias fases de data cleaning:\n",
    "- **Fase 1:** Eliminación de columnas sin datos y/o con datos repetitivos.\n",
    "- **Fase 2:** Eliminación de columnas con datos irrelevantes para cualquier análisis (i.e.: códigos de identificación).\n",
    "- **Fase 3:** Eliminación de registros irrelevantes para el análisis (se hará en la siguiente fase del proyecto).\n"
   ]
  },
  {
   "cell_type": "code",
   "execution_count": 39,
   "metadata": {},
   "outputs": [],
   "source": [
    "#Fase 1. Cambiar nombre de columnas + eliminar columnas 'Case Number', 'href',    \n",
    "drop_col_f1 = ['href','Case Number.1','Case Number.2','Unnamed: 22','Unnamed: 23']"
   ]
  },
  {
   "cell_type": "code",
   "execution_count": null,
   "metadata": {},
   "outputs": [],
   "source": []
  }
 ],
 "metadata": {
  "kernelspec": {
   "display_name": "Python 3",
   "language": "python",
   "name": "python3"
  },
  "language_info": {
   "codemirror_mode": {
    "name": "ipython",
    "version": 3
   },
   "file_extension": ".py",
   "mimetype": "text/x-python",
   "name": "python",
   "nbconvert_exporter": "python",
   "pygments_lexer": "ipython3",
   "version": "3.6.7"
  }
 },
 "nbformat": 4,
 "nbformat_minor": 2
}
