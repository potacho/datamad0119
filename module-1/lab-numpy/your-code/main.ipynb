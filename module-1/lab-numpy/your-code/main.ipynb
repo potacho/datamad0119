{
 "cells": [
  {
   "cell_type": "code",
   "execution_count": 184,
   "metadata": {},
   "outputs": [],
   "source": [
    "#1. Import the NUMPY package under the name np.\n",
    "import numpy as np"
   ]
  },
  {
   "cell_type": "code",
   "execution_count": 185,
   "metadata": {},
   "outputs": [
    {
     "name": "stdout",
     "output_type": "stream",
     "text": [
      "1.16.0\n",
      "blas_mkl_info:\n",
      "  NOT AVAILABLE\n",
      "blis_info:\n",
      "  NOT AVAILABLE\n",
      "openblas_info:\n",
      "    libraries = ['openblas', 'openblas']\n",
      "    library_dirs = ['/usr/local/lib']\n",
      "    language = c\n",
      "    define_macros = [('HAVE_CBLAS', None)]\n",
      "blas_opt_info:\n",
      "    libraries = ['openblas', 'openblas']\n",
      "    library_dirs = ['/usr/local/lib']\n",
      "    language = c\n",
      "    define_macros = [('HAVE_CBLAS', None)]\n",
      "lapack_mkl_info:\n",
      "  NOT AVAILABLE\n",
      "openblas_lapack_info:\n",
      "    libraries = ['openblas', 'openblas']\n",
      "    library_dirs = ['/usr/local/lib']\n",
      "    language = c\n",
      "    define_macros = [('HAVE_CBLAS', None)]\n",
      "lapack_opt_info:\n",
      "    libraries = ['openblas', 'openblas']\n",
      "    library_dirs = ['/usr/local/lib']\n",
      "    language = c\n",
      "    define_macros = [('HAVE_CBLAS', None)]\n",
      "None\n"
     ]
    }
   ],
   "source": [
    "#2. Print the NUMPY version and the configuration.\n",
    "print(np.__version__)\n",
    "print(np.show_config())"
   ]
  },
  {
   "cell_type": "code",
   "execution_count": 186,
   "metadata": {},
   "outputs": [],
   "source": [
    "#3. Generate a 2x3x5 3-dimensional array with random values. Assign the array to variable \"a\"\n",
    "# Challenge: there are at least three easy ways that use numpy to generate random arrays. \n",
    "#How many ways can you find?\n",
    "a = np.random.random((2,3,5))\n",
    "#a = np.random.random_sample((2,3,5))\n",
    "#a = np.random.ranf((2,3,5))\n",
    "#No vemos ninguna diferencia a simple vista."
   ]
  },
  {
   "cell_type": "code",
   "execution_count": 187,
   "metadata": {},
   "outputs": [
    {
     "name": "stdout",
     "output_type": "stream",
     "text": [
      "[[[0.09277843 0.54937275 0.32794633 0.03169989 0.72912165]\n",
      "  [0.83474188 0.84589104 0.01917917 0.36496031 0.47949562]\n",
      "  [0.54243364 0.32445341 0.37887954 0.37497241 0.60907972]]\n",
      "\n",
      " [[0.28410838 0.10882773 0.67112352 0.26969424 0.57682584]\n",
      "  [0.07688346 0.62639136 0.99634686 0.90858161 0.86825221]\n",
      "  [0.41035262 0.54170183 0.80287657 0.85607825 0.60697148]]]\n"
     ]
    }
   ],
   "source": [
    "#4. Print a.\n",
    "print(a)"
   ]
  },
  {
   "cell_type": "code",
   "execution_count": 188,
   "metadata": {},
   "outputs": [],
   "source": [
    "#5. Create a 5x2x3 3-dimensional array with all values equaling 1.\n",
    "#Assign the array to variable \"b\"\n",
    "b = np.ones((5,2,3))"
   ]
  },
  {
   "cell_type": "code",
   "execution_count": 189,
   "metadata": {},
   "outputs": [
    {
     "name": "stdout",
     "output_type": "stream",
     "text": [
      "[[[1. 1. 1.]\n",
      "  [1. 1. 1.]]\n",
      "\n",
      " [[1. 1. 1.]\n",
      "  [1. 1. 1.]]\n",
      "\n",
      " [[1. 1. 1.]\n",
      "  [1. 1. 1.]]\n",
      "\n",
      " [[1. 1. 1.]\n",
      "  [1. 1. 1.]]\n",
      "\n",
      " [[1. 1. 1.]\n",
      "  [1. 1. 1.]]]\n"
     ]
    }
   ],
   "source": [
    "#6. Print b.\n",
    "print(b)"
   ]
  },
  {
   "cell_type": "code",
   "execution_count": 190,
   "metadata": {},
   "outputs": [
    {
     "name": "stdout",
     "output_type": "stream",
     "text": [
      "a size es igual a b size\n"
     ]
    }
   ],
   "source": [
    "#7. Do a and b have the same size? How do you prove that in Python code?\n",
    "len_a = a.size\n",
    "len_b = b.size\n",
    "#print(len_a)\n",
    "#print(len_b)\n",
    "if len_a == len_b:\n",
    "    print(\"a size es igual a b size\")"
   ]
  },
  {
   "cell_type": "code",
   "execution_count": 191,
   "metadata": {},
   "outputs": [
    {
     "ename": "ValueError",
     "evalue": "operands could not be broadcast together with shapes (2,3,5) (5,2,3) ",
     "output_type": "error",
     "traceback": [
      "\u001b[0;31m---------------------------------------------------------------------------\u001b[0m",
      "\u001b[0;31mValueError\u001b[0m                                Traceback (most recent call last)",
      "\u001b[0;32m<ipython-input-191-b35f1ccb5793>\u001b[0m in \u001b[0;36m<module>\u001b[0;34m\u001b[0m\n\u001b[1;32m      1\u001b[0m \u001b[0;31m#8. Are you able to add a and b? Why or why not?\u001b[0m\u001b[0;34m\u001b[0m\u001b[0;34m\u001b[0m\u001b[0;34m\u001b[0m\u001b[0m\n\u001b[0;32m----> 2\u001b[0;31m \u001b[0mprint\u001b[0m\u001b[0;34m(\u001b[0m\u001b[0mnp\u001b[0m\u001b[0;34m.\u001b[0m\u001b[0madd\u001b[0m\u001b[0;34m(\u001b[0m\u001b[0ma\u001b[0m\u001b[0;34m,\u001b[0m \u001b[0mb\u001b[0m\u001b[0;34m)\u001b[0m\u001b[0;34m)\u001b[0m\u001b[0;34m\u001b[0m\u001b[0;34m\u001b[0m\u001b[0m\n\u001b[0m\u001b[1;32m      3\u001b[0m \u001b[0;31m#ValueError: operands could not be broadcast together with shapes (2,3,5) (5,2,3). No se pueden sumar al\u001b[0m\u001b[0;34m\u001b[0m\u001b[0;34m\u001b[0m\u001b[0;34m\u001b[0m\u001b[0m\n\u001b[1;32m      4\u001b[0m \u001b[0;31m#tener diferentes dimensiones\u001b[0m\u001b[0;34m\u001b[0m\u001b[0;34m\u001b[0m\u001b[0;34m\u001b[0m\u001b[0m\n",
      "\u001b[0;31mValueError\u001b[0m: operands could not be broadcast together with shapes (2,3,5) (5,2,3) "
     ]
    }
   ],
   "source": [
    "#8. Are you able to add a and b? Why or why not?\n",
    "print(np.add(a, b))\n",
    "#ValueError: operands could not be broadcast together with shapes (2,3,5) (5,2,3). No se pueden sumar al \n",
    "#tener diferentes dimensiones"
   ]
  },
  {
   "cell_type": "code",
   "execution_count": 225,
   "metadata": {},
   "outputs": [
    {
     "name": "stdout",
     "output_type": "stream",
     "text": [
      "[[[1. 1. 1. 1. 1.]\n",
      "  [1. 1. 1. 1. 1.]\n",
      "  [1. 1. 1. 1. 1.]]\n",
      "\n",
      " [[1. 1. 1. 1. 1.]\n",
      "  [1. 1. 1. 1. 1.]\n",
      "  [1. 1. 1. 1. 1.]]]\n"
     ]
    }
   ],
   "source": [
    "#9. Transpose b so that it has the same structure of a (i.e. become a 2x3x5 array). \n",
    "#Assign the transposed array to varialbe \"c\".\n",
    "c = np.reshape(b, (2,3,5))\n",
    "print(c)"
   ]
  },
  {
   "cell_type": "code",
   "execution_count": 228,
   "metadata": {},
   "outputs": [
    {
     "name": "stdout",
     "output_type": "stream",
     "text": [
      "[[[1.09277843 1.54937275 1.32794633 1.03169989 1.72912165]\n",
      "  [1.83474188 1.84589104 1.01917917 1.36496031 1.47949562]\n",
      "  [1.54243364 1.32445341 1.37887954 1.37497241 1.60907972]]\n",
      "\n",
      " [[1.28410838 1.10882773 1.67112352 1.26969424 1.57682584]\n",
      "  [1.07688346 1.62639136 1.99634686 1.90858161 1.86825221]\n",
      "  [1.41035262 1.54170183 1.80287657 1.85607825 1.60697148]]]\n"
     ]
    }
   ],
   "source": [
    "#10. Try to add a and c. Now it should work. Assign the sum to varialbe \"d\". But why does it work now?\n",
    "d = np.add(a, c)\n",
    "print(d)\n",
    "#Now a and d have the same shape"
   ]
  },
  {
   "cell_type": "code",
   "execution_count": 229,
   "metadata": {},
   "outputs": [
    {
     "name": "stdout",
     "output_type": "stream",
     "text": [
      "[[[0.09277843 0.54937275 0.32794633 0.03169989 0.72912165]\n",
      "  [0.83474188 0.84589104 0.01917917 0.36496031 0.47949562]\n",
      "  [0.54243364 0.32445341 0.37887954 0.37497241 0.60907972]]\n",
      "\n",
      " [[0.28410838 0.10882773 0.67112352 0.26969424 0.57682584]\n",
      "  [0.07688346 0.62639136 0.99634686 0.90858161 0.86825221]\n",
      "  [0.41035262 0.54170183 0.80287657 0.85607825 0.60697148]]]\n",
      "[[[1.09277843 1.54937275 1.32794633 1.03169989 1.72912165]\n",
      "  [1.83474188 1.84589104 1.01917917 1.36496031 1.47949562]\n",
      "  [1.54243364 1.32445341 1.37887954 1.37497241 1.60907972]]\n",
      "\n",
      " [[1.28410838 1.10882773 1.67112352 1.26969424 1.57682584]\n",
      "  [1.07688346 1.62639136 1.99634686 1.90858161 1.86825221]\n",
      "  [1.41035262 1.54170183 1.80287657 1.85607825 1.60697148]]]\n"
     ]
    }
   ],
   "source": [
    "#11. Print a and d. Notice the difference and relation of the two array in terms of the values? Explain.\n",
    "print(a)\n",
    "print(d)\n",
    "#La diferencia es que en 'd' se ha sumado a cada valor de 'a' el valor '1'."
   ]
  },
  {
   "cell_type": "code",
   "execution_count": 230,
   "metadata": {},
   "outputs": [
    {
     "name": "stdout",
     "output_type": "stream",
     "text": [
      "[[[0.09277843 0.54937275 0.32794633 0.03169989 0.72912165]\n",
      "  [0.83474188 0.84589104 0.01917917 0.36496031 0.47949562]\n",
      "  [0.54243364 0.32445341 0.37887954 0.37497241 0.60907972]]\n",
      "\n",
      " [[0.28410838 0.10882773 0.67112352 0.26969424 0.57682584]\n",
      "  [0.07688346 0.62639136 0.99634686 0.90858161 0.86825221]\n",
      "  [0.41035262 0.54170183 0.80287657 0.85607825 0.60697148]]]\n"
     ]
    }
   ],
   "source": [
    "#12. Multiply a and c. Assign the result to e.\n",
    "e = np.multiply(a, c)\n",
    "print(e)"
   ]
  },
  {
   "cell_type": "code",
   "execution_count": 231,
   "metadata": {},
   "outputs": [
    {
     "name": "stdout",
     "output_type": "stream",
     "text": [
      "[[[0.09277843 0.54937275 0.32794633 0.03169989 0.72912165]\n",
      "  [0.83474188 0.84589104 0.01917917 0.36496031 0.47949562]\n",
      "  [0.54243364 0.32445341 0.37887954 0.37497241 0.60907972]]\n",
      "\n",
      " [[0.28410838 0.10882773 0.67112352 0.26969424 0.57682584]\n",
      "  [0.07688346 0.62639136 0.99634686 0.90858161 0.86825221]\n",
      "  [0.41035262 0.54170183 0.80287657 0.85607825 0.60697148]]]\n",
      "[[[0.09277843 0.54937275 0.32794633 0.03169989 0.72912165]\n",
      "  [0.83474188 0.84589104 0.01917917 0.36496031 0.47949562]\n",
      "  [0.54243364 0.32445341 0.37887954 0.37497241 0.60907972]]\n",
      "\n",
      " [[0.28410838 0.10882773 0.67112352 0.26969424 0.57682584]\n",
      "  [0.07688346 0.62639136 0.99634686 0.90858161 0.86825221]\n",
      "  [0.41035262 0.54170183 0.80287657 0.85607825 0.60697148]]]\n"
     ]
    },
    {
     "data": {
      "text/plain": [
       "True"
      ]
     },
     "execution_count": 231,
     "metadata": {},
     "output_type": "execute_result"
    }
   ],
   "source": [
    "#13. Does e equal to a? Why or why not?\n",
    "print(a)\n",
    "print(e)\n",
    "np.array_equal(a,e)\n",
    "\n",
    "#Son iguales porque e multiplica los valores de 'a' por 'c' que es una matriz equivalente en forma a 'a' pero \n",
    "#con cada valor =1"
   ]
  },
  {
   "cell_type": "code",
   "execution_count": 232,
   "metadata": {},
   "outputs": [
    {
     "name": "stdout",
     "output_type": "stream",
     "text": [
      "1.9963468585154274 1.0191791682470814 1.503667391669541\n"
     ]
    }
   ],
   "source": [
    "#14. Identify the max, min, and mean values in 'd'. Assign those values to variables \"\n",
    "#d_max\", \"d_min\", and \"d_mean\"\n",
    "d_max = np.amax(d)\n",
    "d_min = np.amin(d)\n",
    "d_mean = np.mean(d)\n",
    "print(d_max, d_min, d_mean)"
   ]
  },
  {
   "cell_type": "code",
   "execution_count": 233,
   "metadata": {},
   "outputs": [
    {
     "name": "stdout",
     "output_type": "stream",
     "text": [
      "(2, 3, 5)\n"
     ]
    }
   ],
   "source": [
    "#15. Now we want to label the values in 'd'. \n",
    "#First create an empty array \"f\" with the same shape (i.e. 2x3x5) as d using `np.empty`.\n",
    "f = np.empty([2,3,5])\n",
    "print(f.shape)"
   ]
  },
  {
   "cell_type": "code",
   "execution_count": 288,
   "metadata": {},
   "outputs": [],
   "source": [
    "#16. Populate the values in f. For each value in d, if it's larger than d_min but smaller than d_mean, \n",
    "#assign 25 to the corresponding value in f.\n",
    "#If a value in d is larger than d_mean but smaller than d_max, assign 75 to the corresponding value in f.\n",
    "#If a value equals to d_mean, assign 50 to the corresponding value in f.\n",
    "#Assign 0 to the corresponding value(s) in f for d_min in d.\n",
    "#Assign 100 to the corresponding value(s) in f for d_max in d.\n",
    "#In the end, f should have only the following values: 0, 25, 50, 75, and 100.\n",
    "#Note: you don't have to use Numpy in this question.\n",
    "\n",
    "f = np.array(d)\n",
    "f[(d > d_min) & (d < d_mean)] = 25\n",
    "f[(d < d_max) & (d > d_mean)] = 75\n",
    "f[(d == d_mean)] = 50\n",
    "f[(d == d_min)] = 0\n",
    "f[(d == d_max)] = 100"
   ]
  },
  {
   "cell_type": "code",
   "execution_count": 289,
   "metadata": {},
   "outputs": [
    {
     "name": "stdout",
     "output_type": "stream",
     "text": [
      "[[[1.09277843 1.54937275 1.32794633 1.03169989 1.72912165]\n",
      "  [1.83474188 1.84589104 1.01917917 1.36496031 1.47949562]\n",
      "  [1.54243364 1.32445341 1.37887954 1.37497241 1.60907972]]\n",
      "\n",
      " [[1.28410838 1.10882773 1.67112352 1.26969424 1.57682584]\n",
      "  [1.07688346 1.62639136 1.99634686 1.90858161 1.86825221]\n",
      "  [1.41035262 1.54170183 1.80287657 1.85607825 1.60697148]]]\n",
      "[[[ 25.  75.  25.  25.  75.]\n",
      "  [ 75.  75.   0.  25.  25.]\n",
      "  [ 75.  25.  25.  25.  75.]]\n",
      "\n",
      " [[ 25.  25.  75.  25.  75.]\n",
      "  [ 25.  75. 100.  75.  75.]\n",
      "  [ 25.  75.  75.  75.  75.]]]\n"
     ]
    }
   ],
   "source": [
    "#17. Print d and f. Do you have your expected f?\n",
    "print(d)\n",
    "print(f)"
   ]
  },
  {
   "cell_type": "code",
   "execution_count": 290,
   "metadata": {},
   "outputs": [
    {
     "name": "stdout",
     "output_type": "stream",
     "text": [
      "[[['B' 'D' 'B' 'B' 'D']\n",
      "  ['D' 'D' 'A' 'B' 'B']\n",
      "  ['D' 'B' 'B' 'B' 'D']]\n",
      "\n",
      " [['B' 'B' 'D' 'B' 'D']\n",
      "  ['B' 'D' 'E' 'D' 'D']\n",
      "  ['B' 'D' 'D' 'D' 'D']]]\n"
     ]
    }
   ],
   "source": [
    "# 18. Bonus question: instead of using numbers (i.e. 0, 25, 50, 75, and 100), how to use string values \n",
    "f1 = f.reshape(30)\n",
    "g = f1.tolist()\n",
    "for i in range(len(g)):\n",
    "    if g[i] == 25:\n",
    "        g[i] = \"B\"\n",
    "    elif g[i] == 75:\n",
    "        g[i] = \"D\"\n",
    "    elif g[i] == 50:\n",
    "        g[i] = \"C\"\n",
    "    elif g[i] == 0:\n",
    "        g[i] = \"A\"\n",
    "    elif g[i] == 100:\n",
    "        g[i] = \"E\"\n",
    "g1 = np.asarray(g)\n",
    "g2 = g1.reshape(2,3,5)\n",
    "print(g2)"
   ]
  }
 ],
 "metadata": {
  "kernelspec": {
   "display_name": "Python 3",
   "language": "python",
   "name": "python3"
  },
  "language_info": {
   "codemirror_mode": {
    "name": "ipython",
    "version": 3
   },
   "file_extension": ".py",
   "mimetype": "text/x-python",
   "name": "python",
   "nbconvert_exporter": "python",
   "pygments_lexer": "ipython3",
   "version": "3.6.7"
  }
 },
 "nbformat": 4,
 "nbformat_minor": 2
}
