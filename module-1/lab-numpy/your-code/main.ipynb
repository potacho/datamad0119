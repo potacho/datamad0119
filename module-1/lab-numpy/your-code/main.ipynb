{
 "cells": [
  {
   "cell_type": "code",
   "execution_count": 107,
   "metadata": {},
   "outputs": [],
   "source": [
    "#1. Import the NUMPY package under the name np.\n",
    "import numpy as np"
   ]
  },
  {
   "cell_type": "code",
   "execution_count": 108,
   "metadata": {},
   "outputs": [
    {
     "name": "stdout",
     "output_type": "stream",
     "text": [
      "1.16.0\n",
      "blas_mkl_info:\n",
      "  NOT AVAILABLE\n",
      "blis_info:\n",
      "  NOT AVAILABLE\n",
      "openblas_info:\n",
      "    libraries = ['openblas', 'openblas']\n",
      "    library_dirs = ['/usr/local/lib']\n",
      "    language = c\n",
      "    define_macros = [('HAVE_CBLAS', None)]\n",
      "blas_opt_info:\n",
      "    libraries = ['openblas', 'openblas']\n",
      "    library_dirs = ['/usr/local/lib']\n",
      "    language = c\n",
      "    define_macros = [('HAVE_CBLAS', None)]\n",
      "lapack_mkl_info:\n",
      "  NOT AVAILABLE\n",
      "openblas_lapack_info:\n",
      "    libraries = ['openblas', 'openblas']\n",
      "    library_dirs = ['/usr/local/lib']\n",
      "    language = c\n",
      "    define_macros = [('HAVE_CBLAS', None)]\n",
      "lapack_opt_info:\n",
      "    libraries = ['openblas', 'openblas']\n",
      "    library_dirs = ['/usr/local/lib']\n",
      "    language = c\n",
      "    define_macros = [('HAVE_CBLAS', None)]\n",
      "None\n"
     ]
    }
   ],
   "source": [
    "#2. Print the NUMPY version and the configuration.\n",
    "print(np.__version__)\n",
    "print(np.show_config())"
   ]
  },
  {
   "cell_type": "code",
   "execution_count": 109,
   "metadata": {},
   "outputs": [],
   "source": [
    "#3. Generate a 2x3x5 3-dimensional array with random values. Assign the array to variable \"a\"\n",
    "# Challenge: there are at least three easy ways that use numpy to generate random arrays. \n",
    "#How many ways can you find?\n",
    "a = np.random.random((2,3,5))\n",
    "#a = np.random.random_sample((2,3,5))\n",
    "#a = np.random.ranf((2,3,5))\n",
    "#No vemos ninguna diferencia a simple vista."
   ]
  },
  {
   "cell_type": "code",
   "execution_count": 110,
   "metadata": {},
   "outputs": [
    {
     "name": "stdout",
     "output_type": "stream",
     "text": [
      "[[[2.24471314e-01 2.48013107e-01 8.37524550e-01 9.98876714e-01\n",
      "   9.07146580e-01]\n",
      "  [6.31866746e-01 8.20451124e-04 1.87207786e-01 3.85002870e-01\n",
      "   4.40649588e-01]\n",
      "  [3.16624007e-01 3.57535217e-01 2.15784162e-01 9.54450697e-01\n",
      "   7.17789617e-01]]\n",
      "\n",
      " [[3.56343593e-01 6.88657703e-01 2.94983496e-01 2.09877443e-01\n",
      "   4.58494884e-01]\n",
      "  [1.60350399e-01 1.72029343e-01 3.59573266e-01 2.17313784e-01\n",
      "   5.41987812e-01]\n",
      "  [5.77848148e-01 4.50451767e-01 7.77363221e-01 8.70064504e-01\n",
      "   5.77491597e-01]]]\n"
     ]
    }
   ],
   "source": [
    "#4. Print a.\n",
    "print(a)"
   ]
  },
  {
   "cell_type": "code",
   "execution_count": 111,
   "metadata": {},
   "outputs": [],
   "source": [
    "#5. Create a 5x2x3 3-dimensional array with all values equaling 1.\n",
    "#Assign the array to variable \"b\"\n",
    "b = np.ones((5,2,3))"
   ]
  },
  {
   "cell_type": "code",
   "execution_count": 112,
   "metadata": {},
   "outputs": [
    {
     "name": "stdout",
     "output_type": "stream",
     "text": [
      "[[[1. 1. 1.]\n",
      "  [1. 1. 1.]]\n",
      "\n",
      " [[1. 1. 1.]\n",
      "  [1. 1. 1.]]\n",
      "\n",
      " [[1. 1. 1.]\n",
      "  [1. 1. 1.]]\n",
      "\n",
      " [[1. 1. 1.]\n",
      "  [1. 1. 1.]]\n",
      "\n",
      " [[1. 1. 1.]\n",
      "  [1. 1. 1.]]]\n"
     ]
    }
   ],
   "source": [
    "#6. Print b.\n",
    "print(b)"
   ]
  },
  {
   "cell_type": "code",
   "execution_count": 113,
   "metadata": {},
   "outputs": [
    {
     "name": "stdout",
     "output_type": "stream",
     "text": [
      "a size es igual a b size\n"
     ]
    }
   ],
   "source": [
    "#7. Do a and b have the same size? How do you prove that in Python code?\n",
    "len_a = a.size\n",
    "len_b = b.size\n",
    "#print(len_a)\n",
    "#print(len_b)\n",
    "if len_a == len_b:\n",
    "    print(\"a size es igual a b size\")"
   ]
  },
  {
   "cell_type": "code",
   "execution_count": 114,
   "metadata": {},
   "outputs": [
    {
     "ename": "ValueError",
     "evalue": "operands could not be broadcast together with shapes (2,3,5) (5,2,3) ",
     "output_type": "error",
     "traceback": [
      "\u001b[0;31m---------------------------------------------------------------------------\u001b[0m",
      "\u001b[0;31mValueError\u001b[0m                                Traceback (most recent call last)",
      "\u001b[0;32m<ipython-input-114-b35f1ccb5793>\u001b[0m in \u001b[0;36m<module>\u001b[0;34m\u001b[0m\n\u001b[1;32m      1\u001b[0m \u001b[0;31m#8. Are you able to add a and b? Why or why not?\u001b[0m\u001b[0;34m\u001b[0m\u001b[0;34m\u001b[0m\u001b[0;34m\u001b[0m\u001b[0m\n\u001b[0;32m----> 2\u001b[0;31m \u001b[0mprint\u001b[0m\u001b[0;34m(\u001b[0m\u001b[0mnp\u001b[0m\u001b[0;34m.\u001b[0m\u001b[0madd\u001b[0m\u001b[0;34m(\u001b[0m\u001b[0ma\u001b[0m\u001b[0;34m,\u001b[0m \u001b[0mb\u001b[0m\u001b[0;34m)\u001b[0m\u001b[0;34m)\u001b[0m\u001b[0;34m\u001b[0m\u001b[0;34m\u001b[0m\u001b[0m\n\u001b[0m\u001b[1;32m      3\u001b[0m \u001b[0;31m#ValueError: operands could not be broadcast together with shapes (2,3,5) (5,2,3). No se pueden sumar al\u001b[0m\u001b[0;34m\u001b[0m\u001b[0;34m\u001b[0m\u001b[0;34m\u001b[0m\u001b[0m\n\u001b[1;32m      4\u001b[0m \u001b[0;31m#tener diferentes dimensiones\u001b[0m\u001b[0;34m\u001b[0m\u001b[0;34m\u001b[0m\u001b[0;34m\u001b[0m\u001b[0m\n",
      "\u001b[0;31mValueError\u001b[0m: operands could not be broadcast together with shapes (2,3,5) (5,2,3) "
     ]
    }
   ],
   "source": [
    "#8. Are you able to add a and b? Why or why not?\n",
    "print(np.add(a, b))\n",
    "#ValueError: operands could not be broadcast together with shapes (2,3,5) (5,2,3). No se pueden sumar al \n",
    "#tener diferentes dimensiones"
   ]
  },
  {
   "cell_type": "code",
   "execution_count": 125,
   "metadata": {},
   "outputs": [
    {
     "name": "stdout",
     "output_type": "stream",
     "text": [
      "[[[1. 1. 1. 1. 1.]\n",
      "  [1. 1. 1. 1. 1.]\n",
      "  [1. 1. 1. 1. 1.]]\n",
      "\n",
      " [[1. 1. 1. 1. 1.]\n",
      "  [1. 1. 1. 1. 1.]\n",
      "  [1. 1. 1. 1. 1.]]]\n"
     ]
    }
   ],
   "source": [
    "#9. Transpose b so that it has the same structure of a (i.e. become a 2x3x5 array). \n",
    "#Assign the transposed array to varialbe \"c\".\n",
    "c = np.reshape(b, (2,3,5))\n",
    "print(c)"
   ]
  },
  {
   "cell_type": "code",
   "execution_count": 126,
   "metadata": {},
   "outputs": [
    {
     "name": "stdout",
     "output_type": "stream",
     "text": [
      "[[[1.22447131 1.24801311 1.83752455 1.99887671 1.90714658]\n",
      "  [1.63186675 1.00082045 1.18720779 1.38500287 1.44064959]\n",
      "  [1.31662401 1.35753522 1.21578416 1.9544507  1.71778962]]\n",
      "\n",
      " [[1.35634359 1.6886577  1.2949835  1.20987744 1.45849488]\n",
      "  [1.1603504  1.17202934 1.35957327 1.21731378 1.54198781]\n",
      "  [1.57784815 1.45045177 1.77736322 1.8700645  1.5774916 ]]]\n"
     ]
    }
   ],
   "source": [
    "#10. Try to add a and c. Now it should work. Assign the sum to varialbe \"d\". But why does it work now?\n",
    "d = np.add(a, c)\n",
    "print(d)\n",
    "#Now a and d have the same shape"
   ]
  },
  {
   "cell_type": "code",
   "execution_count": 127,
   "metadata": {},
   "outputs": [
    {
     "name": "stdout",
     "output_type": "stream",
     "text": [
      "[[[2.24471314e-01 2.48013107e-01 8.37524550e-01 9.98876714e-01\n",
      "   9.07146580e-01]\n",
      "  [6.31866746e-01 8.20451124e-04 1.87207786e-01 3.85002870e-01\n",
      "   4.40649588e-01]\n",
      "  [3.16624007e-01 3.57535217e-01 2.15784162e-01 9.54450697e-01\n",
      "   7.17789617e-01]]\n",
      "\n",
      " [[3.56343593e-01 6.88657703e-01 2.94983496e-01 2.09877443e-01\n",
      "   4.58494884e-01]\n",
      "  [1.60350399e-01 1.72029343e-01 3.59573266e-01 2.17313784e-01\n",
      "   5.41987812e-01]\n",
      "  [5.77848148e-01 4.50451767e-01 7.77363221e-01 8.70064504e-01\n",
      "   5.77491597e-01]]]\n",
      "[[[1.22447131 1.24801311 1.83752455 1.99887671 1.90714658]\n",
      "  [1.63186675 1.00082045 1.18720779 1.38500287 1.44064959]\n",
      "  [1.31662401 1.35753522 1.21578416 1.9544507  1.71778962]]\n",
      "\n",
      " [[1.35634359 1.6886577  1.2949835  1.20987744 1.45849488]\n",
      "  [1.1603504  1.17202934 1.35957327 1.21731378 1.54198781]\n",
      "  [1.57784815 1.45045177 1.77736322 1.8700645  1.5774916 ]]]\n"
     ]
    }
   ],
   "source": [
    "#11. Print a and d. Notice the difference and relation of the two array in terms of the values? Explain.\n",
    "print(a)\n",
    "print(d)\n",
    "#La diferencia es que en 'd' se ha sumado a cada valor de 'a' el valor '1'."
   ]
  },
  {
   "cell_type": "code",
   "execution_count": 128,
   "metadata": {},
   "outputs": [
    {
     "name": "stdout",
     "output_type": "stream",
     "text": [
      "[[[2.24471314e-01 2.48013107e-01 8.37524550e-01 9.98876714e-01\n",
      "   9.07146580e-01]\n",
      "  [6.31866746e-01 8.20451124e-04 1.87207786e-01 3.85002870e-01\n",
      "   4.40649588e-01]\n",
      "  [3.16624007e-01 3.57535217e-01 2.15784162e-01 9.54450697e-01\n",
      "   7.17789617e-01]]\n",
      "\n",
      " [[3.56343593e-01 6.88657703e-01 2.94983496e-01 2.09877443e-01\n",
      "   4.58494884e-01]\n",
      "  [1.60350399e-01 1.72029343e-01 3.59573266e-01 2.17313784e-01\n",
      "   5.41987812e-01]\n",
      "  [5.77848148e-01 4.50451767e-01 7.77363221e-01 8.70064504e-01\n",
      "   5.77491597e-01]]]\n"
     ]
    }
   ],
   "source": [
    "#12. Multiply a and c. Assign the result to e.\n",
    "e = np.multiply(a, c)\n",
    "print(e)"
   ]
  },
  {
   "cell_type": "code",
   "execution_count": 129,
   "metadata": {},
   "outputs": [
    {
     "name": "stdout",
     "output_type": "stream",
     "text": [
      "[[[2.24471314e-01 2.48013107e-01 8.37524550e-01 9.98876714e-01\n",
      "   9.07146580e-01]\n",
      "  [6.31866746e-01 8.20451124e-04 1.87207786e-01 3.85002870e-01\n",
      "   4.40649588e-01]\n",
      "  [3.16624007e-01 3.57535217e-01 2.15784162e-01 9.54450697e-01\n",
      "   7.17789617e-01]]\n",
      "\n",
      " [[3.56343593e-01 6.88657703e-01 2.94983496e-01 2.09877443e-01\n",
      "   4.58494884e-01]\n",
      "  [1.60350399e-01 1.72029343e-01 3.59573266e-01 2.17313784e-01\n",
      "   5.41987812e-01]\n",
      "  [5.77848148e-01 4.50451767e-01 7.77363221e-01 8.70064504e-01\n",
      "   5.77491597e-01]]]\n",
      "[[[2.24471314e-01 2.48013107e-01 8.37524550e-01 9.98876714e-01\n",
      "   9.07146580e-01]\n",
      "  [6.31866746e-01 8.20451124e-04 1.87207786e-01 3.85002870e-01\n",
      "   4.40649588e-01]\n",
      "  [3.16624007e-01 3.57535217e-01 2.15784162e-01 9.54450697e-01\n",
      "   7.17789617e-01]]\n",
      "\n",
      " [[3.56343593e-01 6.88657703e-01 2.94983496e-01 2.09877443e-01\n",
      "   4.58494884e-01]\n",
      "  [1.60350399e-01 1.72029343e-01 3.59573266e-01 2.17313784e-01\n",
      "   5.41987812e-01]\n",
      "  [5.77848148e-01 4.50451767e-01 7.77363221e-01 8.70064504e-01\n",
      "   5.77491597e-01]]]\n"
     ]
    },
    {
     "data": {
      "text/plain": [
       "True"
      ]
     },
     "execution_count": 129,
     "metadata": {},
     "output_type": "execute_result"
    }
   ],
   "source": [
    "#13. Does e equal to a? Why or why not?\n",
    "print(a)\n",
    "print(e)\n",
    "np.array_equal(a,e)\n",
    "\n",
    "#Son iguales porque e multiplica los valores de 'a' por 'c' que es una matriz equivalente en forma a 'a' pero \n",
    "#con cada valor =1"
   ]
  },
  {
   "cell_type": "code",
   "execution_count": 130,
   "metadata": {},
   "outputs": [
    {
     "name": "stdout",
     "output_type": "stream",
     "text": [
      "1.9988767142631467 1.0008204511235999 1.4712198122735276\n"
     ]
    }
   ],
   "source": [
    "#14. Identify the max, min, and mean values in 'd'. Assign those values to variables \"d_max\", \"d_min\", and \"d_mean\"\n",
    "d_max = np.amax(d)\n",
    "d_min = np.amin(d)\n",
    "d_mean = np.mean(d)\n",
    "print(d_max, d_min, d_mean)"
   ]
  },
  {
   "cell_type": "code",
   "execution_count": 131,
   "metadata": {},
   "outputs": [
    {
     "name": "stdout",
     "output_type": "stream",
     "text": [
      "(2, 3, 5)\n"
     ]
    }
   ],
   "source": [
    "#15. Now we want to label the values in 'd'. \n",
    "#First create an empty array \"f\" with the same shape (i.e. 2x3x5) as d using `np.empty`.\n",
    "f = np.empty([2,3,5])\n",
    "print(f.shape)"
   ]
  },
  {
   "cell_type": "code",
   "execution_count": 132,
   "metadata": {},
   "outputs": [
    {
     "name": "stdout",
     "output_type": "stream",
     "text": [
      "[[[2.24471314e-01 2.48013107e-01 8.37524550e-01 9.98876714e-01\n",
      "   9.07146580e-01]\n",
      "  [6.31866746e-01 8.20451124e-04 1.87207786e-01 3.85002870e-01\n",
      "   4.40649588e-01]\n",
      "  [3.16624007e-01 3.57535217e-01 2.15784162e-01 9.54450697e-01\n",
      "   7.17789617e-01]]\n",
      "\n",
      " [[3.56343593e-01 6.88657703e-01 2.94983496e-01 2.09877443e-01\n",
      "   4.58494884e-01]\n",
      "  [1.60350399e-01 1.72029343e-01 3.59573266e-01 2.17313784e-01\n",
      "   5.41987812e-01]\n",
      "  [5.77848148e-01 4.50451767e-01 7.77363221e-01 8.70064504e-01\n",
      "   5.77491597e-01]]]\n",
      "[[[2.24471314e-01 2.48013107e-01 8.37524550e-01 9.98876714e-01\n",
      "   9.07146580e-01]\n",
      "  [6.31866746e-01 8.20451124e-04 1.87207786e-01 3.85002870e-01\n",
      "   4.40649588e-01]\n",
      "  [3.16624007e-01 3.57535217e-01 2.15784162e-01 9.54450697e-01\n",
      "   7.17789617e-01]]\n",
      "\n",
      " [[3.56343593e-01 6.88657703e-01 2.94983496e-01 2.09877443e-01\n",
      "   4.58494884e-01]\n",
      "  [1.60350399e-01 1.72029343e-01 3.59573266e-01 2.17313784e-01\n",
      "   5.41987812e-01]\n",
      "  [5.77848148e-01 4.50451767e-01 7.77363221e-01 8.70064504e-01\n",
      "   5.77491597e-01]]]\n"
     ]
    }
   ],
   "source": [
    "#16. Populate the values in f. For each value in d, if it's larger than d_min but smaller than d_mean, \n",
    "#assign 25 to the corresponding value in f.\n",
    "#If a value in d is larger than d_mean but smaller than d_max, assign 75 to the corresponding value in f.\n",
    "#If a value equals to d_mean, assign 50 to the corresponding value in f.\n",
    "#Assign 0 to the corresponding value(s) in f for d_min in d.\n",
    "#Assign 100 to the corresponding value(s) in f for d_max in d.\n",
    "#In the end, f should have only the following values: 0, 25, 50, 75, and 100.\n",
    "#Note: you don't have to use Numpy in this question.\n",
    "\n",
    "#d1 = np.copy(d)\n",
    "#print(d1[0][0][0])\n",
    "#for i in range(0,30):\n",
    "#    if d1[i][i][i] == d_max:\n",
    "#        d1[i][i][i] = 0\n",
    "        \n",
    "#d2 = np.copy(d)\n",
    "#d3 = np.copy(d)\n",
    "#d4 = np.copy(d)\n",
    "#print(d1,d2,d3,d4)\n",
    "\n",
    "x = 0\n",
    "y = 0\n",
    "z = 0\n",
    "for i in range(30):\n",
    "  if x < 2:\n",
    "    if d_mean < d[x][y][z] and d[x][y][z] < d_max:\n",
    "      f.insert((x,y,z), 75)\n",
    "      x += 1\n",
    "    elif d_mean == d[x][y][z]:\n",
    "      f.insert((x,y,z), 50)\n",
    "      x += 1 \n",
    "    elif d_min == d[x][y][z]:\n",
    "      f.insert((x,y,z), 0)\n",
    "      x += 1 \n",
    "    elif d_max == d[x][y][z]:\n",
    "      f.insert((x,y,z), 100)\n",
    "      x += 1\n",
    "  elif y < 3:\n",
    "    if d_mean < d[x][y][z] and d[x][y][z] < d_max:\n",
    "      f.insert((x,y,z), 75)\n",
    "      x += 1\n",
    "    elif d_mean == d[x][y][z]:\n",
    "      f.insert((x,y,z), 50)\n",
    "      x += 1 \n",
    "    elif d_min == d[x][y][z]:\n",
    "      f.insert((x,y,z), 0)\n",
    "      x += 1 \n",
    "    elif d_max == d[x][y][z]:\n",
    "      f.insert((x,y,z), 100)\n",
    "      x += 1\n",
    "  elif z < 5:\n",
    "    if d_mean < d[x][y][z] and d[x][y][z] < d_max:\n",
    "      f.insert((x,y,z), 75)\n",
    "      x += 1\n",
    "    elif d_mean == d[x][y][z]:\n",
    "      f.insert((x,y,z), 50)\n",
    "      x += 1 \n",
    "    elif d_min == d[x][y][z]:\n",
    "      f.insert((x,y,z), 0)\n",
    "      x += 1 \n",
    "    elif d_max == d[x][y][z]:\n",
    "      f.insert((x,y,z), 100)\n",
    "      x += 1\n",
    "\n",
    "print(f)\n",
    "print(e)"
   ]
  },
  {
   "cell_type": "code",
   "execution_count": 133,
   "metadata": {},
   "outputs": [],
   "source": [
    "#17. Print d and f. Do you have your expected f?"
   ]
  },
  {
   "cell_type": "code",
   "execution_count": 134,
   "metadata": {},
   "outputs": [],
   "source": [
    "#18. Bonus question: instead of using numbers (i.e. 0, 25, 50, 75, and 100), how to use string values "
   ]
  },
  {
   "cell_type": "code",
   "execution_count": null,
   "metadata": {},
   "outputs": [],
   "source": []
  }
 ],
 "metadata": {
  "kernelspec": {
   "display_name": "Python 3",
   "language": "python",
   "name": "python3"
  },
  "language_info": {
   "codemirror_mode": {
    "name": "ipython",
    "version": 3
   },
   "file_extension": ".py",
   "mimetype": "text/x-python",
   "name": "python",
   "nbconvert_exporter": "python",
   "pygments_lexer": "ipython3",
   "version": "3.6.7"
  }
 },
 "nbformat": 4,
 "nbformat_minor": 2
}
