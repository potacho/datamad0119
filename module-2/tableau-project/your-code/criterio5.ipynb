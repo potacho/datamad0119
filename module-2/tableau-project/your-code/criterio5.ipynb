{
 "cells": [
  {
   "cell_type": "markdown",
   "metadata": {},
   "source": [
    "# Tableau Project (Criterio 5: df_culture)"
   ]
  },
  {
   "cell_type": "code",
   "execution_count": null,
   "metadata": {},
   "outputs": [],
   "source": [
    "#Importo librerias.\n",
    "import pymongo\n",
    "import pandas as pd\n",
    "import re\n",
    "\n",
    "#Creo cursor y dataframe inicial.\n",
    "MongoClient = pymongo.MongoClient\n",
    "client = MongoClient()\n",
    "db = client.companies\n",
    "cursor = db.companies.find()\n",
    "data = list(cursor)\n",
    "df = pd.DataFrame(data)"
   ]
  },
  {
   "cell_type": "code",
   "execution_count": 2,
   "metadata": {},
   "outputs": [],
   "source": [
    "#Análisis de atributos\n",
    "col_float = ['deadpooled_day','deadpooled_month','deadpooled_year','founded_day','founded_month',\n",
    "             'founded_year','number_of_employees']\n",
    "col_obj = ['_id','acquisition','acquisitions','alias_list','blog_feed_url','blog_url','category_code',\n",
    "           'competitions','created_at','crunchbase_url','deadpooled_url','description','email_address',\n",
    "        'external_links','funding_rounds','homepage_url','image','investments','ipo','milestones', \n",
    "           'name','offices','overview','partners','permalink','phone_number','products','providerships',\n",
    "        'relationships','screenshots','tag_list','total_money_raised','twitter_username','updated_at',\n",
    "           'video_embeds']\n",
    "col_drop1 = ['deadpooled_day','deadpooled_month','founded_day','founded_month','alias_list','blog_feed_url',\n",
    "             'blog_url','created_at','crunchbase_url','deadpooled_url','email_address','external_links',\n",
    "            'image','permalink','phone_number','screenshots','tag_list','updated_at','video_embeds']\n",
    "col_drop2 = ['acquisition','acquisitions','competitions','description','funding_rounds','homepage_url',\n",
    "             'investments','ipo','milestones','partners','products','providerships','relationships',\n",
    "             'twitter_username','overview',]\n",
    "col_ok = ['deadpooled_year','founded_year','number_of_employees','_id','category_code','name','offices',\n",
    "          'total_money_raised']"
   ]
  },
  {
   "cell_type": "code",
   "execution_count": 3,
   "metadata": {},
   "outputs": [
    {
     "name": "stdout",
     "output_type": "stream",
     "text": [
      "7934\n"
     ]
    }
   ],
   "source": [
    "#Primera fase de limpieza de datos.\n",
    "df_drop1 = df.drop(col_drop1, axis=1)\n",
    "df_drop2 = df_drop1.drop(col_drop2, axis=1)\n",
    "\n",
    "#Eliminación de registros correspondientes a empresas en 'deadpool'.\n",
    "df_deadnull = df_drop2[df_drop2['deadpooled_year'].isnull()]\n",
    "\n",
    "#Eliminación de registros con valor 'null'\n",
    "df_nulls = df_deadnull.dropna(subset=['founded_year','number_of_employees','name','offices',\n",
    "          'total_money_raised'])\n",
    "#Verificación de la longitud del nuevo dataset.\n",
    "print(len(df_nulls))"
   ]
  },
  {
   "cell_type": "code",
   "execution_count": 4,
   "metadata": {},
   "outputs": [
    {
     "name": "stdout",
     "output_type": "stream",
     "text": [
      "3752\n"
     ]
    }
   ],
   "source": [
    "#Elección de columnas relevantes para el criterio.\n",
    "col_cat = ['games_video','web','software']\n",
    "df_cat = df_nulls[df_nulls['category_code'].isin(col_cat)]\\\n",
    ".drop(['_id','deadpooled_year'], axis=1)\n",
    "\n",
    "#Verificación de la longitud del nuevo dataset.\n",
    "print(len(df_cat))"
   ]
  },
  {
   "cell_type": "code",
   "execution_count": 5,
   "metadata": {},
   "outputs": [],
   "source": [
    "#Definición de funciones para modificación de tipo de datos.\n",
    "\n",
    "#Transforma un dato tipo float a uno tipo int.\n",
    "def float_to_int(flt):\n",
    "    integer = int(flt)\n",
    "    return integer\n",
    "\n",
    "#Transforma un dato tipo str en int devolviendo solo el número.\n",
    "def str_to_int(strg):\n",
    "    string = re.findall('\\d+', strg )\n",
    "    integer = int(string[0])*1000\n",
    "    return integer"
   ]
  },
  {
   "cell_type": "code",
   "execution_count": 6,
   "metadata": {},
   "outputs": [
    {
     "name": "stdout",
     "output_type": "stream",
     "text": [
      "175\n"
     ]
    }
   ],
   "source": [
    "#Aplicación de funciones sobre los registros.\n",
    "df_regout = df_cat.copy()\n",
    "df_regout['total_money_raised'] = df_regout['total_money_raised'].apply(str_to_int)\n",
    "df_regout['founded_year'] = df_regout['founded_year'].apply(float_to_int)\n",
    "\n",
    "#Eliminación de registros irrelevantes según criterio.\n",
    "#df_regout = df_regout[df_regout.total_money_raised == 0]\n",
    "#df_regout = df_regout[df_regout.number_of_employees != 0]\n",
    "df_regout = df_regout[df_regout.founded_year >= 2009]\n",
    "df_regout = df_regout[df_regout['offices'].map(len) > 0]\n",
    "\n",
    "#Verificación de la longitud del nuevo dataset.\n",
    "print(len(df_regout))"
   ]
  },
  {
   "cell_type": "code",
   "execution_count": 7,
   "metadata": {},
   "outputs": [],
   "source": [
    "#Función para la creación de los valores de ubicación en formato GeoJson.\n",
    "def nested_to_list(dicts):\n",
    "    lat_lon = [{\"type\":\"Point\",\"coordinates\":[l['longitude'],l['latitude']]} for l in dicts]\n",
    "    lst = lat_lon[0]\n",
    "    long = lst['coordinates'][0]\n",
    "    if long != None:\n",
    "        return lst\n",
    "    else:\n",
    "        return 0"
   ]
  },
  {
   "cell_type": "code",
   "execution_count": 8,
   "metadata": {},
   "outputs": [],
   "source": [
    "#Aplicación de función para la creación de los valores de ubicación en formato GeoJson.\n",
    "df_colout = df_regout.copy()\n",
    "df_colout['offices'] = df_colout['offices'].apply(nested_to_list)"
   ]
  },
  {
   "cell_type": "code",
   "execution_count": 9,
   "metadata": {},
   "outputs": [
    {
     "name": "stdout",
     "output_type": "stream",
     "text": [
      "128\n"
     ]
    },
    {
     "data": {
      "text/html": [
       "<div>\n",
       "<style scoped>\n",
       "    .dataframe tbody tr th:only-of-type {\n",
       "        vertical-align: middle;\n",
       "    }\n",
       "\n",
       "    .dataframe tbody tr th {\n",
       "        vertical-align: top;\n",
       "    }\n",
       "\n",
       "    .dataframe thead th {\n",
       "        text-align: right;\n",
       "    }\n",
       "</style>\n",
       "<table border=\"1\" class=\"dataframe\">\n",
       "  <thead>\n",
       "    <tr style=\"text-align: right;\">\n",
       "      <th></th>\n",
       "      <th>category_code</th>\n",
       "      <th>founded_year</th>\n",
       "      <th>name</th>\n",
       "      <th>number_of_employees</th>\n",
       "      <th>offices</th>\n",
       "      <th>total_money_raised</th>\n",
       "    </tr>\n",
       "  </thead>\n",
       "  <tbody>\n",
       "    <tr>\n",
       "      <th>552</th>\n",
       "      <td>web</td>\n",
       "      <td>2012</td>\n",
       "      <td>headr</td>\n",
       "      <td>8.0</td>\n",
       "      <td>{'type': 'Point', 'coordinates': [13.4109071, ...</td>\n",
       "      <td>0</td>\n",
       "    </tr>\n",
       "    <tr>\n",
       "      <th>612</th>\n",
       "      <td>web</td>\n",
       "      <td>2013</td>\n",
       "      <td>Fixya</td>\n",
       "      <td>30.0</td>\n",
       "      <td>{'type': 'Point', 'coordinates': [-122.323895,...</td>\n",
       "      <td>8000</td>\n",
       "    </tr>\n",
       "    <tr>\n",
       "      <th>685</th>\n",
       "      <td>games_video</td>\n",
       "      <td>2009</td>\n",
       "      <td>alluc</td>\n",
       "      <td>7.0</td>\n",
       "      <td>{'type': 'Point', 'coordinates': [10.023246, 5...</td>\n",
       "      <td>0</td>\n",
       "    </tr>\n",
       "    <tr>\n",
       "      <th>1424</th>\n",
       "      <td>games_video</td>\n",
       "      <td>2011</td>\n",
       "      <td>Social Gaming Network</td>\n",
       "      <td>100.0</td>\n",
       "      <td>{'type': 'Point', 'coordinates': [-122.161523,...</td>\n",
       "      <td>17000</td>\n",
       "    </tr>\n",
       "    <tr>\n",
       "      <th>1898</th>\n",
       "      <td>games_video</td>\n",
       "      <td>2009</td>\n",
       "      <td>Crootpad</td>\n",
       "      <td>2.0</td>\n",
       "      <td>{'type': 'Point', 'coordinates': [-88.288749, ...</td>\n",
       "      <td>0</td>\n",
       "    </tr>\n",
       "  </tbody>\n",
       "</table>\n",
       "</div>"
      ],
      "text/plain": [
       "     category_code  founded_year                   name  number_of_employees  \\\n",
       "552            web          2012                  headr                  8.0   \n",
       "612            web          2013                  Fixya                 30.0   \n",
       "685    games_video          2009                  alluc                  7.0   \n",
       "1424   games_video          2011  Social Gaming Network                100.0   \n",
       "1898   games_video          2009               Crootpad                  2.0   \n",
       "\n",
       "                                                offices  total_money_raised  \n",
       "552   {'type': 'Point', 'coordinates': [13.4109071, ...                   0  \n",
       "612   {'type': 'Point', 'coordinates': [-122.323895,...                8000  \n",
       "685   {'type': 'Point', 'coordinates': [10.023246, 5...                   0  \n",
       "1424  {'type': 'Point', 'coordinates': [-122.161523,...               17000  \n",
       "1898  {'type': 'Point', 'coordinates': [-88.288749, ...                   0  "
      ]
     },
     "metadata": {},
     "output_type": "display_data"
    }
   ],
   "source": [
    "#Eliminación de valores de GeoJson nulos.\n",
    "df_geoout = df_colout.copy()\n",
    "df_geoout = df_geoout[df_geoout.offices != 0]\n",
    "\n",
    "#Verificación de la longitud del nuevo dataset.\n",
    "print(len(df_geoout))\n",
    "\n",
    "#Vista del dataset definitivo antes de generar .json\n",
    "display(df_geoout.head())"
   ]
  },
  {
   "cell_type": "code",
   "execution_count": 10,
   "metadata": {},
   "outputs": [],
   "source": [
    "#Creación del fichero .json para generar nueva 'collection' en MongoDB\n",
    "df_geoout.to_json('culture.json', orient=\"records\", lines=True)"
   ]
  },
  {
   "cell_type": "markdown",
   "metadata": {},
   "source": [
    "### Se importa .json en MongoDB para generar collection y aplicar operador geoespacial '$near'\n",
    "Nombre de la collection creada: **culture**"
   ]
  },
  {
   "cell_type": "code",
   "execution_count": 27,
   "metadata": {},
   "outputs": [],
   "source": [
    "#Se define función para aplicar operador geoespacial '$near'\n",
    "def concentration(company):\n",
    "    cursor_near = db.culture.find({\n",
    "      \"offices\": {\n",
    "        \"$near\": {\n",
    "          \"$geometry\": {\n",
    "            \"type\": \"Point\",\n",
    "            \"coordinates\": [company['offices']['coordinates'][0], company['offices']['coordinates'][1]]\n",
    "          },\n",
    "          \"$minDistance\": 0,\n",
    "          \"$maxDistance\":5000\n",
    "        }\n",
    "      }\n",
    "    })\n",
    "    return list(cursor_near)"
   ]
  },
  {
   "cell_type": "code",
   "execution_count": 28,
   "metadata": {},
   "outputs": [
    {
     "name": "stdout",
     "output_type": "stream",
     "text": [
      "128 \n",
      "\n",
      "[4, 1, 4, 3, 1, 2, 1, 2, 1, 1, 1, 2, 1, 1, 1, 1, 4, 1, 8, 2, 1, 5, 10, 2, 1, 8, 3, 1, 1, 1, 1, 2, 1, 7, 2, 2, 2, 1, 1, 8, 1, 1, 1, 1, 1, 4, 1, 1, 1, 1, 4, 2, 1, 1, 1, 1, 8, 2, 3, 1, 1, 2, 2, 1, 1, 1, 5, 4, 1, 3, 1, 4, 1, 2, 1, 1, 2, 1, 1, 1, 2, 1, 1, 1, 1, 1, 3, 2, 1, 1, 1, 2, 1, 1, 1, 10, 1, 1, 9, 1, 1, 6, 5, 1, 2, 5, 4, 3, 1, 1, 1, 2, 5, 5, 1, 1, 1, 2, 1, 10, 1, 2, 1, 2, 1, 10, 2, 2] \n",
      "\n",
      "10 \n",
      "\n"
     ]
    }
   ],
   "source": [
    "#Aplicación de la función para cada documento de la colección respecto al resto de documentos\n",
    "cursor_geojson = db.culture.find()\n",
    "clusters = []\n",
    "for element in cursor_geojson:\n",
    "    clusters.append(len(concentration(element)))\n",
    "\n",
    "#Verificación de la longitud del cursor (total de iteraciones).\n",
    "print(len(clusters),'\\n')\n",
    "\n",
    "#Visualización del total de coincidencias para cada documento.\n",
    "print(clusters,'\\n')\n",
    "\n",
    "#Máximo número de coincidencias.\n",
    "print(max(clusters),'\\n')"
   ]
  },
  {
   "cell_type": "code",
   "execution_count": 29,
   "metadata": {},
   "outputs": [
    {
     "name": "stdout",
     "output_type": "stream",
     "text": [
      "[[-73.987764, 40.744618], [-73.9918181, 40.7489381], [-74.00717, 40.7408042], [-73.9918181, 40.7489381]]\n"
     ]
    }
   ],
   "source": [
    "#Extracción de coordenadas geográficas con mayor número de coincidencias dentro del criterio.\n",
    "target = list(db.culture.find())\n",
    "targets = []\n",
    "for i in range(len(clusters)):\n",
    "    if clusters[i] == max(clusters):\n",
    "        targets.append([target[i]['offices']['coordinates'][0], target[i]['offices']['coordinates'][1]])\n",
    "\n",
    "#Visualización de los pares de coordenadas resultantes.\n",
    "print(targets)"
   ]
  },
  {
   "cell_type": "code",
   "execution_count": 30,
   "metadata": {},
   "outputs": [
    {
     "data": {
      "text/html": [
       "<div>\n",
       "<style scoped>\n",
       "    .dataframe tbody tr th:only-of-type {\n",
       "        vertical-align: middle;\n",
       "    }\n",
       "\n",
       "    .dataframe tbody tr th {\n",
       "        vertical-align: top;\n",
       "    }\n",
       "\n",
       "    .dataframe thead th {\n",
       "        text-align: right;\n",
       "    }\n",
       "</style>\n",
       "<table border=\"1\" class=\"dataframe\">\n",
       "  <thead>\n",
       "    <tr style=\"text-align: right;\">\n",
       "      <th></th>\n",
       "      <th>Longitude</th>\n",
       "      <th>Latitude</th>\n",
       "      <th>Criteria</th>\n",
       "    </tr>\n",
       "  </thead>\n",
       "  <tbody>\n",
       "    <tr>\n",
       "      <th>0</th>\n",
       "      <td>-73.987764</td>\n",
       "      <td>40.744618</td>\n",
       "      <td>Culture</td>\n",
       "    </tr>\n",
       "    <tr>\n",
       "      <th>1</th>\n",
       "      <td>-73.991818</td>\n",
       "      <td>40.748938</td>\n",
       "      <td>Culture</td>\n",
       "    </tr>\n",
       "    <tr>\n",
       "      <th>2</th>\n",
       "      <td>-74.007170</td>\n",
       "      <td>40.740804</td>\n",
       "      <td>Culture</td>\n",
       "    </tr>\n",
       "    <tr>\n",
       "      <th>3</th>\n",
       "      <td>-73.991818</td>\n",
       "      <td>40.748938</td>\n",
       "      <td>Culture</td>\n",
       "    </tr>\n",
       "  </tbody>\n",
       "</table>\n",
       "</div>"
      ],
      "text/plain": [
       "   Longitude   Latitude Criteria\n",
       "0 -73.987764  40.744618  Culture\n",
       "1 -73.991818  40.748938  Culture\n",
       "2 -74.007170  40.740804  Culture\n",
       "3 -73.991818  40.748938  Culture"
      ]
     },
     "metadata": {},
     "output_type": "display_data"
    }
   ],
   "source": [
    "#Creación de dataframe para Plateau.\n",
    "long_lat = ['Longitude','Latitude']\n",
    "df_culture = pd.DataFrame(targets, columns=long_lat)\n",
    "df_culture['Criteria'] = 'Culture'\n",
    "\n",
    "#Visualización del dataframe final dentro del criterio.\n",
    "display(df_culture)"
   ]
  },
  {
   "cell_type": "code",
   "execution_count": 31,
   "metadata": {},
   "outputs": [],
   "source": [
    "#Creación de fichero .json para visualización en Plateau.\n",
    "df_culture.to_json('df_culture.json', orient=\"records\", lines=True)"
   ]
  },
  {
   "cell_type": "code",
   "execution_count": null,
   "metadata": {},
   "outputs": [],
   "source": []
  }
 ],
 "metadata": {
  "kernelspec": {
   "display_name": "Python 3",
   "language": "python",
   "name": "python3"
  },
  "language_info": {
   "codemirror_mode": {
    "name": "ipython",
    "version": 3
   },
   "file_extension": ".py",
   "mimetype": "text/x-python",
   "name": "python",
   "nbconvert_exporter": "python",
   "pygments_lexer": "ipython3",
   "version": "3.6.7"
  }
 },
 "nbformat": 4,
 "nbformat_minor": 2
}
