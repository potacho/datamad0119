{
 "cells": [
  {
   "cell_type": "markdown",
   "metadata": {},
   "source": [
    "# Tableau Project (Criterio 2: df_cost)"
   ]
  },
  {
   "cell_type": "code",
   "execution_count": 3,
   "metadata": {},
   "outputs": [],
   "source": [
    "#Importo librerias.\n",
    "import pymongo\n",
    "import pandas as pd\n",
    "import re\n",
    "\n",
    "#Creo cursor y dataframe inicial.\n",
    "MongoClient = pymongo.MongoClient\n",
    "client = MongoClient()\n",
    "db = client.companies\n",
    "cursor = db.companies.find()\n",
    "data = list(cursor)\n",
    "df = pd.DataFrame(data)"
   ]
  },
  {
   "cell_type": "code",
   "execution_count": 4,
   "metadata": {},
   "outputs": [],
   "source": [
    "#Análisis de atributos\n",
    "col_float = ['deadpooled_day','deadpooled_month','deadpooled_year','founded_day','founded_month',\n",
    "             'founded_year','number_of_employees']\n",
    "col_obj = ['_id','acquisition','acquisitions','alias_list','blog_feed_url','blog_url','category_code',\n",
    "           'competitions','created_at','crunchbase_url','deadpooled_url','description','email_address',\n",
    "        'external_links','funding_rounds','homepage_url','image','investments','ipo','milestones', \n",
    "           'name','offices','overview','partners','permalink','phone_number','products','providerships',\n",
    "        'relationships','screenshots','tag_list','total_money_raised','twitter_username','updated_at',\n",
    "           'video_embeds']\n",
    "col_drop1 = ['deadpooled_day','deadpooled_month','founded_day','founded_month','alias_list','blog_feed_url',\n",
    "             'blog_url','created_at','crunchbase_url','deadpooled_url','email_address','external_links',\n",
    "            'image','permalink','phone_number','screenshots','tag_list','updated_at','video_embeds']\n",
    "col_drop2 = ['acquisition','acquisitions','competitions','description','funding_rounds','homepage_url',\n",
    "             'investments','ipo','milestones','partners','products','providerships','relationships',\n",
    "             'twitter_username','overview',]\n",
    "col_ok = ['deadpooled_year','founded_year','number_of_employees','_id','category_code','name','offices',\n",
    "          'total_money_raised']"
   ]
  },
  {
   "cell_type": "code",
   "execution_count": 5,
   "metadata": {},
   "outputs": [
    {
     "name": "stdout",
     "output_type": "stream",
     "text": [
      "7934\n"
     ]
    }
   ],
   "source": [
    "#Primera fase de limpieza de datos.\n",
    "df_drop1 = df.drop(col_drop1, axis=1)\n",
    "df_drop2 = df_drop1.drop(col_drop2, axis=1)\n",
    "\n",
    "#Eliminación de registros correspondientes a empresas en 'deadpool'.\n",
    "df_deadnull = df_drop2[df_drop2['deadpooled_year'].isnull()]\n",
    "\n",
    "#Eliminación de registros con valor 'null'\n",
    "df_nulls = df_deadnull.dropna(subset=['founded_year','number_of_employees','name','offices',\n",
    "          'total_money_raised'])\n",
    "#Verificación de la longitud del nuevo dataset.\n",
    "print(len(df_nulls))"
   ]
  },
  {
   "cell_type": "code",
   "execution_count": 6,
   "metadata": {},
   "outputs": [
    {
     "name": "stdout",
     "output_type": "stream",
     "text": [
      "3752\n"
     ]
    }
   ],
   "source": [
    "#Elección de columnas relevantes para el criterio.\n",
    "col_cat = ['games_video','web','software']\n",
    "df_cat = df_nulls[df_nulls['category_code'].isin(col_cat)]\\\n",
    ".drop(['_id','deadpooled_year'], axis=1)\n",
    "\n",
    "#Verificación de la longitud del nuevo dataset.\n",
    "print(len(df_cat))"
   ]
  },
  {
   "cell_type": "code",
   "execution_count": 7,
   "metadata": {},
   "outputs": [],
   "source": [
    "#Definición de funciones para modificación de tipo de datos.\n",
    "\n",
    "#Transforma un dato tipo float a uno tipo int.\n",
    "def float_to_int(flt):\n",
    "    integer = int(flt)\n",
    "    return integer\n",
    "\n",
    "#Transforma un dato tipo str en int devolviendo solo el número.\n",
    "def str_to_int(strg):\n",
    "    string = re.findall('\\d+', strg )\n",
    "    integer = int(string[0])*1000\n",
    "    return integer"
   ]
  },
  {
   "cell_type": "code",
   "execution_count": 8,
   "metadata": {},
   "outputs": [
    {
     "name": "stdout",
     "output_type": "stream",
     "text": [
      "2289\n"
     ]
    }
   ],
   "source": [
    "#Aplicación de funciones sobre los registros.\n",
    "df_regout = df_cat.copy()\n",
    "df_regout['total_money_raised'] = df_regout['total_money_raised'].apply(str_to_int)\n",
    "df_regout['founded_year'] = df_regout['founded_year'].apply(float_to_int)\n",
    "\n",
    "#Eliminación de registros irrelevantes según criterio.\n",
    "df_regout = df_regout[df_regout.total_money_raised == 0]\n",
    "df_regout = df_regout[df_regout.number_of_employees != 0]\n",
    "df_regout = df_regout[df_regout['offices'].map(len) > 0]\n",
    "\n",
    "#Verificación de la longitud del nuevo dataset.\n",
    "print(len(df_regout))"
   ]
  },
  {
   "cell_type": "code",
   "execution_count": 9,
   "metadata": {},
   "outputs": [],
   "source": [
    "#Función para la creación de los valores de ubicación en formato GeoJson.\n",
    "def nested_to_list(dicts):\n",
    "    lat_lon = [{\"type\":\"Point\",\"coordinates\":[l['longitude'],l['latitude']]} for l in dicts]\n",
    "    lst = lat_lon[0]\n",
    "    long = lst['coordinates'][0]\n",
    "    if long != None:\n",
    "        return lst\n",
    "    else:\n",
    "        return 0"
   ]
  },
  {
   "cell_type": "code",
   "execution_count": 10,
   "metadata": {},
   "outputs": [],
   "source": [
    "#Aplicación de función para la creación de los valores de ubicación en formato GeoJson.\n",
    "df_colout = df_regout.copy()\n",
    "df_colout['offices'] = df_colout['offices'].apply(nested_to_list)"
   ]
  },
  {
   "cell_type": "code",
   "execution_count": 11,
   "metadata": {},
   "outputs": [
    {
     "name": "stdout",
     "output_type": "stream",
     "text": [
      "1702\n"
     ]
    },
    {
     "data": {
      "text/html": [
       "<div>\n",
       "<style scoped>\n",
       "    .dataframe tbody tr th:only-of-type {\n",
       "        vertical-align: middle;\n",
       "    }\n",
       "\n",
       "    .dataframe tbody tr th {\n",
       "        vertical-align: top;\n",
       "    }\n",
       "\n",
       "    .dataframe thead th {\n",
       "        text-align: right;\n",
       "    }\n",
       "</style>\n",
       "<table border=\"1\" class=\"dataframe\">\n",
       "  <thead>\n",
       "    <tr style=\"text-align: right;\">\n",
       "      <th></th>\n",
       "      <th>category_code</th>\n",
       "      <th>founded_year</th>\n",
       "      <th>name</th>\n",
       "      <th>number_of_employees</th>\n",
       "      <th>offices</th>\n",
       "      <th>total_money_raised</th>\n",
       "    </tr>\n",
       "  </thead>\n",
       "  <tbody>\n",
       "    <tr>\n",
       "      <th>57</th>\n",
       "      <td>web</td>\n",
       "      <td>2003</td>\n",
       "      <td>Ikan</td>\n",
       "      <td>5.0</td>\n",
       "      <td>{'type': 'Point', 'coordinates': [-73.563878, ...</td>\n",
       "      <td>0</td>\n",
       "    </tr>\n",
       "    <tr>\n",
       "      <th>62</th>\n",
       "      <td>web</td>\n",
       "      <td>2007</td>\n",
       "      <td>Pownce</td>\n",
       "      <td>6.0</td>\n",
       "      <td>{'type': 'Point', 'coordinates': [-122.397224,...</td>\n",
       "      <td>0</td>\n",
       "    </tr>\n",
       "    <tr>\n",
       "      <th>86</th>\n",
       "      <td>web</td>\n",
       "      <td>2005</td>\n",
       "      <td>ClipBlast!</td>\n",
       "      <td>15.0</td>\n",
       "      <td>{'type': 'Point', 'coordinates': [-118.756618,...</td>\n",
       "      <td>0</td>\n",
       "    </tr>\n",
       "    <tr>\n",
       "      <th>93</th>\n",
       "      <td>web</td>\n",
       "      <td>2006</td>\n",
       "      <td>Zamzar</td>\n",
       "      <td>2.0</td>\n",
       "      <td>{'type': 'Point', 'coordinates': [-1.3610845, ...</td>\n",
       "      <td>0</td>\n",
       "    </tr>\n",
       "    <tr>\n",
       "      <th>112</th>\n",
       "      <td>web</td>\n",
       "      <td>2007</td>\n",
       "      <td>CrowdVine</td>\n",
       "      <td>10.0</td>\n",
       "      <td>{'type': 'Point', 'coordinates': [-122.511687,...</td>\n",
       "      <td>0</td>\n",
       "    </tr>\n",
       "  </tbody>\n",
       "</table>\n",
       "</div>"
      ],
      "text/plain": [
       "    category_code  founded_year        name  number_of_employees  \\\n",
       "57            web          2003        Ikan                  5.0   \n",
       "62            web          2007      Pownce                  6.0   \n",
       "86            web          2005  ClipBlast!                 15.0   \n",
       "93            web          2006      Zamzar                  2.0   \n",
       "112           web          2007   CrowdVine                 10.0   \n",
       "\n",
       "                                               offices  total_money_raised  \n",
       "57   {'type': 'Point', 'coordinates': [-73.563878, ...                   0  \n",
       "62   {'type': 'Point', 'coordinates': [-122.397224,...                   0  \n",
       "86   {'type': 'Point', 'coordinates': [-118.756618,...                   0  \n",
       "93   {'type': 'Point', 'coordinates': [-1.3610845, ...                   0  \n",
       "112  {'type': 'Point', 'coordinates': [-122.511687,...                   0  "
      ]
     },
     "metadata": {},
     "output_type": "display_data"
    }
   ],
   "source": [
    "#Eliminación de valores de GeoJson nulos.\n",
    "df_geoout = df_colout.copy()\n",
    "df_geoout = df_geoout[df_geoout.offices != 0]\n",
    "\n",
    "#Verificación de la longitud del nuevo dataset.\n",
    "print(len(df_geoout))\n",
    "\n",
    "#Vista del dataset definitivo antes de generar .json\n",
    "display(df_geoout.head())"
   ]
  },
  {
   "cell_type": "code",
   "execution_count": 12,
   "metadata": {},
   "outputs": [],
   "source": [
    "#Creación del fichero .json para generar nueva 'collection' en MongoDB\n",
    "df_geoout.to_json('cost.json', orient=\"records\", lines=True)"
   ]
  },
  {
   "cell_type": "markdown",
   "metadata": {},
   "source": [
    "### Se importa .json en MongoDB para generar collection y aplicar operador geoespacial '$near'\n",
    "Nombre de la collection creada: **cost**"
   ]
  },
  {
   "cell_type": "code",
   "execution_count": 13,
   "metadata": {},
   "outputs": [],
   "source": [
    "#Se define función para aplicar operador geoespacial '$near'\n",
    "def concentration(company):\n",
    "    cursor_near = db.cost.find({\n",
    "      \"offices\": {\n",
    "        \"$near\": {\n",
    "          \"$geometry\": {\n",
    "            \"type\": \"Point\",\n",
    "            \"coordinates\": [company['offices']['coordinates'][0], company['offices']['coordinates'][1]]\n",
    "          },\n",
    "          \"$minDistance\": 0,\n",
    "          \"$maxDistance\":10000\n",
    "        }\n",
    "      }\n",
    "    })\n",
    "    return list(cursor_near)"
   ]
  },
  {
   "cell_type": "code",
   "execution_count": 14,
   "metadata": {},
   "outputs": [
    {
     "name": "stdout",
     "output_type": "stream",
     "text": [
      "1702 \n",
      "\n",
      "[4, 1, 3, 62, 3, 27, 28, 1, 62, 40, 15, 1, 1, 62, 19, 9, 1, 17, 1, 3, 13, 3, 1, 2, 17, 6, 7, 62, 6, 11, 12, 1, 1, 5, 10, 3, 61, 3, 4, 1, 2, 20, 62, 2, 2, 23, 1, 2, 10, 6, 16, 15, 23, 22, 18, 9, 2, 6, 6, 7, 61, 4, 15, 82, 82, 5, 6, 4, 29, 15, 6, 1, 3, 3, 14, 63, 21, 12, 1, 1, 5, 2, 1, 2, 1, 6, 13, 1, 1, 7, 23, 21, 3, 13, 1, 22, 19, 23, 47, 82, 12, 23, 1, 25, 1, 3, 2, 61, 80, 29, 61, 3, 1, 82, 2, 3, 13, 3, 61, 24, 16, 1, 7, 8, 9, 16, 16, 82, 2, 2, 1, 3, 61, 6, 2, 20, 23, 1, 3, 8, 1, 7, 5, 6, 43, 1, 42, 38, 29, 15, 7, 18, 16, 35, 1, 1, 5, 2, 11, 4, 3, 1, 61, 35, 82, 82, 34, 82, 1, 51, 1, 1, 3, 20, 1, 1, 62, 23, 29, 12, 1, 8, 1, 1, 1, 81, 17, 5, 2, 1, 7, 1, 1, 1, 22, 83, 17, 2, 2, 62, 6, 1, 3, 19, 3, 1, 1, 36, 14, 61, 12, 62, 5, 82, 16, 1, 35, 6, 4, 37, 9, 29, 8, 18, 1, 9, 21, 27, 8, 3, 18, 29, 13, 1, 1, 1, 62, 5, 1, 21, 8, 6, 1, 2, 17, 7, 35, 21, 3, 7, 1, 82, 7, 17, 82, 1, 21, 5, 3, 3, 3, 2, 45, 1, 5, 21, 2, 4, 1, 25, 3, 1, 6, 1, 2, 24, 2, 3, 2, 10, 5, 63, 2, 2, 22, 18, 4, 2, 6, 62, 10, 2, 3, 62, 1, 2, 2, 6, 1, 4, 9, 22, 3, 17, 6, 81, 6, 61, 1, 7, 1, 5, 2, 11, 37, 1, 36, 13, 61, 12, 1, 10, 3, 3, 1, 2, 7, 62, 1, 3, 3, 1, 25, 3, 1, 1, 1, 45, 26, 1, 1, 2, 13, 82, 11, 2, 1, 1, 2, 1, 35, 62, 9, 3, 3, 16, 81, 2, 2, 68, 2, 63, 30, 2, 1, 6, 2, 6, 1, 2, 38, 14, 1, 17, 44, 3, 10, 8, 2, 46, 7, 3, 5, 12, 61, 51, 10, 17, 17, 31, 61, 5, 1, 2, 1, 8, 2, 82, 1, 2, 9, 21, 3, 2, 62, 1, 1, 2, 18, 1, 3, 63, 13, 11, 2, 1, 1, 1, 1, 5, 3, 19, 37, 9, 21, 11, 45, 1, 16, 12, 6, 13, 18, 1, 32, 6, 1, 83, 5, 82, 82, 5, 1, 22, 9, 1, 5, 10, 1, 2, 1, 6, 4, 17, 23, 1, 6, 1, 1, 1, 12, 29, 3, 1, 9, 6, 12, 82, 35, 1, 21, 10, 1, 2, 2, 5, 43, 2, 4, 62, 13, 1, 82, 14, 81, 15, 12, 82, 3, 1, 13, 7, 19, 4, 17, 9, 2, 1, 9, 1, 82, 3, 1, 7, 18, 1, 61, 1, 61, 16, 2, 31, 20, 1, 1, 2, 2, 15, 1, 1, 13, 9, 2, 17, 7, 1, 19, 35, 8, 19, 19, 82, 2, 6, 1, 3, 1, 1, 16, 9, 2, 27, 1, 82, 16, 8, 6, 21, 5, 4, 12, 21, 2, 12, 16, 83, 13, 1, 2, 23, 29, 62, 82, 10, 61, 1, 9, 1, 9, 2, 2, 16, 3, 16, 2, 1, 1, 3, 1, 2, 8, 7, 4, 38, 4, 1, 2, 6, 2, 7, 1, 21, 3, 6, 43, 61, 7, 21, 1, 2, 1, 3, 2, 1, 19, 1, 3, 1, 10, 1, 82, 4, 21, 5, 81, 6, 14, 1, 4, 1, 1, 5, 9, 24, 1, 37, 15, 1, 1, 43, 1, 23, 12, 3, 2, 23, 1, 3, 7, 45, 37, 21, 8, 33, 42, 3, 36, 12, 1, 43, 9, 8, 3, 1, 11, 22, 3, 1, 34, 3, 2, 16, 82, 3, 2, 26, 2, 1, 14, 6, 3, 10, 29, 4, 13, 2, 3, 20, 9, 3, 2, 2, 6, 3, 62, 7, 15, 2, 2, 8, 3, 4, 3, 2, 4, 11, 3, 3, 2, 4, 62, 2, 2, 35, 2, 16, 82, 7, 3, 2, 2, 5, 35, 2, 8, 11, 14, 11, 8, 2, 2, 21, 11, 2, 2, 2, 2, 4, 20, 10, 3, 3, 2, 5, 2, 13, 4, 2, 15, 3, 6, 2, 25, 3, 35, 4, 9, 13, 2, 82, 2, 10, 61, 81, 82, 12, 3, 26, 2, 2, 24, 13, 82, 10, 29, 20, 2, 3, 9, 3, 4, 8, 6, 7, 6, 62, 3, 2, 3, 11, 2, 2, 15, 3, 3, 2, 2, 3, 4, 4, 2, 4, 3, 2, 2, 35, 7, 16, 35, 2, 3, 82, 2, 2, 62, 11, 11, 8, 11, 2, 14, 2, 8, 5, 2, 2, 3, 2, 21, 2, 2, 2, 20, 4, 6, 2, 3, 10, 5, 2, 13, 4, 2, 2, 25, 3, 10, 3, 15, 35, 4, 9, 82, 12, 82, 13, 2, 24, 81, 61, 1, 3, 1, 3, 15, 4, 4, 1, 44, 35, 1, 16, 12, 30, 13, 1, 24, 16, 1, 1, 35, 81, 1, 37, 1, 1, 4, 2, 16, 3, 16, 3, 10, 7, 1, 1, 13, 8, 1, 3, 5, 8, 24, 1, 1, 1, 3, 1, 1, 1, 29, 5, 29, 7, 1, 3, 1, 1, 1, 17, 1, 5, 1, 11, 44, 1, 4, 1, 4, 1, 17, 22, 10, 3, 1, 14, 1, 18, 18, 15, 3, 18, 1, 82, 1, 1, 10, 1, 8, 1, 3, 4, 21, 11, 11, 1, 2, 29, 4, 8, 1, 8, 1, 12, 16, 22, 1, 3, 2, 21, 1, 28, 1, 16, 19, 2, 1, 1, 1, 1, 5, 1, 1, 1, 2, 4, 3, 63, 21, 5, 1, 82, 14, 14, 2, 10, 61, 1, 6, 62, 3, 42, 3, 62, 3, 1, 8, 3, 16, 23, 3, 20, 13, 4, 1, 28, 1, 29, 9, 26, 1, 1, 4, 6, 23, 1, 1, 1, 1, 2, 29, 1, 6, 6, 4, 16, 1, 43, 2, 3, 29, 82, 1, 1, 82, 1, 14, 2, 21, 2, 3, 39, 1, 28, 15, 1, 29, 1, 13, 83, 1, 1, 12, 13, 1, 9, 21, 82, 2, 26, 4, 2, 3, 61, 2, 7, 2, 4, 2, 6, 2, 2, 1, 7, 29, 16, 2, 8, 10, 21, 23, 82, 6, 15, 5, 9, 1, 3, 4, 1, 1, 2, 2, 2, 7, 4, 7, 4, 7, 4, 1, 1, 61, 82, 3, 1, 1, 17, 1, 1, 6, 8, 2, 4, 5, 59, 9, 61, 2, 1, 13, 1, 1, 22, 8, 8, 5, 82, 8, 2, 8, 31, 62, 8, 4, 2, 8, 37, 1, 8, 21, 80, 20, 43, 29, 6, 3, 3, 24, 3, 16, 13, 2, 10, 1, 8, 2, 61, 4, 1, 3, 43, 6, 23, 21, 2, 82, 28, 6, 19, 2, 1, 3, 7, 32, 4, 25, 7, 1, 1, 6, 1, 6, 1, 1, 5, 13, 1, 3, 21, 20, 1, 1, 7, 7, 5, 1, 1, 1, 1, 1, 1, 46, 36, 5, 80, 5, 1, 45, 14, 7, 3, 1, 1, 1, 6, 1, 1, 46, 22, 1, 3, 16, 1, 7, 1, 1, 20, 4, 37, 1, 4, 5, 17, 13, 30, 3, 46, 2, 37, 82, 5, 13, 4, 1, 2, 8, 1, 1, 9, 3, 2, 35, 6, 1, 6, 4, 7, 1, 2, 3, 14, 3, 1, 18, 2, 9, 4, 1, 1, 3, 6, 7, 3, 3, 21, 37, 8, 3, 19, 1, 44, 61, 4, 1, 9, 36, 6, 23, 16, 7, 1, 2, 2, 1, 3, 1, 2, 4, 18, 83, 5, 1, 28, 1, 21, 2, 3, 82, 1, 1, 6, 6, 8, 5, 8, 1, 2, 3, 1, 82, 34, 1, 1, 2, 1, 1, 82, 3, 6, 1, 9, 12, 4, 1, 1, 1, 1, 2, 34, 5, 1, 35, 11, 4, 1, 2, 1, 16, 2, 5, 3, 3, 1, 25, 2, 6, 45, 5, 35, 2, 1, 6, 83, 7, 7, 44, 1, 3, 21, 4, 3, 42, 1, 1, 3, 1, 3, 1, 3, 61, 3, 1, 1, 11, 6, 1, 1, 11, 33, 2, 1, 3, 45, 15, 16, 35, 10, 3, 17, 2, 4, 3, 2, 3, 1, 5, 1, 12, 1, 9, 8, 1, 21, 8, 4, 1, 16, 13, 13, 3, 62, 15, 1, 16, 1, 16, 7, 1, 1, 27, 1, 3, 6, 4, 1, 1, 1, 8, 1, 1, 16, 4, 5, 1, 2, 5, 9, 2, 2, 22, 1, 28, 1, 1, 1, 36, 2, 6, 8, 10, 46, 8, 1, 2, 6, 82, 1, 1, 1, 42, 18, 32, 29, 3, 20, 1, 5, 45, 7, 14, 1, 1, 35, 44, 1, 6, 3, 31, 62, 6, 21, 51, 4, 44, 38, 22, 1, 9, 9, 42, 2, 4, 1, 1, 14, 12, 82, 5, 1, 5, 12, 1, 3, 4, 83, 3, 2, 8, 12, 3, 7, 2, 6, 3, 1, 23, 1, 5, 3, 13, 2, 1, 1, 2, 2, 8, 8, 1, 6, 82, 5, 17, 10, 1, 7, 28, 28, 5, 1, 9, 10, 24, 1, 1, 82, 13, 1, 23, 6, 3, 3, 82, 1, 2, 2, 4, 1, 4, 82, 5, 1, 21, 17, 1, 1, 9, 1, 24, 6, 3, 2, 81, 46, 82, 17, 1, 13, 21, 1, 82, 1, 82, 6, 2, 3, 8, 1, 7, 2, 12, 1, 8, 7, 1, 1, 1, 1, 2, 1, 2, 19, 29, 42, 11, 1, 1, 5, 29, 62, 9, 2, 7, 3, 45, 61, 13, 2, 1, 1, 5, 8, 1, 82, 1, 23, 41, 20, 8, 2, 3, 11, 82, 42, 2, 6, 1, 1, 42, 5, 1, 82, 29, 44, 16, 77, 5, 16, 62, 2, 9, 7, 1, 2, 14, 18, 31, 5, 7, 2, 61, 9, 2, 4, 9, 1, 1, 36, 1, 13, 12, 17, 7, 25, 82, 28, 1, 21, 61, 2, 7, 82, 76, 82, 31, 2, 1, 1, 2, 1, 63, 8] \n",
      "\n",
      "83 \n",
      "\n"
     ]
    }
   ],
   "source": [
    "#Aplicación de la función para cada documento de la colección respecto al resto de documentos\n",
    "cursor_geojson = db.cost.find()\n",
    "clusters = []\n",
    "for element in cursor_geojson:\n",
    "    clusters.append(len(concentration(element)))\n",
    "\n",
    "#Verificación de la longitud del cursor (total de iteraciones).\n",
    "print(len(clusters),'\\n')\n",
    "\n",
    "#Visualización del total de coincidencias para cada documento.\n",
    "print(clusters,'\\n')\n",
    "\n",
    "#Máximo número de coincidencias.\n",
    "print(max(clusters),'\\n')"
   ]
  },
  {
   "cell_type": "code",
   "execution_count": 15,
   "metadata": {},
   "outputs": [
    {
     "name": "stdout",
     "output_type": "stream",
     "text": [
      "[[-74.00118, 40.718871], [-73.991924, 40.728623], [-73.9447994, 40.727434], [-74.005398, 40.7166822], [-73.976169, 40.727763], [-73.9867361, 40.7297485], [-73.9893359, 40.7277434]]\n"
     ]
    }
   ],
   "source": [
    "#Extracción de coordenadas geográficas con mayor número de coincidencias dentro del criterio.\n",
    "target = list(db.cost.find())\n",
    "targets = []\n",
    "for i in range(len(clusters)):\n",
    "    if clusters[i] == max(clusters):\n",
    "        targets.append([target[i]['offices']['coordinates'][0], target[i]['offices']['coordinates'][1]])\n",
    "\n",
    "#Visualización de los pares de coordenadas resultantes.\n",
    "print(targets)"
   ]
  },
  {
   "cell_type": "code",
   "execution_count": 16,
   "metadata": {},
   "outputs": [
    {
     "data": {
      "text/html": [
       "<div>\n",
       "<style scoped>\n",
       "    .dataframe tbody tr th:only-of-type {\n",
       "        vertical-align: middle;\n",
       "    }\n",
       "\n",
       "    .dataframe tbody tr th {\n",
       "        vertical-align: top;\n",
       "    }\n",
       "\n",
       "    .dataframe thead th {\n",
       "        text-align: right;\n",
       "    }\n",
       "</style>\n",
       "<table border=\"1\" class=\"dataframe\">\n",
       "  <thead>\n",
       "    <tr style=\"text-align: right;\">\n",
       "      <th></th>\n",
       "      <th>Longitude</th>\n",
       "      <th>Latitude</th>\n",
       "      <th>Criteria</th>\n",
       "    </tr>\n",
       "  </thead>\n",
       "  <tbody>\n",
       "    <tr>\n",
       "      <th>0</th>\n",
       "      <td>-74.001180</td>\n",
       "      <td>40.718871</td>\n",
       "      <td>Cost</td>\n",
       "    </tr>\n",
       "    <tr>\n",
       "      <th>1</th>\n",
       "      <td>-73.991924</td>\n",
       "      <td>40.728623</td>\n",
       "      <td>Cost</td>\n",
       "    </tr>\n",
       "    <tr>\n",
       "      <th>2</th>\n",
       "      <td>-73.944799</td>\n",
       "      <td>40.727434</td>\n",
       "      <td>Cost</td>\n",
       "    </tr>\n",
       "    <tr>\n",
       "      <th>3</th>\n",
       "      <td>-74.005398</td>\n",
       "      <td>40.716682</td>\n",
       "      <td>Cost</td>\n",
       "    </tr>\n",
       "    <tr>\n",
       "      <th>4</th>\n",
       "      <td>-73.976169</td>\n",
       "      <td>40.727763</td>\n",
       "      <td>Cost</td>\n",
       "    </tr>\n",
       "    <tr>\n",
       "      <th>5</th>\n",
       "      <td>-73.986736</td>\n",
       "      <td>40.729748</td>\n",
       "      <td>Cost</td>\n",
       "    </tr>\n",
       "    <tr>\n",
       "      <th>6</th>\n",
       "      <td>-73.989336</td>\n",
       "      <td>40.727743</td>\n",
       "      <td>Cost</td>\n",
       "    </tr>\n",
       "  </tbody>\n",
       "</table>\n",
       "</div>"
      ],
      "text/plain": [
       "   Longitude   Latitude Criteria\n",
       "0 -74.001180  40.718871     Cost\n",
       "1 -73.991924  40.728623     Cost\n",
       "2 -73.944799  40.727434     Cost\n",
       "3 -74.005398  40.716682     Cost\n",
       "4 -73.976169  40.727763     Cost\n",
       "5 -73.986736  40.729748     Cost\n",
       "6 -73.989336  40.727743     Cost"
      ]
     },
     "metadata": {},
     "output_type": "display_data"
    }
   ],
   "source": [
    "#Creación de dataframe para Plateau.\n",
    "long_lat = ['Longitude','Latitude']\n",
    "df_cost = pd.DataFrame(targets, columns=long_lat)\n",
    "df_cost['Criteria'] = 'Cost'\n",
    "\n",
    "#Visualización del dataframe final dentro del criterio.\n",
    "display(df_cost)"
   ]
  },
  {
   "cell_type": "code",
   "execution_count": 17,
   "metadata": {},
   "outputs": [],
   "source": [
    "#Creación de fichero .json para visualización en Plateau.\n",
    "df_cost.to_json('df_cost_10km.json', orient=\"records\", lines=True)"
   ]
  },
  {
   "cell_type": "code",
   "execution_count": null,
   "metadata": {},
   "outputs": [],
   "source": []
  }
 ],
 "metadata": {
  "kernelspec": {
   "display_name": "Python 3",
   "language": "python",
   "name": "python3"
  },
  "language_info": {
   "codemirror_mode": {
    "name": "ipython",
    "version": 3
   },
   "file_extension": ".py",
   "mimetype": "text/x-python",
   "name": "python",
   "nbconvert_exporter": "python",
   "pygments_lexer": "ipython3",
   "version": "3.6.7"
  }
 },
 "nbformat": 4,
 "nbformat_minor": 2
}
