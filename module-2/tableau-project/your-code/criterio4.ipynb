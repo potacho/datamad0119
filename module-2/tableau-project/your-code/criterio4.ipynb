{
 "cells": [
  {
   "cell_type": "markdown",
   "metadata": {},
   "source": [
    "# Tableau Project (Criterio 4: df_capacity)"
   ]
  },
  {
   "cell_type": "code",
   "execution_count": 1,
   "metadata": {},
   "outputs": [],
   "source": [
    "#Importo librerias.\n",
    "import pymongo\n",
    "import pandas as pd\n",
    "import re\n",
    "\n",
    "#Creo cursor y dataframe inicial.\n",
    "MongoClient = pymongo.MongoClient\n",
    "client = MongoClient()\n",
    "db = client.companies\n",
    "cursor = db.companies.find()\n",
    "data = list(cursor)\n",
    "df = pd.DataFrame(data)"
   ]
  },
  {
   "cell_type": "code",
   "execution_count": 2,
   "metadata": {},
   "outputs": [],
   "source": [
    "#Análisis de atributos\n",
    "col_float = ['deadpooled_day','deadpooled_month','deadpooled_year','founded_day','founded_month',\n",
    "             'founded_year','number_of_employees']\n",
    "col_obj = ['_id','acquisition','acquisitions','alias_list','blog_feed_url','blog_url','category_code',\n",
    "           'competitions','created_at','crunchbase_url','deadpooled_url','description','email_address',\n",
    "        'external_links','funding_rounds','homepage_url','image','investments','ipo','milestones', \n",
    "           'name','offices','overview','partners','permalink','phone_number','products','providerships',\n",
    "        'relationships','screenshots','tag_list','total_money_raised','twitter_username','updated_at',\n",
    "           'video_embeds']\n",
    "col_drop1 = ['deadpooled_day','deadpooled_month','founded_day','founded_month','alias_list','blog_feed_url',\n",
    "             'blog_url','created_at','crunchbase_url','deadpooled_url','email_address','external_links',\n",
    "            'image','permalink','phone_number','screenshots','tag_list','updated_at','video_embeds']\n",
    "col_drop2 = ['acquisition','acquisitions','competitions','description','funding_rounds','homepage_url',\n",
    "             'investments','ipo','milestones','partners','products','providerships','relationships',\n",
    "             'twitter_username','overview',]\n",
    "col_ok = ['deadpooled_year','founded_year','number_of_employees','_id','category_code','name','offices',\n",
    "          'total_money_raised']"
   ]
  },
  {
   "cell_type": "code",
   "execution_count": 3,
   "metadata": {},
   "outputs": [
    {
     "name": "stdout",
     "output_type": "stream",
     "text": [
      "7934\n"
     ]
    }
   ],
   "source": [
    "#Primera fase de limpieza de datos.\n",
    "df_drop1 = df.drop(col_drop1, axis=1)\n",
    "df_drop2 = df_drop1.drop(col_drop2, axis=1)\n",
    "\n",
    "#Eliminación de registros correspondientes a empresas en 'deadpool'.\n",
    "df_deadnull = df_drop2[df_drop2['deadpooled_year'].isnull()]\n",
    "\n",
    "#Eliminación de registros con valor 'null'\n",
    "df_nulls = df_deadnull.dropna(subset=['founded_year','number_of_employees','name','offices',\n",
    "          'total_money_raised'])\n",
    "#Verificación de la longitud del nuevo dataset.\n",
    "print(len(df_nulls))"
   ]
  },
  {
   "cell_type": "code",
   "execution_count": 4,
   "metadata": {},
   "outputs": [
    {
     "name": "stdout",
     "output_type": "stream",
     "text": [
      "525\n"
     ]
    }
   ],
   "source": [
    "#Elección de columnas relevantes para el criterio.\n",
    "col_cat = ['games_video']\n",
    "df_cat = df_nulls[df_nulls['category_code'].isin(col_cat)]\\\n",
    ".drop(['_id','deadpooled_year'], axis=1)\n",
    "\n",
    "#Verificación de la longitud del nuevo dataset.\n",
    "print(len(df_cat))"
   ]
  },
  {
   "cell_type": "code",
   "execution_count": 5,
   "metadata": {},
   "outputs": [],
   "source": [
    "#Definición de funciones para modificación de tipo de datos.\n",
    "\n",
    "#Transforma un dato tipo float a uno tipo int.\n",
    "def float_to_int(flt):\n",
    "    integer = int(flt)\n",
    "    return integer\n",
    "\n",
    "#Transforma un dato tipo str en int devolviendo solo el número.\n",
    "def str_to_int(strg):\n",
    "    string = re.findall('\\d+', strg )\n",
    "    integer = int(string[0])*1000\n",
    "    return integer"
   ]
  },
  {
   "cell_type": "code",
   "execution_count": 6,
   "metadata": {},
   "outputs": [
    {
     "name": "stdout",
     "output_type": "stream",
     "text": [
      "406\n"
     ]
    }
   ],
   "source": [
    "#Aplicación de funciones sobre los registros.\n",
    "df_regout = df_cat.copy()\n",
    "df_regout['total_money_raised'] = df_regout['total_money_raised'].apply(str_to_int)\n",
    "df_regout['founded_year'] = df_regout['founded_year'].apply(float_to_int)\n",
    "\n",
    "#Eliminación de registros irrelevantes según criterio.\n",
    "#df_regout = df_regout[df_regout.total_money_raised == 0]\n",
    "#df_regout = df_regout[df_regout.number_of_employees > 0]\n",
    "df_regout = df_regout[df_regout['offices'].map(len) > 0]\n",
    "\n",
    "#Verificación de la longitud del nuevo dataset.\n",
    "print(len(df_regout))"
   ]
  },
  {
   "cell_type": "code",
   "execution_count": 7,
   "metadata": {},
   "outputs": [],
   "source": [
    "#Función para la creación de los valores de ubicación en formato GeoJson.\n",
    "def nested_to_list(dicts):\n",
    "    lat_lon = [{\"type\":\"Point\",\"coordinates\":[l['longitude'],l['latitude']]} for l in dicts]\n",
    "    lst = lat_lon[0]\n",
    "    long = lst['coordinates'][0]\n",
    "    if long != None:\n",
    "        return lst\n",
    "    else:\n",
    "        return 0"
   ]
  },
  {
   "cell_type": "code",
   "execution_count": 8,
   "metadata": {},
   "outputs": [],
   "source": [
    "#Aplicación de función para la creación de los valores de ubicación en formato GeoJson.\n",
    "df_colout = df_regout.copy()\n",
    "df_colout['offices'] = df_colout['offices'].apply(nested_to_list)"
   ]
  },
  {
   "cell_type": "code",
   "execution_count": 9,
   "metadata": {},
   "outputs": [
    {
     "name": "stdout",
     "output_type": "stream",
     "text": [
      "309\n"
     ]
    },
    {
     "data": {
      "text/html": [
       "<div>\n",
       "<style scoped>\n",
       "    .dataframe tbody tr th:only-of-type {\n",
       "        vertical-align: middle;\n",
       "    }\n",
       "\n",
       "    .dataframe tbody tr th {\n",
       "        vertical-align: top;\n",
       "    }\n",
       "\n",
       "    .dataframe thead th {\n",
       "        text-align: right;\n",
       "    }\n",
       "</style>\n",
       "<table border=\"1\" class=\"dataframe\">\n",
       "  <thead>\n",
       "    <tr style=\"text-align: right;\">\n",
       "      <th></th>\n",
       "      <th>category_code</th>\n",
       "      <th>founded_year</th>\n",
       "      <th>name</th>\n",
       "      <th>number_of_employees</th>\n",
       "      <th>offices</th>\n",
       "      <th>total_money_raised</th>\n",
       "    </tr>\n",
       "  </thead>\n",
       "  <tbody>\n",
       "    <tr>\n",
       "      <th>16</th>\n",
       "      <td>games_video</td>\n",
       "      <td>2006</td>\n",
       "      <td>Joost</td>\n",
       "      <td>0.0</td>\n",
       "      <td>{'type': 'Point', 'coordinates': [-74.0094471,...</td>\n",
       "      <td>45000</td>\n",
       "    </tr>\n",
       "    <tr>\n",
       "      <th>31</th>\n",
       "      <td>games_video</td>\n",
       "      <td>2006</td>\n",
       "      <td>Kyte</td>\n",
       "      <td>40.0</td>\n",
       "      <td>{'type': 'Point', 'coordinates': [-122.409173,...</td>\n",
       "      <td>23000</td>\n",
       "    </tr>\n",
       "    <tr>\n",
       "      <th>51</th>\n",
       "      <td>games_video</td>\n",
       "      <td>2005</td>\n",
       "      <td>YouTube</td>\n",
       "      <td>0.0</td>\n",
       "      <td>{'type': 'Point', 'coordinates': [-122.426804,...</td>\n",
       "      <td>11000</td>\n",
       "    </tr>\n",
       "    <tr>\n",
       "      <th>52</th>\n",
       "      <td>games_video</td>\n",
       "      <td>2007</td>\n",
       "      <td>Livestream</td>\n",
       "      <td>120.0</td>\n",
       "      <td>{'type': 'Point', 'coordinates': [-73.995625, ...</td>\n",
       "      <td>14000</td>\n",
       "    </tr>\n",
       "    <tr>\n",
       "      <th>54</th>\n",
       "      <td>games_video</td>\n",
       "      <td>2007</td>\n",
       "      <td>AdaptiveBlue</td>\n",
       "      <td>15.0</td>\n",
       "      <td>{'type': 'Point', 'coordinates': [-74.3372, 40...</td>\n",
       "      <td>24000</td>\n",
       "    </tr>\n",
       "  </tbody>\n",
       "</table>\n",
       "</div>"
      ],
      "text/plain": [
       "   category_code  founded_year          name  number_of_employees  \\\n",
       "16   games_video          2006         Joost                  0.0   \n",
       "31   games_video          2006          Kyte                 40.0   \n",
       "51   games_video          2005       YouTube                  0.0   \n",
       "52   games_video          2007    Livestream                120.0   \n",
       "54   games_video          2007  AdaptiveBlue                 15.0   \n",
       "\n",
       "                                              offices  total_money_raised  \n",
       "16  {'type': 'Point', 'coordinates': [-74.0094471,...               45000  \n",
       "31  {'type': 'Point', 'coordinates': [-122.409173,...               23000  \n",
       "51  {'type': 'Point', 'coordinates': [-122.426804,...               11000  \n",
       "52  {'type': 'Point', 'coordinates': [-73.995625, ...               14000  \n",
       "54  {'type': 'Point', 'coordinates': [-74.3372, 40...               24000  "
      ]
     },
     "metadata": {},
     "output_type": "display_data"
    }
   ],
   "source": [
    "#Eliminación de valores de GeoJson nulos.\n",
    "df_geoout = df_colout.copy()\n",
    "df_geoout = df_geoout[df_geoout.offices != 0]\n",
    "\n",
    "#Verificación de la longitud del nuevo dataset.\n",
    "print(len(df_geoout))\n",
    "\n",
    "#Vista del dataset definitivo antes de generar .json\n",
    "display(df_geoout.head())"
   ]
  },
  {
   "cell_type": "code",
   "execution_count": 10,
   "metadata": {},
   "outputs": [],
   "source": [
    "#Creación del fichero .json para generar nueva 'collection' en MongoDB\n",
    "df_geoout.to_json('capacity.json', orient=\"records\", lines=True)"
   ]
  },
  {
   "cell_type": "markdown",
   "metadata": {},
   "source": [
    "### Se importa .json en MongoDB para generar collection y aplicar operador geoespacial '$near'\n",
    "Nombre de la collection creada: **capacity**"
   ]
  },
  {
   "cell_type": "code",
   "execution_count": 11,
   "metadata": {
    "scrolled": true
   },
   "outputs": [
    {
     "data": {
      "text/html": [
       "<div>\n",
       "<style scoped>\n",
       "    .dataframe tbody tr th:only-of-type {\n",
       "        vertical-align: middle;\n",
       "    }\n",
       "\n",
       "    .dataframe tbody tr th {\n",
       "        vertical-align: top;\n",
       "    }\n",
       "\n",
       "    .dataframe thead th {\n",
       "        text-align: right;\n",
       "    }\n",
       "</style>\n",
       "<table border=\"1\" class=\"dataframe\">\n",
       "  <thead>\n",
       "    <tr style=\"text-align: right;\">\n",
       "      <th></th>\n",
       "      <th>Ranking</th>\n",
       "      <th>University</th>\n",
       "      <th>Latitude</th>\n",
       "      <th>Longitude</th>\n",
       "    </tr>\n",
       "  </thead>\n",
       "  <tbody>\n",
       "    <tr>\n",
       "      <th>0</th>\n",
       "      <td>1</td>\n",
       "      <td>Abilene Christian University</td>\n",
       "      <td>32.469736</td>\n",
       "      <td>-99.710292</td>\n",
       "    </tr>\n",
       "    <tr>\n",
       "      <th>1</th>\n",
       "      <td>2</td>\n",
       "      <td>Laguna College of Art and Design</td>\n",
       "      <td>33.561689</td>\n",
       "      <td>-117.774531</td>\n",
       "    </tr>\n",
       "    <tr>\n",
       "      <th>2</th>\n",
       "      <td>3</td>\n",
       "      <td>Oklahoma Christian University</td>\n",
       "      <td>35.612447</td>\n",
       "      <td>-97.471548</td>\n",
       "    </tr>\n",
       "    <tr>\n",
       "      <th>3</th>\n",
       "      <td>4</td>\n",
       "      <td>Southwestern College</td>\n",
       "      <td>37.249499</td>\n",
       "      <td>-96.978204</td>\n",
       "    </tr>\n",
       "    <tr>\n",
       "      <th>4</th>\n",
       "      <td>5</td>\n",
       "      <td>Champlain College</td>\n",
       "      <td>44.473120</td>\n",
       "      <td>-73.206329</td>\n",
       "    </tr>\n",
       "    <tr>\n",
       "      <th>5</th>\n",
       "      <td>6</td>\n",
       "      <td>Walla Walla University</td>\n",
       "      <td>46.046460</td>\n",
       "      <td>-118.393585</td>\n",
       "    </tr>\n",
       "    <tr>\n",
       "      <th>6</th>\n",
       "      <td>7</td>\n",
       "      <td>The Savannah College of Art and Design</td>\n",
       "      <td>32.069267</td>\n",
       "      <td>-81.095983</td>\n",
       "    </tr>\n",
       "    <tr>\n",
       "      <th>7</th>\n",
       "      <td>8</td>\n",
       "      <td>Ferris State University</td>\n",
       "      <td>43.683414</td>\n",
       "      <td>-85.486372</td>\n",
       "    </tr>\n",
       "    <tr>\n",
       "      <th>8</th>\n",
       "      <td>9</td>\n",
       "      <td>Southern Arkansas University</td>\n",
       "      <td>33.293291</td>\n",
       "      <td>-93.234082</td>\n",
       "    </tr>\n",
       "    <tr>\n",
       "      <th>9</th>\n",
       "      <td>10</td>\n",
       "      <td>Columbia College Chicago</td>\n",
       "      <td>41.874237</td>\n",
       "      <td>-87.627028</td>\n",
       "    </tr>\n",
       "  </tbody>\n",
       "</table>\n",
       "</div>"
      ],
      "text/plain": [
       "   Ranking                              University   Latitude   Longitude\n",
       "0        1            Abilene Christian University  32.469736  -99.710292\n",
       "1        2        Laguna College of Art and Design  33.561689 -117.774531\n",
       "2        3           Oklahoma Christian University  35.612447  -97.471548\n",
       "3        4                    Southwestern College  37.249499  -96.978204\n",
       "4        5                       Champlain College  44.473120  -73.206329\n",
       "5        6                  Walla Walla University  46.046460 -118.393585\n",
       "6        7  The Savannah College of Art and Design  32.069267  -81.095983\n",
       "7        8                 Ferris State University  43.683414  -85.486372\n",
       "8        9            Southern Arkansas University  33.293291  -93.234082\n",
       "9       10                Columbia College Chicago  41.874237  -87.627028"
      ]
     },
     "metadata": {},
     "output_type": "display_data"
    }
   ],
   "source": [
    "#Importación de datos de centros formativos top en creación de contenidos\n",
    "df_school = pd.read_csv('education.csv', sep=',', index_col=False)\n",
    "\n",
    "#Vista del dataset\n",
    "display(df_school)"
   ]
  },
  {
   "cell_type": "code",
   "execution_count": 27,
   "metadata": {},
   "outputs": [],
   "source": [
    "#Se define función para aplicar operador geoespacial '$near' para comparar contra los centros\n",
    "def concentration(school):\n",
    "    cursor_near = db.capacity.find({\n",
    "      \"offices\": {\n",
    "        \"$near\": {\n",
    "          \"$geometry\": {\n",
    "            \"type\": \"Point\",\n",
    "            \"coordinates\": [df_school['Longitude'][school],df_school['Latitude'][school]]\n",
    "          },\n",
    "          \"$minDistance\": 0,\n",
    "          \"$maxDistance\":5000\n",
    "        }\n",
    "      }\n",
    "    })\n",
    "    return list(cursor_near)"
   ]
  },
  {
   "cell_type": "code",
   "execution_count": 28,
   "metadata": {},
   "outputs": [
    {
     "name": "stdout",
     "output_type": "stream",
     "text": [
      "10 \n",
      "\n",
      "[0, 1, 0, 0, 0, 0, 0, 0, 0, 3] \n",
      "\n",
      "3 \n",
      "\n"
     ]
    }
   ],
   "source": [
    "#Aplicación de la función para cada documento de la colección respecto al resto de documentos\n",
    "#cursor_geojson = db.capacity.find()\n",
    "clusters = []\n",
    "for element in range(len(df_school['Longitude'])):\n",
    "    clusters.append(len(concentration(element)))\n",
    "\n",
    "#Verificación de la longitud del cursor (total de iteraciones).\n",
    "print(len(clusters),'\\n')\n",
    "\n",
    "#Visualización del total de coincidencias para cada documento.\n",
    "print(clusters,'\\n')\n",
    "\n",
    "#Máximo número de coincidencias.\n",
    "print(max(clusters),'\\n')"
   ]
  },
  {
   "cell_type": "code",
   "execution_count": 29,
   "metadata": {},
   "outputs": [
    {
     "name": "stdout",
     "output_type": "stream",
     "text": [
      "[[-122.323408, 47.615313]]\n"
     ]
    }
   ],
   "source": [
    "#Extracción de coordenadas geográficas con mayor número de coincidencias dentro del criterio.\n",
    "target = list(db.capacity.find())\n",
    "targets = []\n",
    "for i in range(len(clusters)):\n",
    "    if clusters[i] == max(clusters):\n",
    "        targets.append([target[i]['offices']['coordinates'][0], target[i]['offices']['coordinates'][1]])\n",
    "\n",
    "#Visualización de los pares de coordenadas resultantes.\n",
    "print(targets)"
   ]
  },
  {
   "cell_type": "code",
   "execution_count": 30,
   "metadata": {},
   "outputs": [
    {
     "data": {
      "text/html": [
       "<div>\n",
       "<style scoped>\n",
       "    .dataframe tbody tr th:only-of-type {\n",
       "        vertical-align: middle;\n",
       "    }\n",
       "\n",
       "    .dataframe tbody tr th {\n",
       "        vertical-align: top;\n",
       "    }\n",
       "\n",
       "    .dataframe thead th {\n",
       "        text-align: right;\n",
       "    }\n",
       "</style>\n",
       "<table border=\"1\" class=\"dataframe\">\n",
       "  <thead>\n",
       "    <tr style=\"text-align: right;\">\n",
       "      <th></th>\n",
       "      <th>Longitude</th>\n",
       "      <th>Latitude</th>\n",
       "      <th>Criteria</th>\n",
       "    </tr>\n",
       "  </thead>\n",
       "  <tbody>\n",
       "    <tr>\n",
       "      <th>0</th>\n",
       "      <td>-122.323408</td>\n",
       "      <td>47.615313</td>\n",
       "      <td>Capacity</td>\n",
       "    </tr>\n",
       "  </tbody>\n",
       "</table>\n",
       "</div>"
      ],
      "text/plain": [
       "    Longitude   Latitude  Criteria\n",
       "0 -122.323408  47.615313  Capacity"
      ]
     },
     "metadata": {},
     "output_type": "display_data"
    }
   ],
   "source": [
    "#Creación de dataframe para Plateau.\n",
    "long_lat = ['Longitude','Latitude']\n",
    "df_capacity = pd.DataFrame(targets, columns=long_lat)\n",
    "df_capacity['Criteria'] = 'Capacity'\n",
    "\n",
    "#Visualización del dataframe final dentro del criterio.\n",
    "display(df_capacity)"
   ]
  },
  {
   "cell_type": "code",
   "execution_count": 31,
   "metadata": {},
   "outputs": [],
   "source": [
    "#Creación de fichero .json para visualización en Plateau.\n",
    "df_capacity.to_json('df_capacity.json', orient=\"records\", lines=True)"
   ]
  },
  {
   "cell_type": "code",
   "execution_count": null,
   "metadata": {},
   "outputs": [],
   "source": []
  }
 ],
 "metadata": {
  "kernelspec": {
   "display_name": "Python 3",
   "language": "python",
   "name": "python3"
  },
  "language_info": {
   "codemirror_mode": {
    "name": "ipython",
    "version": 3
   },
   "file_extension": ".py",
   "mimetype": "text/x-python",
   "name": "python",
   "nbconvert_exporter": "python",
   "pygments_lexer": "ipython3",
   "version": "3.6.7"
  }
 },
 "nbformat": 4,
 "nbformat_minor": 2
}
