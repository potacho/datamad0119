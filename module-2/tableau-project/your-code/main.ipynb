{
 "cells": [
  {
   "cell_type": "markdown",
   "metadata": {},
   "source": [
    "## VISUALIZATION PROJECT Geospatial Business Intelligence (BI)\n"
   ]
  },
  {
   "cell_type": "code",
   "execution_count": 97,
   "metadata": {},
   "outputs": [],
   "source": [
    "#Tras iniciar servidor de DB mongo, importo módulo 'pymongo'.\n",
    "import pymongo\n",
    "import pandas as pd\n",
    "import numpy as np\n",
    "import re\n",
    "from pandas.io.json import json_normalize\n",
    "#Asigno variable al cliente de DB y a la DB.\n",
    "MongoClient = pymongo.MongoClient\n",
    "client = MongoClient()\n",
    "db = client.companies"
   ]
  },
  {
   "cell_type": "code",
   "execution_count": 98,
   "metadata": {},
   "outputs": [
    {
     "name": "stdout",
     "output_type": "stream",
     "text": [
      "18801\n"
     ]
    }
   ],
   "source": [
    "#Verifico que se han importado todos los documentos.\n",
    "cursor = db.companies.find()\n",
    "data = list(cursor)\n",
    "print(len(data))"
   ]
  },
  {
   "cell_type": "code",
   "execution_count": 99,
   "metadata": {},
   "outputs": [
    {
     "name": "stdout",
     "output_type": "stream",
     "text": [
      "3787\n"
     ]
    }
   ],
   "source": [
    "def q_qty_1(atr1,var1):\n",
    "    q = db.companies.find({atr1:var1})\n",
    "    return len(list(map(lambda r:r,list(q))))\n",
    "atr1 = 'category_code'\n",
    "var1 = 'web'\n",
    "print(q_qty_1(atr1,var1))"
   ]
  },
  {
   "cell_type": "code",
   "execution_count": 100,
   "metadata": {},
   "outputs": [],
   "source": [
    "def q_1(atr1,var1):\n",
    "    q = db.companies.find({atr1:var1})\n",
    "    return list(map(lambda r:[(r['name']),(r['offices'])],list(q)))\n",
    "atr1 = 'category_code'\n",
    "var1 = 'web'\n",
    "#display(q_1(atr1,var1))"
   ]
  },
  {
   "cell_type": "code",
   "execution_count": 101,
   "metadata": {},
   "outputs": [
    {
     "name": "stdout",
     "output_type": "stream",
     "text": [
      "_id                     object\n",
      "acquisition             object\n",
      "acquisitions            object\n",
      "alias_list              object\n",
      "blog_feed_url           object\n",
      "blog_url                object\n",
      "category_code           object\n",
      "competitions            object\n",
      "created_at              object\n",
      "crunchbase_url          object\n",
      "deadpooled_day         float64\n",
      "deadpooled_month       float64\n",
      "deadpooled_url          object\n",
      "deadpooled_year        float64\n",
      "description             object\n",
      "email_address           object\n",
      "external_links          object\n",
      "founded_day            float64\n",
      "founded_month          float64\n",
      "founded_year           float64\n",
      "funding_rounds          object\n",
      "homepage_url            object\n",
      "image                   object\n",
      "investments             object\n",
      "ipo                     object\n",
      "milestones              object\n",
      "name                    object\n",
      "number_of_employees    float64\n",
      "offices                 object\n",
      "overview                object\n",
      "partners                object\n",
      "permalink               object\n",
      "phone_number            object\n",
      "products                object\n",
      "providerships           object\n",
      "relationships           object\n",
      "screenshots             object\n",
      "tag_list                object\n",
      "total_money_raised      object\n",
      "twitter_username        object\n",
      "updated_at              object\n",
      "video_embeds            object\n",
      "dtype: object\n"
     ]
    }
   ],
   "source": [
    "#Creo dataframe con los datos\n",
    "df = pd.DataFrame(data)\n",
    "#display(df.dtypes)\n",
    "columns = df.dtypes\n",
    "print(columns)"
   ]
  },
  {
   "cell_type": "code",
   "execution_count": 102,
   "metadata": {
    "scrolled": true
   },
   "outputs": [
    {
     "data": {
      "text/plain": [
       "{'float64': Index(['deadpooled_day', 'deadpooled_month', 'deadpooled_year', 'founded_day',\n",
       "        'founded_month', 'founded_year', 'number_of_employees'],\n",
       "       dtype='object'),\n",
       " 'object': Index(['_id', 'acquisition', 'acquisitions', 'alias_list', 'blog_feed_url',\n",
       "        'blog_url', 'category_code', 'competitions', 'created_at',\n",
       "        'crunchbase_url', 'deadpooled_url', 'description', 'email_address',\n",
       "        'external_links', 'funding_rounds', 'homepage_url', 'image',\n",
       "        'investments', 'ipo', 'milestones', 'name', 'offices', 'overview',\n",
       "        'partners', 'permalink', 'phone_number', 'products', 'providerships',\n",
       "        'relationships', 'screenshots', 'tag_list', 'total_money_raised',\n",
       "        'twitter_username', 'updated_at', 'video_embeds'],\n",
       "       dtype='object')}"
      ]
     },
     "execution_count": 102,
     "metadata": {},
     "output_type": "execute_result"
    }
   ],
   "source": [
    "#Extraigo columnas para tratamiento\n",
    "g = df.columns.to_series().groupby(df.dtypes).groups\n",
    "{k.name: v for k, v in g.items()}"
   ]
  },
  {
   "cell_type": "code",
   "execution_count": 103,
   "metadata": {},
   "outputs": [
    {
     "name": "stdout",
     "output_type": "stream",
     "text": [
      "42 42\n"
     ]
    }
   ],
   "source": [
    "#Clasificación de columnas originales para limpieza del dataframe\n",
    "col_float = ['deadpooled_day','deadpooled_month','deadpooled_year','founded_day','founded_month',\n",
    "             'founded_year','number_of_employees']\n",
    "col_obj = ['_id','acquisition','acquisitions','alias_list','blog_feed_url','blog_url','category_code',\n",
    "           'competitions','created_at','crunchbase_url','deadpooled_url','description','email_address',\n",
    "        'external_links','funding_rounds','homepage_url','image','investments','ipo','milestones', \n",
    "           'name','offices','overview','partners','permalink','phone_number','products','providerships',\n",
    "        'relationships','screenshots','tag_list','total_money_raised','twitter_username','updated_at',\n",
    "           'video_embeds']\n",
    "col_drop1 = ['deadpooled_day','deadpooled_month','founded_day','founded_month','alias_list','blog_feed_url',\n",
    "             'blog_url','created_at','crunchbase_url','deadpooled_url','email_address','external_links',\n",
    "            'image','permalink','phone_number','screenshots','tag_list','updated_at','video_embeds']\n",
    "col_drop2 = ['acquisition','acquisitions','competitions','description','funding_rounds','homepage_url',\n",
    "             'investments','ipo','milestones','partners','products','providerships','relationships',\n",
    "             'twitter_username','overview',]\n",
    "col_ok = ['deadpooled_year','founded_year','number_of_employees','_id','category_code','name','offices',\n",
    "          'total_money_raised']\n",
    "\n",
    "print(len(col_float)+len(col_obj),len(col_drop1)+len(col_drop2)+len(col_ok))"
   ]
  },
  {
   "cell_type": "code",
   "execution_count": 104,
   "metadata": {
    "scrolled": true
   },
   "outputs": [
    {
     "data": {
      "text/plain": [
       "7934"
      ]
     },
     "metadata": {},
     "output_type": "display_data"
    },
    {
     "data": {
      "text/html": [
       "<div>\n",
       "<style scoped>\n",
       "    .dataframe tbody tr th:only-of-type {\n",
       "        vertical-align: middle;\n",
       "    }\n",
       "\n",
       "    .dataframe tbody tr th {\n",
       "        vertical-align: top;\n",
       "    }\n",
       "\n",
       "    .dataframe thead th {\n",
       "        text-align: right;\n",
       "    }\n",
       "</style>\n",
       "<table border=\"1\" class=\"dataframe\">\n",
       "  <thead>\n",
       "    <tr style=\"text-align: right;\">\n",
       "      <th></th>\n",
       "      <th>_id</th>\n",
       "      <th>category_code</th>\n",
       "      <th>deadpooled_year</th>\n",
       "      <th>founded_year</th>\n",
       "      <th>name</th>\n",
       "      <th>number_of_employees</th>\n",
       "      <th>offices</th>\n",
       "      <th>total_money_raised</th>\n",
       "    </tr>\n",
       "  </thead>\n",
       "  <tbody>\n",
       "    <tr>\n",
       "      <th>5</th>\n",
       "      <td>52cdef7c4bab8bd675297d8d</td>\n",
       "      <td>news</td>\n",
       "      <td>NaN</td>\n",
       "      <td>2004.0</td>\n",
       "      <td>Digg</td>\n",
       "      <td>60.0</td>\n",
       "      <td>[{'description': None, 'address1': '135 Missis...</td>\n",
       "      <td>$45M</td>\n",
       "    </tr>\n",
       "    <tr>\n",
       "      <th>6</th>\n",
       "      <td>52cdef7c4bab8bd675297d91</td>\n",
       "      <td>web</td>\n",
       "      <td>NaN</td>\n",
       "      <td>2006.0</td>\n",
       "      <td>Geni</td>\n",
       "      <td>18.0</td>\n",
       "      <td>[{'description': 'Headquarters', 'address1': '...</td>\n",
       "      <td>$16.5M</td>\n",
       "    </tr>\n",
       "    <tr>\n",
       "      <th>8</th>\n",
       "      <td>52cdef7c4bab8bd675297d93</td>\n",
       "      <td>web</td>\n",
       "      <td>NaN</td>\n",
       "      <td>1979.0</td>\n",
       "      <td>Fox Interactive Media</td>\n",
       "      <td>0.0</td>\n",
       "      <td>[{'description': '', 'address1': '407 N Maple ...</td>\n",
       "      <td>$0</td>\n",
       "    </tr>\n",
       "    <tr>\n",
       "      <th>11</th>\n",
       "      <td>52cdef7c4bab8bd675297d97</td>\n",
       "      <td>news</td>\n",
       "      <td>NaN</td>\n",
       "      <td>2007.0</td>\n",
       "      <td>Scribd</td>\n",
       "      <td>50.0</td>\n",
       "      <td>[{'description': 'HQ', 'address1': '539 Bryant...</td>\n",
       "      <td>$25.8M</td>\n",
       "    </tr>\n",
       "    <tr>\n",
       "      <th>12</th>\n",
       "      <td>52cdef7c4bab8bd675297d94</td>\n",
       "      <td>social</td>\n",
       "      <td>NaN</td>\n",
       "      <td>2006.0</td>\n",
       "      <td>Twitter</td>\n",
       "      <td>1300.0</td>\n",
       "      <td>[{'description': '', 'address1': '1355 Market ...</td>\n",
       "      <td>$1.16B</td>\n",
       "    </tr>\n",
       "  </tbody>\n",
       "</table>\n",
       "</div>"
      ],
      "text/plain": [
       "                         _id category_code  deadpooled_year  founded_year  \\\n",
       "5   52cdef7c4bab8bd675297d8d          news              NaN        2004.0   \n",
       "6   52cdef7c4bab8bd675297d91           web              NaN        2006.0   \n",
       "8   52cdef7c4bab8bd675297d93           web              NaN        1979.0   \n",
       "11  52cdef7c4bab8bd675297d97          news              NaN        2007.0   \n",
       "12  52cdef7c4bab8bd675297d94        social              NaN        2006.0   \n",
       "\n",
       "                     name  number_of_employees  \\\n",
       "5                    Digg                 60.0   \n",
       "6                    Geni                 18.0   \n",
       "8   Fox Interactive Media                  0.0   \n",
       "11                 Scribd                 50.0   \n",
       "12                Twitter               1300.0   \n",
       "\n",
       "                                              offices total_money_raised  \n",
       "5   [{'description': None, 'address1': '135 Missis...               $45M  \n",
       "6   [{'description': 'Headquarters', 'address1': '...             $16.5M  \n",
       "8   [{'description': '', 'address1': '407 N Maple ...                 $0  \n",
       "11  [{'description': 'HQ', 'address1': '539 Bryant...             $25.8M  \n",
       "12  [{'description': '', 'address1': '1355 Market ...             $1.16B  "
      ]
     },
     "metadata": {},
     "output_type": "display_data"
    }
   ],
   "source": [
    "#Elimino columnas con valores que no me interesan\n",
    "df_drop1 = df.drop(col_drop1, axis=1)\n",
    "df_drop2 = df_drop1.drop(col_drop2, axis=1)\n",
    "#Elijo solo las empresas con deadpooled_year == null\n",
    "df_deadnull = df_drop2[df_drop2['deadpooled_year'].isnull()]\n",
    "#Elimino filas con valores nulos de las columnas que me interesan\n",
    "df_nulls = df_deadnull.dropna(subset=['founded_year','number_of_employees','name','offices',\n",
    "          'total_money_raised'])\n",
    "display(len(df_nulls))\n",
    "display(df_nulls.head())"
   ]
  },
  {
   "cell_type": "code",
   "execution_count": 105,
   "metadata": {},
   "outputs": [],
   "source": [
    "#Elimino rows que no me aportan nada\n",
    "#df_values = df_nulls[df_nulls['offices'].map(len) > 0]\n",
    "#df_values = df_values[df_values.number_of_employees != 0]\n",
    "#df_values = \n",
    "#print(len(df_values))\n",
    "#display(df_values.head(10))"
   ]
  },
  {
   "cell_type": "code",
   "execution_count": 106,
   "metadata": {
    "scrolled": true
   },
   "outputs": [
    {
     "name": "stdout",
     "output_type": "stream",
     "text": [
      "3752\n"
     ]
    },
    {
     "data": {
      "text/html": [
       "<div>\n",
       "<style scoped>\n",
       "    .dataframe tbody tr th:only-of-type {\n",
       "        vertical-align: middle;\n",
       "    }\n",
       "\n",
       "    .dataframe tbody tr th {\n",
       "        vertical-align: top;\n",
       "    }\n",
       "\n",
       "    .dataframe thead th {\n",
       "        text-align: right;\n",
       "    }\n",
       "</style>\n",
       "<table border=\"1\" class=\"dataframe\">\n",
       "  <thead>\n",
       "    <tr style=\"text-align: right;\">\n",
       "      <th></th>\n",
       "      <th>category_code</th>\n",
       "      <th>founded_year</th>\n",
       "      <th>name</th>\n",
       "      <th>number_of_employees</th>\n",
       "      <th>offices</th>\n",
       "      <th>total_money_raised</th>\n",
       "    </tr>\n",
       "  </thead>\n",
       "  <tbody>\n",
       "    <tr>\n",
       "      <th>6</th>\n",
       "      <td>web</td>\n",
       "      <td>2006.0</td>\n",
       "      <td>Geni</td>\n",
       "      <td>18.0</td>\n",
       "      <td>[{'description': 'Headquarters', 'address1': '...</td>\n",
       "      <td>$16.5M</td>\n",
       "    </tr>\n",
       "    <tr>\n",
       "      <th>8</th>\n",
       "      <td>web</td>\n",
       "      <td>1979.0</td>\n",
       "      <td>Fox Interactive Media</td>\n",
       "      <td>0.0</td>\n",
       "      <td>[{'description': '', 'address1': '407 N Maple ...</td>\n",
       "      <td>$0</td>\n",
       "    </tr>\n",
       "    <tr>\n",
       "      <th>16</th>\n",
       "      <td>games_video</td>\n",
       "      <td>2006.0</td>\n",
       "      <td>Joost</td>\n",
       "      <td>0.0</td>\n",
       "      <td>[{'description': '', 'address1': '100 5th Ave ...</td>\n",
       "      <td>$45M</td>\n",
       "    </tr>\n",
       "    <tr>\n",
       "      <th>20</th>\n",
       "      <td>web</td>\n",
       "      <td>2002.0</td>\n",
       "      <td>Plaxo</td>\n",
       "      <td>50.0</td>\n",
       "      <td>[{'description': 'HQ', 'address1': '1050 Enter...</td>\n",
       "      <td>$28.3M</td>\n",
       "    </tr>\n",
       "    <tr>\n",
       "      <th>23</th>\n",
       "      <td>web</td>\n",
       "      <td>1995.0</td>\n",
       "      <td>eBay</td>\n",
       "      <td>15000.0</td>\n",
       "      <td>[{'description': 'Headquarters', 'address1': '...</td>\n",
       "      <td>$6.7M</td>\n",
       "    </tr>\n",
       "  </tbody>\n",
       "</table>\n",
       "</div>"
      ],
      "text/plain": [
       "   category_code  founded_year                   name  number_of_employees  \\\n",
       "6            web        2006.0                   Geni                 18.0   \n",
       "8            web        1979.0  Fox Interactive Media                  0.0   \n",
       "16   games_video        2006.0                  Joost                  0.0   \n",
       "20           web        2002.0                  Plaxo                 50.0   \n",
       "23           web        1995.0                   eBay              15000.0   \n",
       "\n",
       "                                              offices total_money_raised  \n",
       "6   [{'description': 'Headquarters', 'address1': '...             $16.5M  \n",
       "8   [{'description': '', 'address1': '407 N Maple ...                 $0  \n",
       "16  [{'description': '', 'address1': '100 5th Ave ...               $45M  \n",
       "20  [{'description': 'HQ', 'address1': '1050 Enter...             $28.3M  \n",
       "23  [{'description': 'Headquarters', 'address1': '...              $6.7M  "
      ]
     },
     "metadata": {},
     "output_type": "display_data"
    }
   ],
   "source": [
    "#Data frames por tipo de empresas y elimino las columnas _id y deadpooled_year \n",
    "col_cat = ['games_video','web','software']\n",
    "df_cat = df_nulls[df_nulls['category_code'].isin(col_cat)]\\\n",
    ".drop(['_id','deadpooled_year'], axis=1)#.sort_values(by=['category_code','number_of_employees'])\n",
    "print(len(df_cat))\n",
    "display(df_cat.head())"
   ]
  },
  {
   "cell_type": "code",
   "execution_count": 107,
   "metadata": {
    "scrolled": true
   },
   "outputs": [
    {
     "name": "stdout",
     "output_type": "stream",
     "text": [
      "3057\n"
     ]
    },
    {
     "data": {
      "text/html": [
       "<div>\n",
       "<style scoped>\n",
       "    .dataframe tbody tr th:only-of-type {\n",
       "        vertical-align: middle;\n",
       "    }\n",
       "\n",
       "    .dataframe tbody tr th {\n",
       "        vertical-align: top;\n",
       "    }\n",
       "\n",
       "    .dataframe thead th {\n",
       "        text-align: right;\n",
       "    }\n",
       "</style>\n",
       "<table border=\"1\" class=\"dataframe\">\n",
       "  <thead>\n",
       "    <tr style=\"text-align: right;\">\n",
       "      <th></th>\n",
       "      <th>category_code</th>\n",
       "      <th>founded_year</th>\n",
       "      <th>name</th>\n",
       "      <th>number_of_employees</th>\n",
       "      <th>offices</th>\n",
       "      <th>total_money_raised</th>\n",
       "    </tr>\n",
       "  </thead>\n",
       "  <tbody>\n",
       "    <tr>\n",
       "      <th>6</th>\n",
       "      <td>web</td>\n",
       "      <td>2006.0</td>\n",
       "      <td>Geni</td>\n",
       "      <td>18.0</td>\n",
       "      <td>[{'description': 'Headquarters', 'address1': '...</td>\n",
       "      <td>$16.5M</td>\n",
       "    </tr>\n",
       "    <tr>\n",
       "      <th>20</th>\n",
       "      <td>web</td>\n",
       "      <td>2002.0</td>\n",
       "      <td>Plaxo</td>\n",
       "      <td>50.0</td>\n",
       "      <td>[{'description': 'HQ', 'address1': '1050 Enter...</td>\n",
       "      <td>$28.3M</td>\n",
       "    </tr>\n",
       "    <tr>\n",
       "      <th>23</th>\n",
       "      <td>web</td>\n",
       "      <td>1995.0</td>\n",
       "      <td>eBay</td>\n",
       "      <td>15000.0</td>\n",
       "      <td>[{'description': 'Headquarters', 'address1': '...</td>\n",
       "      <td>$6.7M</td>\n",
       "    </tr>\n",
       "    <tr>\n",
       "      <th>28</th>\n",
       "      <td>web</td>\n",
       "      <td>2007.0</td>\n",
       "      <td>Mahalo</td>\n",
       "      <td>40.0</td>\n",
       "      <td>[{'description': '', 'address1': '3525 Eastham...</td>\n",
       "      <td>$21M</td>\n",
       "    </tr>\n",
       "    <tr>\n",
       "      <th>31</th>\n",
       "      <td>games_video</td>\n",
       "      <td>2006.0</td>\n",
       "      <td>Kyte</td>\n",
       "      <td>40.0</td>\n",
       "      <td>[{'description': None, 'address1': '442 Post S...</td>\n",
       "      <td>$23.4M</td>\n",
       "    </tr>\n",
       "  </tbody>\n",
       "</table>\n",
       "</div>"
      ],
      "text/plain": [
       "   category_code  founded_year    name  number_of_employees  \\\n",
       "6            web        2006.0    Geni                 18.0   \n",
       "20           web        2002.0   Plaxo                 50.0   \n",
       "23           web        1995.0    eBay              15000.0   \n",
       "28           web        2007.0  Mahalo                 40.0   \n",
       "31   games_video        2006.0    Kyte                 40.0   \n",
       "\n",
       "                                              offices total_money_raised  \n",
       "6   [{'description': 'Headquarters', 'address1': '...             $16.5M  \n",
       "20  [{'description': 'HQ', 'address1': '1050 Enter...             $28.3M  \n",
       "23  [{'description': 'Headquarters', 'address1': '...              $6.7M  \n",
       "28  [{'description': '', 'address1': '3525 Eastham...               $21M  \n",
       "31  [{'description': None, 'address1': '442 Post S...             $23.4M  "
      ]
     },
     "metadata": {},
     "output_type": "display_data"
    }
   ],
   "source": [
    "#Elimino registros irrelevantes (tomando solo los registros que me interesan)\n",
    "df_regout = df_cat.copy()\n",
    "df_regout = df_regout[df_regout.number_of_employees != 0]\n",
    "df_regout = df_regout[df_regout.total_money_raised != 0]\n",
    "df_regout = df_regout[df_regout['offices'].map(len) > 0]\n",
    "print(len(df_regout))\n",
    "display(df_regout.head())"
   ]
  },
  {
   "cell_type": "code",
   "execution_count": 108,
   "metadata": {},
   "outputs": [
    {
     "name": "stdout",
     "output_type": "stream",
     "text": [
      "6        [{'description': 'Headquarters', 'address1': '...\n",
      "20       [{'description': 'HQ', 'address1': '1050 Enter...\n",
      "23       [{'description': 'Headquarters', 'address1': '...\n",
      "28       [{'description': '', 'address1': '3525 Eastham...\n",
      "31       [{'description': None, 'address1': '442 Post S...\n",
      "39       [{'description': None, 'address1': '632 Broadw...\n",
      "48       [{'description': None, 'address1': '701 First ...\n",
      "52       [{'description': 'Livestream HQ', 'address1': ...\n",
      "54       [{'description': '', 'address1': '131 Varick S...\n",
      "55       [{'description': 'San Francisco Office', 'addr...\n",
      "56       [{'description': None, 'address1': '520 Broadw...\n",
      "57       [{'description': None, 'address1': '2001 West ...\n",
      "62       [{'description': '', 'address1': '1459 18th St...\n",
      "64       [{'description': None, 'address1': None, 'addr...\n",
      "69       [{'description': '', 'address1': '16161 Ventur...\n",
      "86       [{'description': None, 'address1': '5737 Kanan...\n",
      "90       [{'description': 'Arts & Crafts', 'address1': ...\n",
      "93       [{'description': '', 'address1': '', 'address2...\n",
      "94       [{'description': None, 'address1': '2980 Bower...\n",
      "102      [{'description': None, 'address1': '795 Folsom...\n",
      "106      [{'description': 'Paris', 'address1': '114, ru...\n",
      "107      [{'description': '', 'address1': '585 Broadway...\n",
      "112      [{'description': '', 'address1': '53 S Knoll R...\n",
      "116      [{'description': 'HQ', 'address1': '701 1st av...\n",
      "122      [{'description': None, 'address1': '3, rue Cre...\n",
      "126      [{'description': None, 'address1': '101 Elliot...\n",
      "127      [{'description': 'Headquarters', 'address1': '...\n",
      "129      [{'description': 'HQ', 'address1': '651 Branna...\n",
      "132      [{'description': 'HQ', 'address1': '5 Palo Alt...\n",
      "133      [{'description': None, 'address1': '1605 Boyls...\n",
      "                               ...                        \n",
      "18478    [{'description': 'HQ', 'address1': '150 Munson...\n",
      "18523    [{'description': '', 'address1': '11 Lupine Av...\n",
      "18528    [{'description': 'Development Office', 'addres...\n",
      "18544    [{'description': '', 'address1': '2 MaCarthur ...\n",
      "18551    [{'description': '', 'address1': 'Hagaloekkvei...\n",
      "18556    [{'description': '', 'address1': 'One Redcliff...\n",
      "18572    [{'description': '', 'address1': '311 West Mon...\n",
      "18573    [{'description': '', 'address1': '1956 Ambassa...\n",
      "18582    [{'description': 'Corporate Headquarters', 'ad...\n",
      "18656    [{'description': 'Corporate Headquarters', 'ad...\n",
      "18674    [{'description': '', 'address1': '25779 W. Gib...\n",
      "18681    [{'description': 'Headquarters', 'address1': '...\n",
      "18692    [{'description': '', 'address1': '143 Varick S...\n",
      "18694    [{'description': '', 'address1': '143 Varick S...\n",
      "18698    [{'description': 'New York', 'address1': '32-1...\n",
      "18701    [{'description': 'HQ', 'address1': '', 'addres...\n",
      "18707    [{'description': 'ADVFN plc, Owners', 'address...\n",
      "18713    [{'description': 'Corporate Headquarters', 'ad...\n",
      "18719    [{'description': 'World Headquarters', 'addres...\n",
      "18722    [{'description': '', 'address1': '2040 Briggs ...\n",
      "18725    [{'description': 'Corporate Address', 'address...\n",
      "18726    [{'description': 'HQ', 'address1': 'HylsvÃ¤gen...\n",
      "18735    [{'description': '', 'address1': '163 Hastings...\n",
      "18742    [{'description': 'Lisbon Office', 'address1': ...\n",
      "18748    [{'description': 'Head Satelite Office', 'addr...\n",
      "18764    [{'description': 'Main Office', 'address1': '8...\n",
      "18769    [{'description': '', 'address1': '23811 Chagri...\n",
      "18783    [{'description': 'Apex Finance & Marketing', '...\n",
      "18793    [{'description': '', 'address1': '400 Royal Pa...\n",
      "18795    [{'description': '', 'address1': '115 5th Ave'...\n",
      "Name: offices, Length: 3057, dtype: object\n"
     ]
    }
   ],
   "source": [
    "print(df_regout['offices'])#.iloc[100])"
   ]
  },
  {
   "cell_type": "code",
   "execution_count": 109,
   "metadata": {},
   "outputs": [
    {
     "name": "stdout",
     "output_type": "stream",
     "text": [
      "La madre que te pario\n"
     ]
    }
   ],
   "source": [
    "d = {'type': 'Point', 'coordinates': [None, None]}\n",
    "#s = d['coordinates']\n",
    "lon = d['coordinates'][0]\n",
    "if lon == None:\n",
    "    print('La madre que te pario')"
   ]
  },
  {
   "cell_type": "code",
   "execution_count": 110,
   "metadata": {},
   "outputs": [
    {
     "name": "stdout",
     "output_type": "stream",
     "text": [
      "{'type': 'Point', 'coordinates': [-73.986951, 40.756054]}\n"
     ]
    }
   ],
   "source": [
    "#Defino funciones para la modificación de los datos de las columnas a analizar.\n",
    "\n",
    "#Transforma un dato tipo float a uno tipo int.\n",
    "def float_to_int(flt):\n",
    "    integer = int(flt)\n",
    "    return integer\n",
    "\n",
    "#Transforma un dato tipo str en int devolviendo solo el número.\n",
    "def str_to_int(strg):\n",
    "    string = re.findall('\\d+', strg )\n",
    "    integer = int(string[0])*1000\n",
    "    return integer\n",
    "\n",
    "#Transforma los datos de ubicación de las oficinas en formato GeoJson y selecciona solo la primera ubicación\n",
    "def nested_to_list(dicts):\n",
    "    lat_lon = [{\"type\":\"Point\",\"coordinates\":[l['longitude'],l['latitude']]} for l in dicts]\n",
    "    lst = lat_lon[0]\n",
    "    long = lst['coordinates'][0]\n",
    "    if long != None:\n",
    "        return lst\n",
    "    else:\n",
    "        return 0\n",
    "\n",
    "print(nested_to_list([{'description': 'New York Office', 'address1': '', 'address2': '', 'zip_code': '', 'city': 'New York', 'state_code': None, 'country_code': 'USA', 'latitude': 40.756054, 'longitude': -73.986951},{'description': 'Barcelona Headquarters', 'address1': '', 'address2': '', 'zip_code': '', 'city': 'Barcelona', 'state_code': None, 'country_code': 'ESP', 'latitude': 41.387917, 'longitude': 2.1699187}]))"
   ]
  },
  {
   "cell_type": "code",
   "execution_count": 111,
   "metadata": {
    "scrolled": false
   },
   "outputs": [
    {
     "name": "stdout",
     "output_type": "stream",
     "text": [
      "3057\n"
     ]
    },
    {
     "data": {
      "text/html": [
       "<div>\n",
       "<style scoped>\n",
       "    .dataframe tbody tr th:only-of-type {\n",
       "        vertical-align: middle;\n",
       "    }\n",
       "\n",
       "    .dataframe tbody tr th {\n",
       "        vertical-align: top;\n",
       "    }\n",
       "\n",
       "    .dataframe thead th {\n",
       "        text-align: right;\n",
       "    }\n",
       "</style>\n",
       "<table border=\"1\" class=\"dataframe\">\n",
       "  <thead>\n",
       "    <tr style=\"text-align: right;\">\n",
       "      <th></th>\n",
       "      <th>category_code</th>\n",
       "      <th>founded_year</th>\n",
       "      <th>name</th>\n",
       "      <th>number_of_employees</th>\n",
       "      <th>offices</th>\n",
       "      <th>total_money_raised</th>\n",
       "    </tr>\n",
       "  </thead>\n",
       "  <tbody>\n",
       "    <tr>\n",
       "      <th>6</th>\n",
       "      <td>web</td>\n",
       "      <td>2006</td>\n",
       "      <td>Geni</td>\n",
       "      <td>18.0</td>\n",
       "      <td>{'type': 'Point', 'coordinates': [-118.393064,...</td>\n",
       "      <td>16000</td>\n",
       "    </tr>\n",
       "    <tr>\n",
       "      <th>20</th>\n",
       "      <td>web</td>\n",
       "      <td>2002</td>\n",
       "      <td>Plaxo</td>\n",
       "      <td>50.0</td>\n",
       "      <td>{'type': 'Point', 'coordinates': [-122.055197,...</td>\n",
       "      <td>28000</td>\n",
       "    </tr>\n",
       "    <tr>\n",
       "      <th>23</th>\n",
       "      <td>web</td>\n",
       "      <td>1995</td>\n",
       "      <td>eBay</td>\n",
       "      <td>15000.0</td>\n",
       "      <td>{'type': 'Point', 'coordinates': [-121.930035,...</td>\n",
       "      <td>6000</td>\n",
       "    </tr>\n",
       "    <tr>\n",
       "      <th>28</th>\n",
       "      <td>web</td>\n",
       "      <td>2007</td>\n",
       "      <td>Mahalo</td>\n",
       "      <td>40.0</td>\n",
       "      <td>{'type': 'Point', 'coordinates': [-118.487267,...</td>\n",
       "      <td>21000</td>\n",
       "    </tr>\n",
       "    <tr>\n",
       "      <th>31</th>\n",
       "      <td>games_video</td>\n",
       "      <td>2006</td>\n",
       "      <td>Kyte</td>\n",
       "      <td>40.0</td>\n",
       "      <td>{'type': 'Point', 'coordinates': [-122.409173,...</td>\n",
       "      <td>23000</td>\n",
       "    </tr>\n",
       "  </tbody>\n",
       "</table>\n",
       "</div>"
      ],
      "text/plain": [
       "   category_code  founded_year    name  number_of_employees  \\\n",
       "6            web          2006    Geni                 18.0   \n",
       "20           web          2002   Plaxo                 50.0   \n",
       "23           web          1995    eBay              15000.0   \n",
       "28           web          2007  Mahalo                 40.0   \n",
       "31   games_video          2006    Kyte                 40.0   \n",
       "\n",
       "                                              offices  total_money_raised  \n",
       "6   {'type': 'Point', 'coordinates': [-118.393064,...               16000  \n",
       "20  {'type': 'Point', 'coordinates': [-122.055197,...               28000  \n",
       "23  {'type': 'Point', 'coordinates': [-121.930035,...                6000  \n",
       "28  {'type': 'Point', 'coordinates': [-118.487267,...               21000  \n",
       "31  {'type': 'Point', 'coordinates': [-122.409173,...               23000  "
      ]
     },
     "metadata": {},
     "output_type": "display_data"
    }
   ],
   "source": [
    "#Transformo valores de columnas aplicando las funciones anteriormente definidas.\n",
    "df_colout = df_regout.copy()\n",
    "df_colout['total_money_raised'] = df_colout['total_money_raised'].apply(str_to_int)\n",
    "df_colout['founded_year'] = df_colout['founded_year'].apply(float_to_int)\n",
    "df_colout['offices'] = df_colout['offices'].apply(nested_to_list)\n",
    "print(len(df_colout))\n",
    "display(df_colout.head())"
   ]
  },
  {
   "cell_type": "code",
   "execution_count": 112,
   "metadata": {},
   "outputs": [
    {
     "name": "stdout",
     "output_type": "stream",
     "text": [
      "6        {'type': 'Point', 'coordinates': [-118.393064,...\n",
      "20       {'type': 'Point', 'coordinates': [-122.055197,...\n",
      "23       {'type': 'Point', 'coordinates': [-121.930035,...\n",
      "28       {'type': 'Point', 'coordinates': [-118.487267,...\n",
      "31       {'type': 'Point', 'coordinates': [-122.409173,...\n",
      "39       {'type': 'Point', 'coordinates': [-73.995722, ...\n",
      "48       {'type': 'Point', 'coordinates': [-122.025485,...\n",
      "52       {'type': 'Point', 'coordinates': [-73.995625, ...\n",
      "54       {'type': 'Point', 'coordinates': [-74.3372, 40...\n",
      "55       {'type': 'Point', 'coordinates': [-122.07948, ...\n",
      "56       {'type': 'Point', 'coordinates': [-73.99873, 4...\n",
      "57       {'type': 'Point', 'coordinates': [-73.563878, ...\n",
      "62       {'type': 'Point', 'coordinates': [-122.397224,...\n",
      "64       {'type': 'Point', 'coordinates': [-119.306607,...\n",
      "69       {'type': 'Point', 'coordinates': [-119.306607,...\n",
      "86       {'type': 'Point', 'coordinates': [-118.756618,...\n",
      "90       {'type': 'Point', 'coordinates': [4.8948623, 5...\n",
      "93       {'type': 'Point', 'coordinates': [-1.3610845, ...\n",
      "94       {'type': 'Point', 'coordinates': [-121.977853,...\n",
      "102      {'type': 'Point', 'coordinates': [-122.414689,...\n",
      "106      {'type': 'Point', 'coordinates': [2.34668, 48....\n",
      "107      {'type': 'Point', 'coordinates': [-122.206893,...\n",
      "112      {'type': 'Point', 'coordinates': [-122.511687,...\n",
      "116      {'type': 'Point', 'coordinates': [-122.025485,...\n",
      "122      {'type': 'Point', 'coordinates': [2.381514, 48...\n",
      "126      {'type': 'Point', 'coordinates': [-122.358484,...\n",
      "127      {'type': 'Point', 'coordinates': [-122.079017,...\n",
      "129      {'type': 'Point', 'coordinates': [-122.39071, ...\n",
      "132      {'type': 'Point', 'coordinates': [-122.159928,...\n",
      "133      {'type': 'Point', 'coordinates': [-122.323408,...\n",
      "                               ...                        \n",
      "18478    {'type': 'Point', 'coordinates': [-73.2435522,...\n",
      "18523    {'type': 'Point', 'coordinates': [-122.4494082...\n",
      "18528                                                    0\n",
      "18544    {'type': 'Point', 'coordinates': [-117.865071,...\n",
      "18551                                                    0\n",
      "18556    {'type': 'Point', 'coordinates': [-2.5909744, ...\n",
      "18572    {'type': 'Point', 'coordinates': [-87.6356066,...\n",
      "18573                                                    0\n",
      "18582    {'type': 'Point', 'coordinates': [-122.398062,...\n",
      "18656    {'type': 'Point', 'coordinates': [-117.292746,...\n",
      "18674                                                    0\n",
      "18681    {'type': 'Point', 'coordinates': [12.3933043, ...\n",
      "18692    {'type': 'Point', 'coordinates': [-74.006023, ...\n",
      "18694    {'type': 'Point', 'coordinates': [-74.006023, ...\n",
      "18698    {'type': 'Point', 'coordinates': [-73.9161267,...\n",
      "18701    {'type': 'Point', 'coordinates': [-73.986951, ...\n",
      "18707                                                    0\n",
      "18713    {'type': 'Point', 'coordinates': [-121.9801441...\n",
      "18719    {'type': 'Point', 'coordinates': [2.3406954, 4...\n",
      "18722    {'type': 'Point', 'coordinates': [-74.896402, ...\n",
      "18725    {'type': 'Point', 'coordinates': [-122.347654,...\n",
      "18726    {'type': 'Point', 'coordinates': [16.5595393, ...\n",
      "18735    {'type': 'Point', 'coordinates': [-123.109217,...\n",
      "18742    {'type': 'Point', 'coordinates': [-9.1462209, ...\n",
      "18748                                                    0\n",
      "18764    {'type': 'Point', 'coordinates': [-78.6806784,...\n",
      "18769                                                    0\n",
      "18783                                                    0\n",
      "18793    {'type': 'Point', 'coordinates': [-80.041395, ...\n",
      "18795                                                    0\n",
      "Name: offices, Length: 3057, dtype: object\n"
     ]
    }
   ],
   "source": [
    "print(df_colout['offices'])"
   ]
  },
  {
   "cell_type": "code",
   "execution_count": 113,
   "metadata": {},
   "outputs": [
    {
     "name": "stdout",
     "output_type": "stream",
     "text": [
      "2305\n"
     ]
    },
    {
     "data": {
      "text/html": [
       "<div>\n",
       "<style scoped>\n",
       "    .dataframe tbody tr th:only-of-type {\n",
       "        vertical-align: middle;\n",
       "    }\n",
       "\n",
       "    .dataframe tbody tr th {\n",
       "        vertical-align: top;\n",
       "    }\n",
       "\n",
       "    .dataframe thead th {\n",
       "        text-align: right;\n",
       "    }\n",
       "</style>\n",
       "<table border=\"1\" class=\"dataframe\">\n",
       "  <thead>\n",
       "    <tr style=\"text-align: right;\">\n",
       "      <th></th>\n",
       "      <th>category_code</th>\n",
       "      <th>founded_year</th>\n",
       "      <th>name</th>\n",
       "      <th>number_of_employees</th>\n",
       "      <th>offices</th>\n",
       "      <th>total_money_raised</th>\n",
       "    </tr>\n",
       "  </thead>\n",
       "  <tbody>\n",
       "    <tr>\n",
       "      <th>6</th>\n",
       "      <td>web</td>\n",
       "      <td>2006</td>\n",
       "      <td>Geni</td>\n",
       "      <td>18.0</td>\n",
       "      <td>{'type': 'Point', 'coordinates': [-118.393064,...</td>\n",
       "      <td>16000</td>\n",
       "    </tr>\n",
       "    <tr>\n",
       "      <th>20</th>\n",
       "      <td>web</td>\n",
       "      <td>2002</td>\n",
       "      <td>Plaxo</td>\n",
       "      <td>50.0</td>\n",
       "      <td>{'type': 'Point', 'coordinates': [-122.055197,...</td>\n",
       "      <td>28000</td>\n",
       "    </tr>\n",
       "    <tr>\n",
       "      <th>23</th>\n",
       "      <td>web</td>\n",
       "      <td>1995</td>\n",
       "      <td>eBay</td>\n",
       "      <td>15000.0</td>\n",
       "      <td>{'type': 'Point', 'coordinates': [-121.930035,...</td>\n",
       "      <td>6000</td>\n",
       "    </tr>\n",
       "    <tr>\n",
       "      <th>28</th>\n",
       "      <td>web</td>\n",
       "      <td>2007</td>\n",
       "      <td>Mahalo</td>\n",
       "      <td>40.0</td>\n",
       "      <td>{'type': 'Point', 'coordinates': [-118.487267,...</td>\n",
       "      <td>21000</td>\n",
       "    </tr>\n",
       "    <tr>\n",
       "      <th>31</th>\n",
       "      <td>games_video</td>\n",
       "      <td>2006</td>\n",
       "      <td>Kyte</td>\n",
       "      <td>40.0</td>\n",
       "      <td>{'type': 'Point', 'coordinates': [-122.409173,...</td>\n",
       "      <td>23000</td>\n",
       "    </tr>\n",
       "  </tbody>\n",
       "</table>\n",
       "</div>"
      ],
      "text/plain": [
       "   category_code  founded_year    name  number_of_employees  \\\n",
       "6            web          2006    Geni                 18.0   \n",
       "20           web          2002   Plaxo                 50.0   \n",
       "23           web          1995    eBay              15000.0   \n",
       "28           web          2007  Mahalo                 40.0   \n",
       "31   games_video          2006    Kyte                 40.0   \n",
       "\n",
       "                                              offices  total_money_raised  \n",
       "6   {'type': 'Point', 'coordinates': [-118.393064,...               16000  \n",
       "20  {'type': 'Point', 'coordinates': [-122.055197,...               28000  \n",
       "23  {'type': 'Point', 'coordinates': [-121.930035,...                6000  \n",
       "28  {'type': 'Point', 'coordinates': [-118.487267,...               21000  \n",
       "31  {'type': 'Point', 'coordinates': [-122.409173,...               23000  "
      ]
     },
     "metadata": {},
     "output_type": "display_data"
    }
   ],
   "source": [
    "#Elimino valores de GeoJson nulos\n",
    "df_geoout = df_colout.copy()\n",
    "df_geoout = df_geoout[df_geoout.offices != 0]\n",
    "print(len(df_geoout))\n",
    "display(df_geoout.head())"
   ]
  },
  {
   "cell_type": "code",
   "execution_count": 114,
   "metadata": {},
   "outputs": [
    {
     "name": "stdout",
     "output_type": "stream",
     "text": [
      "6        {'type': 'Point', 'coordinates': [-118.393064,...\n",
      "20       {'type': 'Point', 'coordinates': [-122.055197,...\n",
      "23       {'type': 'Point', 'coordinates': [-121.930035,...\n",
      "28       {'type': 'Point', 'coordinates': [-118.487267,...\n",
      "31       {'type': 'Point', 'coordinates': [-122.409173,...\n",
      "39       {'type': 'Point', 'coordinates': [-73.995722, ...\n",
      "48       {'type': 'Point', 'coordinates': [-122.025485,...\n",
      "52       {'type': 'Point', 'coordinates': [-73.995625, ...\n",
      "54       {'type': 'Point', 'coordinates': [-74.3372, 40...\n",
      "55       {'type': 'Point', 'coordinates': [-122.07948, ...\n",
      "56       {'type': 'Point', 'coordinates': [-73.99873, 4...\n",
      "57       {'type': 'Point', 'coordinates': [-73.563878, ...\n",
      "62       {'type': 'Point', 'coordinates': [-122.397224,...\n",
      "64       {'type': 'Point', 'coordinates': [-119.306607,...\n",
      "69       {'type': 'Point', 'coordinates': [-119.306607,...\n",
      "86       {'type': 'Point', 'coordinates': [-118.756618,...\n",
      "90       {'type': 'Point', 'coordinates': [4.8948623, 5...\n",
      "93       {'type': 'Point', 'coordinates': [-1.3610845, ...\n",
      "94       {'type': 'Point', 'coordinates': [-121.977853,...\n",
      "102      {'type': 'Point', 'coordinates': [-122.414689,...\n",
      "106      {'type': 'Point', 'coordinates': [2.34668, 48....\n",
      "107      {'type': 'Point', 'coordinates': [-122.206893,...\n",
      "112      {'type': 'Point', 'coordinates': [-122.511687,...\n",
      "116      {'type': 'Point', 'coordinates': [-122.025485,...\n",
      "122      {'type': 'Point', 'coordinates': [2.381514, 48...\n",
      "126      {'type': 'Point', 'coordinates': [-122.358484,...\n",
      "127      {'type': 'Point', 'coordinates': [-122.079017,...\n",
      "129      {'type': 'Point', 'coordinates': [-122.39071, ...\n",
      "132      {'type': 'Point', 'coordinates': [-122.159928,...\n",
      "133      {'type': 'Point', 'coordinates': [-122.323408,...\n",
      "                               ...                        \n",
      "18278    {'type': 'Point', 'coordinates': [-118.4660597...\n",
      "18319    {'type': 'Point', 'coordinates': [13.434474, 5...\n",
      "18321    {'type': 'Point', 'coordinates': [151.202966, ...\n",
      "18329    {'type': 'Point', 'coordinates': [-71.0814466,...\n",
      "18334    {'type': 'Point', 'coordinates': [-6.2493777, ...\n",
      "18343    {'type': 'Point', 'coordinates': [-0.3062632, ...\n",
      "18345    {'type': 'Point', 'coordinates': [-118.405325,...\n",
      "18400    {'type': 'Point', 'coordinates': [-74.0094471,...\n",
      "18405    {'type': 'Point', 'coordinates': [-121.9219538...\n",
      "18478    {'type': 'Point', 'coordinates': [-73.2435522,...\n",
      "18523    {'type': 'Point', 'coordinates': [-122.4494082...\n",
      "18544    {'type': 'Point', 'coordinates': [-117.865071,...\n",
      "18556    {'type': 'Point', 'coordinates': [-2.5909744, ...\n",
      "18572    {'type': 'Point', 'coordinates': [-87.6356066,...\n",
      "18582    {'type': 'Point', 'coordinates': [-122.398062,...\n",
      "18656    {'type': 'Point', 'coordinates': [-117.292746,...\n",
      "18681    {'type': 'Point', 'coordinates': [12.3933043, ...\n",
      "18692    {'type': 'Point', 'coordinates': [-74.006023, ...\n",
      "18694    {'type': 'Point', 'coordinates': [-74.006023, ...\n",
      "18698    {'type': 'Point', 'coordinates': [-73.9161267,...\n",
      "18701    {'type': 'Point', 'coordinates': [-73.986951, ...\n",
      "18713    {'type': 'Point', 'coordinates': [-121.9801441...\n",
      "18719    {'type': 'Point', 'coordinates': [2.3406954, 4...\n",
      "18722    {'type': 'Point', 'coordinates': [-74.896402, ...\n",
      "18725    {'type': 'Point', 'coordinates': [-122.347654,...\n",
      "18726    {'type': 'Point', 'coordinates': [16.5595393, ...\n",
      "18735    {'type': 'Point', 'coordinates': [-123.109217,...\n",
      "18742    {'type': 'Point', 'coordinates': [-9.1462209, ...\n",
      "18764    {'type': 'Point', 'coordinates': [-78.6806784,...\n",
      "18793    {'type': 'Point', 'coordinates': [-80.041395, ...\n",
      "Name: offices, Length: 2305, dtype: object\n"
     ]
    }
   ],
   "source": [
    "print(df_geoout['offices'])"
   ]
  },
  {
   "cell_type": "code",
   "execution_count": 115,
   "metadata": {
    "scrolled": true
   },
   "outputs": [],
   "source": [
    "df_geoout.to_json('prueba.json', orient=\"records\", lines=True)"
   ]
  },
  {
   "cell_type": "code",
   "execution_count": 146,
   "metadata": {},
   "outputs": [],
   "source": [
    "def concentration(company):\n",
    "    cursor = db.fase1.find({\n",
    "      \"offices\": {\n",
    "        \"$near\": {\n",
    "          \"$geometry\": {\n",
    "            \"type\": \"Point\",\n",
    "            \"coordinates\": [company['offices']['coordinates'][0], company['offices']['coordinates'][1]]\n",
    "          },\n",
    "          \"$minDistance\": 0,\n",
    "          \"$maxDistance\":9000\n",
    "        }\n",
    "      }\n",
    "    })\n",
    "    return list(cursor)"
   ]
  },
  {
   "cell_type": "code",
   "execution_count": 147,
   "metadata": {
    "scrolled": true
   },
   "outputs": [
    {
     "data": {
      "text/plain": [
       "2305"
      ]
     },
     "metadata": {},
     "output_type": "display_data"
    }
   ],
   "source": [
    "#Hago loop sobre las empresas\n",
    "cursor_fase1 = db.fase1.find()\n",
    "clusters = []\n",
    "for element in cursor_fase1:\n",
    "    clusters.append(len(concentration(element)))\n",
    "\n",
    "\n",
    "display(len(clusters))"
   ]
  },
  {
   "cell_type": "code",
   "execution_count": 148,
   "metadata": {},
   "outputs": [
    {
     "name": "stdout",
     "output_type": "stream",
     "text": [
      "132\n"
     ]
    }
   ],
   "source": [
    "\n",
    "print(max(clusters))\n"
   ]
  },
  {
   "cell_type": "code",
   "execution_count": 149,
   "metadata": {},
   "outputs": [
    {
     "name": "stdout",
     "output_type": "stream",
     "text": [
      "[[-122.457454, 37.79851]]\n"
     ]
    }
   ],
   "source": [
    "target = list(db.fase1.find())\n",
    "targets = []\n",
    "for i in range(len(clusters)):\n",
    "    if clusters[i] == max(clusters):\n",
    "        targets.append([target[i]['offices']['coordinates'][0], target[i]['offices']['coordinates'][1]])\n",
    "\n",
    "print(targets)"
   ]
  },
  {
   "cell_type": "code",
   "execution_count": null,
   "metadata": {},
   "outputs": [],
   "source": [
    "#df_off = json_normalize(df_cat, 'offices')\n",
    "#display(df_off.head())"
   ]
  },
  {
   "cell_type": "code",
   "execution_count": 92,
   "metadata": {},
   "outputs": [
    {
     "name": "stdout",
     "output_type": "stream",
     "text": [
      "145\n"
     ]
    },
    {
     "data": {
      "text/html": [
       "<div>\n",
       "<style scoped>\n",
       "    .dataframe tbody tr th:only-of-type {\n",
       "        vertical-align: middle;\n",
       "    }\n",
       "\n",
       "    .dataframe tbody tr th {\n",
       "        vertical-align: top;\n",
       "    }\n",
       "\n",
       "    .dataframe thead th {\n",
       "        text-align: right;\n",
       "    }\n",
       "</style>\n",
       "<table border=\"1\" class=\"dataframe\">\n",
       "  <thead>\n",
       "    <tr style=\"text-align: right;\">\n",
       "      <th></th>\n",
       "      <th>_id</th>\n",
       "      <th>category_code</th>\n",
       "      <th>founded_year</th>\n",
       "      <th>name</th>\n",
       "      <th>number_of_employees</th>\n",
       "      <th>offices</th>\n",
       "      <th>total_money_raised</th>\n",
       "    </tr>\n",
       "  </thead>\n",
       "  <tbody>\n",
       "    <tr>\n",
       "      <th>0</th>\n",
       "      <td>5c6add58d5ce98ea9db48ffc</td>\n",
       "      <td>software</td>\n",
       "      <td>2003</td>\n",
       "      <td>Mantara</td>\n",
       "      <td>50.0</td>\n",
       "      <td>{'type': 'Point', 'coordinates': [-74.032177, ...</td>\n",
       "      <td>50000</td>\n",
       "    </tr>\n",
       "    <tr>\n",
       "      <th>1</th>\n",
       "      <td>5c6add58d5ce98ea9db491de</td>\n",
       "      <td>web</td>\n",
       "      <td>2006</td>\n",
       "      <td>Simply Good Media</td>\n",
       "      <td>4.0</td>\n",
       "      <td>{'type': 'Point', 'coordinates': [-74.032177, ...</td>\n",
       "      <td>0</td>\n",
       "    </tr>\n",
       "    <tr>\n",
       "      <th>2</th>\n",
       "      <td>5c6add58d5ce98ea9db48fff</td>\n",
       "      <td>web</td>\n",
       "      <td>2008</td>\n",
       "      <td>IAmInTown</td>\n",
       "      <td>3.0</td>\n",
       "      <td>{'type': 'Point', 'coordinates': [-74.0348315,...</td>\n",
       "      <td>0</td>\n",
       "    </tr>\n",
       "    <tr>\n",
       "      <th>3</th>\n",
       "      <td>5c6add58d5ce98ea9db491b2</td>\n",
       "      <td>software</td>\n",
       "      <td>2001</td>\n",
       "      <td>Eglue Business Technologies</td>\n",
       "      <td>80.0</td>\n",
       "      <td>{'type': 'Point', 'coordinates': [-74.02977, 4...</td>\n",
       "      <td>27000</td>\n",
       "    </tr>\n",
       "    <tr>\n",
       "      <th>4</th>\n",
       "      <td>5c6add58d5ce98ea9db48e49</td>\n",
       "      <td>web</td>\n",
       "      <td>2007</td>\n",
       "      <td>SuiteMatch</td>\n",
       "      <td>3.0</td>\n",
       "      <td>{'type': 'Point', 'coordinates': [-74.039011, ...</td>\n",
       "      <td>0</td>\n",
       "    </tr>\n",
       "  </tbody>\n",
       "</table>\n",
       "</div>"
      ],
      "text/plain": [
       "                        _id category_code  founded_year  \\\n",
       "0  5c6add58d5ce98ea9db48ffc      software          2003   \n",
       "1  5c6add58d5ce98ea9db491de           web          2006   \n",
       "2  5c6add58d5ce98ea9db48fff           web          2008   \n",
       "3  5c6add58d5ce98ea9db491b2      software          2001   \n",
       "4  5c6add58d5ce98ea9db48e49           web          2007   \n",
       "\n",
       "                          name  number_of_employees  \\\n",
       "0                      Mantara                 50.0   \n",
       "1            Simply Good Media                  4.0   \n",
       "2                    IAmInTown                  3.0   \n",
       "3  Eglue Business Technologies                 80.0   \n",
       "4                   SuiteMatch                  3.0   \n",
       "\n",
       "                                             offices  total_money_raised  \n",
       "0  {'type': 'Point', 'coordinates': [-74.032177, ...               50000  \n",
       "1  {'type': 'Point', 'coordinates': [-74.032177, ...                   0  \n",
       "2  {'type': 'Point', 'coordinates': [-74.0348315,...                   0  \n",
       "3  {'type': 'Point', 'coordinates': [-74.02977, 4...               27000  \n",
       "4  {'type': 'Point', 'coordinates': [-74.039011, ...                   0  "
      ]
     },
     "metadata": {},
     "output_type": "display_data"
    }
   ],
   "source": [
    "df_fase1 = pd.DataFrame(list(cursor))\n",
    "print(len(df_fase1))\n",
    "display(df_fase1.head())"
   ]
  },
  {
   "cell_type": "code",
   "execution_count": null,
   "metadata": {},
   "outputs": [],
   "source": [
    "def toGeoJSON(array):\n",
    "    return {\n",
    "        \"type\":\"Point\",\n",
    "        \"coordinates\":[array[0],array[1]]\n",
    "    }"
   ]
  },
  {
   "cell_type": "code",
   "execution_count": null,
   "metadata": {},
   "outputs": [],
   "source": [
    "#Esto es para buscar con regex de mongo\n",
    "#{ name: { $in: [ /^key./i ] } }    { tag_list: { $in: [ /.games./i ] } }  \n",
    "#{ updated_at: { $in: [ /2008$/ ] } } \n",
    "#Para descartar arrays vacios en mongo\n",
    "#{offices:{ $gt: [] } } (hay otras opciones en un link en pendientes)"
   ]
  },
  {
   "cell_type": "code",
   "execution_count": null,
   "metadata": {},
   "outputs": [],
   "source": [
    "def convertRestaurant(restaurant):\n",
    "    return {\n",
    "        \"name\": restaurant[\"name\"],\n",
    "        \"cuisine\":restaurant[\"cuisine\"],\n",
    "        \"position\": toGeoJSON(restaurant[\"address\"][\"coord\"])\n",
    "    }\n"
   ]
  }
 ],
 "metadata": {
  "kernelspec": {
   "display_name": "Python 3",
   "language": "python",
   "name": "python3"
  },
  "language_info": {
   "codemirror_mode": {
    "name": "ipython",
    "version": 3
   },
   "file_extension": ".py",
   "mimetype": "text/x-python",
   "name": "python",
   "nbconvert_exporter": "python",
   "pygments_lexer": "ipython3",
   "version": "3.6.7"
  }
 },
 "nbformat": 4,
 "nbformat_minor": 2
}
