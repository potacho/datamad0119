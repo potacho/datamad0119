{
 "cells": [
  {
   "cell_type": "markdown",
   "metadata": {},
   "source": [
    "## VISUALIZATION PROJECT Geospatial Business Intelligence (BI)\n"
   ]
  },
  {
   "cell_type": "code",
   "execution_count": 29,
   "metadata": {},
   "outputs": [],
   "source": [
    "#Tras iniciar servidor de DB mongo, importo módulo 'pymongo'.\n",
    "import pymongo\n",
    "import pandas as pd\n",
    "import numpy as np\n",
    "import re\n",
    "from pandas.io.json import json_normalize\n",
    "#Asigno variable al cliente de DB y a la DB.\n",
    "MongoClient = pymongo.MongoClient\n",
    "client = MongoClient()\n",
    "db = client.companies"
   ]
  },
  {
   "cell_type": "code",
   "execution_count": 30,
   "metadata": {},
   "outputs": [],
   "source": [
    "#Verifico que se han importado todos los documentos.\n",
    "cursor = db.companies.find()\n",
    "data = list(cursor)\n",
    "#print(len(data))"
   ]
  },
  {
   "cell_type": "code",
   "execution_count": 31,
   "metadata": {},
   "outputs": [],
   "source": [
    "def q_qty_1(atr1,var1):\n",
    "    q = db.companies.find({atr1:var1})\n",
    "    return len(list(map(lambda r:r,list(q))))\n",
    "atr1 = 'category_code'\n",
    "var1 = 'web'\n",
    "#print(q_qty_1(atr1,var1))"
   ]
  },
  {
   "cell_type": "code",
   "execution_count": 32,
   "metadata": {},
   "outputs": [],
   "source": [
    "def q_1(atr1,var1):\n",
    "    q = db.companies.find({atr1:var1})\n",
    "    return list(map(lambda r:[(r['name']),(r['offices'])],list(q)))\n",
    "atr1 = 'category_code'\n",
    "var1 = 'web'\n",
    "#display(q_1(atr1,var1))"
   ]
  },
  {
   "cell_type": "code",
   "execution_count": 33,
   "metadata": {},
   "outputs": [],
   "source": [
    "#Creo dataframe con los datos\n",
    "df = pd.DataFrame(data)\n",
    "#display(df.dtypes)\n",
    "columns = df.dtypes\n",
    "#print(columns)"
   ]
  },
  {
   "cell_type": "code",
   "execution_count": 34,
   "metadata": {
    "scrolled": true
   },
   "outputs": [],
   "source": [
    "#Extraigo columnas para tratamiento (para no copiarlas a mano)\n",
    "#g = df.columns.to_series().groupby(df.dtypes).groups\n",
    "#{k.name: v for k, v in g.items()}"
   ]
  },
  {
   "cell_type": "code",
   "execution_count": 35,
   "metadata": {},
   "outputs": [
    {
     "name": "stdout",
     "output_type": "stream",
     "text": [
      "42 42\n"
     ]
    }
   ],
   "source": [
    "#Clasificación de columnas originales para limpieza del dataframe\n",
    "col_float = ['deadpooled_day','deadpooled_month','deadpooled_year','founded_day','founded_month',\n",
    "             'founded_year','number_of_employees']\n",
    "col_obj = ['_id','acquisition','acquisitions','alias_list','blog_feed_url','blog_url','category_code',\n",
    "           'competitions','created_at','crunchbase_url','deadpooled_url','description','email_address',\n",
    "        'external_links','funding_rounds','homepage_url','image','investments','ipo','milestones', \n",
    "           'name','offices','overview','partners','permalink','phone_number','products','providerships',\n",
    "        'relationships','screenshots','tag_list','total_money_raised','twitter_username','updated_at',\n",
    "           'video_embeds']\n",
    "col_drop1 = ['deadpooled_day','deadpooled_month','founded_day','founded_month','alias_list','blog_feed_url',\n",
    "             'blog_url','created_at','crunchbase_url','deadpooled_url','email_address','external_links',\n",
    "            'image','permalink','phone_number','screenshots','tag_list','updated_at','video_embeds']\n",
    "col_drop2 = ['acquisition','acquisitions','competitions','description','funding_rounds','homepage_url',\n",
    "             'investments','ipo','milestones','partners','products','providerships','relationships',\n",
    "             'twitter_username','overview',]\n",
    "col_ok = ['deadpooled_year','founded_year','number_of_employees','_id','category_code','name','offices',\n",
    "          'total_money_raised']\n",
    "\n",
    "print(len(col_float)+len(col_obj),len(col_drop1)+len(col_drop2)+len(col_ok))"
   ]
  },
  {
   "cell_type": "code",
   "execution_count": 36,
   "metadata": {
    "scrolled": true
   },
   "outputs": [
    {
     "data": {
      "text/plain": [
       "7934"
      ]
     },
     "metadata": {},
     "output_type": "display_data"
    }
   ],
   "source": [
    "#Elimino columnas con valores que no me interesan\n",
    "df_drop1 = df.drop(col_drop1, axis=1)\n",
    "df_drop2 = df_drop1.drop(col_drop2, axis=1)\n",
    "#Elijo solo las empresas con deadpooled_year == null\n",
    "df_deadnull = df_drop2[df_drop2['deadpooled_year'].isnull()]\n",
    "#Elimino filas con valores nulos de las columnas que me interesan\n",
    "df_nulls = df_deadnull.dropna(subset=['founded_year','number_of_employees','name','offices',\n",
    "          'total_money_raised'])\n",
    "display(len(df_nulls))\n",
    "#display(df_nulls.head())"
   ]
  },
  {
   "cell_type": "code",
   "execution_count": 37,
   "metadata": {
    "scrolled": true
   },
   "outputs": [
    {
     "name": "stdout",
     "output_type": "stream",
     "text": [
      "3752\n"
     ]
    }
   ],
   "source": [
    "#Data frames por tipo de empresas y elimino las columnas _id y deadpooled_year \n",
    "col_cat = ['games_video','web','software']\n",
    "df_cat = df_nulls[df_nulls['category_code'].isin(col_cat)]\\\n",
    ".drop(['_id','deadpooled_year'], axis=1)#.sort_values(by=['category_code','number_of_employees'])\n",
    "print(len(df_cat))\n",
    "#display(df_cat.head())"
   ]
  },
  {
   "cell_type": "code",
   "execution_count": 38,
   "metadata": {},
   "outputs": [],
   "source": [
    "#Defino funciones para la modificación de los datos de las columnas a analizar.\n",
    "\n",
    "#Transforma un dato tipo float a uno tipo int.\n",
    "def float_to_int(flt):\n",
    "    integer = int(flt)\n",
    "    return integer\n",
    "\n",
    "#Transforma un dato tipo str en int devolviendo solo el número.\n",
    "def str_to_int(strg):\n",
    "    string = re.findall('\\d+', strg )\n",
    "    integer = int(string[0])*1000\n",
    "    return integer\n"
   ]
  },
  {
   "cell_type": "code",
   "execution_count": 39,
   "metadata": {
    "scrolled": true
   },
   "outputs": [
    {
     "name": "stdout",
     "output_type": "stream",
     "text": [
      "768\n"
     ]
    }
   ],
   "source": [
    "#Elimino registros irrelevantes (tomando solo los registros que me interesan)\n",
    "df_regout = df_cat.copy()\n",
    "df_regout['total_money_raised'] = df_regout['total_money_raised'].apply(str_to_int)\n",
    "df_regout['founded_year'] = df_regout['founded_year'].apply(float_to_int)\n",
    "df_regout = df_regout[df_regout.total_money_raised != 0]\n",
    "df_regout = df_regout[df_regout.number_of_employees != 0]\n",
    "df_regout = df_regout[df_regout['offices'].map(len) > 0]\n",
    "print(len(df_regout))\n",
    "#display(df_regout.head())"
   ]
  },
  {
   "cell_type": "code",
   "execution_count": 40,
   "metadata": {},
   "outputs": [],
   "source": [
    "#Verifico estructura del diccionario\n",
    "#print(df_regout['offices']).iloc[100])"
   ]
  },
  {
   "cell_type": "code",
   "execution_count": 41,
   "metadata": {},
   "outputs": [],
   "source": [
    "#d = {'type': 'Point', 'coordinates': [None, None]}\n",
    "##s = d['coordinates']\n",
    "#lon = d['coordinates'][0]\n",
    "#if lon == None:\n",
    "#    print('No hay valor de longitud para este registro')"
   ]
  },
  {
   "cell_type": "code",
   "execution_count": 42,
   "metadata": {},
   "outputs": [],
   "source": [
    "#Transforma los datos de ubicación de las oficinas en formato GeoJson y selecciona solo la primera ubicación\n",
    "def nested_to_list(dicts):\n",
    "    lat_lon = [{\"type\":\"Point\",\"coordinates\":[l['longitude'],l['latitude']]} for l in dicts]\n",
    "    lst = lat_lon[0]\n",
    "    long = lst['coordinates'][0]\n",
    "    if long != None:\n",
    "        return lst\n",
    "    else:\n",
    "        return 0\n",
    "\n",
    "#print(nested_to_list([{'description': 'New York Office', 'address1': '', 'address2': '', 'zip_code': '', 'city': 'New York', 'state_code': None, 'country_code': 'USA', 'latitude': 40.756054, 'longitude': -73.986951},{'description': 'Barcelona Headquarters', 'address1': '', 'address2': '', 'zip_code': '', 'city': 'Barcelona', 'state_code': None, 'country_code': 'ESP', 'latitude': 41.387917, 'longitude': 2.1699187}]))"
   ]
  },
  {
   "cell_type": "code",
   "execution_count": 43,
   "metadata": {
    "scrolled": false
   },
   "outputs": [
    {
     "name": "stdout",
     "output_type": "stream",
     "text": [
      "768\n"
     ]
    }
   ],
   "source": [
    "#Transformo valores de columnas aplicando las funciones anteriormente definidas.\n",
    "df_colout = df_regout.copy()\n",
    "\n",
    "df_colout['offices'] = df_colout['offices'].apply(nested_to_list)\n",
    "print(len(df_colout))\n",
    "#display(df_colout.head())"
   ]
  },
  {
   "cell_type": "code",
   "execution_count": 44,
   "metadata": {},
   "outputs": [],
   "source": [
    "#print(df_colout['offices'])"
   ]
  },
  {
   "cell_type": "code",
   "execution_count": 45,
   "metadata": {},
   "outputs": [
    {
     "name": "stdout",
     "output_type": "stream",
     "text": [
      "603\n"
     ]
    },
    {
     "data": {
      "text/html": [
       "<div>\n",
       "<style scoped>\n",
       "    .dataframe tbody tr th:only-of-type {\n",
       "        vertical-align: middle;\n",
       "    }\n",
       "\n",
       "    .dataframe tbody tr th {\n",
       "        vertical-align: top;\n",
       "    }\n",
       "\n",
       "    .dataframe thead th {\n",
       "        text-align: right;\n",
       "    }\n",
       "</style>\n",
       "<table border=\"1\" class=\"dataframe\">\n",
       "  <thead>\n",
       "    <tr style=\"text-align: right;\">\n",
       "      <th></th>\n",
       "      <th>category_code</th>\n",
       "      <th>founded_year</th>\n",
       "      <th>name</th>\n",
       "      <th>number_of_employees</th>\n",
       "      <th>offices</th>\n",
       "      <th>total_money_raised</th>\n",
       "    </tr>\n",
       "  </thead>\n",
       "  <tbody>\n",
       "    <tr>\n",
       "      <th>6</th>\n",
       "      <td>web</td>\n",
       "      <td>2006</td>\n",
       "      <td>Geni</td>\n",
       "      <td>18.0</td>\n",
       "      <td>{'type': 'Point', 'coordinates': [-118.393064,...</td>\n",
       "      <td>16000</td>\n",
       "    </tr>\n",
       "    <tr>\n",
       "      <th>20</th>\n",
       "      <td>web</td>\n",
       "      <td>2002</td>\n",
       "      <td>Plaxo</td>\n",
       "      <td>50.0</td>\n",
       "      <td>{'type': 'Point', 'coordinates': [-122.055197,...</td>\n",
       "      <td>28000</td>\n",
       "    </tr>\n",
       "    <tr>\n",
       "      <th>23</th>\n",
       "      <td>web</td>\n",
       "      <td>1995</td>\n",
       "      <td>eBay</td>\n",
       "      <td>15000.0</td>\n",
       "      <td>{'type': 'Point', 'coordinates': [-121.930035,...</td>\n",
       "      <td>6000</td>\n",
       "    </tr>\n",
       "    <tr>\n",
       "      <th>28</th>\n",
       "      <td>web</td>\n",
       "      <td>2007</td>\n",
       "      <td>Mahalo</td>\n",
       "      <td>40.0</td>\n",
       "      <td>{'type': 'Point', 'coordinates': [-118.487267,...</td>\n",
       "      <td>21000</td>\n",
       "    </tr>\n",
       "    <tr>\n",
       "      <th>31</th>\n",
       "      <td>games_video</td>\n",
       "      <td>2006</td>\n",
       "      <td>Kyte</td>\n",
       "      <td>40.0</td>\n",
       "      <td>{'type': 'Point', 'coordinates': [-122.409173,...</td>\n",
       "      <td>23000</td>\n",
       "    </tr>\n",
       "  </tbody>\n",
       "</table>\n",
       "</div>"
      ],
      "text/plain": [
       "   category_code  founded_year    name  number_of_employees  \\\n",
       "6            web          2006    Geni                 18.0   \n",
       "20           web          2002   Plaxo                 50.0   \n",
       "23           web          1995    eBay              15000.0   \n",
       "28           web          2007  Mahalo                 40.0   \n",
       "31   games_video          2006    Kyte                 40.0   \n",
       "\n",
       "                                              offices  total_money_raised  \n",
       "6   {'type': 'Point', 'coordinates': [-118.393064,...               16000  \n",
       "20  {'type': 'Point', 'coordinates': [-122.055197,...               28000  \n",
       "23  {'type': 'Point', 'coordinates': [-121.930035,...                6000  \n",
       "28  {'type': 'Point', 'coordinates': [-118.487267,...               21000  \n",
       "31  {'type': 'Point', 'coordinates': [-122.409173,...               23000  "
      ]
     },
     "metadata": {},
     "output_type": "display_data"
    }
   ],
   "source": [
    "#Elimino valores de GeoJson nulos\n",
    "df_geoout = df_colout.copy()\n",
    "df_geoout = df_geoout[df_geoout.offices != 0]\n",
    "print(len(df_geoout))\n",
    "display(df_geoout.head())"
   ]
  },
  {
   "cell_type": "code",
   "execution_count": 46,
   "metadata": {},
   "outputs": [],
   "source": [
    "#print(df_geoout['offices'])"
   ]
  },
  {
   "cell_type": "code",
   "execution_count": 47,
   "metadata": {
    "scrolled": true
   },
   "outputs": [],
   "source": [
    "df_geoout.to_json('prueba.json', orient=\"records\", lines=True)"
   ]
  },
  {
   "cell_type": "code",
   "execution_count": 48,
   "metadata": {},
   "outputs": [],
   "source": [
    "def concentration(company):\n",
    "    cursor = db.fase1.find({\n",
    "      \"offices\": {\n",
    "        \"$near\": {\n",
    "          \"$geometry\": {\n",
    "            \"type\": \"Point\",\n",
    "            \"coordinates\": [company['offices']['coordinates'][0], company['offices']['coordinates'][1]]\n",
    "          },\n",
    "          \"$minDistance\": 0,\n",
    "          \"$maxDistance\":9000\n",
    "        }\n",
    "      }\n",
    "    })\n",
    "    return list(cursor)"
   ]
  },
  {
   "cell_type": "code",
   "execution_count": 49,
   "metadata": {
    "scrolled": true
   },
   "outputs": [
    {
     "data": {
      "text/plain": [
       "2305"
      ]
     },
     "metadata": {},
     "output_type": "display_data"
    }
   ],
   "source": [
    "#Hago loop sobre las empresas\n",
    "cursor_fase1 = db.fase1.find()\n",
    "clusters = []\n",
    "for element in cursor_fase1:\n",
    "    clusters.append(len(concentration(element)))\n",
    "\n",
    "\n",
    "display(len(clusters))"
   ]
  },
  {
   "cell_type": "code",
   "execution_count": 50,
   "metadata": {},
   "outputs": [
    {
     "name": "stdout",
     "output_type": "stream",
     "text": [
      "132\n",
      "[70, 30, 37, 129, 27, 125, 60, 125, 3, 129, 125, 73, 6, 6, 3, 13, 1, 4, 66, 130, 42, 7, 63, 42, 60, 45, 73, 46, 1, 129, 75, 130, 35, 12, 129, 129, 22, 16, 6, 130, 10, 60, 63, 1, 1, 1, 3, 34, 129, 129, 62, 129, 9, 1, 11, 45, 78, 9, 70, 45, 28, 16, 1, 4, 63, 129, 129, 129, 2, 129, 129, 11, 74, 125, 1, 27, 2, 2, 8, 129, 31, 45, 130, 125, 6, 129, 6, 125, 20, 3, 35, 5, 129, 9, 14, 124, 45, 2, 15, 1, 34, 34, 1, 26, 12, 10, 16, 27, 3, 35, 83, 129, 53, 3, 9, 4, 1, 31, 13, 11, 1, 66, 30, 130, 5, 35, 19, 32, 64, 2, 130, 22, 4, 1, 86, 61, 51, 129, 34, 2, 17, 3, 33, 9, 15, 129, 11, 21, 35, 1, 22, 46, 45, 59, 29, 34, 12, 129, 25, 10, 129, 11, 10, 1, 2, 1, 34, 1, 8, 6, 129, 129, 5, 125, 5, 13, 20, 5, 52, 27, 3, 81, 8, 4, 71, 15, 43, 130, 8, 3, 1, 3, 129, 8, 34, 2, 129, 37, 1, 129, 69, 17, 5, 1, 2, 1, 2, 1, 124, 3, 1, 9, 1, 8, 23, 45, 3, 13, 1, 46, 12, 77, 45, 10, 46, 29, 12, 13, 124, 55, 23, 1, 1, 3, 1, 45, 129, 109, 10, 44, 5, 1, 125, 129, 130, 49, 18, 4, 3, 2, 129, 46, 3, 22, 1, 125, 8, 50, 13, 45, 5, 3, 22, 9, 130, 22, 125, 2, 2, 46, 38, 1, 1, 11, 30, 22, 22, 8, 1, 129, 2, 4, 2, 2, 52, 5, 64, 7, 125, 51, 1, 74, 43, 6, 2, 22, 19, 26, 68, 20, 126, 84, 124, 64, 40, 126, 1, 5, 14, 2, 6, 14, 2, 1, 35, 129, 1, 90, 1, 3, 1, 126, 1, 3, 68, 64, 22, 22, 1, 1, 126, 125, 130, 4, 67, 1, 8, 1, 9, 15, 122, 3, 1, 1, 40, 125, 125, 7, 11, 2, 15, 5, 18, 3, 1, 130, 1, 35, 20, 126, 1, 8, 34, 32, 38, 1, 71, 59, 3, 58, 31, 27, 3, 8, 2, 1, 3, 22, 1, 129, 131, 1, 23, 125, 1, 77, 14, 5, 130, 29, 17, 10, 64, 1, 75, 4, 52, 35, 6, 64, 8, 6, 10, 27, 43, 14, 1, 3, 12, 2, 27, 8, 7, 40, 8, 6, 8, 5, 35, 52, 8, 1, 43, 5, 20, 60, 5, 35, 1, 4, 43, 70, 130, 1, 12, 126, 1, 8, 11, 47, 24, 7, 10, 9, 123, 46, 1, 32, 65, 2, 2, 1, 2, 16, 11, 5, 8, 129, 26, 5, 125, 23, 1, 3, 7, 3, 6, 52, 7, 124, 2, 1, 1, 3, 4, 1, 8, 23, 5, 131, 31, 4, 5, 1, 3, 2, 10, 1, 4, 4, 2, 5, 12, 2, 132, 130, 2, 28, 1, 20, 46, 7, 2, 130, 1, 5, 4, 130, 4, 13, 11, 2, 5, 1, 11, 71, 3, 31, 11, 47, 3, 18, 31, 124, 2, 7, 64, 1, 9, 5, 7, 129, 5, 30, 77, 14, 1, 73, 14, 18, 129, 2, 10, 129, 3, 1, 4, 130, 39, 1, 129, 1, 1, 6, 4, 3, 3, 1, 3, 52, 74, 1, 6, 10, 11, 28, 6, 1, 1, 1, 2, 1, 16, 130, 129, 1, 125, 9, 3, 14, 2, 3, 1, 1, 3, 64, 4, 4, 11, 81, 11, 19, 2, 123, 4, 102, 6, 129, 4, 60, 16, 56, 68, 6, 1, 27, 7, 2, 1, 11, 11, 2, 129, 2, 35, 26, 1, 3, 26, 53, 21, 1, 78, 31, 53, 6, 3, 5, 1, 12, 21, 3, 13, 129, 71, 21, 129, 2, 5, 10, 1, 1, 13, 11, 130, 126, 23, 1, 2, 1, 1, 2, 129, 129, 21, 1, 1, 2, 2, 1, 14, 3, 130, 1, 1, 1, 14, 124, 23, 1, 3, 5, 74, 22, 63, 77, 9, 23, 6, 22, 8, 12, 20, 1, 52, 17, 63, 58, 66, 11, 22, 27, 1, 4, 83, 125, 125, 1, 125, 26, 3, 3, 5, 129, 11, 1, 10, 4, 2, 1, 45, 1, 4, 6, 41, 2, 32, 33, 1, 3, 13, 1, 1, 2, 15, 7, 125, 1, 50, 4, 11, 23, 1, 64, 8, 1, 3, 1, 1, 1, 11, 9, 1, 9, 129, 3, 4, 7, 9, 14, 126, 4, 2, 13, 123, 4, 4, 52, 22, 1, 14, 10, 24, 66, 125, 1, 2, 13, 4, 14, 1, 2, 124, 2, 13, 16, 1, 125, 21, 9, 1, 38, 126, 45, 129, 1, 1, 129, 129, 1, 2, 1, 22, 1, 11, 8, 2, 57, 25, 12, 14, 2, 1, 125, 45, 20, 2, 1, 19, 4, 19, 2, 35, 33, 64, 25, 9, 1, 45, 1, 130, 9, 20, 124, 3, 3, 9, 130, 129, 1, 21, 2, 52, 1, 125, 8, 22, 5, 9, 5, 2, 20, 27, 22, 4, 23, 12, 27, 2, 125, 1, 1, 5, 12, 2, 43, 125, 45, 129, 129, 3, 1, 10, 8, 1, 11, 10, 40, 38, 3, 11, 3, 9, 2, 1, 7, 1, 2, 64, 7, 2, 1, 3, 1, 4, 2, 2, 2, 126, 7, 7, 1, 4, 27, 48, 33, 129, 7, 26, 37, 1, 1, 7, 1, 3, 1, 2, 24, 1, 7, 112, 1, 3, 40, 1, 10, 125, 9, 23, 20, 9, 1, 6, 123, 7, 15, 1, 3, 129, 46, 5, 10, 1, 2, 3, 1, 2, 1, 1, 22, 54, 1, 52, 52, 46, 2, 126, 3, 11, 3, 129, 1, 46, 2, 7, 15, 52, 23, 1, 25, 77, 7, 3, 63, 53, 1, 21, 11, 10, 1, 14, 10, 6, 4, 3, 22, 3, 17, 1, 64, 1, 16, 126, 3, 29, 3, 2, 6, 3, 2, 14, 2, 4, 3, 10, 43, 13, 3, 17, 21, 2, 121, 10, 7, 4, 2, 7, 129, 3, 6, 130, 14, 2, 18, 4, 2, 5, 23, 11, 2, 3, 3, 37, 4, 2, 129, 3, 4, 62, 3, 4, 2, 2, 4, 43, 2, 2, 2, 131, 66, 52, 123, 64, 10, 129, 2, 2, 16, 4, 124, 129, 2, 10, 46, 2, 8, 7, 14, 13, 16, 64, 8, 2, 2, 9, 48, 129, 2, 3, 3, 2, 2, 2, 45, 27, 4, 5, 6, 34, 2, 11, 2, 13, 6, 2, 3, 3, 31, 129, 2, 9, 19, 6, 74, 3, 14, 2, 124, 130, 3, 126, 15, 3, 32, 129, 121, 126, 2, 2, 29, 6, 14, 2, 3, 3, 3, 10, 43, 4, 21, 3, 2, 13, 121, 17, 7, 7, 4, 2, 2, 6, 10, 14, 3, 130, 2, 18, 11, 4, 2, 129, 3, 5, 3, 4, 2, 129, 37, 23, 4, 43, 4, 3, 3, 2, 2, 2, 131, 4, 66, 62, 2, 2, 52, 123, 16, 2, 4, 10, 64, 129, 124, 129, 2, 2, 10, 48, 13, 2, 46, 16, 8, 7, 14, 64, 8, 129, 9, 27, 3, 2, 3, 2, 2, 2, 2, 2, 45, 4, 11, 3, 5, 6, 2, 34, 2, 6, 19, 2, 129, 31, 13, 3, 74, 6, 3, 3, 14, 126, 2, 2, 9, 15, 3, 124, 32, 121, 129, 1, 4, 130, 31, 1, 2, 4, 1, 3, 1, 1, 3, 19, 53, 22, 15, 9, 26, 14, 121, 4, 70, 45, 1, 1, 1, 70, 20, 73, 11, 1, 2, 1, 22, 3, 22, 5, 27, 4, 1, 1, 14, 8, 1, 3, 8, 25, 5, 11, 1, 1, 6, 1, 46, 35, 1, 1, 1, 1, 42, 1, 1, 1, 43, 21, 8, 1, 5, 4, 6, 1, 3, 1, 1, 1, 21, 14, 1, 129, 1, 5, 53, 3, 32, 1, 8, 6, 64, 16, 1, 11, 3, 17, 63, 35, 11, 36, 36, 1, 28, 126, 11, 1, 33, 1, 1, 1, 1, 8, 129, 1, 5, 4, 4, 26, 1, 11, 12, 8, 27, 4, 43, 2, 17, 1, 17, 1, 17, 5, 1, 21, 123, 1, 3, 1, 23, 27, 1, 2, 1, 42, 4, 29, 2, 27, 1, 1, 5, 129, 2, 1, 124, 2, 1, 9, 21, 3, 126, 129, 2, 5, 23, 1, 42, 2, 3, 9, 129, 37, 1, 6, 130, 52, 129, 29, 1, 44, 3, 3, 129, 11, 2, 15, 22, 2, 14, 7, 1, 1, 4, 37, 11, 43, 3, 27, 2, 4, 6, 42, 2, 37, 1, 1, 45, 22, 2, 1, 1, 1, 2, 9, 1, 8, 11, 21, 4, 42, 1, 46, 3, 1, 3, 2, 42, 125, 4, 1, 125, 1, 6, 11, 2, 2, 23, 61, 1, 42, 5, 39, 19, 43, 1, 125, 3, 3, 51, 19, 2, 3, 1, 15, 1, 11, 27, 2, 1, 22, 125, 42, 14, 45, 4, 129, 3, 2, 43, 2, 83, 3, 2, 4, 9, 2, 2, 1, 2, 1, 2, 2, 7, 9, 26, 22, 46, 126, 1, 10, 11, 124, 3, 17, 39, 20, 1, 6, 5, 5, 2, 4, 33, 6, 13, 1, 2, 8, 3, 9, 2, 1, 4, 8, 1, 129, 125, 10, 46, 2, 2, 3, 34, 5, 1, 4, 9, 129, 11, 4, 4, 75, 1, 42, 2, 45, 123, 13, 1, 1, 6, 6, 5, 6, 6, 6, 9, 1, 1, 10, 130, 3, 2, 6, 129, 75, 2, 123, 44, 26, 22, 9, 1, 52, 42, 2, 7, 6, 3, 23, 5, 4, 46, 14, 19, 20, 11, 1, 2, 3, 5, 1, 9, 3, 129, 53, 11, 17, 60, 1, 45, 1, 1, 21, 6, 4, 22, 62, 1, 124, 23, 34, 2, 6, 34, 6, 7, 9, 2, 5, 1, 58, 1, 8, 7, 1, 1, 28, 1, 27, 3, 1, 7, 30, 1, 1, 1, 7, 7, 11, 1, 4, 1, 1, 129, 1, 123, 1, 7, 122, 69, 50, 52, 3, 13, 5, 1, 1, 1, 1, 5, 1, 6, 54, 40, 41, 83, 2, 12, 2, 2, 22, 1, 3, 3, 9, 4, 1, 1, 77, 4, 2, 7, 16, 21, 41, 5, 5, 51, 1, 75, 3, 14, 3, 14, 1, 4, 2, 9, 1, 11, 124, 1, 2, 6, 5, 69, 42, 18, 3, 125, 4, 1, 5, 1, 36, 2, 2, 4, 36, 2, 35, 19, 52, 19, 31, 1, 11, 3, 1, 3, 1, 3, 8, 3, 27, 72, 3, 49, 3, 29, 8, 16, 6, 4, 1, 13, 11, 1, 129, 129, 23, 5, 75, 129, 1, 2, 2, 21, 9, 1, 4, 1, 1, 2, 1, 125, 6, 40, 1, 2, 46, 53, 23, 1, 1, 3, 6, 1, 2, 8, 125, 6, 3, 5, 8, 4, 125, 2, 48, 3, 1, 1, 1, 13, 1, 1, 1, 124, 2, 9, 1, 6, 21, 6, 12, 1, 1, 2, 2, 1, 2, 1, 61, 17, 2, 11, 2, 2, 1, 5, 20, 2, 64, 6, 64, 1, 35, 3, 28, 1, 3, 2, 5, 4, 125, 11, 70, 4, 7, 53, 26, 1, 50, 6, 8, 125, 1, 2, 51, 3, 1, 5, 5, 1, 52, 1, 26, 1, 1, 1, 4, 2, 1, 4, 129, 1, 3, 1, 14, 3, 1, 8, 17, 19, 45, 71, 4, 2, 124, 1, 11, 54, 52, 16, 4, 3, 19, 11, 14, 1, 33, 3, 8, 2, 3, 1, 1, 3, 4, 1, 3, 32, 3, 1, 15, 11, 14, 1, 23, 12, 32, 4, 126, 1, 14, 130, 7, 2, 7, 4, 4, 17, 22, 2, 1, 31, 19, 42, 1, 16, 33, 1, 7, 124, 1, 2, 14, 3, 1, 1, 7, 45, 1, 6, 12, 1, 5, 4, 27, 29, 31, 37, 1, 1, 11, 5, 3, 2, 42, 3, 5, 26, 1, 5, 3, 1, 1, 1, 9, 63, 2, 1, 77, 7, 8, 11, 52, 4, 1, 2, 6, 125, 1, 52, 41, 1, 69, 3, 3, 33, 1, 13, 42, 33, 9, 2, 52, 6, 3, 10, 1, 1, 23, 1, 2, 1, 64, 2, 53, 49, 129, 26, 11, 53, 78, 11, 28, 63, 5, 51, 14, 125, 1, 8, 5, 1, 1, 13, 12, 4, 12, 45, 1, 3, 125, 15, 1, 4, 2, 11, 3, 8, 3, 2, 64, 8, 19, 13, 4, 10, 2, 4, 1, 45, 8, 1, 2, 2, 1, 1, 2, 1, 2, 1, 1, 12, 10, 1, 8, 38, 20, 125, 6, 6, 1, 7, 10, 42, 41, 8, 9, 1, 124, 11, 13, 1, 125, 23, 29, 1, 14, 1, 1, 8, 2, 125, 1, 1, 9, 3, 3, 5, 4, 1, 1, 4, 3, 7, 4, 126, 126, 4, 7, 1, 1, 33, 15, 1, 18, 3, 46, 7, 2, 11, 53, 125, 123, 124, 1, 1, 33, 10, 35, 42, 25, 1, 2, 1, 2, 12, 6, 125, 2, 8, 3, 69, 2, 1, 7, 11, 1, 1, 1, 1, 1, 2, 5, 129, 20, 1, 2, 7, 124, 28, 1, 42, 52, 53, 1, 54, 3, 130, 14, 9, 10, 129, 4, 2, 1, 29, 11, 53, 125, 43, 1, 125, 1, 52, 3, 4, 34, 47, 8, 43, 15, 3, 2, 10, 42, 52, 10, 8, 126, 130, 13, 1, 2, 7, 1, 1, 43, 1, 7, 31, 11, 124, 13, 1, 11, 51, 93, 5, 5, 2, 1, 6, 11, 20, 16, 129, 2, 15, 1, 2, 1, 125, 72, 25, 35, 50, 5, 9, 17, 72, 15, 3, 126, 1, 129, 9, 2, 52, 1, 1, 1, 1, 4, 1, 15, 32, 14, 9, 4, 33, 32, 125, 1, 131, 8, 3, 27, 50, 129, 7, 2, 125, 12, 56, 43, 2, 124, 125, 26, 103, 1, 23, 8, 1, 2]\n"
     ]
    }
   ],
   "source": [
    "print(max(clusters))\n",
    "print(clusters)\n"
   ]
  },
  {
   "cell_type": "code",
   "execution_count": 51,
   "metadata": {},
   "outputs": [
    {
     "name": "stdout",
     "output_type": "stream",
     "text": [
      "[[-122.457454, 37.79851]]\n"
     ]
    }
   ],
   "source": [
    "target = list(db.fase1.find())\n",
    "targets = []\n",
    "for i in range(len(clusters)):\n",
    "    if clusters[i] == max(clusters):\n",
    "        targets.append([target[i]['offices']['coordinates'][0], target[i]['offices']['coordinates'][1]])\n",
    "\n",
    "print(targets)"
   ]
  },
  {
   "cell_type": "markdown",
   "metadata": {},
   "source": [
    "## NOTAS"
   ]
  },
  {
   "cell_type": "code",
   "execution_count": null,
   "metadata": {},
   "outputs": [],
   "source": [
    "#df_off = json_normalize(df_cat, 'offices')\n",
    "#display(df_off.head())"
   ]
  },
  {
   "cell_type": "code",
   "execution_count": null,
   "metadata": {},
   "outputs": [],
   "source": [
    "df_fase1 = pd.DataFrame(list(cursor))\n",
    "print(len(df_fase1))\n",
    "display(df_fase1.head())"
   ]
  },
  {
   "cell_type": "code",
   "execution_count": null,
   "metadata": {},
   "outputs": [],
   "source": [
    "def toGeoJSON(array):\n",
    "    return {\n",
    "        \"type\":\"Point\",\n",
    "        \"coordinates\":[array[0],array[1]]\n",
    "    }"
   ]
  },
  {
   "cell_type": "code",
   "execution_count": null,
   "metadata": {},
   "outputs": [],
   "source": [
    "#Esto es para buscar con regex de mongo\n",
    "#{ name: { $in: [ /^key./i ] } }    { tag_list: { $in: [ /.games./i ] } }  \n",
    "#{ updated_at: { $in: [ /2008$/ ] } } \n",
    "#Para descartar arrays vacios en mongo\n",
    "#{offices:{ $gt: [] } } (hay otras opciones en un link en pendientes)"
   ]
  },
  {
   "cell_type": "code",
   "execution_count": null,
   "metadata": {},
   "outputs": [],
   "source": [
    "def convertRestaurant(restaurant):\n",
    "    return {\n",
    "        \"name\": restaurant[\"name\"],\n",
    "        \"cuisine\":restaurant[\"cuisine\"],\n",
    "        \"position\": toGeoJSON(restaurant[\"address\"][\"coord\"])\n",
    "    }\n"
   ]
  },
  {
   "cell_type": "code",
   "execution_count": null,
   "metadata": {},
   "outputs": [],
   "source": [
    "#Elimino rows que no me aportan nada\n",
    "#df_values = df_nulls[df_nulls['offices'].map(len) > 0]\n",
    "#df_values = df_values[df_values.number_of_employees != 0]\n",
    "#df_values = \n",
    "#print(len(df_values))\n",
    "#display(df_values.head(10))"
   ]
  }
 ],
 "metadata": {
  "kernelspec": {
   "display_name": "Python 3",
   "language": "python",
   "name": "python3"
  },
  "language_info": {
   "codemirror_mode": {
    "name": "ipython",
    "version": 3
   },
   "file_extension": ".py",
   "mimetype": "text/x-python",
   "name": "python",
   "nbconvert_exporter": "python",
   "pygments_lexer": "ipython3",
   "version": "3.6.7"
  }
 },
 "nbformat": 4,
 "nbformat_minor": 2
}
