{
 "cells": [
  {
   "cell_type": "markdown",
   "metadata": {},
   "source": [
    "## VISUALIZATION PROJECT Geospatial Business Intelligence (BI)\n",
    "\n",
    "El objetivo del proyecto es establecer una localización (o posibles localizaciones) para una nueva empresa de software orientada a la creación de videojuegos. Para determinar dicha localización se proponen ciertas condiciones:\n",
    "- Los roles dentro de la nueva compañía son: 20 desarrolladores, 20 diseñadores/creativos/UX-UI y 10 ejecutivos/managers.\n",
    "- Deben existir ingenieros de software trabajando en los alrededores de la localización.\n",
    "- Debe existir un buen ratio entre grandes empresas y start-ups.\n",
    "- Deben existir empresas en los alrededores que cubran los intereses del equipo.\n",
    "- Se debe evitar compañias antiguas.\n",
    "\n",
    "Para abordar el problema se ha optado por definir 5 criterios que cubren las exigencias que debe tener la localización óptima de la nueva empresa de video juegos, los cuales incluyen los criterios planteados en el planteamiento del problema. Los criterios son los siguientes:\n",
    "- Criterio 1 (Capability): se refiere a la disponibilidad de profesionales cualificados.\n",
    "- Criterio 2 (Cost): se refiere a la disponibilidad de suelo barato.\n",
    "- Criterio 3 (Communications): se refiere a la existencia de un cluster de empresas relevantes en los alrededores.\n",
    "- Criterio 4 (Capacity): se refiere a la disponibilidad de nuevos profesionales con formación relevante.\n",
    "- Criterio 5 (Culture): se refiere a la existencia de un cluster de empresas que aporten una cultura empresarial atractiva.\n",
    "\n",
    "Para desarrollar este enfoque se ha creado un pipeline para cada criterio de los que se extraerá un dataset (json) que se importará en Tableau. La información que se ilustrará en Tableau mostrará diferentes localizaciones (latitud/longitud) que cumplen con cada criterio, lo cual permitirá valorar más opciones para la toma de decisión.\n",
    "\n",
    "Documentos entregados:\n",
    "- main.ipynb (documento principal donde se ha desarrollado el código inicial. Este es un documento de trabajo que luego se usará de base para crear el dataset para cada criterio).\n",
    "- criterio1.ipynb (código para generar las localizaciones más óptimas según lo establecido en el criterio 'Capability') => capability.json, df_capability.json\n",
    "- criterio2.ipynb (código para generar las localizaciones más óptimas según lo establecido en el criterio 'Cost') => cost.json, df_cost.json\n",
    "- criterio3.ipynb (código para generar las localizaciones más óptimas según lo establecido en el criterio 'Communications') => communications.json, df_communications.json\n",
    "- criterio4.ipynb (código para generar las localizaciones más óptimas según lo establecido en el criterio 'Capacity') => capacity.json, df_capacity.json\n",
    "- criterio5.ipynb (código para generar las localizaciones más óptimas según lo establecido en el criterio 'Culture') => culture.json, df_culture.json\n",
    "- tablea_project.json (fichero definitivo para importar en Tableu).\n",
    "- Visualización en Tableau Public: https://public.tableau.com/profile/potacho"
   ]
  },
  {
   "cell_type": "code",
   "execution_count": 1,
   "metadata": {},
   "outputs": [],
   "source": [
    "#Importo librerias.\n",
    "import pymongo\n",
    "import pandas as pd\n",
    "import re\n",
    "\n",
    "#Creo cursor y dataframe inicial.\n",
    "MongoClient = pymongo.MongoClient\n",
    "client = MongoClient()\n",
    "db = client.companies\n",
    "cursor = db.companies.find()\n",
    "data = list(cursor)\n",
    "df = pd.DataFrame(data)"
   ]
  },
  {
   "cell_type": "code",
   "execution_count": 30,
   "metadata": {},
   "outputs": [],
   "source": [
    "#Verifico que se han importado todos los documentos.\n",
    "cursor = db.companies.find()\n",
    "data = list(cursor)\n",
    "#print(len(data))"
   ]
  },
  {
   "cell_type": "code",
   "execution_count": 31,
   "metadata": {},
   "outputs": [],
   "source": [
    "#Funciones para analizar datos.\n",
    "def q_qty_1(atr1,var1):\n",
    "    q = db.companies.find({atr1:var1})\n",
    "    return len(list(map(lambda r:r,list(q))))\n",
    "atr1 = 'category_code'\n",
    "var1 = 'web'\n",
    "#print(q_qty_1(atr1,var1))"
   ]
  },
  {
   "cell_type": "code",
   "execution_count": 32,
   "metadata": {},
   "outputs": [],
   "source": [
    "#Funciones para analizar datos.\n",
    "def q_1(atr1,var1):\n",
    "    q = db.companies.find({atr1:var1})\n",
    "    return list(map(lambda r:[(r['name']),(r['offices'])],list(q)))\n",
    "atr1 = 'category_code'\n",
    "var1 = 'web'\n",
    "#display(q_1(atr1,var1))"
   ]
  },
  {
   "cell_type": "code",
   "execution_count": 33,
   "metadata": {},
   "outputs": [],
   "source": [
    "#Creo dataframe con los datos\n",
    "df = pd.DataFrame(data)\n",
    "#display(df.dtypes)\n",
    "columns = df.dtypes\n",
    "#print(columns)"
   ]
  },
  {
   "cell_type": "code",
   "execution_count": 34,
   "metadata": {
    "scrolled": true
   },
   "outputs": [],
   "source": [
    "#Extraigo columnas para tratamiento (para no copiarlas a mano)\n",
    "#g = df.columns.to_series().groupby(df.dtypes).groups\n",
    "#{k.name: v for k, v in g.items()}"
   ]
  },
  {
   "cell_type": "code",
   "execution_count": 35,
   "metadata": {},
   "outputs": [
    {
     "name": "stdout",
     "output_type": "stream",
     "text": [
      "42 42\n"
     ]
    }
   ],
   "source": [
    "#Clasificación de columnas originales para limpieza del dataframe\n",
    "col_float = ['deadpooled_day','deadpooled_month','deadpooled_year','founded_day','founded_month',\n",
    "             'founded_year','number_of_employees']\n",
    "col_obj = ['_id','acquisition','acquisitions','alias_list','blog_feed_url','blog_url','category_code',\n",
    "           'competitions','created_at','crunchbase_url','deadpooled_url','description','email_address',\n",
    "        'external_links','funding_rounds','homepage_url','image','investments','ipo','milestones', \n",
    "           'name','offices','overview','partners','permalink','phone_number','products','providerships',\n",
    "        'relationships','screenshots','tag_list','total_money_raised','twitter_username','updated_at',\n",
    "           'video_embeds']\n",
    "col_drop1 = ['deadpooled_day','deadpooled_month','founded_day','founded_month','alias_list','blog_feed_url',\n",
    "             'blog_url','created_at','crunchbase_url','deadpooled_url','email_address','external_links',\n",
    "            'image','permalink','phone_number','screenshots','tag_list','updated_at','video_embeds']\n",
    "col_drop2 = ['acquisition','acquisitions','competitions','description','funding_rounds','homepage_url',\n",
    "             'investments','ipo','milestones','partners','products','providerships','relationships',\n",
    "             'twitter_username','overview',]\n",
    "col_ok = ['deadpooled_year','founded_year','number_of_employees','_id','category_code','name','offices',\n",
    "          'total_money_raised']\n",
    "\n",
    "print(len(col_float)+len(col_obj),len(col_drop1)+len(col_drop2)+len(col_ok))"
   ]
  },
  {
   "cell_type": "code",
   "execution_count": 52,
   "metadata": {
    "scrolled": true
   },
   "outputs": [
    {
     "data": {
      "text/plain": [
       "7934"
      ]
     },
     "metadata": {},
     "output_type": "display_data"
    }
   ],
   "source": [
    "#Elimino columnas con valores que no me interesan\n",
    "df_drop1 = df.drop(col_drop1, axis=1)\n",
    "df_drop2 = df_drop1.drop(col_drop2, axis=1)\n",
    "#Elijo solo las empresas con deadpooled_year == null\n",
    "df_deadnull = df_drop2[df_drop2['deadpooled_year'].isnull()]\n",
    "#Elimino filas con valores nulos de las columnas que me interesan\n",
    "df_nulls = df_deadnull.dropna(subset=['founded_year','number_of_employees','name','offices',\n",
    "          'total_money_raised'])\n",
    "display(len(df_nulls))\n",
    "#display(df_nulls.head())"
   ]
  },
  {
   "cell_type": "code",
   "execution_count": 53,
   "metadata": {
    "scrolled": true
   },
   "outputs": [
    {
     "name": "stdout",
     "output_type": "stream",
     "text": [
      "3752\n"
     ]
    }
   ],
   "source": [
    "#Data frames por tipo de empresas y elimino las columnas _id y deadpooled_year \n",
    "col_cat = ['games_video','web','software']\n",
    "df_cat = df_nulls[df_nulls['category_code'].isin(col_cat)]\\\n",
    ".drop(['_id','deadpooled_year'], axis=1)#.sort_values(by=['category_code','number_of_employees'])\n",
    "print(len(df_cat))\n",
    "#display(df_cat.head())"
   ]
  },
  {
   "cell_type": "code",
   "execution_count": 38,
   "metadata": {},
   "outputs": [],
   "source": [
    "#Defino funciones para la modificación de los datos de las columnas a analizar.\n",
    "\n",
    "#Transforma un dato tipo float a uno tipo int.\n",
    "def float_to_int(flt):\n",
    "    integer = int(flt)\n",
    "    return integer\n",
    "\n",
    "#Transforma un dato tipo str en int devolviendo solo el número.\n",
    "def str_to_int(strg):\n",
    "    string = re.findall('\\d+', strg )\n",
    "    integer = int(string[0])*1000\n",
    "    return integer\n"
   ]
  },
  {
   "cell_type": "code",
   "execution_count": 55,
   "metadata": {
    "scrolled": true
   },
   "outputs": [
    {
     "name": "stdout",
     "output_type": "stream",
     "text": [
      "768\n"
     ]
    }
   ],
   "source": [
    "#Elimino registros irrelevantes (tomando solo los registros que me interesan)\n",
    "df_regout = df_cat.copy()\n",
    "df_regout['total_money_raised'] = df_regout['total_money_raised'].apply(str_to_int)\n",
    "df_regout['founded_year'] = df_regout['founded_year'].apply(float_to_int)\n",
    "#Elimino registros según criterios \n",
    "df_regout = df_regout[df_regout.total_money_raised != 0]\n",
    "df_regout = df_regout[df_regout.number_of_employees != 0]\n",
    "df_regout = df_regout[df_regout['offices'].map(len) > 0]\n",
    "print(len(df_regout))\n",
    "#display(df_regout.head())"
   ]
  },
  {
   "cell_type": "code",
   "execution_count": 40,
   "metadata": {},
   "outputs": [],
   "source": [
    "#Verifico estructura del diccionario\n",
    "#print(df_regout['offices']).iloc[100])"
   ]
  },
  {
   "cell_type": "code",
   "execution_count": 41,
   "metadata": {},
   "outputs": [],
   "source": [
    "#d = {'type': 'Point', 'coordinates': [None, None]}\n",
    "##s = d['coordinates']\n",
    "#lon = d['coordinates'][0]\n",
    "#if lon == None:\n",
    "#    print('No hay valor de longitud para este registro')"
   ]
  },
  {
   "cell_type": "code",
   "execution_count": 42,
   "metadata": {},
   "outputs": [],
   "source": [
    "#Transforma los datos de ubicación de las oficinas en formato GeoJson y selecciona solo la primera ubicación\n",
    "def nested_to_list(dicts):\n",
    "    lat_lon = [{\"type\":\"Point\",\"coordinates\":[l['longitude'],l['latitude']]} for l in dicts]\n",
    "    lst = lat_lon[0]\n",
    "    long = lst['coordinates'][0]\n",
    "    if long != None:\n",
    "        return lst\n",
    "    else:\n",
    "        return 0\n",
    "\n",
    "#print(nested_to_list([{'description': 'New York Office', 'address1': '', 'address2': '', 'zip_code': '', 'city': 'New York', 'state_code': None, 'country_code': 'USA', 'latitude': 40.756054, 'longitude': -73.986951},{'description': 'Barcelona Headquarters', 'address1': '', 'address2': '', 'zip_code': '', 'city': 'Barcelona', 'state_code': None, 'country_code': 'ESP', 'latitude': 41.387917, 'longitude': 2.1699187}]))"
   ]
  },
  {
   "cell_type": "code",
   "execution_count": 43,
   "metadata": {
    "scrolled": false
   },
   "outputs": [
    {
     "name": "stdout",
     "output_type": "stream",
     "text": [
      "768\n"
     ]
    }
   ],
   "source": [
    "#Transformo valores de columnas aplicando las funciones anteriormente definidas.\n",
    "df_colout = df_regout.copy()\n",
    "df_colout['offices'] = df_colout['offices'].apply(nested_to_list)\n",
    "print(len(df_colout))\n",
    "#display(df_colout.head())"
   ]
  },
  {
   "cell_type": "code",
   "execution_count": 44,
   "metadata": {},
   "outputs": [],
   "source": [
    "#print(df_colout['offices'])"
   ]
  },
  {
   "cell_type": "code",
   "execution_count": 45,
   "metadata": {},
   "outputs": [
    {
     "name": "stdout",
     "output_type": "stream",
     "text": [
      "603\n"
     ]
    },
    {
     "data": {
      "text/html": [
       "<div>\n",
       "<style scoped>\n",
       "    .dataframe tbody tr th:only-of-type {\n",
       "        vertical-align: middle;\n",
       "    }\n",
       "\n",
       "    .dataframe tbody tr th {\n",
       "        vertical-align: top;\n",
       "    }\n",
       "\n",
       "    .dataframe thead th {\n",
       "        text-align: right;\n",
       "    }\n",
       "</style>\n",
       "<table border=\"1\" class=\"dataframe\">\n",
       "  <thead>\n",
       "    <tr style=\"text-align: right;\">\n",
       "      <th></th>\n",
       "      <th>category_code</th>\n",
       "      <th>founded_year</th>\n",
       "      <th>name</th>\n",
       "      <th>number_of_employees</th>\n",
       "      <th>offices</th>\n",
       "      <th>total_money_raised</th>\n",
       "    </tr>\n",
       "  </thead>\n",
       "  <tbody>\n",
       "    <tr>\n",
       "      <th>6</th>\n",
       "      <td>web</td>\n",
       "      <td>2006</td>\n",
       "      <td>Geni</td>\n",
       "      <td>18.0</td>\n",
       "      <td>{'type': 'Point', 'coordinates': [-118.393064,...</td>\n",
       "      <td>16000</td>\n",
       "    </tr>\n",
       "    <tr>\n",
       "      <th>20</th>\n",
       "      <td>web</td>\n",
       "      <td>2002</td>\n",
       "      <td>Plaxo</td>\n",
       "      <td>50.0</td>\n",
       "      <td>{'type': 'Point', 'coordinates': [-122.055197,...</td>\n",
       "      <td>28000</td>\n",
       "    </tr>\n",
       "    <tr>\n",
       "      <th>23</th>\n",
       "      <td>web</td>\n",
       "      <td>1995</td>\n",
       "      <td>eBay</td>\n",
       "      <td>15000.0</td>\n",
       "      <td>{'type': 'Point', 'coordinates': [-121.930035,...</td>\n",
       "      <td>6000</td>\n",
       "    </tr>\n",
       "    <tr>\n",
       "      <th>28</th>\n",
       "      <td>web</td>\n",
       "      <td>2007</td>\n",
       "      <td>Mahalo</td>\n",
       "      <td>40.0</td>\n",
       "      <td>{'type': 'Point', 'coordinates': [-118.487267,...</td>\n",
       "      <td>21000</td>\n",
       "    </tr>\n",
       "    <tr>\n",
       "      <th>31</th>\n",
       "      <td>games_video</td>\n",
       "      <td>2006</td>\n",
       "      <td>Kyte</td>\n",
       "      <td>40.0</td>\n",
       "      <td>{'type': 'Point', 'coordinates': [-122.409173,...</td>\n",
       "      <td>23000</td>\n",
       "    </tr>\n",
       "  </tbody>\n",
       "</table>\n",
       "</div>"
      ],
      "text/plain": [
       "   category_code  founded_year    name  number_of_employees  \\\n",
       "6            web          2006    Geni                 18.0   \n",
       "20           web          2002   Plaxo                 50.0   \n",
       "23           web          1995    eBay              15000.0   \n",
       "28           web          2007  Mahalo                 40.0   \n",
       "31   games_video          2006    Kyte                 40.0   \n",
       "\n",
       "                                              offices  total_money_raised  \n",
       "6   {'type': 'Point', 'coordinates': [-118.393064,...               16000  \n",
       "20  {'type': 'Point', 'coordinates': [-122.055197,...               28000  \n",
       "23  {'type': 'Point', 'coordinates': [-121.930035,...                6000  \n",
       "28  {'type': 'Point', 'coordinates': [-118.487267,...               21000  \n",
       "31  {'type': 'Point', 'coordinates': [-122.409173,...               23000  "
      ]
     },
     "metadata": {},
     "output_type": "display_data"
    }
   ],
   "source": [
    "#Elimino valores de GeoJson nulos\n",
    "df_geoout = df_colout.copy()\n",
    "df_geoout = df_geoout[df_geoout.offices != 0]\n",
    "print(len(df_geoout))\n",
    "display(df_geoout.head())"
   ]
  },
  {
   "cell_type": "code",
   "execution_count": 46,
   "metadata": {},
   "outputs": [],
   "source": [
    "#print(df_geoout['offices'])"
   ]
  },
  {
   "cell_type": "code",
   "execution_count": 47,
   "metadata": {
    "scrolled": true
   },
   "outputs": [],
   "source": [
    "df_geoout.to_json('prueba.json', orient=\"records\", lines=True)"
   ]
  },
  {
   "cell_type": "code",
   "execution_count": 56,
   "metadata": {},
   "outputs": [],
   "source": [
    "def concentration(company):\n",
    "    cursor_near = db.fase1.find({\n",
    "      \"offices\": {\n",
    "        \"$near\": {\n",
    "          \"$geometry\": {\n",
    "            \"type\": \"Point\",\n",
    "            \"coordinates\": [company['offices']['coordinates'][0], company['offices']['coordinates'][1]]\n",
    "          },\n",
    "          \"$minDistance\": 0,\n",
    "          \"$maxDistance\":9000\n",
    "        }\n",
    "      }\n",
    "    })\n",
    "    return list(cursor_near)"
   ]
  },
  {
   "cell_type": "code",
   "execution_count": 57,
   "metadata": {
    "scrolled": true
   },
   "outputs": [
    {
     "data": {
      "text/plain": [
       "2305"
      ]
     },
     "metadata": {},
     "output_type": "display_data"
    }
   ],
   "source": [
    "#Hago loop sobre las empresas\n",
    "cursor_geojson = db.fase1.find()\n",
    "clusters = []\n",
    "for element in cursor_geojson:\n",
    "    clusters.append(len(concentration(element)))\n",
    "\n",
    "\n",
    "display(len(clusters))"
   ]
  },
  {
   "cell_type": "code",
   "execution_count": 58,
   "metadata": {},
   "outputs": [
    {
     "name": "stdout",
     "output_type": "stream",
     "text": [
      "132\n"
     ]
    }
   ],
   "source": [
    "print(max(clusters))\n",
    "#print(clusters)\n"
   ]
  },
  {
   "cell_type": "code",
   "execution_count": 51,
   "metadata": {},
   "outputs": [
    {
     "name": "stdout",
     "output_type": "stream",
     "text": [
      "[[-122.457454, 37.79851]]\n"
     ]
    }
   ],
   "source": [
    "target = list(db.fase1.find())\n",
    "targets = []\n",
    "for i in range(len(clusters)):\n",
    "    if clusters[i] == max(clusters):\n",
    "        targets.append([target[i]['offices']['coordinates'][0], target[i]['offices']['coordinates'][1]])\n",
    "\n",
    "print(targets)"
   ]
  },
  {
   "cell_type": "markdown",
   "metadata": {},
   "source": [
    "# CONCLUSIONES\n",
    "\n",
    "Una vez generados todos los ficheros .json para cada uno de los criterios, se genera un fichero final con todos los datos de localización."
   ]
  },
  {
   "cell_type": "code",
   "execution_count": 12,
   "metadata": {},
   "outputs": [
    {
     "data": {
      "text/html": [
       "<div>\n",
       "<style scoped>\n",
       "    .dataframe tbody tr th:only-of-type {\n",
       "        vertical-align: middle;\n",
       "    }\n",
       "\n",
       "    .dataframe tbody tr th {\n",
       "        vertical-align: top;\n",
       "    }\n",
       "\n",
       "    .dataframe thead th {\n",
       "        text-align: right;\n",
       "    }\n",
       "</style>\n",
       "<table border=\"1\" class=\"dataframe\">\n",
       "  <thead>\n",
       "    <tr style=\"text-align: right;\">\n",
       "      <th></th>\n",
       "      <th>Criteria</th>\n",
       "      <th>Latitude</th>\n",
       "      <th>Longitude</th>\n",
       "    </tr>\n",
       "  </thead>\n",
       "  <tbody>\n",
       "    <tr>\n",
       "      <th>0</th>\n",
       "      <td>Capability</td>\n",
       "      <td>40.726155</td>\n",
       "      <td>-73.995625</td>\n",
       "    </tr>\n",
       "    <tr>\n",
       "      <th>1</th>\n",
       "      <td>Capability</td>\n",
       "      <td>40.722655</td>\n",
       "      <td>-73.998730</td>\n",
       "    </tr>\n",
       "    <tr>\n",
       "      <th>2</th>\n",
       "      <td>Capability</td>\n",
       "      <td>40.723384</td>\n",
       "      <td>-74.001704</td>\n",
       "    </tr>\n",
       "    <tr>\n",
       "      <th>3</th>\n",
       "      <td>Capability</td>\n",
       "      <td>40.717248</td>\n",
       "      <td>-74.002662</td>\n",
       "    </tr>\n",
       "    <tr>\n",
       "      <th>4</th>\n",
       "      <td>Capability</td>\n",
       "      <td>40.739930</td>\n",
       "      <td>-73.993049</td>\n",
       "    </tr>\n",
       "    <tr>\n",
       "      <th>5</th>\n",
       "      <td>Capability</td>\n",
       "      <td>40.754762</td>\n",
       "      <td>-73.988543</td>\n",
       "    </tr>\n",
       "    <tr>\n",
       "      <th>6</th>\n",
       "      <td>Capability</td>\n",
       "      <td>40.738476</td>\n",
       "      <td>-73.998726</td>\n",
       "    </tr>\n",
       "    <tr>\n",
       "      <th>7</th>\n",
       "      <td>Capability</td>\n",
       "      <td>40.752672</td>\n",
       "      <td>-73.975930</td>\n",
       "    </tr>\n",
       "    <tr>\n",
       "      <th>8</th>\n",
       "      <td>Capability</td>\n",
       "      <td>40.743877</td>\n",
       "      <td>-73.986180</td>\n",
       "    </tr>\n",
       "    <tr>\n",
       "      <th>0</th>\n",
       "      <td>Cost</td>\n",
       "      <td>40.743148</td>\n",
       "      <td>-73.993429</td>\n",
       "    </tr>\n",
       "    <tr>\n",
       "      <th>1</th>\n",
       "      <td>Cost</td>\n",
       "      <td>40.738832</td>\n",
       "      <td>-73.981534</td>\n",
       "    </tr>\n",
       "    <tr>\n",
       "      <th>2</th>\n",
       "      <td>Cost</td>\n",
       "      <td>40.747003</td>\n",
       "      <td>-73.991562</td>\n",
       "    </tr>\n",
       "    <tr>\n",
       "      <th>3</th>\n",
       "      <td>Cost</td>\n",
       "      <td>40.740162</td>\n",
       "      <td>-73.993367</td>\n",
       "    </tr>\n",
       "    <tr>\n",
       "      <th>4</th>\n",
       "      <td>Cost</td>\n",
       "      <td>40.743563</td>\n",
       "      <td>-73.993274</td>\n",
       "    </tr>\n",
       "    <tr>\n",
       "      <th>5</th>\n",
       "      <td>Cost</td>\n",
       "      <td>40.739867</td>\n",
       "      <td>-73.990024</td>\n",
       "    </tr>\n",
       "    <tr>\n",
       "      <th>6</th>\n",
       "      <td>Cost</td>\n",
       "      <td>40.739867</td>\n",
       "      <td>-73.990024</td>\n",
       "    </tr>\n",
       "    <tr>\n",
       "      <th>7</th>\n",
       "      <td>Cost</td>\n",
       "      <td>40.740941</td>\n",
       "      <td>-73.992609</td>\n",
       "    </tr>\n",
       "    <tr>\n",
       "      <th>8</th>\n",
       "      <td>Cost</td>\n",
       "      <td>40.743877</td>\n",
       "      <td>-73.986180</td>\n",
       "    </tr>\n",
       "    <tr>\n",
       "      <th>9</th>\n",
       "      <td>Cost</td>\n",
       "      <td>40.744697</td>\n",
       "      <td>-73.989947</td>\n",
       "    </tr>\n",
       "    <tr>\n",
       "      <th>0</th>\n",
       "      <td>Communications</td>\n",
       "      <td>40.738832</td>\n",
       "      <td>-73.981534</td>\n",
       "    </tr>\n",
       "    <tr>\n",
       "      <th>0</th>\n",
       "      <td>Capacity</td>\n",
       "      <td>47.615313</td>\n",
       "      <td>-122.323408</td>\n",
       "    </tr>\n",
       "    <tr>\n",
       "      <th>0</th>\n",
       "      <td>Culture</td>\n",
       "      <td>40.744618</td>\n",
       "      <td>-73.987764</td>\n",
       "    </tr>\n",
       "    <tr>\n",
       "      <th>1</th>\n",
       "      <td>Culture</td>\n",
       "      <td>40.748938</td>\n",
       "      <td>-73.991818</td>\n",
       "    </tr>\n",
       "    <tr>\n",
       "      <th>2</th>\n",
       "      <td>Culture</td>\n",
       "      <td>40.740804</td>\n",
       "      <td>-74.007170</td>\n",
       "    </tr>\n",
       "    <tr>\n",
       "      <th>3</th>\n",
       "      <td>Culture</td>\n",
       "      <td>40.748938</td>\n",
       "      <td>-73.991818</td>\n",
       "    </tr>\n",
       "  </tbody>\n",
       "</table>\n",
       "</div>"
      ],
      "text/plain": [
       "         Criteria   Latitude   Longitude\n",
       "0      Capability  40.726155  -73.995625\n",
       "1      Capability  40.722655  -73.998730\n",
       "2      Capability  40.723384  -74.001704\n",
       "3      Capability  40.717248  -74.002662\n",
       "4      Capability  40.739930  -73.993049\n",
       "5      Capability  40.754762  -73.988543\n",
       "6      Capability  40.738476  -73.998726\n",
       "7      Capability  40.752672  -73.975930\n",
       "8      Capability  40.743877  -73.986180\n",
       "0            Cost  40.743148  -73.993429\n",
       "1            Cost  40.738832  -73.981534\n",
       "2            Cost  40.747003  -73.991562\n",
       "3            Cost  40.740162  -73.993367\n",
       "4            Cost  40.743563  -73.993274\n",
       "5            Cost  40.739867  -73.990024\n",
       "6            Cost  40.739867  -73.990024\n",
       "7            Cost  40.740941  -73.992609\n",
       "8            Cost  40.743877  -73.986180\n",
       "9            Cost  40.744697  -73.989947\n",
       "0  Communications  40.738832  -73.981534\n",
       "0        Capacity  47.615313 -122.323408\n",
       "0         Culture  40.744618  -73.987764\n",
       "1         Culture  40.748938  -73.991818\n",
       "2         Culture  40.740804  -74.007170\n",
       "3         Culture  40.748938  -73.991818"
      ]
     },
     "metadata": {},
     "output_type": "display_data"
    }
   ],
   "source": [
    "#Creación de dataset definitivo.\n",
    "df_capability = pd.read_json('df_capability.json', orient=\"records\", lines=True)\n",
    "df_cost = pd.read_json('df_cost.json', orient=\"records\", lines=True)\n",
    "df_communications = pd.read_json('df_communications.json', orient=\"records\", lines=True)\n",
    "df_capacity = pd.read_json('df_capacity.json', orient=\"records\", lines=True)\n",
    "df_culture = pd.read_json('df_culture.json', orient=\"records\", lines=True)\n",
    "df_tableau = df_capability.append(df_cost.append(df_communications.append(df_capacity.append(df_culture))))\n",
    "\n",
    "#Visualización del dataframe final.\n",
    "display(df_tableau)"
   ]
  },
  {
   "cell_type": "code",
   "execution_count": 13,
   "metadata": {},
   "outputs": [],
   "source": [
    "#Creación de fichero .json para visualización en Plateau.\n",
    "df_tableau.to_json('tableau_project.json', orient=\"records\", lines=True)"
   ]
  },
  {
   "cell_type": "markdown",
   "metadata": {},
   "source": [
    "La visualización generada corresponde a un radio de 5km. Se hicieron varias pruebas con varios radios y el lugar donde se concentran al menos 4 de los criterios cambia de NYC (5km) a San Francisco (10km). Como conclusión final comentar que se deben realizar más pruebas para establecer distancias óptimas para cada criterio y así tomar una decisión final. También sería necesario analizar en detalle los diferentes parámetros de cada criterio y refactorizar el código para mayor orden y mejor manipulación de diferentes parámentros bajo el mismo enfoque.\n",
    "\n",
    "\n",
    "\n",
    "\n",
    "\n",
    "\n",
    "\n",
    "**OGM**"
   ]
  },
  {
   "cell_type": "markdown",
   "metadata": {},
   "source": [
    "## NOTAS/ERRORES/INTENTOS"
   ]
  },
  {
   "cell_type": "code",
   "execution_count": null,
   "metadata": {},
   "outputs": [],
   "source": [
    "#df_off = json_normalize(df_cat, 'offices')\n",
    "#display(df_off.head())"
   ]
  },
  {
   "cell_type": "code",
   "execution_count": null,
   "metadata": {},
   "outputs": [],
   "source": [
    "df_fase1 = pd.DataFrame(list(cursor))\n",
    "print(len(df_fase1))\n",
    "display(df_fase1.head())"
   ]
  },
  {
   "cell_type": "code",
   "execution_count": null,
   "metadata": {},
   "outputs": [],
   "source": [
    "def toGeoJSON(array):\n",
    "    return {\n",
    "        \"type\":\"Point\",\n",
    "        \"coordinates\":[array[0],array[1]]\n",
    "    }"
   ]
  },
  {
   "cell_type": "code",
   "execution_count": null,
   "metadata": {},
   "outputs": [],
   "source": [
    "#Esto es para buscar con regex de mongo\n",
    "#{ name: { $in: [ /^key./i ] } }    { tag_list: { $in: [ /.games./i ] } }  \n",
    "#{ updated_at: { $in: [ /2008$/ ] } } \n",
    "#Para descartar arrays vacios en mongo\n",
    "#{offices:{ $gt: [] } } (hay otras opciones en un link en pendientes)"
   ]
  },
  {
   "cell_type": "code",
   "execution_count": null,
   "metadata": {},
   "outputs": [],
   "source": [
    "def convertRestaurant(restaurant):\n",
    "    return {\n",
    "        \"name\": restaurant[\"name\"],\n",
    "        \"cuisine\":restaurant[\"cuisine\"],\n",
    "        \"position\": toGeoJSON(restaurant[\"address\"][\"coord\"])\n",
    "    }\n"
   ]
  },
  {
   "cell_type": "code",
   "execution_count": null,
   "metadata": {},
   "outputs": [],
   "source": [
    "#Elimino rows que no me aportan nada\n",
    "#df_values = df_nulls[df_nulls['offices'].map(len) > 0]\n",
    "#df_values = df_values[df_values.number_of_employees != 0]\n",
    "#df_values = \n",
    "#print(len(df_values))\n",
    "#display(df_values.head(10))"
   ]
  },
  {
   "cell_type": "code",
   "execution_count": null,
   "metadata": {},
   "outputs": [],
   "source": [
    "#Función para la creación de los valores de ubicación en formato GeoJson (schools).\n",
    "def column_to_list(df_school):\n",
    "    lat_lon = [{\"type\":\"Point\",\"coordinates\":[df_school['Longitude'],df_school['Latitude']]}]\n",
    "    lst = lat_lon[0]\n",
    "    long = lst['coordinates'][0]\n",
    "    if long != None:\n",
    "        return lst\n",
    "    else:\n",
    "        return 0"
   ]
  }
 ],
 "metadata": {
  "kernelspec": {
   "display_name": "Python 3",
   "language": "python",
   "name": "python3"
  },
  "language_info": {
   "codemirror_mode": {
    "name": "ipython",
    "version": 3
   },
   "file_extension": ".py",
   "mimetype": "text/x-python",
   "name": "python",
   "nbconvert_exporter": "python",
   "pygments_lexer": "ipython3",
   "version": "3.6.7"
  }
 },
 "nbformat": 4,
 "nbformat_minor": 2
}
