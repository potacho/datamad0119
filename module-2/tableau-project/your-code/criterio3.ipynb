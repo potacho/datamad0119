{
 "cells": [
  {
   "cell_type": "markdown",
   "metadata": {},
   "source": [
    "# Tableau Project (Criterio 3: df_communications)"
   ]
  },
  {
   "cell_type": "code",
   "execution_count": null,
   "metadata": {},
   "outputs": [],
   "source": [
    "#Importo librerias.\n",
    "import pymongo\n",
    "import pandas as pd\n",
    "import re\n",
    "\n",
    "#Creo cursor y dataframe inicial.\n",
    "MongoClient = pymongo.MongoClient\n",
    "client = MongoClient()\n",
    "db = client.companies\n",
    "cursor = db.companies.find()\n",
    "data = list(cursor)\n",
    "df = pd.DataFrame(data)"
   ]
  },
  {
   "cell_type": "code",
   "execution_count": 2,
   "metadata": {},
   "outputs": [],
   "source": [
    "#Análisis de atributos\n",
    "col_float = ['deadpooled_day','deadpooled_month','deadpooled_year','founded_day','founded_month',\n",
    "             'founded_year','number_of_employees']\n",
    "col_obj = ['_id','acquisition','acquisitions','alias_list','blog_feed_url','blog_url','category_code',\n",
    "           'competitions','created_at','crunchbase_url','deadpooled_url','description','email_address',\n",
    "        'external_links','funding_rounds','homepage_url','image','investments','ipo','milestones', \n",
    "           'name','offices','overview','partners','permalink','phone_number','products','providerships',\n",
    "        'relationships','screenshots','tag_list','total_money_raised','twitter_username','updated_at',\n",
    "           'video_embeds']\n",
    "col_drop1 = ['deadpooled_day','deadpooled_month','founded_day','founded_month','alias_list','blog_feed_url',\n",
    "             'blog_url','created_at','crunchbase_url','deadpooled_url','email_address','external_links',\n",
    "            'image','permalink','phone_number','screenshots','tag_list','updated_at','video_embeds']\n",
    "col_drop2 = ['acquisition','acquisitions','competitions','description','funding_rounds','homepage_url',\n",
    "             'investments','ipo','milestones','partners','products','providerships','relationships',\n",
    "             'twitter_username','overview',]\n",
    "col_ok = ['deadpooled_year','founded_year','number_of_employees','_id','category_code','name','offices',\n",
    "          'total_money_raised']"
   ]
  },
  {
   "cell_type": "code",
   "execution_count": 3,
   "metadata": {},
   "outputs": [
    {
     "name": "stdout",
     "output_type": "stream",
     "text": [
      "7934\n"
     ]
    }
   ],
   "source": [
    "#Primera fase de limpieza de datos.\n",
    "df_drop1 = df.drop(col_drop1, axis=1)\n",
    "df_drop2 = df_drop1.drop(col_drop2, axis=1)\n",
    "\n",
    "#Eliminación de registros correspondientes a empresas en 'deadpool'.\n",
    "df_deadnull = df_drop2[df_drop2['deadpooled_year'].isnull()]\n",
    "\n",
    "#Eliminación de registros con valor 'null'\n",
    "df_nulls = df_deadnull.dropna(subset=['founded_year','number_of_employees','name','offices',\n",
    "          'total_money_raised'])\n",
    "#Verificación de la longitud del nuevo dataset.\n",
    "print(len(df_nulls))"
   ]
  },
  {
   "cell_type": "code",
   "execution_count": 4,
   "metadata": {},
   "outputs": [
    {
     "name": "stdout",
     "output_type": "stream",
     "text": [
      "5052\n"
     ]
    }
   ],
   "source": [
    "#Elección de columnas relevantes para el criterio.\n",
    "col_cat = ['games_video','web','software','mobile','ecommerce','network_hosting','hardware','semiconductor']\n",
    "df_cat = df_nulls[df_nulls['category_code'].isin(col_cat)]\\\n",
    ".drop(['_id','deadpooled_year'], axis=1)\n",
    "\n",
    "#Verificación de la longitud del nuevo dataset.\n",
    "print(len(df_cat))"
   ]
  },
  {
   "cell_type": "code",
   "execution_count": 5,
   "metadata": {},
   "outputs": [],
   "source": [
    "#Definición de funciones para modificación de tipo de datos.\n",
    "\n",
    "#Transforma un dato tipo float a uno tipo int.\n",
    "def float_to_int(flt):\n",
    "    integer = int(flt)\n",
    "    return integer\n",
    "\n",
    "#Transforma un dato tipo str en int devolviendo solo el número.\n",
    "def str_to_int(strg):\n",
    "    string = re.findall('\\d+', strg )\n",
    "    integer = int(string[0])*1000\n",
    "    return integer"
   ]
  },
  {
   "cell_type": "code",
   "execution_count": 6,
   "metadata": {},
   "outputs": [
    {
     "name": "stdout",
     "output_type": "stream",
     "text": [
      "4155\n"
     ]
    }
   ],
   "source": [
    "#Aplicación de funciones sobre los registros.\n",
    "df_regout = df_cat.copy()\n",
    "df_regout['total_money_raised'] = df_regout['total_money_raised'].apply(str_to_int)\n",
    "df_regout['founded_year'] = df_regout['founded_year'].apply(float_to_int)\n",
    "\n",
    "#Eliminación de registros irrelevantes según criterio.\n",
    "#df_regout = df_regout[df_regout.total_money_raised == 0]\n",
    "df_regout = df_regout[df_regout.number_of_employees > 0]\n",
    "df_regout = df_regout[df_regout['offices'].map(len) > 0]\n",
    "\n",
    "#Verificación de la longitud del nuevo dataset.\n",
    "print(len(df_regout))"
   ]
  },
  {
   "cell_type": "code",
   "execution_count": 7,
   "metadata": {},
   "outputs": [],
   "source": [
    "#Función para la creación de los valores de ubicación en formato GeoJson.\n",
    "def nested_to_list(dicts):\n",
    "    lat_lon = [{\"type\":\"Point\",\"coordinates\":[l['longitude'],l['latitude']]} for l in dicts]\n",
    "    lst = lat_lon[0]\n",
    "    long = lst['coordinates'][0]\n",
    "    if long != None:\n",
    "        return lst\n",
    "    else:\n",
    "        return 0"
   ]
  },
  {
   "cell_type": "code",
   "execution_count": 8,
   "metadata": {},
   "outputs": [],
   "source": [
    "#Aplicación de función para la creación de los valores de ubicación en formato GeoJson.\n",
    "df_colout = df_regout.copy()\n",
    "df_colout['offices'] = df_colout['offices'].apply(nested_to_list)"
   ]
  },
  {
   "cell_type": "code",
   "execution_count": 9,
   "metadata": {},
   "outputs": [
    {
     "name": "stdout",
     "output_type": "stream",
     "text": [
      "3108\n"
     ]
    }
   ],
   "source": [
    "#Eliminación de valores de GeoJson nulos.\n",
    "df_geoout = df_colout.copy()\n",
    "df_geoout = df_geoout[df_geoout.offices != 0]\n",
    "\n",
    "#Verificación de la longitud del nuevo dataset.\n",
    "print(len(df_geoout))"
   ]
  },
  {
   "cell_type": "code",
   "execution_count": 10,
   "metadata": {},
   "outputs": [
    {
     "name": "stdout",
     "output_type": "stream",
     "text": [
      "845\n"
     ]
    }
   ],
   "source": [
    "#Generación de dataframe con empresas A-round start-up (10-30 empleados) y menos de 500k euros raised\n",
    "df_startup = df_geoout.copy()\n",
    "df_startup = df_startup[df_startup.total_money_raised <= 500000]\n",
    "df_startup = df_startup[df_startup.number_of_employees <= 30]\n",
    "df_startup = df_startup[df_startup.number_of_employees >= 10]\n",
    "\n",
    "#Verificación de la longitud del nuevo dataset.\n",
    "print(len(df_startup))"
   ]
  },
  {
   "cell_type": "code",
   "execution_count": 11,
   "metadata": {},
   "outputs": [
    {
     "name": "stdout",
     "output_type": "stream",
     "text": [
      "660\n"
     ]
    }
   ],
   "source": [
    "#Generación de dataframe con empresas de dimensión \"big\" company (>50 empleados)\n",
    "df_bigcomp = df_geoout.copy()\n",
    "df_bigcomp = df_bigcomp[df_bigcomp.number_of_employees >= 50]\n",
    "\n",
    "#Verificación de la longitud del nuevo dataset.\n",
    "print(len(df_bigcomp))"
   ]
  },
  {
   "cell_type": "code",
   "execution_count": 12,
   "metadata": {},
   "outputs": [
    {
     "name": "stdout",
     "output_type": "stream",
     "text": [
      "1505\n"
     ]
    },
    {
     "data": {
      "text/html": [
       "<div>\n",
       "<style scoped>\n",
       "    .dataframe tbody tr th:only-of-type {\n",
       "        vertical-align: middle;\n",
       "    }\n",
       "\n",
       "    .dataframe tbody tr th {\n",
       "        vertical-align: top;\n",
       "    }\n",
       "\n",
       "    .dataframe thead th {\n",
       "        text-align: right;\n",
       "    }\n",
       "</style>\n",
       "<table border=\"1\" class=\"dataframe\">\n",
       "  <thead>\n",
       "    <tr style=\"text-align: right;\">\n",
       "      <th></th>\n",
       "      <th>category_code</th>\n",
       "      <th>founded_year</th>\n",
       "      <th>name</th>\n",
       "      <th>number_of_employees</th>\n",
       "      <th>offices</th>\n",
       "      <th>total_money_raised</th>\n",
       "    </tr>\n",
       "  </thead>\n",
       "  <tbody>\n",
       "    <tr>\n",
       "      <th>6</th>\n",
       "      <td>web</td>\n",
       "      <td>2006</td>\n",
       "      <td>Geni</td>\n",
       "      <td>18.0</td>\n",
       "      <td>{'type': 'Point', 'coordinates': [-118.393064,...</td>\n",
       "      <td>16000</td>\n",
       "    </tr>\n",
       "    <tr>\n",
       "      <th>54</th>\n",
       "      <td>games_video</td>\n",
       "      <td>2007</td>\n",
       "      <td>AdaptiveBlue</td>\n",
       "      <td>15.0</td>\n",
       "      <td>{'type': 'Point', 'coordinates': [-74.3372, 40...</td>\n",
       "      <td>24000</td>\n",
       "    </tr>\n",
       "    <tr>\n",
       "      <th>56</th>\n",
       "      <td>games_video</td>\n",
       "      <td>2004</td>\n",
       "      <td>Pando Networks</td>\n",
       "      <td>23.0</td>\n",
       "      <td>{'type': 'Point', 'coordinates': [-73.99873, 4...</td>\n",
       "      <td>11000</td>\n",
       "    </tr>\n",
       "    <tr>\n",
       "      <th>69</th>\n",
       "      <td>web</td>\n",
       "      <td>2007</td>\n",
       "      <td>SodaHead</td>\n",
       "      <td>25.0</td>\n",
       "      <td>{'type': 'Point', 'coordinates': [-119.306607,...</td>\n",
       "      <td>12000</td>\n",
       "    </tr>\n",
       "    <tr>\n",
       "      <th>86</th>\n",
       "      <td>web</td>\n",
       "      <td>2005</td>\n",
       "      <td>ClipBlast!</td>\n",
       "      <td>15.0</td>\n",
       "      <td>{'type': 'Point', 'coordinates': [-118.756618,...</td>\n",
       "      <td>0</td>\n",
       "    </tr>\n",
       "  </tbody>\n",
       "</table>\n",
       "</div>"
      ],
      "text/plain": [
       "   category_code  founded_year            name  number_of_employees  \\\n",
       "6            web          2006            Geni                 18.0   \n",
       "54   games_video          2007    AdaptiveBlue                 15.0   \n",
       "56   games_video          2004  Pando Networks                 23.0   \n",
       "69           web          2007        SodaHead                 25.0   \n",
       "86           web          2005      ClipBlast!                 15.0   \n",
       "\n",
       "                                              offices  total_money_raised  \n",
       "6   {'type': 'Point', 'coordinates': [-118.393064,...               16000  \n",
       "54  {'type': 'Point', 'coordinates': [-74.3372, 40...               24000  \n",
       "56  {'type': 'Point', 'coordinates': [-73.99873, 4...               11000  \n",
       "69  {'type': 'Point', 'coordinates': [-119.306607,...               12000  \n",
       "86  {'type': 'Point', 'coordinates': [-118.756618,...                   0  "
      ]
     },
     "metadata": {},
     "output_type": "display_data"
    }
   ],
   "source": [
    "#Generación de dataframe con ratio equilibrado entre big companies y startups\n",
    "df_ratio = df_startup.append(df_bigcomp)\n",
    "\n",
    "#Verificación de la longitud del nuevo dataset.\n",
    "print(len(df_ratio))\n",
    "\n",
    "#Vista del dataset definitivo antes de generar .json\n",
    "display(df_ratio.head())"
   ]
  },
  {
   "cell_type": "code",
   "execution_count": 13,
   "metadata": {},
   "outputs": [],
   "source": [
    "#Creación del fichero .json para generar nueva 'collection' en MongoDB\n",
    "df_ratio.to_json('communications.json', orient=\"records\", lines=True)"
   ]
  },
  {
   "cell_type": "markdown",
   "metadata": {},
   "source": [
    "### Se importa .json en MongoDB para generar collection y aplicar operador geoespacial '$near'\n",
    "Nombre de la collection creada: **communications**"
   ]
  },
  {
   "cell_type": "code",
   "execution_count": 30,
   "metadata": {},
   "outputs": [],
   "source": [
    "#Se define función para aplicar operador geoespacial '$near'\n",
    "def concentration(company):\n",
    "    cursor_near = db.communications.find({\n",
    "      \"offices\": {\n",
    "        \"$near\": {\n",
    "          \"$geometry\": {\n",
    "            \"type\": \"Point\",\n",
    "            \"coordinates\": [company['offices']['coordinates'][0], company['offices']['coordinates'][1]]\n",
    "          },\n",
    "          \"$minDistance\": 0,\n",
    "          \"$maxDistance\":5000\n",
    "        }\n",
    "      }\n",
    "    })\n",
    "    return list(cursor_near)"
   ]
  },
  {
   "cell_type": "code",
   "execution_count": 31,
   "metadata": {},
   "outputs": [
    {
     "name": "stdout",
     "output_type": "stream",
     "text": [
      "1505 \n",
      "\n",
      "[2, 1, 2, 83, 10, 7, 26, 25, 1, 80, 82, 3, 27, 20, 14, 24, 82, 80, 24, 2, 3, 80, 32, 2, 17, 1, 82, 2, 33, 82, 1, 1, 11, 18, 10, 1, 17, 14, 69, 21, 1, 2, 16, 5, 24, 1, 14, 11, 10, 8, 1, 12, 24, 13, 5, 4, 80, 34, 2, 9, 4, 2, 72, 81, 7, 32, 80, 1, 12, 3, 10, 80, 1, 2, 11, 25, 19, 9, 1, 5, 5, 28, 24, 82, 7, 2, 24, 2, 1, 1, 1, 38, 31, 15, 9, 2, 27, 81, 7, 83, 39, 13, 8, 1, 85, 17, 8, 77, 76, 10, 5, 1, 8, 1, 12, 17, 7, 1, 44, 5, 36, 10, 2, 1, 5, 2, 4, 7, 73, 1, 4, 37, 1, 30, 1, 1, 1, 9, 83, 25, 1, 2, 1, 2, 82, 1, 11, 4, 8, 2, 11, 1, 7, 4, 1, 7, 10, 1, 4, 5, 2, 17, 2, 27, 3, 8, 1, 1, 1, 80, 81, 1, 4, 2, 1, 1, 2, 72, 4, 82, 1, 5, 80, 1, 2, 2, 5, 27, 1, 6, 10, 7, 2, 1, 26, 82, 10, 9, 10, 4, 81, 40, 1, 1, 1, 42, 1, 7, 81, 3, 2, 80, 5, 1, 11, 9, 4, 6, 2, 7, 1, 32, 13, 2, 17, 56, 5, 3, 1, 80, 13, 4, 8, 1, 27, 2, 10, 2, 2, 4, 7, 82, 83, 37, 3, 9, 1, 10, 80, 23, 5, 2, 5, 4, 6, 11, 1, 2, 1, 2, 1, 10, 1, 1, 1, 1, 73, 1, 1, 4, 16, 3, 4, 3, 1, 3, 1, 9, 1, 80, 29, 1, 2, 2, 1, 2, 8, 53, 1, 17, 7, 1, 1, 8, 1, 11, 1, 2, 1, 2, 2, 17, 29, 1, 80, 20, 1, 1, 9, 82, 7, 3, 31, 21, 1, 1, 83, 10, 11, 27, 12, 2, 1, 9, 2, 3, 1, 1, 33, 2, 11, 2, 4, 10, 2, 3, 3, 16, 9, 5, 83, 55, 2, 39, 2, 6, 2, 2, 31, 55, 4, 2, 80, 4, 4, 8, 2, 26, 81, 4, 2, 3, 7, 2, 2, 2, 4, 44, 14, 2, 2, 3, 10, 11, 3, 2, 2, 3, 9, 5, 3, 83, 2, 2, 55, 16, 6, 2, 31, 55, 80, 4, 26, 2, 4, 81, 4, 4, 2, 4, 2, 2, 7, 3, 8, 3, 2, 44, 3, 14, 2, 1, 2, 1, 1, 9, 1, 16, 7, 4, 1, 8, 9, 24, 1, 29, 7, 2, 1, 9, 1, 2, 1, 2, 1, 4, 20, 1, 3, 1, 1, 1, 81, 9, 1, 9, 1, 10, 1, 2, 2, 29, 3, 10, 2, 6, 1, 1, 81, 1, 1, 9, 1, 3, 1, 1, 16, 1, 4, 1, 1, 19, 1, 1, 7, 10, 1, 2, 1, 2, 3, 57, 83, 80, 14, 1, 5, 1, 2, 2, 1, 27, 3, 18, 3, 1, 82, 5, 6, 11, 9, 1, 17, 1, 2, 1, 3, 1, 1, 1, 1, 2, 1, 1, 2, 79, 4, 2, 31, 1, 1, 7, 17, 1, 1, 1, 1, 1, 1, 21, 6, 1, 17, 1, 4, 72, 1, 1, 6, 1, 1, 3, 1, 1, 1, 62, 3, 4, 9, 14, 4, 1, 5, 5, 5, 1, 5, 5, 1, 1, 1, 81, 2, 31, 4, 1, 3, 11, 1, 2, 1, 3, 1, 18, 1, 1, 1, 2, 1, 13, 2, 1, 4, 1, 4, 1, 1, 9, 3, 7, 83, 1, 26, 1, 80, 73, 9, 1, 1, 1, 1, 18, 1, 2, 17, 15, 1, 1, 30, 1, 9, 2, 1, 17, 3, 80, 1, 2, 80, 11, 2, 1, 1, 30, 3, 1, 1, 4, 1, 2, 4, 2, 3, 1, 1, 12, 30, 1, 40, 11, 2, 1, 1, 3, 1, 1, 2, 27, 1, 1, 1, 8, 1, 2, 1, 2, 2, 3, 1, 11, 31, 3, 1, 2, 1, 16, 5, 3, 1, 4, 30, 1, 8, 2, 1, 2, 4, 1, 1, 5, 11, 1, 1, 27, 1, 1, 14, 1, 82, 1, 4, 2, 1, 9, 1, 1, 22, 27, 3, 1, 11, 1, 1, 3, 1, 58, 8, 1, 14, 2, 1, 1, 17, 6, 1, 1, 2, 1, 1, 30, 1, 2, 19, 3, 1, 65, 4, 1, 1, 45, 1, 2, 81, 40, 5, 5, 2, 1, 1, 1, 2, 1, 1, 2, 1, 1, 2, 1, 27, 1, 8, 1, 1, 1, 2, 4, 2, 5, 2, 5, 1, 1, 11, 1, 2, 1, 4, 8, 6, 1, 29, 1, 1, 1, 73, 2, 5, 83, 1, 2, 2, 19, 3, 3, 1, 14, 1, 2, 2, 2, 1, 6, 1, 25, 1, 2, 1, 1, 26, 30, 3, 1, 7, 1, 1, 3, 1, 2, 1, 11, 20, 1, 30, 20, 1, 1, 10, 20, 2, 2, 9, 1, 11, 82, 5, 42, 7, 1, 10, 1, 1, 13, 1, 9, 9, 1, 19, 1, 9, 72, 1, 1, 1, 21, 41, 9, 82, 30, 33, 1, 36, 38, 15, 37, 39, 81, 82, 33, 19, 23, 37, 4, 82, 5, 3, 10, 80, 27, 1, 12, 6, 1, 10, 18, 7, 1, 37, 2, 84, 1, 80, 83, 80, 80, 80, 1, 80, 1, 11, 1, 7, 81, 12, 2, 13, 80, 81, 32, 1, 34, 80, 39, 58, 1, 1, 7, 9, 8, 6, 7, 12, 38, 27, 3, 4, 80, 1, 4, 18, 33, 20, 10, 14, 30, 13, 7, 8, 1, 3, 20, 82, 7, 1, 24, 5, 3, 7, 1, 21, 5, 73, 5, 1, 21, 79, 7, 5, 2, 31, 26, 1, 80, 9, 31, 41, 22, 1, 2, 2, 29, 1, 4, 1, 5, 44, 14, 6, 1, 75, 83, 1, 67, 2, 82, 3, 15, 1, 2, 83, 5, 1, 20, 7, 19, 1, 1, 83, 38, 6, 3, 2, 8, 2, 3, 4, 6, 1, 4, 1, 20, 7, 20, 3, 84, 2, 27, 19, 7, 81, 72, 11, 1, 67, 5, 80, 1, 4, 1, 4, 2, 2, 77, 25, 80, 1, 80, 3, 2, 1, 7, 19, 2, 11, 11, 10, 80, 37, 82, 41, 2, 2, 5, 36, 2, 1, 4, 2, 26, 42, 14, 45, 8, 2, 31, 2, 1, 3, 1, 16, 11, 81, 18, 1, 21, 17, 8, 1, 27, 38, 37, 1, 4, 1, 13, 1, 1, 77, 6, 1, 83, 2, 9, 3, 73, 5, 1, 1, 2, 1, 5, 37, 74, 1, 18, 7, 8, 4, 15, 24, 2, 56, 2, 12, 1, 21, 1, 54, 82, 80, 9, 4, 40, 2, 4, 24, 1, 8, 42, 25, 2, 3, 2, 1, 1, 1, 4, 1, 80, 1, 8, 16, 1, 80, 4, 12, 1, 1, 23, 38, 30, 58, 2, 9, 81, 3, 15, 3, 9, 11, 1, 2, 4, 37, 65, 2, 7, 19, 2, 7, 80, 2, 2, 5, 21, 2, 8, 2, 9, 58, 3, 37, 11, 4, 4, 2, 80, 7, 19, 2, 7, 2, 2, 2, 80, 65, 2, 5, 8, 21, 2, 4, 80, 58, 1, 1, 17, 3, 5, 1, 2, 1, 1, 2, 1, 31, 8, 2, 1, 1, 12, 27, 10, 83, 4, 2, 1, 2, 3, 1, 1, 2, 9, 3, 7, 1, 1, 2, 1, 1, 2, 83, 1, 30, 23, 22, 20, 8, 3, 18, 1, 3, 3, 9, 2, 1, 1, 15, 69, 8, 2, 1, 16, 8, 81, 80, 1, 20, 1, 82, 6, 4, 83, 1, 1, 5, 5, 20, 5, 81, 1, 1, 4, 10, 21, 1, 37, 3, 2, 1, 7, 2, 20, 1, 5, 20, 9, 11, 1, 2, 2, 2, 10, 7, 38, 1, 23, 15, 11, 38, 2, 17, 1, 3, 67, 10, 4, 80, 4, 1, 1, 3, 34, 80, 4, 3, 2, 2, 7, 9, 19, 4, 7, 5, 1, 3, 1, 20, 1, 59, 50, 1, 1, 26, 1, 11, 80, 8, 43, 2, 6, 2, 4, 20, 3, 1, 72, 8, 1, 1, 70, 1, 5, 24, 1, 1, 2, 1, 1, 2, 4, 1, 1, 1, 10, 2, 2, 8, 1, 8, 10, 3, 1, 2, 1, 11, 2, 1, 21, 1, 32, 9, 4, 2, 17, 24, 2, 42, 18, 2, 3, 3, 32, 4, 1, 20, 1, 1, 20, 44, 2, 1, 26, 1, 1, 38, 39, 2, 1, 1, 1, 1, 2, 1, 1, 1, 84, 11, 19, 71, 1, 1, 15, 8, 2, 1, 73, 5, 1, 2, 1, 1, 83, 5, 20, 14, 1, 1, 6, 2, 16, 16, 6, 48, 31, 1, 4, 9, 2, 1, 4, 1, 1, 1, 9, 32, 33, 2, 4, 11, 79, 5, 33, 2, 14, 6, 74, 81, 1, 3, 1, 44, 1, 5, 1, 1, 7, 2, 26, 83, 83, 80, 7, 2, 30, 1, 16, 17, 48, 25, 27, 5, 2, 1, 39, 1, 80, 4, 79, 79, 1, 38, 2, 1, 3, 17] \n",
      "\n",
      "85 \n",
      "\n"
     ]
    }
   ],
   "source": [
    "#Aplicación de la función para cada documento de la colección respecto al resto de documentos\n",
    "cursor_geojson = db.communications.find()\n",
    "clusters = []\n",
    "for element in cursor_geojson:\n",
    "    clusters.append(len(concentration(element)))\n",
    "\n",
    "#Verificación de la longitud del cursor (total de iteraciones).\n",
    "print(len(clusters),'\\n')\n",
    "\n",
    "#Visualización del total de coincidencias para cada documento.\n",
    "print(clusters,'\\n')\n",
    "\n",
    "#Máximo número de coincidencias.\n",
    "print(max(clusters),'\\n')"
   ]
  },
  {
   "cell_type": "code",
   "execution_count": 32,
   "metadata": {},
   "outputs": [
    {
     "name": "stdout",
     "output_type": "stream",
     "text": [
      "[[-73.981534, 40.738832]]\n"
     ]
    }
   ],
   "source": [
    "#Extracción de coordenadas geográficas con mayor número de coincidencias dentro del criterio.\n",
    "target = list(db.communications.find())\n",
    "targets = []\n",
    "for i in range(len(clusters)):\n",
    "    if clusters[i] == max(clusters):\n",
    "        targets.append([target[i]['offices']['coordinates'][0], target[i]['offices']['coordinates'][1]])\n",
    "\n",
    "#Visualización de los pares de coordenadas resultantes.\n",
    "print(targets)"
   ]
  },
  {
   "cell_type": "code",
   "execution_count": 33,
   "metadata": {},
   "outputs": [
    {
     "data": {
      "text/html": [
       "<div>\n",
       "<style scoped>\n",
       "    .dataframe tbody tr th:only-of-type {\n",
       "        vertical-align: middle;\n",
       "    }\n",
       "\n",
       "    .dataframe tbody tr th {\n",
       "        vertical-align: top;\n",
       "    }\n",
       "\n",
       "    .dataframe thead th {\n",
       "        text-align: right;\n",
       "    }\n",
       "</style>\n",
       "<table border=\"1\" class=\"dataframe\">\n",
       "  <thead>\n",
       "    <tr style=\"text-align: right;\">\n",
       "      <th></th>\n",
       "      <th>Longitude</th>\n",
       "      <th>Latitude</th>\n",
       "      <th>Criteria</th>\n",
       "    </tr>\n",
       "  </thead>\n",
       "  <tbody>\n",
       "    <tr>\n",
       "      <th>0</th>\n",
       "      <td>-73.981534</td>\n",
       "      <td>40.738832</td>\n",
       "      <td>Communications</td>\n",
       "    </tr>\n",
       "  </tbody>\n",
       "</table>\n",
       "</div>"
      ],
      "text/plain": [
       "   Longitude   Latitude        Criteria\n",
       "0 -73.981534  40.738832  Communications"
      ]
     },
     "metadata": {},
     "output_type": "display_data"
    }
   ],
   "source": [
    "#Creación de dataframe para Plateau.\n",
    "long_lat = ['Longitude','Latitude']\n",
    "df_communications = pd.DataFrame(targets, columns=long_lat)\n",
    "df_communications['Criteria'] = 'Communications'\n",
    "\n",
    "#Visualización del dataframe final dentro del criterio.\n",
    "display(df_communications)"
   ]
  },
  {
   "cell_type": "code",
   "execution_count": 34,
   "metadata": {},
   "outputs": [],
   "source": [
    "#Creación de fichero .json para visualización en Plateau.\n",
    "df_communications.to_json('df_communications.json', orient=\"records\", lines=True)"
   ]
  },
  {
   "cell_type": "code",
   "execution_count": null,
   "metadata": {},
   "outputs": [],
   "source": []
  }
 ],
 "metadata": {
  "kernelspec": {
   "display_name": "Python 3",
   "language": "python",
   "name": "python3"
  },
  "language_info": {
   "codemirror_mode": {
    "name": "ipython",
    "version": 3
   },
   "file_extension": ".py",
   "mimetype": "text/x-python",
   "name": "python",
   "nbconvert_exporter": "python",
   "pygments_lexer": "ipython3",
   "version": "3.6.7"
  }
 },
 "nbformat": 4,
 "nbformat_minor": 2
}
