{
 "cells": [
  {
   "cell_type": "markdown",
   "metadata": {},
   "source": [
    "# Tableau Project (Criterio 1: df_capability)"
   ]
  },
  {
   "cell_type": "code",
   "execution_count": 4,
   "metadata": {},
   "outputs": [],
   "source": [
    "#Tras iniciar servidor de DB mongo, importo módulo 'pymongo'.\n",
    "import pymongo\n",
    "import pandas as pd\n",
    "import numpy as np\n",
    "import re\n",
    "from pandas.io.json import json_normalize\n",
    "#Asigno variable al cliente de DB y a la DB.\n",
    "MongoClient = pymongo.MongoClient\n",
    "client = MongoClient()\n",
    "db = client.companies\n",
    "cursor = db.companies.find()\n",
    "data = list(cursor)\n",
    "df = pd.DataFrame(data)"
   ]
  },
  {
   "cell_type": "code",
   "execution_count": 5,
   "metadata": {},
   "outputs": [],
   "source": [
    "col_float = ['deadpooled_day','deadpooled_month','deadpooled_year','founded_day','founded_month',\n",
    "             'founded_year','number_of_employees']\n",
    "col_obj = ['_id','acquisition','acquisitions','alias_list','blog_feed_url','blog_url','category_code',\n",
    "           'competitions','created_at','crunchbase_url','deadpooled_url','description','email_address',\n",
    "        'external_links','funding_rounds','homepage_url','image','investments','ipo','milestones', \n",
    "           'name','offices','overview','partners','permalink','phone_number','products','providerships',\n",
    "        'relationships','screenshots','tag_list','total_money_raised','twitter_username','updated_at',\n",
    "           'video_embeds']\n",
    "col_drop1 = ['deadpooled_day','deadpooled_month','founded_day','founded_month','alias_list','blog_feed_url',\n",
    "             'blog_url','created_at','crunchbase_url','deadpooled_url','email_address','external_links',\n",
    "            'image','permalink','phone_number','screenshots','tag_list','updated_at','video_embeds']\n",
    "col_drop2 = ['acquisition','acquisitions','competitions','description','funding_rounds','homepage_url',\n",
    "             'investments','ipo','milestones','partners','products','providerships','relationships',\n",
    "             'twitter_username','overview',]\n",
    "col_ok = ['deadpooled_year','founded_year','number_of_employees','_id','category_code','name','offices',\n",
    "          'total_money_raised']"
   ]
  },
  {
   "cell_type": "code",
   "execution_count": 10,
   "metadata": {},
   "outputs": [
    {
     "data": {
      "text/plain": [
       "7934"
      ]
     },
     "metadata": {},
     "output_type": "display_data"
    }
   ],
   "source": [
    "#Elimino columnas con valores que no me interesan\n",
    "df_drop1 = df.drop(col_drop1, axis=1)\n",
    "df_drop2 = df_drop1.drop(col_drop2, axis=1)\n",
    "#Elijo solo las empresas con deadpooled_year == null\n",
    "df_deadnull = df_drop2[df_drop2['deadpooled_year'].isnull()]\n",
    "#Elimino filas con valores nulos de las columnas que me interesan\n",
    "df_nulls = df_deadnull.dropna(subset=['founded_year','number_of_employees','name','offices',\n",
    "          'total_money_raised'])\n",
    "display(len(df_nulls))"
   ]
  },
  {
   "cell_type": "code",
   "execution_count": 11,
   "metadata": {},
   "outputs": [
    {
     "name": "stdout",
     "output_type": "stream",
     "text": [
      "525\n"
     ]
    }
   ],
   "source": [
    "#Data frames por tipo de empresas y elimino las columnas _id y deadpooled_year \n",
    "col_cat = ['games_video']\n",
    "df_cat = df_nulls[df_nulls['category_code'].isin(col_cat)]\\\n",
    ".drop(['_id','deadpooled_year'], axis=1)\n",
    "print(len(df_cat))"
   ]
  },
  {
   "cell_type": "code",
   "execution_count": 12,
   "metadata": {},
   "outputs": [],
   "source": [
    "#Defino funciones para la modificación de los datos de las columnas a analizar.\n",
    "\n",
    "#Transforma un dato tipo float a uno tipo int.\n",
    "def float_to_int(flt):\n",
    "    integer = int(flt)\n",
    "    return integer\n",
    "\n",
    "#Transforma un dato tipo str en int devolviendo solo el número.\n",
    "def str_to_int(strg):\n",
    "    string = re.findall('\\d+', strg )\n",
    "    integer = int(string[0])*1000\n",
    "    return integer\n"
   ]
  },
  {
   "cell_type": "code",
   "execution_count": 14,
   "metadata": {},
   "outputs": [
    {
     "name": "stdout",
     "output_type": "stream",
     "text": [
      "128\n"
     ]
    }
   ],
   "source": [
    "#Elimino registros irrelevantes (tomando solo los registros que me interesan)\n",
    "df_regout = df_cat.copy()\n",
    "df_regout['total_money_raised'] = df_regout['total_money_raised'].apply(str_to_int)\n",
    "df_regout['founded_year'] = df_regout['founded_year'].apply(float_to_int)\n",
    "#Elimino registros según criterio 1: solo empresas de video juegos que hayan levantado capital \n",
    "#(me da igual el número de empleados)\n",
    "df_regout = df_regout[df_regout.total_money_raised != 0]\n",
    "#df_regout = df_regout[df_regout.number_of_employees != 0]\n",
    "df_regout = df_regout[df_regout['offices'].map(len) > 0]\n",
    "print(len(df_regout))"
   ]
  },
  {
   "cell_type": "code",
   "execution_count": 15,
   "metadata": {},
   "outputs": [],
   "source": [
    "#Transforma los datos de ubicación de las oficinas en formato GeoJson y selecciona solo la primera ubicación\n",
    "def nested_to_list(dicts):\n",
    "    lat_lon = [{\"type\":\"Point\",\"coordinates\":[l['longitude'],l['latitude']]} for l in dicts]\n",
    "    lst = lat_lon[0]\n",
    "    long = lst['coordinates'][0]\n",
    "    if long != None:\n",
    "        return lst\n",
    "    else:\n",
    "        return 0\n"
   ]
  },
  {
   "cell_type": "code",
   "execution_count": 16,
   "metadata": {},
   "outputs": [
    {
     "name": "stdout",
     "output_type": "stream",
     "text": [
      "128\n"
     ]
    }
   ],
   "source": [
    "#Transformo valores de columnas aplicando las funciones anteriormente definidas.\n",
    "df_colout = df_regout.copy()\n",
    "df_colout['offices'] = df_colout['offices'].apply(nested_to_list)\n",
    "print(len(df_colout))"
   ]
  },
  {
   "cell_type": "code",
   "execution_count": 17,
   "metadata": {},
   "outputs": [
    {
     "name": "stdout",
     "output_type": "stream",
     "text": [
      "99\n"
     ]
    },
    {
     "data": {
      "text/html": [
       "<div>\n",
       "<style scoped>\n",
       "    .dataframe tbody tr th:only-of-type {\n",
       "        vertical-align: middle;\n",
       "    }\n",
       "\n",
       "    .dataframe tbody tr th {\n",
       "        vertical-align: top;\n",
       "    }\n",
       "\n",
       "    .dataframe thead th {\n",
       "        text-align: right;\n",
       "    }\n",
       "</style>\n",
       "<table border=\"1\" class=\"dataframe\">\n",
       "  <thead>\n",
       "    <tr style=\"text-align: right;\">\n",
       "      <th></th>\n",
       "      <th>category_code</th>\n",
       "      <th>founded_year</th>\n",
       "      <th>name</th>\n",
       "      <th>number_of_employees</th>\n",
       "      <th>offices</th>\n",
       "      <th>total_money_raised</th>\n",
       "    </tr>\n",
       "  </thead>\n",
       "  <tbody>\n",
       "    <tr>\n",
       "      <th>16</th>\n",
       "      <td>games_video</td>\n",
       "      <td>2006</td>\n",
       "      <td>Joost</td>\n",
       "      <td>0.0</td>\n",
       "      <td>{'type': 'Point', 'coordinates': [-74.0094471,...</td>\n",
       "      <td>45000</td>\n",
       "    </tr>\n",
       "    <tr>\n",
       "      <th>31</th>\n",
       "      <td>games_video</td>\n",
       "      <td>2006</td>\n",
       "      <td>Kyte</td>\n",
       "      <td>40.0</td>\n",
       "      <td>{'type': 'Point', 'coordinates': [-122.409173,...</td>\n",
       "      <td>23000</td>\n",
       "    </tr>\n",
       "    <tr>\n",
       "      <th>51</th>\n",
       "      <td>games_video</td>\n",
       "      <td>2005</td>\n",
       "      <td>YouTube</td>\n",
       "      <td>0.0</td>\n",
       "      <td>{'type': 'Point', 'coordinates': [-122.426804,...</td>\n",
       "      <td>11000</td>\n",
       "    </tr>\n",
       "    <tr>\n",
       "      <th>52</th>\n",
       "      <td>games_video</td>\n",
       "      <td>2007</td>\n",
       "      <td>Livestream</td>\n",
       "      <td>120.0</td>\n",
       "      <td>{'type': 'Point', 'coordinates': [-73.995625, ...</td>\n",
       "      <td>14000</td>\n",
       "    </tr>\n",
       "    <tr>\n",
       "      <th>54</th>\n",
       "      <td>games_video</td>\n",
       "      <td>2007</td>\n",
       "      <td>AdaptiveBlue</td>\n",
       "      <td>15.0</td>\n",
       "      <td>{'type': 'Point', 'coordinates': [-74.3372, 40...</td>\n",
       "      <td>24000</td>\n",
       "    </tr>\n",
       "  </tbody>\n",
       "</table>\n",
       "</div>"
      ],
      "text/plain": [
       "   category_code  founded_year          name  number_of_employees  \\\n",
       "16   games_video          2006         Joost                  0.0   \n",
       "31   games_video          2006          Kyte                 40.0   \n",
       "51   games_video          2005       YouTube                  0.0   \n",
       "52   games_video          2007    Livestream                120.0   \n",
       "54   games_video          2007  AdaptiveBlue                 15.0   \n",
       "\n",
       "                                              offices  total_money_raised  \n",
       "16  {'type': 'Point', 'coordinates': [-74.0094471,...               45000  \n",
       "31  {'type': 'Point', 'coordinates': [-122.409173,...               23000  \n",
       "51  {'type': 'Point', 'coordinates': [-122.426804,...               11000  \n",
       "52  {'type': 'Point', 'coordinates': [-73.995625, ...               14000  \n",
       "54  {'type': 'Point', 'coordinates': [-74.3372, 40...               24000  "
      ]
     },
     "metadata": {},
     "output_type": "display_data"
    }
   ],
   "source": [
    "#Elimino valores de GeoJson nulos\n",
    "df_geoout = df_colout.copy()\n",
    "df_geoout = df_geoout[df_geoout.offices != 0]\n",
    "print(len(df_geoout))\n",
    "display(df_geoout.head())"
   ]
  },
  {
   "cell_type": "code",
   "execution_count": 18,
   "metadata": {},
   "outputs": [],
   "source": [
    "df_geoout.to_json('capability.json', orient=\"records\", lines=True)"
   ]
  },
  {
   "cell_type": "markdown",
   "metadata": {},
   "source": [
    "### Import mongodb y creo indice para función $near\n",
    "Nombre de la collection: **capability**"
   ]
  },
  {
   "cell_type": "code",
   "execution_count": 31,
   "metadata": {},
   "outputs": [],
   "source": [
    "#Creo función $near\n",
    "def concentration(company):\n",
    "    cursor_near = db.capability.find({\n",
    "      \"offices\": {\n",
    "        \"$near\": {\n",
    "          \"$geometry\": {\n",
    "            \"type\": \"Point\",\n",
    "            \"coordinates\": [company['offices']['coordinates'][0], company['offices']['coordinates'][1]]\n",
    "          },\n",
    "          \"$minDistance\": 0,\n",
    "          \"$maxDistance\":10000\n",
    "        }\n",
    "      }\n",
    "    })\n",
    "    return list(cursor_near)"
   ]
  },
  {
   "cell_type": "code",
   "execution_count": 32,
   "metadata": {},
   "outputs": [
    {
     "data": {
      "text/plain": [
       "99"
      ]
     },
     "metadata": {},
     "output_type": "display_data"
    },
    {
     "name": "stdout",
     "output_type": "stream",
     "text": [
      "[12, 12, 10, 2, 1, 6, 12, 10, 5, 6, 10, 4, 1, 4, 10, 3, 12, 10, 10, 3, 4, 3, 3, 1, 3, 1, 3, 1, 10, 1, 1, 7, 3, 12, 1, 3, 1, 3, 7, 1, 1, 2, 1, 3, 7, 1, 4, 6, 10, 12, 3, 3, 3, 1, 12, 1, 12, 12, 3, 3, 10, 1, 6, 1, 3, 2, 6, 3, 1, 3, 10, 2, 1, 1, 6, 1, 1, 1, 1, 1, 1, 1, 12, 3, 2, 3, 3, 1, 4, 2, 1, 12, 6, 1, 6, 6, 1, 12, 1]\n",
      "12\n"
     ]
    }
   ],
   "source": [
    "#Hago loop sobre las empresas\n",
    "cursor_geojson = db.capability.find()\n",
    "clusters = []\n",
    "for element in cursor_geojson:\n",
    "    clusters.append(len(concentration(element)))\n",
    "\n",
    "display(len(clusters))\n",
    "print(clusters)\n",
    "print(max(clusters))"
   ]
  },
  {
   "cell_type": "code",
   "execution_count": 33,
   "metadata": {},
   "outputs": [
    {
     "name": "stdout",
     "output_type": "stream",
     "text": [
      "[[-74.0094471, 40.7464969], [-73.995625, 40.726155], [-73.99873, 40.722655], [-74.001704, 40.723384], [-74.002662, 40.717248], [-73.9930489, 40.73993], [-73.957968, 40.720764], [-73.988543, 40.754762], [-73.998726, 40.738476], [-73.97593, 40.752672], [-73.98618, 40.743877], [-74.005568, 40.7523796]]\n"
     ]
    }
   ],
   "source": [
    "target = list(db.capability.find())\n",
    "targets = []\n",
    "for i in range(len(clusters)):\n",
    "    if clusters[i] == max(clusters):\n",
    "        targets.append([target[i]['offices']['coordinates'][0], target[i]['offices']['coordinates'][1]])\n",
    "\n",
    "print(targets)"
   ]
  },
  {
   "cell_type": "code",
   "execution_count": 40,
   "metadata": {},
   "outputs": [
    {
     "data": {
      "text/html": [
       "<div>\n",
       "<style scoped>\n",
       "    .dataframe tbody tr th:only-of-type {\n",
       "        vertical-align: middle;\n",
       "    }\n",
       "\n",
       "    .dataframe tbody tr th {\n",
       "        vertical-align: top;\n",
       "    }\n",
       "\n",
       "    .dataframe thead th {\n",
       "        text-align: right;\n",
       "    }\n",
       "</style>\n",
       "<table border=\"1\" class=\"dataframe\">\n",
       "  <thead>\n",
       "    <tr style=\"text-align: right;\">\n",
       "      <th></th>\n",
       "      <th>Longitude</th>\n",
       "      <th>Latitude</th>\n",
       "      <th>Criteria</th>\n",
       "    </tr>\n",
       "  </thead>\n",
       "  <tbody>\n",
       "    <tr>\n",
       "      <th>0</th>\n",
       "      <td>-74.009447</td>\n",
       "      <td>40.746497</td>\n",
       "      <td>Capability</td>\n",
       "    </tr>\n",
       "    <tr>\n",
       "      <th>1</th>\n",
       "      <td>-73.995625</td>\n",
       "      <td>40.726155</td>\n",
       "      <td>Capability</td>\n",
       "    </tr>\n",
       "    <tr>\n",
       "      <th>2</th>\n",
       "      <td>-73.998730</td>\n",
       "      <td>40.722655</td>\n",
       "      <td>Capability</td>\n",
       "    </tr>\n",
       "    <tr>\n",
       "      <th>3</th>\n",
       "      <td>-74.001704</td>\n",
       "      <td>40.723384</td>\n",
       "      <td>Capability</td>\n",
       "    </tr>\n",
       "    <tr>\n",
       "      <th>4</th>\n",
       "      <td>-74.002662</td>\n",
       "      <td>40.717248</td>\n",
       "      <td>Capability</td>\n",
       "    </tr>\n",
       "    <tr>\n",
       "      <th>5</th>\n",
       "      <td>-73.993049</td>\n",
       "      <td>40.739930</td>\n",
       "      <td>Capability</td>\n",
       "    </tr>\n",
       "    <tr>\n",
       "      <th>6</th>\n",
       "      <td>-73.957968</td>\n",
       "      <td>40.720764</td>\n",
       "      <td>Capability</td>\n",
       "    </tr>\n",
       "    <tr>\n",
       "      <th>7</th>\n",
       "      <td>-73.988543</td>\n",
       "      <td>40.754762</td>\n",
       "      <td>Capability</td>\n",
       "    </tr>\n",
       "    <tr>\n",
       "      <th>8</th>\n",
       "      <td>-73.998726</td>\n",
       "      <td>40.738476</td>\n",
       "      <td>Capability</td>\n",
       "    </tr>\n",
       "    <tr>\n",
       "      <th>9</th>\n",
       "      <td>-73.975930</td>\n",
       "      <td>40.752672</td>\n",
       "      <td>Capability</td>\n",
       "    </tr>\n",
       "    <tr>\n",
       "      <th>10</th>\n",
       "      <td>-73.986180</td>\n",
       "      <td>40.743877</td>\n",
       "      <td>Capability</td>\n",
       "    </tr>\n",
       "    <tr>\n",
       "      <th>11</th>\n",
       "      <td>-74.005568</td>\n",
       "      <td>40.752380</td>\n",
       "      <td>Capability</td>\n",
       "    </tr>\n",
       "  </tbody>\n",
       "</table>\n",
       "</div>"
      ],
      "text/plain": [
       "    Longitude   Latitude    Criteria\n",
       "0  -74.009447  40.746497  Capability\n",
       "1  -73.995625  40.726155  Capability\n",
       "2  -73.998730  40.722655  Capability\n",
       "3  -74.001704  40.723384  Capability\n",
       "4  -74.002662  40.717248  Capability\n",
       "5  -73.993049  40.739930  Capability\n",
       "6  -73.957968  40.720764  Capability\n",
       "7  -73.988543  40.754762  Capability\n",
       "8  -73.998726  40.738476  Capability\n",
       "9  -73.975930  40.752672  Capability\n",
       "10 -73.986180  40.743877  Capability\n",
       "11 -74.005568  40.752380  Capability"
      ]
     },
     "metadata": {},
     "output_type": "display_data"
    }
   ],
   "source": [
    "#Dataframe para plateau\n",
    "long_lat = ['Longitude','Latitude']\n",
    "df_capability = pd.DataFrame(targets, columns=long_lat)\n",
    "df_capability['Criteria'] = 'Capability'\n",
    "display(df_capability)"
   ]
  },
  {
   "cell_type": "code",
   "execution_count": 41,
   "metadata": {},
   "outputs": [],
   "source": [
    "df_capability.to_json('df_capability.json', orient=\"records\", lines=True)"
   ]
  },
  {
   "cell_type": "code",
   "execution_count": null,
   "metadata": {},
   "outputs": [],
   "source": []
  }
 ],
 "metadata": {
  "kernelspec": {
   "display_name": "Python 3",
   "language": "python",
   "name": "python3"
  },
  "language_info": {
   "codemirror_mode": {
    "name": "ipython",
    "version": 3
   },
   "file_extension": ".py",
   "mimetype": "text/x-python",
   "name": "python",
   "nbconvert_exporter": "python",
   "pygments_lexer": "ipython3",
   "version": "3.6.7"
  }
 },
 "nbformat": 4,
 "nbformat_minor": 2
}
